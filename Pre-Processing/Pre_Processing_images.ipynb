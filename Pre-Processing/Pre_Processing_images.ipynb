{
 "cells": [
  {
   "cell_type": "code",
   "execution_count": null,
   "id": "608886dd",
   "metadata": {},
   "outputs": [],
   "source": [
    "# Applying sharpening kernel \n",
    "import cv2 \n",
    "import numpy as np\n",
    "path = 'C:\\\\Users\\\\Mahmood Yousaf\\\\Desktop\\\\sample_soil.jpg'\n",
    "   \n",
    "# Reading image\n",
    "image = cv2.imread(path)\n",
    "width = 1000\n",
    "height = 1000\n",
    "dim = (width, height)\n",
    "# resize image\n",
    "image = cv2.resize(image, dim, interpolation = cv2.INTER_AREA)\n",
    "image2 = image[200:800,200:800]\n",
    "kernel = np.array([[-1,-1,-1], \n",
    "                   [-1, 9,-1],\n",
    "                   [-1,-1,-1]])\n",
    "image2 = cv2.filter2D(image2, -1, kernel) # applying the sharpening kernel.\n",
    "# Window name in which image is displayed\n",
    "window_name = 'Region of interest'\n",
    "  \n",
    "# Start coordinate, here (5, 5)\n",
    "# represents the top left corner of rectangle\n",
    "start_point = (200, 200)\n",
    "  \n",
    "# Ending coordinate, here (220, 220)\n",
    "# represents the bottom right corner of rectangle\n",
    "end_point = (800,800)\n",
    "  \n",
    "# Blue color in BGR\n",
    "color = (255, 0, 0)\n",
    "  \n",
    "# Line thickness of 2 px\n",
    "thickness = 2\n",
    "  \n",
    "# Using cv2.rectangle() method\n",
    "# Draw a rectangle with blue line borders of thickness of 2 px\n",
    "image = cv2.rectangle(image,start_point, end_point, color, thickness)\n",
    "cv2.imshow(\"After applying sharpening kernel\",image2)\n",
    "# Displaying the image \n",
    "cv2.imshow(window_name, image) \n",
    "cv2.waitKey(0)\n",
    "cv2.destroyAllWindows()"
   ]
  },
  {
   "cell_type": "code",
   "execution_count": null,
   "id": "6f15a335",
   "metadata": {},
   "outputs": [],
   "source": []
  }
 ],
 "metadata": {
  "kernelspec": {
   "display_name": "Python 3 (ipykernel)",
   "language": "python",
   "name": "python3"
  },
  "language_info": {
   "codemirror_mode": {
    "name": "ipython",
    "version": 3
   },
   "file_extension": ".py",
   "mimetype": "text/x-python",
   "name": "python",
   "nbconvert_exporter": "python",
   "pygments_lexer": "ipython3",
   "version": "3.8.12"
  }
 },
 "nbformat": 4,
 "nbformat_minor": 5
}
