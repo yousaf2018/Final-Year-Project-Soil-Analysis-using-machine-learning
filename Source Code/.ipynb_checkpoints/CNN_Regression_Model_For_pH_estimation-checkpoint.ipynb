{
 "cells": [
  {
   "cell_type": "code",
   "execution_count": null,
   "id": "59a2ca92",
   "metadata": {},
   "outputs": [],
   "source": [
    "import pandas as pd\n",
    "import fnmatch\n",
    "import cv2\n",
    "import numpy as np\n",
    "import os\n",
    "from tensorflow.keras.models import Sequential\n",
    "from tensorflow.keras.layers import Dense, Dropout, Activation, Flatten\n",
    "from tensorflow.keras.layers import Conv2D, MaxPooling2D\n",
    "from tensorflow.keras.callbacks import TensorBoard\n",
    "from tensorflow.keras.utils import to_categorical\n",
    "import pickle\n",
    "import time\n",
    "import keras\n",
    "from sklearn.model_selection import train_test_split"
   ]
  },
  {
   "cell_type": "code",
   "execution_count": null,
   "id": "5dae601a",
   "metadata": {},
   "outputs": [],
   "source": [
    "Lab_tested_data = pd.read_csv('C:\\\\Users\\\\Mahmood Yousaf\\\\Desktop\\\\FYP\\\\Final-Year-Project-Soil-Analysis-using-machine-learning\\\\Soil_Lab_Results - Sheet1.csv')\n",
    "Lab_tested_data = Lab_tested_data.fillna(method='ffill')\n",
    "Lab_tested_data.to_csv(\"Pre_processed_lab_tested_data.csv\")"
   ]
  },
  {
   "cell_type": "code",
   "execution_count": null,
   "id": "bb892ca3",
   "metadata": {},
   "outputs": [],
   "source": [
    "Sample_ID = Lab_tested_data.iloc[:,0]\n",
    "pH_Value = Lab_tested_data.iloc[:,2]"
   ]
  },
  {
   "cell_type": "code",
   "execution_count": null,
   "id": "afaa19c1",
   "metadata": {},
   "outputs": [],
   "source": [
    "def load_images_from_folder(folder):\n",
    "    Labels = []\n",
    "    for filename in os.listdir(folder):\n",
    "        x = filename.split(\"_\")\n",
    "        id = float(x[0])\n",
    "        img = cv2.imread(os.path.join(folder,filename))\n",
    "        width = 1000\n",
    "        height = 1000\n",
    "        dim = (width, height)\n",
    "        # resize image\n",
    "        img = cv2.resize(img, dim, interpolation = cv2.INTER_AREA)\n",
    "        img = img[200:800,200:800] #Resizing the image\n",
    "        kernel = np.array([[-1,-1,-1], \n",
    "                   [-1, 9,-1],\n",
    "                   [-1,-1,-1]])\n",
    "        img = cv2.filter2D(img, -1, kernel) # applying the sharpening kernel.\n",
    "        Result = Sample_ID.isin([id]) #checking image sample id exist in the lab results or not\n",
    "        Result = Sample_ID[Result];\n",
    "        if len(Result) >= 1:\n",
    "            #Checking that if result greater than one means that sample id have two images\n",
    "            if len(Result) > 1:  \n",
    "                Result = Sample_ID[Sample_ID==Result.iloc[1]].index.tolist()\n",
    "                Id_1_index = Result[0]\n",
    "                Id_2_index = Result[1]\n",
    "                print(id)\n",
    "                #Taking average both inner and outer surface soil results \n",
    "                Labels.append([filename,img,(pH_Value[Id_1_index]+pH_Value[Id_2_index])/2])\n",
    "            #Checking if there is only one image\n",
    "            else:\n",
    "                Result = Sample_ID[Sample_ID==Result.iloc[1]].index.tolist()\n",
    "                Id_1_index = Result[0]\n",
    "                print(id)\n",
    "                Labels.append([filename,img,(pH_Value[Id_1_index])])\n",
    "        else:\n",
    "            continue\n",
    "    return Labels"
   ]
  },
  {
   "cell_type": "code",
   "execution_count": null,
   "id": "347046a8",
   "metadata": {},
   "outputs": [],
   "source": [
    "dataset = load_images_from_folder('C:\\\\Users\\\\Mahmood Yousaf\\\\Desktop\\\\FYP\\\\Dataset RGB\\\\testing_data')"
   ]
  },
  {
   "cell_type": "code",
   "execution_count": null,
   "id": "6ed3469d",
   "metadata": {},
   "outputs": [],
   "source": [
    "X = []\n",
    "Y = []\n",
    "for data in dataset:\n",
    "    X.append(data[1])\n",
    "    Y.append(data[2])\n",
    "print(Y)"
   ]
  },
  {
   "cell_type": "code",
   "execution_count": null,
   "id": "a1081fce",
   "metadata": {},
   "outputs": [],
   "source": [
    "img_size = 300\n",
    "X = np.array(X).reshape(-1, img_size, img_size, 3)\n",
    "print(X[0].shape)\n",
    "Y = np.array(Y)\n",
    "print(Y)"
   ]
  },
  {
   "cell_type": "code",
   "execution_count": null,
   "id": "8e7aa3da",
   "metadata": {},
   "outputs": [],
   "source": [
    "len(X)"
   ]
  },
  {
   "cell_type": "code",
   "execution_count": null,
   "id": "6843fffb",
   "metadata": {},
   "outputs": [],
   "source": [
    "#AlexNet Architecture for P estimation\n",
    "model = keras.models.Sequential([\n",
    "    keras.layers.Conv2D(filters=96, kernel_size=(11,11), strides=(4,4), activation='relu', input_shape=(300,300,3)),\n",
    "    keras.layers.BatchNormalization(),\n",
    "    keras.layers.MaxPool2D(pool_size=(3,3), strides=(2,2)),\n",
    "    keras.layers.Conv2D(filters=256, kernel_size=(5,5), strides=(1,1), activation='relu', padding=\"same\"),\n",
    "    keras.layers.BatchNormalization(),\n",
    "    keras.layers.MaxPool2D(pool_size=(3,3), strides=(2,2)),\n",
    "    keras.layers.Conv2D(filters=384, kernel_size=(3,3), strides=(1,1), activation='relu', padding=\"same\"),\n",
    "    keras.layers.BatchNormalization(),\n",
    "    keras.layers.Conv2D(filters=384, kernel_size=(3,3), strides=(1,1), activation='relu', padding=\"same\"),\n",
    "    keras.layers.BatchNormalization(),\n",
    "    keras.layers.Conv2D(filters=256, kernel_size=(3,3), strides=(1,1), activation='relu', padding=\"same\"),\n",
    "    keras.layers.BatchNormalization(),\n",
    "    keras.layers.MaxPool2D(pool_size=(3,3), strides=(2,2)),\n",
    "    keras.layers.Flatten(),\n",
    "    keras.layers.Dense(4096, activation='relu'),\n",
    "    keras.layers.Dropout(0.5),\n",
    "    keras.layers.Dense(4096, activation='relu'),\n",
    "    keras.layers.Dropout(0.5),\n",
    "    keras.layers.Dense(1, activation='linear')\n",
    "])\n",
    "model.summary()"
   ]
  },
  {
   "cell_type": "code",
   "execution_count": null,
   "id": "89c85ae4",
   "metadata": {},
   "outputs": [],
   "source": [
    "X_train, X_val, y_train, y_val = train_test_split(X, Y)\n",
    "print(X_train.shape)"
   ]
  },
  {
   "cell_type": "code",
   "execution_count": null,
   "id": "004d90be",
   "metadata": {},
   "outputs": [],
   "source": []
  },
  {
   "cell_type": "code",
   "execution_count": null,
   "id": "7debf1e8",
   "metadata": {},
   "outputs": [],
   "source": [
    "model.compile(loss='mse', optimizer='adam', metrics=['mse','mae'])\n",
    "history=model.fit(X_train, y_train, epochs=300, batch_size=32, verbose=1, validation_split=0.4)\n",
    "predictions = model.predict(X_val)"
   ]
  },
  {
   "cell_type": "code",
   "execution_count": null,
   "id": "6b18cd27",
   "metadata": {},
   "outputs": [],
   "source": [
    "import matplotlib.pyplot as plt \n",
    "print(history.history.keys())\n",
    "# \"Loss\"\n",
    "plt.plot(history.history['loss'])\n",
    "plt.plot(history.history['val_loss'])\n",
    "plt.title('model loss')\n",
    "plt.ylabel('loss')\n",
    "plt.xlabel('epoch')\n",
    "plt.legend(['train', 'validation'], loc='upper left')\n",
    "plt.show()"
   ]
  },
  {
   "cell_type": "code",
   "execution_count": null,
   "id": "cb08da99",
   "metadata": {},
   "outputs": [],
   "source": [
    "\n",
    "plt.plot(predictions)\n",
    "plt.plot(y_val)\n",
    "plt.title('Predictions')\n",
    "plt.legend(['Predicted pH values', 'Actual pH Values'], loc='upper left')\n",
    "plt.show()"
   ]
  },
  {
   "cell_type": "code",
   "execution_count": null,
   "id": "5278e7f6",
   "metadata": {},
   "outputs": [],
   "source": [
    "dataset[0][1].shape"
   ]
  },
  {
   "cell_type": "code",
   "execution_count": null,
   "id": "b287030e",
   "metadata": {},
   "outputs": [],
   "source": [
    "dataset[0][2]"
   ]
  },
  {
   "cell_type": "code",
   "execution_count": null,
   "id": "e699bc64",
   "metadata": {},
   "outputs": [],
   "source": [
    "import tensorflow as tf"
   ]
  },
  {
   "cell_type": "code",
   "execution_count": null,
   "id": "79852620",
   "metadata": {},
   "outputs": [],
   "source": [
    "tf.test.gpu_device_name()"
   ]
  },
  {
   "cell_type": "code",
   "execution_count": null,
   "id": "9e238fcf",
   "metadata": {},
   "outputs": [],
   "source": []
  },
  {
   "cell_type": "code",
   "execution_count": null,
   "id": "d5ff4b92",
   "metadata": {},
   "outputs": [],
   "source": []
  },
  {
   "cell_type": "code",
   "execution_count": null,
   "id": "e24aa009",
   "metadata": {},
   "outputs": [],
   "source": []
  },
  {
   "cell_type": "code",
   "execution_count": null,
   "id": "9bdea305",
   "metadata": {},
   "outputs": [],
   "source": []
  },
  {
   "cell_type": "code",
   "execution_count": null,
   "id": "b576a362",
   "metadata": {},
   "outputs": [],
   "source": []
  },
  {
   "cell_type": "code",
   "execution_count": null,
   "id": "9ae5f0eb",
   "metadata": {},
   "outputs": [],
   "source": []
  },
  {
   "cell_type": "code",
   "execution_count": null,
   "id": "233e5b4c",
   "metadata": {},
   "outputs": [],
   "source": []
  },
  {
   "cell_type": "code",
   "execution_count": null,
   "id": "19a94d55",
   "metadata": {},
   "outputs": [],
   "source": []
  },
  {
   "cell_type": "code",
   "execution_count": null,
   "id": "76d4f535",
   "metadata": {},
   "outputs": [],
   "source": []
  },
  {
   "cell_type": "code",
   "execution_count": null,
   "id": "a0327a24",
   "metadata": {},
   "outputs": [],
   "source": []
  },
  {
   "cell_type": "code",
   "execution_count": null,
   "id": "f828bf26",
   "metadata": {},
   "outputs": [],
   "source": []
  },
  {
   "cell_type": "code",
   "execution_count": null,
   "id": "8078a585",
   "metadata": {},
   "outputs": [],
   "source": []
  }
 ],
 "metadata": {
  "kernelspec": {
   "display_name": "Python 3 (ipykernel)",
   "language": "python",
   "name": "python3"
  },
  "language_info": {
   "codemirror_mode": {
    "name": "ipython",
    "version": 3
   },
   "file_extension": ".py",
   "mimetype": "text/x-python",
   "name": "python",
   "nbconvert_exporter": "python",
   "pygments_lexer": "ipython3",
   "version": "3.8.12"
  }
 },
 "nbformat": 4,
 "nbformat_minor": 5
}
