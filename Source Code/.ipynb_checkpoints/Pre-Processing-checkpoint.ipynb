{
 "cells": [
  {
   "cell_type": "code",
   "execution_count": 1,
   "id": "b09d28a8",
   "metadata": {},
   "outputs": [],
   "source": [
    "import numpy as np\n",
    "import pandas as pd\n",
    "import cv2\n",
    "import os "
   ]
  },
  {
   "cell_type": "code",
   "execution_count": 2,
   "id": "4a33bb36",
   "metadata": {},
   "outputs": [],
   "source": [
    "def load_images_from_folder(folder):\n",
    "    images = []\n",
    "    for filename in os.listdir(folder):\n",
    "        img = cv2.imread(os.path.join(folder,filename))\n",
    "        if img is not None:\n",
    "            images.append(img)\n",
    "    return images"
   ]
  },
  {
   "cell_type": "code",
   "execution_count": 3,
   "id": "f3a28d64",
   "metadata": {},
   "outputs": [],
   "source": [
    "dataset = load_images_from_folder('C:\\\\Users\\\\Mahmood Yousaf\\\\Desktop\\\\FYP\\\\Dataset RGB\\\\testing_data')"
   ]
  },
  {
   "cell_type": "code",
   "execution_count": 4,
   "id": "78a1b3e9",
   "metadata": {},
   "outputs": [],
   "source": [
    "image1 = dataset[0]"
   ]
  },
  {
   "cell_type": "code",
   "execution_count": 5,
   "id": "a4d1a684",
   "metadata": {},
   "outputs": [
    {
     "name": "stdout",
     "output_type": "stream",
     "text": [
      "(4160, 3120, 3)\n"
     ]
    }
   ],
   "source": [
    "print(image1.shape)"
   ]
  },
  {
   "cell_type": "code",
   "execution_count": 6,
   "id": "7c688f5a",
   "metadata": {},
   "outputs": [
    {
     "data": {
      "text/plain": [
       "(3120, 3)"
      ]
     },
     "execution_count": 6,
     "metadata": {},
     "output_type": "execute_result"
    }
   ],
   "source": [
    "image1[2].shape"
   ]
  },
  {
   "cell_type": "code",
   "execution_count": 10,
   "id": "26a684fd",
   "metadata": {},
   "outputs": [
    {
     "data": {
      "text/plain": [
       "True"
      ]
     },
     "execution_count": 10,
     "metadata": {},
     "output_type": "execute_result"
    }
   ],
   "source": [
    "Ph_index = []\n",
    "for image1 in dataset:\n",
    "    # extracting blue,red,green channel from color image\n",
    "    blue_channel = image1[:,:,0]\n",
    "    green_channel = image1[:,:,1]\n",
    "    red_channel = image1[:,:,2]\n",
    "    temp = (red_channel/green_channel)/blue_channel\n",
    "    temp = temp.mean()\n",
    "    Ph_index.append(temp)\n",
    "print(Ph_index)"
   ]
  },
  {
   "cell_type": "code",
   "execution_count": 17,
   "id": "8130f8ec",
   "metadata": {},
   "outputs": [
    {
     "data": {
      "text/plain": [
       "(1280, 720)"
      ]
     },
     "execution_count": 17,
     "metadata": {},
     "output_type": "execute_result"
    }
   ],
   "source": [
    "blue_channel.shape"
   ]
  },
  {
   "cell_type": "code",
   "execution_count": 15,
   "id": "f098c77a",
   "metadata": {},
   "outputs": [
    {
     "data": {
      "text/plain": [
       "array([[[ 81. ,   0. ,   0. ],\n",
       "        [ 81. ,   0. ,   0. ],\n",
       "        [ 81. ,   0. ,   0. ],\n",
       "        ...,\n",
       "        [120. ,   0. ,   0. ],\n",
       "        [121.5,   0. ,   0. ],\n",
       "        [120. ,   0. ,   0. ]],\n",
       "\n",
       "       [[ 81. ,   0. ,   0. ],\n",
       "        [ 81. ,   0. ,   0. ],\n",
       "        [ 81. ,   0. ,   0. ],\n",
       "        ...,\n",
       "        [116.5,   0. ,   0. ],\n",
       "        [121.5,   0. ,   0. ],\n",
       "        [121. ,   0. ,   0. ]],\n",
       "\n",
       "       [[ 81. ,   0. ,   0. ],\n",
       "        [ 81. ,   0. ,   0. ],\n",
       "        [ 81. ,   0. ,   0. ],\n",
       "        ...,\n",
       "        [113. ,   0. ,   0. ],\n",
       "        [118.5,   0. ,   0. ],\n",
       "        [117.5,   0. ,   0. ]],\n",
       "\n",
       "       ...,\n",
       "\n",
       "       [[101. ,   0. ,   0. ],\n",
       "        [101. ,   0. ,   0. ],\n",
       "        [101. ,   0. ,   0. ],\n",
       "        ...,\n",
       "        [125.5,   0. ,   0. ],\n",
       "        [125.5,   0. ,   0. ],\n",
       "        [125.5,   0. ,   0. ]],\n",
       "\n",
       "       [[101. ,   0. ,   0. ],\n",
       "        [101. ,   0. ,   0. ],\n",
       "        [101. ,   0. ,   0. ],\n",
       "        ...,\n",
       "        [125.5,   0. ,   0. ],\n",
       "        [125.5,   0. ,   0. ],\n",
       "        [125.5,   0. ,   0. ]],\n",
       "\n",
       "       [[101. ,   0. ,   0. ],\n",
       "        [101. ,   0. ,   0. ],\n",
       "        [101. ,   0. ,   0. ],\n",
       "        ...,\n",
       "        [125.5,   0. ,   0. ],\n",
       "        [125.5,   0. ,   0. ],\n",
       "        [125.5,   0. ,   0. ]]])"
      ]
     },
     "execution_count": 15,
     "metadata": {},
     "output_type": "execute_result"
    }
   ],
   "source": [
    "blue_img"
   ]
  },
  {
   "cell_type": "code",
   "execution_count": null,
   "id": "3bb27857",
   "metadata": {},
   "outputs": [],
   "source": []
  }
 ],
 "metadata": {
  "kernelspec": {
   "display_name": "Python 3",
   "language": "python",
   "name": "python3"
  },
  "language_info": {
   "codemirror_mode": {
    "name": "ipython",
    "version": 3
   },
   "file_extension": ".py",
   "mimetype": "text/x-python",
   "name": "python",
   "nbconvert_exporter": "python",
   "pygments_lexer": "ipython3",
   "version": "3.8.8"
  }
 },
 "nbformat": 4,
 "nbformat_minor": 5
}
