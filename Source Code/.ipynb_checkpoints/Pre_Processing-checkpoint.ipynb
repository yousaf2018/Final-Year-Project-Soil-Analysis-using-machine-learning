{
 "cells": [
  {
   "cell_type": "code",
   "execution_count": 1,
   "id": "59a2ca92",
   "metadata": {},
   "outputs": [],
   "source": [
    "import numpy as np\n",
    "import pandas as pd\n",
    "import cv2\n",
    "import os \n",
    "import fnmatch"
   ]
  },
  {
   "cell_type": "code",
   "execution_count": 2,
   "id": "5dae601a",
   "metadata": {},
   "outputs": [],
   "source": [
    "Lab_tested_data = pd.read_csv('C:\\\\Users\\\\Mahmood Yousaf\\\\Desktop\\\\FYP\\\\Dataset RGB\\\\Lab_tested_data.csv')\n",
    "Lab_tested_data = Lab_tested_data.fillna(method='ffill')\n",
    "Lab_tested_data.to_csv(\"Pre_processed_lab_tested_data.csv\")"
   ]
  },
  {
   "cell_type": "code",
   "execution_count": 3,
   "id": "bb892ca3",
   "metadata": {},
   "outputs": [],
   "source": [
    "Sample_ID = Lab_tested_data.iloc[:,0]\n",
    "PH_Value = Lab_tested_data.iloc[:,2]"
   ]
  },
  {
   "cell_type": "code",
   "execution_count": 4,
   "id": "afaa19c1",
   "metadata": {},
   "outputs": [],
   "source": [
    "def load_images_from_folder(folder):\n",
    "    Labels = []\n",
    "    for filename in os.listdir(folder):\n",
    "        x = filename.split(\"_\")\n",
    "        id = float(x[0])\n",
    "        img = cv2.imread(os.path.join(folder,filename))\n",
    "        Result = Sample_ID.isin([id])\n",
    "        Result = Sample_ID[Result];\n",
    "        if len(Result) > 1:\n",
    "            Result = Sample_ID[Sample_ID==Result.iloc[1]].index.tolist()\n",
    "            Id_1_index = Result[0]\n",
    "            Id_2_index = Result[1]\n",
    "            print(id)\n",
    "            Labels.append([filename,img,(PH_Value[Id_1_index]+PH_Value[Id_2_index])/2])\n",
    "        else:\n",
    "            continue\n",
    "    return Labels"
   ]
  },
  {
   "cell_type": "code",
   "execution_count": null,
   "id": "347046a8",
   "metadata": {},
   "outputs": [],
   "source": [
    "dataset = load_images_from_folder('C:\\\\Users\\\\Mahmood Yousaf\\\\Desktop\\\\FYP\\\\Dataset RGB\\\\Mixed_data')"
   ]
  },
  {
   "cell_type": "code",
   "execution_count": null,
   "id": "b3f87177",
   "metadata": {},
   "outputs": [],
   "source": [
    "Ph_index = []\n",
    "for image  in dataset:\n",
    "    # extracting blue,red,green channel from color image\n",
    "    blue_channel = image[:,:,0]\n",
    "    green_channel = image[:,:,1]\n",
    "    red_channel = image[:,:,2]\n",
    "    temp = (np.average(green_channel)/np.average(blue_channel))/(np.average(red_channel))\n",
    "    temp = np.nanmedian(temp,axis=None, out=None, overwrite_input=False, keepdims=False)\n",
    "    Ph_index.append(temp)"
   ]
  },
  {
   "cell_type": "code",
   "execution_count": null,
   "id": "338bcb6d",
   "metadata": {},
   "outputs": [],
   "source": []
  }
 ],
 "metadata": {
  "kernelspec": {
   "display_name": "Python 3",
   "language": "python",
   "name": "python3"
  },
  "language_info": {
   "codemirror_mode": {
    "name": "ipython",
    "version": 3
   },
   "file_extension": ".py",
   "mimetype": "text/x-python",
   "name": "python",
   "nbconvert_exporter": "python",
   "pygments_lexer": "ipython3",
   "version": "3.8.8"
  }
 },
 "nbformat": 4,
 "nbformat_minor": 5
}
