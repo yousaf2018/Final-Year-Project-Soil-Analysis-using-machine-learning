{
 "cells": [
  {
   "cell_type": "code",
   "execution_count": 37,
   "id": "5f6c459c",
   "metadata": {},
   "outputs": [],
   "source": [
    "import pandas as pd\n",
    "import numpy as np"
   ]
  },
  {
   "cell_type": "code",
   "execution_count": 38,
   "id": "86b7612a",
   "metadata": {},
   "outputs": [
    {
     "name": "stdout",
     "output_type": "stream",
     "text": [
      "1572\n"
     ]
    }
   ],
   "source": [
    "#Loading data for analysis\n",
    "punjabData = pd.read_csv('PreProcessedPunjabData.csv')\n",
    "namalData = pd.read_csv('Namal.csv')\n",
    "imageData = pd.read_csv('Image.csv')\n",
    "sensorData = pd.read_csv('Sensor.csv')\n",
    "print(len(namalData))"
   ]
  },
  {
   "cell_type": "code",
   "execution_count": 39,
   "id": "3b7130ea",
   "metadata": {},
   "outputs": [
    {
     "name": "stdout",
     "output_type": "stream",
     "text": [
      "612\n"
     ]
    }
   ],
   "source": [
    "#Namal data have inner and outer values, so taking mean \n",
    "namalData = namalData.groupby('Sample ID', as_index=False).mean()\n",
    "print(len(namalData))"
   ]
  },
  {
   "cell_type": "code",
   "execution_count": 40,
   "id": "6d15dc24",
   "metadata": {},
   "outputs": [
    {
     "data": {
      "text/plain": [
       "['Sample ID', 'PH (1:1)', 'ECe (1:1)(mS/cm)', 'OM %', 'P (ppm)']"
      ]
     },
     "execution_count": 40,
     "metadata": {},
     "output_type": "execute_result"
    }
   ],
   "source": [
    "list(imageData)\n",
    "list(namalData)"
   ]
  },
  {
   "cell_type": "code",
   "execution_count": 41,
   "id": "e1694163",
   "metadata": {},
   "outputs": [
    {
     "name": "stdout",
     "output_type": "stream",
     "text": [
      "0     110639\n",
      "1     110645\n",
      "2     110660\n",
      "3     110661\n",
      "4     110662\n",
      "       ...  \n",
      "95    124239\n",
      "96    124240\n",
      "97    124241\n",
      "98    124243\n",
      "99    124244\n",
      "Name: sampleID, Length: 100, dtype: int64\n"
     ]
    }
   ],
   "source": [
    "sampleID = imageData['sampleID']\n",
    "print(sampleID)"
   ]
  },
  {
   "cell_type": "code",
   "execution_count": 44,
   "id": "7b9b9d7b",
   "metadata": {},
   "outputs": [
    {
     "name": "stdout",
     "output_type": "stream",
     "text": [
      "91\n"
     ]
    }
   ],
   "source": [
    "#Getting IDs which are available both in namal dataset and image dataset\n",
    "counter = 0\n",
    "IDs = []\n",
    "for sample in sampleID:\n",
    "    check = namalData[namalData['Sample ID'] == sample]\n",
    "    if len(check) == 1:\n",
    "        IDs.append(sample)\n",
    "        counter += 1\n",
    "    else:\n",
    "        continue\n",
    "print(len(IDs))"
   ]
  },
  {
   "cell_type": "code",
   "execution_count": 46,
   "id": "69ebde73",
   "metadata": {},
   "outputs": [
    {
     "data": {
      "text/plain": [
       "['Unnamed: 0', 'sampleID', 'EC', 'pH', 'P']"
      ]
     },
     "execution_count": 46,
     "metadata": {},
     "output_type": "execute_result"
    }
   ],
   "source": [
    "list(punjabData)"
   ]
  },
  {
   "cell_type": "code",
   "execution_count": 87,
   "id": "cf456570",
   "metadata": {},
   "outputs": [
    {
     "data": {
      "text/plain": [
       "7.733333333333333"
      ]
     },
     "execution_count": 87,
     "metadata": {},
     "output_type": "execute_result"
    }
   ],
   "source": [
    "sensorData[sensorData['sampleID']==110639].iloc[0][2]"
   ]
  },
  {
   "cell_type": "code",
   "execution_count": 93,
   "id": "49c99b4e",
   "metadata": {},
   "outputs": [],
   "source": [
    "#Getting P, EC and pH values from namal, image, punjab and sensor\n",
    "punjabP = []\n",
    "punjabEC = []\n",
    "punjabpH = []\n",
    "namalP = []\n",
    "namalEC = []\n",
    "namalpH = []\n",
    "sensorP = []\n",
    "sensorEC = []\n",
    "sensorpH = []\n",
    "imageP = []\n",
    "imageEC = []\n",
    "imagepH = []\n",
    "for sample in sampleID:\n",
    "    if len(punjabData[punjabData['sampleID'] == sample]) == 1 and len(namalData[namalData['Sample ID']==sample]) == 1 and len(sensorData[sensorData['sampleID']==sample]) == 1 and len(imageData[imageData['sampleID']==sample]) == 1:\n",
    "        #Phosphorous values for each dataset\n",
    "        punjabP.append(punjabData[punjabData['sampleID'] == sample].iloc[0][4])\n",
    "        namalP.append(namalData[namalData['Sample ID']== sample].iloc[0][4])\n",
    "        imageP.append(imageData[imageData['sampleID']== sample].iloc[0][2])\n",
    "        sensorP.append(sensorData[sensorData['sampleID']==110639].iloc[0][3])\n",
    "        #EC values for each dataset\n",
    "        punjabEC.append(punjabData[punjabData['sampleID'] == sample].iloc[0][2])\n",
    "        namalEC.append(namalData[namalData['Sample ID']== sample].iloc[0][2])\n",
    "        imageEC.append(imageData[imageData['sampleID']== sample].iloc[0][4])\n",
    "        sensorEC.append(sensorData[sensorData['sampleID']==110639].iloc[0][4])\n",
    "        #pH values for each dataset\n",
    "        punjabpH.append(punjabData[punjabData['sampleID'] == sample].iloc[0][3])\n",
    "        namalpH.append(namalData[namalData['Sample ID']== sample].iloc[0][1])\n",
    "        imagepH.append(imageData[imageData['sampleID']== sample].iloc[0][3])\n",
    "        sensorpH.append(sensorData[sensorData['sampleID']==110639].iloc[0][2])\n",
    "                                                                    \n",
    "    else:\n",
    "        continue\n"
   ]
  },
  {
   "cell_type": "code",
   "execution_count": 94,
   "id": "e283c6e7",
   "metadata": {},
   "outputs": [
    {
     "name": "stdout",
     "output_type": "stream",
     "text": [
      "91 91 91\n"
     ]
    }
   ],
   "source": [
    "print(len(imageP), len(imagepH), len(imageEC))"
   ]
  },
  {
   "cell_type": "code",
   "execution_count": 95,
   "id": "86bfca63",
   "metadata": {},
   "outputs": [
    {
     "name": "stdout",
     "output_type": "stream",
     "text": [
      "91 91 91\n"
     ]
    }
   ],
   "source": [
    "print(len(namalP), len(namalpH), len(namalEC))"
   ]
  },
  {
   "cell_type": "code",
   "execution_count": 96,
   "id": "9caf87c2",
   "metadata": {},
   "outputs": [
    {
     "name": "stdout",
     "output_type": "stream",
     "text": [
      "91 91 91\n"
     ]
    }
   ],
   "source": [
    "print(len(sensorP), len(sensorpH), len(sensorEC))"
   ]
  },
  {
   "cell_type": "code",
   "execution_count": null,
   "id": "0afd1328",
   "metadata": {},
   "outputs": [],
   "source": []
  }
 ],
 "metadata": {
  "kernelspec": {
   "display_name": "Python 3 (ipykernel)",
   "language": "python",
   "name": "python3"
  },
  "language_info": {
   "codemirror_mode": {
    "name": "ipython",
    "version": 3
   },
   "file_extension": ".py",
   "mimetype": "text/x-python",
   "name": "python",
   "nbconvert_exporter": "python",
   "pygments_lexer": "ipython3",
   "version": "3.8.12"
  }
 },
 "nbformat": 4,
 "nbformat_minor": 5
}
