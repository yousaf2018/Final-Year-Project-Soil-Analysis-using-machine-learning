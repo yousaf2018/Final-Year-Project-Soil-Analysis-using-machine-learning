{
 "cells": [
  {
   "cell_type": "code",
   "execution_count": 3,
   "id": "06109ef5",
   "metadata": {},
   "outputs": [],
   "source": [
    "import numpy as np\n",
    "import pandas as pd"
   ]
  },
  {
   "cell_type": "code",
   "execution_count": 4,
   "id": "90a83707",
   "metadata": {},
   "outputs": [],
   "source": [
    "sensorData = pd.read_csv(\"Sensor.csv\")"
   ]
  },
  {
   "cell_type": "code",
   "execution_count": 32,
   "id": "f0b11632",
   "metadata": {},
   "outputs": [],
   "source": [
    "punjabData = pd.read_csv('Punjab.csv', encoding = \"ISO-8859-1\", engine='python')"
   ]
  },
  {
   "cell_type": "code",
   "execution_count": 33,
   "id": "52fd7311",
   "metadata": {},
   "outputs": [
    {
     "data": {
      "text/plain": [
       "['BWN',\n",
       " '30.08210477',\n",
       " '73.27040742',\n",
       " '1',\n",
       " '4.2',\n",
       " '8',\n",
       " '0.7',\n",
       " '6.5',\n",
       " '112',\n",
       " '34',\n",
       " 'ec2',\n",
       " 'ph3',\n",
       " 'om1',\n",
       " 'p2',\n",
       " 'k3',\n",
       " 'sp3']"
      ]
     },
     "execution_count": 33,
     "metadata": {},
     "output_type": "execute_result"
    }
   ],
   "source": [
    "list(punjabData)"
   ]
  },
  {
   "cell_type": "code",
   "execution_count": 34,
   "id": "0753e37e",
   "metadata": {},
   "outputs": [],
   "source": [
    "punjabData.drop(columns=['BWN','30.08210477','73.27040742', '0.7','112', '34', 'ec2', 'ph3', 'om1', 'p2', 'k3', 'sp3'], inplace = True)"
   ]
  },
  {
   "cell_type": "code",
   "execution_count": 37,
   "id": "0bdc7a07",
   "metadata": {},
   "outputs": [
    {
     "name": "stdout",
     "output_type": "stream",
     "text": [
      "['1', '4.2', '8', '6.5']\n"
     ]
    }
   ],
   "source": [
    "savedRow1 = list(punjabData)\n",
    "print(savedRow1)"
   ]
  },
  {
   "cell_type": "code",
   "execution_count": 39,
   "id": "a96f718a",
   "metadata": {},
   "outputs": [],
   "source": [
    "punjabData.columns = ['sampleID', 'EC', 'pH', 'P']\n",
    "punjabData.iloc[0] = savedRow1"
   ]
  },
  {
   "cell_type": "code",
   "execution_count": 40,
   "id": "38b67206",
   "metadata": {},
   "outputs": [
    {
     "data": {
      "text/plain": [
       "['sampleID', 'EC', 'pH', 'P']"
      ]
     },
     "execution_count": 40,
     "metadata": {},
     "output_type": "execute_result"
    }
   ],
   "source": [
    "list(punjabData)"
   ]
  },
  {
   "cell_type": "code",
   "execution_count": 42,
   "id": "26cdd0ae",
   "metadata": {},
   "outputs": [],
   "source": [
    "punjabData.to_csv('PreProcessedPunjabData.csv')"
   ]
  },
  {
   "cell_type": "code",
   "execution_count": 43,
   "id": "1ef3fa6a",
   "metadata": {},
   "outputs": [
    {
     "data": {
      "text/plain": [
       "<bound method NDFrame.head of        sampleID   EC   pH    P\n",
       "0             1  4.2    8  6.5\n",
       "1             3  3.5  8.0  7.4\n",
       "2             4  3.4  8.5  6.0\n",
       "3             5  3.6  8.2  5.9\n",
       "4             6  4.0  8.2  7.4\n",
       "...         ...  ...  ...  ...\n",
       "255341   255343  3.1  7.8  8.2\n",
       "255342   255344  2.6  8.1  9.0\n",
       "255343   255345  2.4  8.3  7.5\n",
       "255344   255346  4.0  8.3  6.8\n",
       "255345   255347  3.5  8.1  6.5\n",
       "\n",
       "[255346 rows x 4 columns]>"
      ]
     },
     "execution_count": 43,
     "metadata": {},
     "output_type": "execute_result"
    }
   ],
   "source": [
    "punjabData.head"
   ]
  },
  {
   "cell_type": "code",
   "execution_count": null,
   "id": "b7a981ab",
   "metadata": {},
   "outputs": [],
   "source": []
  },
  {
   "cell_type": "code",
   "execution_count": null,
   "id": "1fdc12d8",
   "metadata": {},
   "outputs": [],
   "source": []
  }
 ],
 "metadata": {
  "kernelspec": {
   "display_name": "Python 3 (ipykernel)",
   "language": "python",
   "name": "python3"
  },
  "language_info": {
   "codemirror_mode": {
    "name": "ipython",
    "version": 3
   },
   "file_extension": ".py",
   "mimetype": "text/x-python",
   "name": "python",
   "nbconvert_exporter": "python",
   "pygments_lexer": "ipython3",
   "version": "3.8.12"
  }
 },
 "nbformat": 4,
 "nbformat_minor": 5
}
