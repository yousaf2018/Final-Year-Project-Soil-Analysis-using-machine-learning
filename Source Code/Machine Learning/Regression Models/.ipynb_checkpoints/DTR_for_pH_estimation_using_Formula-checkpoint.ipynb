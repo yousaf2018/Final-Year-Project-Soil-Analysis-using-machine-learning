{
 "cells": [
  {
   "cell_type": "markdown",
   "id": "2f2bd941",
   "metadata": {},
   "source": [
    "### Libraries for dataset manipulation and visulization"
   ]
  },
  {
   "cell_type": "code",
   "execution_count": 1,
   "id": "bec3ab18",
   "metadata": {},
   "outputs": [],
   "source": [
    "import numpy as np\n",
    "import pandas as pd\n",
    "import matplotlib.pyplot as plt"
   ]
  },
  {
   "cell_type": "markdown",
   "id": "6a25f32e",
   "metadata": {},
   "source": [
    "### Dataset Loading"
   ]
  },
  {
   "cell_type": "code",
   "execution_count": 2,
   "id": "5e00c17d",
   "metadata": {},
   "outputs": [],
   "source": [
    "dataset = pd.read_csv('C:\\\\Users\\\\Mahmood Yousaf\\\\Desktop\\\\FYP\\\\Final-Year-Project-Soil-Analysis-using-machine-learning\\\\Extracted Features\\\\Formula_Index_with_pH_value.csv')"
   ]
  },
  {
   "cell_type": "markdown",
   "id": "44d666b2",
   "metadata": {},
   "source": [
    "### Preprocessing on dataset"
   ]
  },
  {
   "cell_type": "code",
   "execution_count": 3,
   "id": "bef79ea3",
   "metadata": {},
   "outputs": [
    {
     "name": "stdout",
     "output_type": "stream",
     "text": [
      "[525.  505.  542.  ... 397.  262.5 365. ]\n",
      "[7.9 7.9 7.9 ... 7.7 7.7 7.7]\n"
     ]
    }
   ],
   "source": [
    "X = np.array(dataset['Formula_Index'])\n",
    "Y = np.array(dataset['pH_Value'])\n",
    "print(X)\n",
    "print(Y)"
   ]
  },
  {
   "cell_type": "code",
   "execution_count": 4,
   "id": "dd2bed66",
   "metadata": {},
   "outputs": [
    {
     "name": "stdout",
     "output_type": "stream",
     "text": [
      "[[525. ]\n",
      " [505. ]\n",
      " [542. ]\n",
      " ...\n",
      " [397. ]\n",
      " [262.5]\n",
      " [365. ]] [[7.9]\n",
      " [7.9]\n",
      " [7.9]\n",
      " ...\n",
      " [7.7]\n",
      " [7.7]\n",
      " [7.7]]\n"
     ]
    }
   ],
   "source": [
    "X = X.reshape(len(X),1)\n",
    "Y = Y.reshape(len(Y),1)\n",
    "print(X,Y)"
   ]
  },
  {
   "cell_type": "markdown",
   "id": "c3db3d89",
   "metadata": {},
   "source": [
    "### DTR model training"
   ]
  },
  {
   "cell_type": "code",
   "execution_count": 5,
   "id": "70f6693c",
   "metadata": {},
   "outputs": [],
   "source": [
    "from sklearn.model_selection import train_test_split\n",
    "X_train, X_val, y_train, y_val = train_test_split(X, Y)"
   ]
  },
  {
   "cell_type": "code",
   "execution_count": 6,
   "id": "86107818",
   "metadata": {},
   "outputs": [
    {
     "data": {
      "text/plain": [
       "DecisionTreeRegressor(random_state=0)"
      ]
     },
     "execution_count": 6,
     "metadata": {},
     "output_type": "execute_result"
    }
   ],
   "source": [
    "from sklearn.tree import DecisionTreeRegressor\n",
    "from sklearn.metrics import mean_absolute_error\n",
    "from sklearn.metrics import mean_squared_error\n",
    "from sklearn.metrics import r2_score\n",
    "regressor = DecisionTreeRegressor(random_state = 0)\n",
    "regressor.fit(X_train,y_train)"
   ]
  },
  {
   "cell_type": "markdown",
   "id": "eb96c339",
   "metadata": {},
   "source": [
    "### Prediction "
   ]
  },
  {
   "cell_type": "code",
   "execution_count": 7,
   "id": "b5264ee9",
   "metadata": {},
   "outputs": [
    {
     "name": "stdout",
     "output_type": "stream",
     "text": [
      "[7.93333333]\n"
     ]
    }
   ],
   "source": [
    "prediction = regressor.predict([[500]])\n",
    "print(prediction)"
   ]
  },
  {
   "cell_type": "code",
   "execution_count": 8,
   "id": "7652decf",
   "metadata": {},
   "outputs": [
    {
     "name": "stdout",
     "output_type": "stream",
     "text": [
      "[7.4        7.68       7.76666667 7.7875     7.8        7.79333333\n",
      " 7.76666667 7.9        7.9        7.7        7.7        7.85\n",
      " 7.8        7.7875     7.76666667 7.8        7.7        8.1\n",
      " 8.         7.79333333 7.91666667 7.85       7.875      7.7\n",
      " 7.9        7.7        7.3        8.1        7.8        8.\n",
      " 7.7875     7.71428571 7.9        7.825      7.84285714 7.7\n",
      " 8.075      7.85       7.7875     7.76666667 7.7875     7.9\n",
      " 7.7        7.6        7.8        7.84285714 7.83333333 7.86666667\n",
      " 7.9        7.83333333 7.74285714 7.74       7.9        7.7\n",
      " 7.87142857 7.74       7.9        7.8        7.58       7.7875\n",
      " 8.         7.9        7.71428571 7.76666667 7.63333333 7.85\n",
      " 7.86666667 7.7        7.7        7.6        7.9625     7.975\n",
      " 8.         7.8        7.68       7.91666667 7.675      7.76666667\n",
      " 7.91666667 7.875      7.71666667 7.8        7.83333333 7.8\n",
      " 7.65       7.9625     7.74285714 7.7        8.         7.9\n",
      " 7.58       7.8        7.925      7.86666667 7.875      7.77142857\n",
      " 7.9        7.8        7.65714286 7.92       8.         7.71428571\n",
      " 8.1        7.75       8.         7.76666667 7.925      7.775\n",
      " 7.76666667 7.9        7.79333333 7.775      7.8        7.95\n",
      " 8.         7.6        7.8        7.75       7.71428571 7.8\n",
      " 7.7        7.8        7.76666667 7.87142857 7.8        7.6\n",
      " 7.8        7.75       7.7875     7.77142857 7.91666667 8.1\n",
      " 7.9        7.65       7.75       7.73333333 7.8        7.9\n",
      " 7.83333333 7.7875     7.7        7.7        7.84285714 7.71666667\n",
      " 7.7        7.75       7.83333333 7.75       7.7        7.8\n",
      " 8.01       7.9        7.9        8.         7.76666667 7.93333333\n",
      " 7.7        7.85       7.65       7.7        7.88       7.9\n",
      " 7.79333333 7.9        7.95       7.95       7.91666667 7.9\n",
      " 7.63333333 7.95       7.5        7.6        7.8        7.4\n",
      " 7.5        8.2        8.         8.         7.77142857 7.875\n",
      " 7.8        7.7        7.9        7.76666667 7.77142857 7.7\n",
      " 7.87142857 8.1        7.75       8.01       7.75       7.6\n",
      " 7.68       7.9625     8.         7.8        7.87142857 7.8\n",
      " 7.975      7.68       7.79333333 7.78333333 8.         7.8\n",
      " 7.975      7.6        7.87142857 7.8        7.8        7.91666667\n",
      " 7.83333333 7.83333333 7.9        7.5        7.7875     7.76666667\n",
      " 8.01       7.75       7.5        8.1        7.8        7.85\n",
      " 7.85       7.85       7.8        7.8        7.76666667 7.85\n",
      " 7.79333333 7.9        7.76666667 7.9625     7.77777778 7.6\n",
      " 7.75       8.1        8.         7.76666667 7.71666667 7.77777778\n",
      " 7.7875     7.76666667 7.8        7.87142857 7.71428571 7.76666667\n",
      " 7.9        7.8        7.74       7.8        7.88       7.8\n",
      " 7.68       7.9        7.85       7.825      7.8        7.5\n",
      " 7.76666667 7.6        7.91666667 7.7        7.83333333 7.73333333\n",
      " 7.5        7.8       ]\n"
     ]
    }
   ],
   "source": [
    "pred = regressor.predict(X_val)\n",
    "print(pred)"
   ]
  },
  {
   "cell_type": "code",
   "execution_count": 9,
   "id": "15110741",
   "metadata": {},
   "outputs": [
    {
     "name": "stdout",
     "output_type": "stream",
     "text": [
      "MSE 0.0505982585550232\n",
      "MAE 0.17935791860603884\n",
      "r2_score -0.5216467112883474\n"
     ]
    }
   ],
   "source": [
    "# mse , mae and r2_score values\n",
    "mae_value = mean_absolute_error(y_val, pred)\n",
    "mse_value = mean_squared_error(y_val, pred)\n",
    "r2_score_value = r2_score(y_val, pred)\n",
    "# Total error with mse , mae and r2_score\n",
    "print(f\"MSE {mse_value}\")\n",
    "print(f\"MAE {mae_value}\")\n",
    "print(f\"r2_score {r2_score_value}\")"
   ]
  },
  {
   "cell_type": "markdown",
   "id": "4c3ac75c",
   "metadata": {},
   "source": [
    "### Visulization"
   ]
  },
  {
   "cell_type": "code",
   "execution_count": 10,
   "id": "735b5040",
   "metadata": {},
   "outputs": [
    {
     "data": {
      "image/png": "[encoded data removed]",
      "text/plain": [
       "<Figure size 432x288 with 1 Axes>"
      ]
     },
     "metadata": {
      "needs_background": "light"
     },
     "output_type": "display_data"
    }
   ],
   "source": [
    "plt.plot(pred,color = 'Blue')\n",
    "plt.plot(y_val, color = 'red')\n",
    "plt.title(\"Decision Tree Regression Model\")\n",
    "plt.legend(['Predicted pH values', 'Actual pH Values'], loc='upper left')\n",
    "plt.xlabel('Number of samples')\n",
    "plt.ylabel('pH values')\n",
    "plt.savefig(\"DTRmodelForpHestimationUsingFormula.jpg\")"
   ]
  },
  {
   "cell_type": "code",
   "execution_count": null,
   "id": "1c5ebbbe",
   "metadata": {},
   "outputs": [],
   "source": []
  },
  {
   "cell_type": "code",
   "execution_count": null,
   "id": "4f4c7b6b",
   "metadata": {},
   "outputs": [],
   "source": []
  },
  {
   "cell_type": "code",
   "execution_count": null,
   "id": "47c19473",
   "metadata": {},
   "outputs": [],
   "source": []
  },
  {
   "cell_type": "code",
   "execution_count": null,
   "id": "dae53a08",
   "metadata": {},
   "outputs": [],
   "source": []
  },
  {
   "cell_type": "code",
   "execution_count": null,
   "id": "a8f0bfd1",
   "metadata": {},
   "outputs": [],
   "source": []
  },
  {
   "cell_type": "code",
   "execution_count": null,
   "id": "2abab865",
   "metadata": {},
   "outputs": [],
   "source": []
  },
  {
   "cell_type": "code",
   "execution_count": null,
   "id": "29a5a8ee",
   "metadata": {},
   "outputs": [],
   "source": []
  },
  {
   "cell_type": "code",
   "execution_count": null,
   "id": "34eb52fc",
   "metadata": {},
   "outputs": [],
   "source": []
  }
 ],
 "metadata": {
  "kernelspec": {
   "display_name": "Python 3 (ipykernel)",
   "language": "python",
   "name": "python3"
  },
  "language_info": {
   "codemirror_mode": {
    "name": "ipython",
    "version": 3
   },
   "file_extension": ".py",
   "mimetype": "text/x-python",
   "name": "python",
   "nbconvert_exporter": "python",
   "pygments_lexer": "ipython3",
   "version": "3.8.12"
  }
 },
 "nbformat": 4,
 "nbformat_minor": 5
}
