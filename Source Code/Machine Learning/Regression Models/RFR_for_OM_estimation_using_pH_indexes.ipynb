{
 "cells": [
  {
   "cell_type": "markdown",
   "id": "2f2bd941",
   "metadata": {},
   "source": [
    "### Libraries for dataset manipulation and visulization"
   ]
  },
  {
   "cell_type": "code",
   "execution_count": 1,
   "id": "bec3ab18",
   "metadata": {},
   "outputs": [],
   "source": [
    "import numpy as np\n",
    "import pandas as pd\n",
    "import matplotlib.pyplot as plt"
   ]
  },
  {
   "cell_type": "markdown",
   "id": "6a25f32e",
   "metadata": {},
   "source": [
    "### Dataset Loading"
   ]
  },
  {
   "cell_type": "code",
   "execution_count": 2,
   "id": "5e00c17d",
   "metadata": {},
   "outputs": [],
   "source": [
    "dataset = pd.read_csv('C:\\\\Users\\\\Mahmood Yousaf\\\\Desktop\\\\FYP\\\\Final-Year-Project-Soil-Analysis-using-machine-learning\\\\Extracted Features\\\\pH_Index_with_OM_value.csv')"
   ]
  },
  {
   "cell_type": "markdown",
   "id": "44d666b2",
   "metadata": {},
   "source": [
    "### Preprocessing on dataset"
   ]
  },
  {
   "cell_type": "code",
   "execution_count": 3,
   "id": "bef79ea3",
   "metadata": {},
   "outputs": [
    {
     "name": "stdout",
     "output_type": "stream",
     "text": [
      "[0.00703939 0.0073076  0.00680586 ... 0.00868003 0.0176074  0.01053636]\n",
      "[0.52 0.52 0.59 ... 0.6  0.5  0.5 ]\n"
     ]
    }
   ],
   "source": [
    "X = np.array(dataset['pH_Index'])\n",
    "Y = np.array(dataset['OM_Value'])\n",
    "print(X)\n",
    "print(Y)"
   ]
  },
  {
   "cell_type": "code",
   "execution_count": 4,
   "id": "dd2bed66",
   "metadata": {},
   "outputs": [
    {
     "name": "stdout",
     "output_type": "stream",
     "text": [
      "[[0.00703939]\n",
      " [0.0073076 ]\n",
      " [0.00680586]\n",
      " ...\n",
      " [0.00868003]\n",
      " [0.0176074 ]\n",
      " [0.01053636]] [[0.52]\n",
      " [0.52]\n",
      " [0.59]\n",
      " ...\n",
      " [0.6 ]\n",
      " [0.5 ]\n",
      " [0.5 ]]\n"
     ]
    }
   ],
   "source": [
    "X = X.reshape(len(X),1)\n",
    "Y = Y.reshape(len(Y),1)\n",
    "print(X,Y)"
   ]
  },
  {
   "cell_type": "markdown",
   "id": "c3db3d89",
   "metadata": {},
   "source": [
    "### DTR model training"
   ]
  },
  {
   "cell_type": "code",
   "execution_count": 5,
   "id": "70f6693c",
   "metadata": {},
   "outputs": [],
   "source": [
    "from sklearn.model_selection import train_test_split\n",
    "X_train, X_val, y_train, y_val = train_test_split(X, Y)"
   ]
  },
  {
   "cell_type": "code",
   "execution_count": 6,
   "id": "86107818",
   "metadata": {},
   "outputs": [
    {
     "name": "stderr",
     "output_type": "stream",
     "text": [
      "C:\\Users\\MAHMOO~1\\AppData\\Local\\Temp/ipykernel_11592/3513569335.py:6: DataConversionWarning: A column-vector y was passed when a 1d array was expected. Please change the shape of y to (n_samples,), for example using ravel().\n",
      "  regressor.fit(X_train,y_train)\n"
     ]
    },
    {
     "data": {
      "text/plain": [
       "RandomForestRegressor(n_estimators=50, random_state=0)"
      ]
     },
     "execution_count": 6,
     "metadata": {},
     "output_type": "execute_result"
    }
   ],
   "source": [
    "from sklearn.ensemble import RandomForestRegressor\n",
    "from sklearn.metrics import mean_absolute_error\n",
    "from sklearn.metrics import mean_squared_error\n",
    "from sklearn.metrics import r2_score\n",
    "regressor = RandomForestRegressor(n_estimators=50, random_state = 0)\n",
    "regressor.fit(X_train,y_train)"
   ]
  },
  {
   "cell_type": "markdown",
   "id": "eb96c339",
   "metadata": {},
   "source": [
    "### Prediction "
   ]
  },
  {
   "cell_type": "code",
   "execution_count": 7,
   "id": "b5264ee9",
   "metadata": {},
   "outputs": [
    {
     "name": "stdout",
     "output_type": "stream",
     "text": [
      "[0.4592]\n"
     ]
    }
   ],
   "source": [
    "prediction = regressor.predict([[500]])\n",
    "print(prediction)"
   ]
  },
  {
   "cell_type": "code",
   "execution_count": 8,
   "id": "7652decf",
   "metadata": {},
   "outputs": [
    {
     "name": "stdout",
     "output_type": "stream",
     "text": [
      "[0.432      0.4818     0.4202     0.407      0.596      0.3976\n",
      " 0.493      0.68159667 0.6042     0.5258     0.4502     0.4334\n",
      " 0.686      0.4688     0.514      0.46983333 0.4982     0.68159667\n",
      " 0.631      0.4262     0.49464762 0.4906     0.525      0.4404\n",
      " 0.612      0.4948     0.5748     0.4298     0.6744     0.6046\n",
      " 0.596      0.4598     0.56444    0.54883952 0.5046     0.5888\n",
      " 0.8996     0.446      0.5038     0.588      0.4862     0.6136\n",
      " 0.5188     0.5076     0.7776     0.3828     0.3976     0.5248\n",
      " 0.8082     0.6934     0.5378     0.4826     0.6664     0.4018\n",
      " 0.602      0.5844     0.4844     0.4994     0.5686     0.5084\n",
      " 0.5198     0.5132     0.4988     0.4056     0.4844     0.7776\n",
      " 0.5618     0.524      0.415      0.4558     0.5576     0.5828\n",
      " 0.623      0.4122     0.43134667 0.5902     0.4192     0.4684\n",
      " 0.7354     0.5396     0.5248     0.5932     0.5812     0.6968\n",
      " 0.672      0.4196     0.632      0.6384     0.4973     0.4558\n",
      " 0.656      0.4768     0.6025     0.5248     0.3672     0.3742\n",
      " 0.4826     0.4254     0.4742     0.4884     0.7652     0.4976\n",
      " 0.657      0.422      0.4892     0.5542     0.5132     0.4042\n",
      " 0.5354     0.597      0.4218     0.5976     0.624      0.446\n",
      " 0.4956     0.3258     0.6172     0.624      0.5948     0.6392\n",
      " 0.4982     0.5588     0.3608     0.7248     0.3636     0.4502\n",
      " 0.5206     0.602      0.556      0.4884     0.3222     0.4308\n",
      " 0.4724     0.446      0.5308     0.58       0.597      0.6434\n",
      " 0.5504     0.53471667 0.7006     0.5076     0.5922     0.5846\n",
      " 0.5972     0.363      0.5696     0.668      0.5084     0.4948\n",
      " 0.598      0.6452     0.72864667 0.4974     0.52335    0.509\n",
      " 0.7244     0.6268     0.568      0.51       0.4652     0.5644\n",
      " 0.3874     0.5998     0.4624     0.6152     0.5568     0.553\n",
      " 0.454      0.5086     0.578      0.5502     0.4712     0.5174\n",
      " 0.6136     0.6128     0.4624     0.4432     0.5154     0.3828\n",
      " 0.5618     0.672      0.668      0.5728     0.5184     0.5732\n",
      " 0.5588     0.5932     0.4636     0.4994     0.5568     0.4934\n",
      " 0.5048     0.53471667 0.408      0.612      0.6        0.211\n",
      " 0.4844     0.3978     0.492      0.4056     0.5728     0.4884\n",
      " 0.5856     0.5506     0.5588     0.4078     0.6202     0.51928\n",
      " 0.3152     0.5084     0.3874     0.4142     0.4202     0.4672\n",
      " 0.55       0.493      0.6202     0.4372     0.6864     0.4724\n",
      " 0.5432     0.4108     0.4202     0.7        0.4404     0.5595\n",
      " 0.5502     0.5954     0.4856     0.441      0.4862     0.4844\n",
      " 0.8996     0.4746     0.5132     0.5978     0.5204     0.4826\n",
      " 0.3638     0.5704     0.55792    0.5948     0.475      0.7354\n",
      " 0.4558     0.4142     0.54883952 0.5595     0.6046     0.537\n",
      " 0.4308     0.5498     0.4278     0.4534     0.5998     0.4042\n",
      " 0.48215    0.5354     0.5706     0.4306     0.4982     0.4096\n",
      " 0.623      0.3222    ]\n"
     ]
    }
   ],
   "source": [
    "pred = regressor.predict(X_val)\n",
    "print(pred)"
   ]
  },
  {
   "cell_type": "code",
   "execution_count": 9,
   "id": "c2e13401",
   "metadata": {},
   "outputs": [
    {
     "name": "stdout",
     "output_type": "stream",
     "text": [
      "MSE 0.08334381402319405\n",
      "MAE 0.14459929824561407\n",
      "r2_score -0.07405890995772713\n"
     ]
    }
   ],
   "source": [
    "# mse , mae and r2_score values\n",
    "mae_value = mean_absolute_error(y_val, pred)\n",
    "mse_value = mean_squared_error(y_val, pred)\n",
    "r2_score_value = r2_score(y_val, pred)\n",
    "# Total error with mse , mae and r2_score\n",
    "print(f\"MSE {mse_value}\")\n",
    "print(f\"MAE {mae_value}\")\n",
    "print(f\"r2_score {r2_score_value}\")"
   ]
  },
  {
   "cell_type": "markdown",
   "id": "4c3ac75c",
   "metadata": {},
   "source": [
    "### Visulization"
   ]
  },
  {
   "cell_type": "code",
   "execution_count": 10,
   "id": "735b5040",
   "metadata": {},
   "outputs": [
    {
     "data": {
      "image/png": "[encoded data removed]",
      "text/plain": [
       "<Figure size 432x288 with 1 Axes>"
      ]
     },
     "metadata": {
      "needs_background": "light"
     },
     "output_type": "display_data"
    }
   ],
   "source": [
    "plt.plot(pred,color = 'Blue')\n",
    "plt.plot(y_val, color = 'red')\n",
    "plt.title(\"Random Forest Regression Model For OM\")\n",
    "plt.legend(['Predicted OM values', 'Actual OM Values'], loc='upper left')\n",
    "plt.xlabel('Number of samples')\n",
    "plt.ylabel('OM values')\n",
    "plt.savefig(\"RFRmodelForOMestimationUsingpHIndexes.jpg\")"
   ]
  },
  {
   "cell_type": "code",
   "execution_count": 11,
   "id": "1c5ebbbe",
   "metadata": {},
   "outputs": [
    {
     "data": {
      "text/plain": [
       "-0.07405890995772713"
      ]
     },
     "execution_count": 11,
     "metadata": {},
     "output_type": "execute_result"
    }
   ],
   "source": [
    "from sklearn.metrics import r2_score\n",
    "r2_score(y_val,pred)"
   ]
  },
  {
   "cell_type": "code",
   "execution_count": 12,
   "id": "4f4c7b6b",
   "metadata": {},
   "outputs": [
    {
     "name": "stdout",
     "output_type": "stream",
     "text": [
      "[0.432      0.4818     0.4202     0.407      0.596      0.3976\n",
      " 0.493      0.68159667 0.6042     0.5258     0.4502     0.4334\n",
      " 0.686      0.4688     0.514      0.46983333 0.4982     0.68159667\n",
      " 0.631      0.4262     0.49464762 0.4906     0.525      0.4404\n",
      " 0.612      0.4948     0.5748     0.4298     0.6744     0.6046\n",
      " 0.596      0.4598     0.56444    0.54883952 0.5046     0.5888\n",
      " 0.8996     0.446      0.5038     0.588      0.4862     0.6136\n",
      " 0.5188     0.5076     0.7776     0.3828     0.3976     0.5248\n",
      " 0.8082     0.6934     0.5378     0.4826     0.6664     0.4018\n",
      " 0.602      0.5844     0.4844     0.4994     0.5686     0.5084\n",
      " 0.5198     0.5132     0.4988     0.4056     0.4844     0.7776\n",
      " 0.5618     0.524      0.415      0.4558     0.5576     0.5828\n",
      " 0.623      0.4122     0.43134667 0.5902     0.4192     0.4684\n",
      " 0.7354     0.5396     0.5248     0.5932     0.5812     0.6968\n",
      " 0.672      0.4196     0.632      0.6384     0.4973     0.4558\n",
      " 0.656      0.4768     0.6025     0.5248     0.3672     0.3742\n",
      " 0.4826     0.4254     0.4742     0.4884     0.7652     0.4976\n",
      " 0.657      0.422      0.4892     0.5542     0.5132     0.4042\n",
      " 0.5354     0.597      0.4218     0.5976     0.624      0.446\n",
      " 0.4956     0.3258     0.6172     0.624      0.5948     0.6392\n",
      " 0.4982     0.5588     0.3608     0.7248     0.3636     0.4502\n",
      " 0.5206     0.602      0.556      0.4884     0.3222     0.4308\n",
      " 0.4724     0.446      0.5308     0.58       0.597      0.6434\n",
      " 0.5504     0.53471667 0.7006     0.5076     0.5922     0.5846\n",
      " 0.5972     0.363      0.5696     0.668      0.5084     0.4948\n",
      " 0.598      0.6452     0.72864667 0.4974     0.52335    0.509\n",
      " 0.7244     0.6268     0.568      0.51       0.4652     0.5644\n",
      " 0.3874     0.5998     0.4624     0.6152     0.5568     0.553\n",
      " 0.454      0.5086     0.578      0.5502     0.4712     0.5174\n",
      " 0.6136     0.6128     0.4624     0.4432     0.5154     0.3828\n",
      " 0.5618     0.672      0.668      0.5728     0.5184     0.5732\n",
      " 0.5588     0.5932     0.4636     0.4994     0.5568     0.4934\n",
      " 0.5048     0.53471667 0.408      0.612      0.6        0.211\n",
      " 0.4844     0.3978     0.492      0.4056     0.5728     0.4884\n",
      " 0.5856     0.5506     0.5588     0.4078     0.6202     0.51928\n",
      " 0.3152     0.5084     0.3874     0.4142     0.4202     0.4672\n",
      " 0.55       0.493      0.6202     0.4372     0.6864     0.4724\n",
      " 0.5432     0.4108     0.4202     0.7        0.4404     0.5595\n",
      " 0.5502     0.5954     0.4856     0.441      0.4862     0.4844\n",
      " 0.8996     0.4746     0.5132     0.5978     0.5204     0.4826\n",
      " 0.3638     0.5704     0.55792    0.5948     0.475      0.7354\n",
      " 0.4558     0.4142     0.54883952 0.5595     0.6046     0.537\n",
      " 0.4308     0.5498     0.4278     0.4534     0.5998     0.4042\n",
      " 0.48215    0.5354     0.5706     0.4306     0.4982     0.4096\n",
      " 0.623      0.3222    ]\n"
     ]
    }
   ],
   "source": [
    "print(pred)"
   ]
  },
  {
   "cell_type": "code",
   "execution_count": 13,
   "id": "47c19473",
   "metadata": {},
   "outputs": [
    {
     "name": "stdout",
     "output_type": "stream",
     "text": [
      "[[0.38]\n",
      " [0.45]\n",
      " [0.6 ]\n",
      " [1.01]\n",
      " [0.6 ]\n",
      " [0.4 ]\n",
      " [0.5 ]\n",
      " [0.5 ]\n",
      " [0.78]\n",
      " [0.54]\n",
      " [0.57]\n",
      " [0.4 ]\n",
      " [0.4 ]\n",
      " [0.39]\n",
      " [0.3 ]\n",
      " [0.45]\n",
      " [0.5 ]\n",
      " [0.5 ]\n",
      " [4.4 ]\n",
      " [0.5 ]\n",
      " [0.72]\n",
      " [0.7 ]\n",
      " [0.52]\n",
      " [1.  ]\n",
      " [0.35]\n",
      " [0.5 ]\n",
      " [0.6 ]\n",
      " [0.6 ]\n",
      " [0.7 ]\n",
      " [0.6 ]\n",
      " [0.56]\n",
      " [0.3 ]\n",
      " [0.5 ]\n",
      " [0.56]\n",
      " [0.5 ]\n",
      " [0.5 ]\n",
      " [0.6 ]\n",
      " [0.26]\n",
      " [0.52]\n",
      " [0.62]\n",
      " [0.42]\n",
      " [0.4 ]\n",
      " [0.85]\n",
      " [0.45]\n",
      " [0.4 ]\n",
      " [0.6 ]\n",
      " [0.47]\n",
      " [0.26]\n",
      " [0.6 ]\n",
      " [0.57]\n",
      " [0.67]\n",
      " [0.4 ]\n",
      " [0.43]\n",
      " [0.3 ]\n",
      " [0.74]\n",
      " [0.43]\n",
      " [0.81]\n",
      " [0.62]\n",
      " [0.36]\n",
      " [0.5 ]\n",
      " [0.69]\n",
      " [0.5 ]\n",
      " [0.56]\n",
      " [0.5 ]\n",
      " [0.48]\n",
      " [0.4 ]\n",
      " [0.36]\n",
      " [0.5 ]\n",
      " [0.5 ]\n",
      " [0.52]\n",
      " [0.21]\n",
      " [0.83]\n",
      " [0.6 ]\n",
      " [0.7 ]\n",
      " [0.6 ]\n",
      " [0.5 ]\n",
      " [0.4 ]\n",
      " [0.49]\n",
      " [0.5 ]\n",
      " [0.78]\n",
      " [0.6 ]\n",
      " [0.72]\n",
      " [0.67]\n",
      " [0.5 ]\n",
      " [0.4 ]\n",
      " [0.67]\n",
      " [0.36]\n",
      " [0.81]\n",
      " [0.6 ]\n",
      " [0.4 ]\n",
      " [0.78]\n",
      " [0.47]\n",
      " [0.47]\n",
      " [0.6 ]\n",
      " [0.3 ]\n",
      " [0.4 ]\n",
      " [0.4 ]\n",
      " [0.5 ]\n",
      " [0.5 ]\n",
      " [0.26]\n",
      " [0.41]\n",
      " [0.61]\n",
      " [0.81]\n",
      " [0.4 ]\n",
      " [0.5 ]\n",
      " [0.5 ]\n",
      " [0.4 ]\n",
      " [0.47]\n",
      " [0.4 ]\n",
      " [0.6 ]\n",
      " [0.3 ]\n",
      " [0.54]\n",
      " [0.26]\n",
      " [0.77]\n",
      " [0.48]\n",
      " [0.3 ]\n",
      " [0.6 ]\n",
      " [0.6 ]\n",
      " [0.43]\n",
      " [0.7 ]\n",
      " [0.54]\n",
      " [0.62]\n",
      " [0.62]\n",
      " [0.3 ]\n",
      " [0.3 ]\n",
      " [0.47]\n",
      " [0.45]\n",
      " [0.83]\n",
      " [0.5 ]\n",
      " [0.36]\n",
      " [0.5 ]\n",
      " [0.4 ]\n",
      " [0.6 ]\n",
      " [0.54]\n",
      " [0.83]\n",
      " [0.56]\n",
      " [0.41]\n",
      " [0.5 ]\n",
      " [0.5 ]\n",
      " [0.47]\n",
      " [0.38]\n",
      " [0.36]\n",
      " [0.26]\n",
      " [0.88]\n",
      " [0.26]\n",
      " [0.5 ]\n",
      " [0.4 ]\n",
      " [0.5 ]\n",
      " [0.58]\n",
      " [0.5 ]\n",
      " [0.55]\n",
      " [0.47]\n",
      " [0.57]\n",
      " [0.5 ]\n",
      " [0.76]\n",
      " [0.5 ]\n",
      " [0.2 ]\n",
      " [0.4 ]\n",
      " [0.46]\n",
      " [0.53]\n",
      " [0.64]\n",
      " [0.51]\n",
      " [0.6 ]\n",
      " [0.5 ]\n",
      " [0.5 ]\n",
      " [0.7 ]\n",
      " [0.6 ]\n",
      " [0.6 ]\n",
      " [0.4 ]\n",
      " [0.52]\n",
      " [0.42]\n",
      " [0.62]\n",
      " [0.49]\n",
      " [0.6 ]\n",
      " [0.4 ]\n",
      " [0.2 ]\n",
      " [0.48]\n",
      " [0.4 ]\n",
      " [0.53]\n",
      " [0.6 ]\n",
      " [0.31]\n",
      " [0.4 ]\n",
      " [0.5 ]\n",
      " [0.6 ]\n",
      " [0.5 ]\n",
      " [0.59]\n",
      " [0.5 ]\n",
      " [0.26]\n",
      " [0.41]\n",
      " [0.52]\n",
      " [0.52]\n",
      " [0.4 ]\n",
      " [0.36]\n",
      " [0.5 ]\n",
      " [0.4 ]\n",
      " [0.75]\n",
      " [0.31]\n",
      " [0.67]\n",
      " [0.72]\n",
      " [0.5 ]\n",
      " [0.4 ]\n",
      " [0.5 ]\n",
      " [0.44]\n",
      " [0.26]\n",
      " [0.62]\n",
      " [0.5 ]\n",
      " [0.65]\n",
      " [0.3 ]\n",
      " [0.78]\n",
      " [0.67]\n",
      " [0.2 ]\n",
      " [0.49]\n",
      " [0.7 ]\n",
      " [0.67]\n",
      " [0.4 ]\n",
      " [0.41]\n",
      " [0.55]\n",
      " [0.52]\n",
      " [0.5 ]\n",
      " [0.26]\n",
      " [0.5 ]\n",
      " [0.55]\n",
      " [0.78]\n",
      " [0.52]\n",
      " [0.6 ]\n",
      " [0.83]\n",
      " [0.55]\n",
      " [0.6 ]\n",
      " [0.5 ]\n",
      " [0.36]\n",
      " [0.3 ]\n",
      " [0.47]\n",
      " [0.57]\n",
      " [0.26]\n",
      " [0.6 ]\n",
      " [0.5 ]\n",
      " [0.34]\n",
      " [0.52]\n",
      " [0.71]\n",
      " [0.4 ]\n",
      " [0.88]\n",
      " [0.47]\n",
      " [0.5 ]\n",
      " [0.6 ]\n",
      " [0.67]\n",
      " [0.41]\n",
      " [0.52]\n",
      " [0.78]\n",
      " [0.7 ]\n",
      " [0.31]\n",
      " [0.48]\n",
      " [0.47]\n",
      " [0.4 ]\n",
      " [0.6 ]\n",
      " [0.47]\n",
      " [0.54]\n",
      " [0.5 ]\n",
      " [0.5 ]\n",
      " [0.5 ]\n",
      " [0.67]\n",
      " [0.46]\n",
      " [0.4 ]\n",
      " [0.5 ]\n",
      " [0.5 ]\n",
      " [0.49]\n",
      " [0.5 ]]\n"
     ]
    }
   ],
   "source": [
    "print(y_val)"
   ]
  },
  {
   "cell_type": "code",
   "execution_count": null,
   "id": "dae53a08",
   "metadata": {},
   "outputs": [],
   "source": []
  },
  {
   "cell_type": "code",
   "execution_count": null,
   "id": "a8f0bfd1",
   "metadata": {},
   "outputs": [],
   "source": []
  },
  {
   "cell_type": "code",
   "execution_count": null,
   "id": "2abab865",
   "metadata": {},
   "outputs": [],
   "source": []
  },
  {
   "cell_type": "code",
   "execution_count": null,
   "id": "b293a827",
   "metadata": {},
   "outputs": [],
   "source": []
  },
  {
   "cell_type": "code",
   "execution_count": null,
   "id": "b80ac50d",
   "metadata": {},
   "outputs": [],
   "source": []
  },
  {
   "cell_type": "code",
   "execution_count": null,
   "id": "b6b38bd1",
   "metadata": {},
   "outputs": [],
   "source": []
  },
  {
   "cell_type": "code",
   "execution_count": null,
   "id": "4be7e770",
   "metadata": {},
   "outputs": [],
   "source": []
  },
  {
   "cell_type": "code",
   "execution_count": null,
   "id": "508a3350",
   "metadata": {},
   "outputs": [],
   "source": []
  },
  {
   "cell_type": "code",
   "execution_count": null,
   "id": "93069b59",
   "metadata": {},
   "outputs": [],
   "source": []
  }
 ],
 "metadata": {
  "kernelspec": {
   "display_name": "Python 3 (ipykernel)",
   "language": "python",
   "name": "python3"
  },
  "language_info": {
   "codemirror_mode": {
    "name": "ipython",
    "version": 3
   },
   "file_extension": ".py",
   "mimetype": "text/x-python",
   "name": "python",
   "nbconvert_exporter": "python",
   "pygments_lexer": "ipython3",
   "version": "3.8.12"
  }
 },
 "nbformat": 4,
 "nbformat_minor": 5
}
