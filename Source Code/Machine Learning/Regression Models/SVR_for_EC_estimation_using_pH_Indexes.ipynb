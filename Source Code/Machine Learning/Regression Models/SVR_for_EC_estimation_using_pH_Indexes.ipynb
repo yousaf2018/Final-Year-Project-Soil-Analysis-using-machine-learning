{
 "cells": [
  {
   "cell_type": "markdown",
   "id": "2f2bd941",
   "metadata": {},
   "source": [
    "### Libraries for dataset manipulation and visulization"
   ]
  },
  {
   "cell_type": "code",
   "execution_count": 1,
   "id": "bec3ab18",
   "metadata": {},
   "outputs": [],
   "source": [
    "import numpy as np\n",
    "import pandas as pd\n",
    "import matplotlib.pyplot as plt"
   ]
  },
  {
   "cell_type": "markdown",
   "id": "6a25f32e",
   "metadata": {},
   "source": [
    "### Dataset Loading"
   ]
  },
  {
   "cell_type": "code",
   "execution_count": 2,
   "id": "5e00c17d",
   "metadata": {},
   "outputs": [],
   "source": [
    "dataset = pd.read_csv('C:\\\\Users\\\\Mahmood Yousaf\\\\Desktop\\\\FYP\\\\Final-Year-Project-Soil-Analysis-using-machine-learning\\\\Extracted Features\\\\pH_Index_with_EC_value.csv')"
   ]
  },
  {
   "cell_type": "markdown",
   "id": "44d666b2",
   "metadata": {},
   "source": [
    "### Preprocessing on dataset"
   ]
  },
  {
   "cell_type": "code",
   "execution_count": 3,
   "id": "bef79ea3",
   "metadata": {},
   "outputs": [
    {
     "name": "stdout",
     "output_type": "stream",
     "text": [
      "[0.00703939 0.0073076  0.00680586 ... 0.00868003 0.0176074  0.01053636]\n",
      "[0.54 0.54 0.55 ... 1.1  0.45 0.45]\n"
     ]
    }
   ],
   "source": [
    "X = np.array(dataset['pH_Index'])\n",
    "Y = np.array(dataset['EC_Value'])\n",
    "print(X)\n",
    "print(Y)"
   ]
  },
  {
   "cell_type": "code",
   "execution_count": 4,
   "id": "dd2bed66",
   "metadata": {},
   "outputs": [
    {
     "name": "stdout",
     "output_type": "stream",
     "text": [
      "[[0.00703939]\n",
      " [0.0073076 ]\n",
      " [0.00680586]\n",
      " ...\n",
      " [0.00868003]\n",
      " [0.0176074 ]\n",
      " [0.01053636]] [[0.54]\n",
      " [0.54]\n",
      " [0.55]\n",
      " ...\n",
      " [1.1 ]\n",
      " [0.45]\n",
      " [0.45]]\n"
     ]
    }
   ],
   "source": [
    "X = X.reshape(len(X),1)\n",
    "Y = Y.reshape(len(Y),1)\n",
    "print(X,Y)\n",
    "from sklearn.model_selection import train_test_split\n",
    "X_train, X_val, y_train, y_val = train_test_split(X, Y)"
   ]
  },
  {
   "cell_type": "markdown",
   "id": "d59a3685",
   "metadata": {},
   "source": [
    "### Standardization of input and output label"
   ]
  },
  {
   "cell_type": "code",
   "execution_count": 5,
   "id": "d4bcb7a5",
   "metadata": {},
   "outputs": [],
   "source": [
    "from sklearn.preprocessing import StandardScaler\n",
    "sc_X = StandardScaler()\n",
    "sc_Y = StandardScaler()\n",
    "X_train = sc_X.fit_transform(X_train)\n",
    "y_train = sc_Y.fit_transform(y_train)\n",
    "X_val = sc_X.fit_transform(X_val)"
   ]
  },
  {
   "cell_type": "markdown",
   "id": "c3db3d89",
   "metadata": {},
   "source": [
    "### SVR model training"
   ]
  },
  {
   "cell_type": "code",
   "execution_count": 6,
   "id": "70f6693c",
   "metadata": {},
   "outputs": [
    {
     "name": "stderr",
     "output_type": "stream",
     "text": [
      "C:\\Users\\Mahmood Yousaf\\.conda\\envs\\gpuEnv\\lib\\site-packages\\sklearn\\utils\\validation.py:985: DataConversionWarning: A column-vector y was passed when a 1d array was expected. Please change the shape of y to (n_samples, ), for example using ravel().\n",
      "  y = column_or_1d(y, warn=True)\n"
     ]
    },
    {
     "data": {
      "text/plain": [
       "SVR()"
      ]
     },
     "execution_count": 6,
     "metadata": {},
     "output_type": "execute_result"
    }
   ],
   "source": [
    "from sklearn.svm import SVR\n",
    "from sklearn.metrics import mean_absolute_error\n",
    "from sklearn.metrics import mean_squared_error\n",
    "from sklearn.metrics import r2_score\n",
    "regressor = SVR(kernel = 'rbf')\n",
    "regressor.fit(X_train,y_train)"
   ]
  },
  {
   "cell_type": "markdown",
   "id": "eb96c339",
   "metadata": {},
   "source": [
    "### Prediction "
   ]
  },
  {
   "cell_type": "code",
   "execution_count": 7,
   "id": "b5264ee9",
   "metadata": {},
   "outputs": [],
   "source": [
    "prediction = regressor.predict(X_val)"
   ]
  },
  {
   "cell_type": "code",
   "execution_count": 8,
   "id": "7652decf",
   "metadata": {},
   "outputs": [],
   "source": [
    "prediction = prediction.reshape(len(prediction),1)\n",
    "prediction = sc_Y.inverse_transform(prediction)"
   ]
  },
  {
   "cell_type": "code",
   "execution_count": 9,
   "id": "d721d217",
   "metadata": {},
   "outputs": [
    {
     "name": "stdout",
     "output_type": "stream",
     "text": [
      "MSE 1.9302756365857006\n",
      "MAE 0.5356156040157355\n",
      "r2_score -0.004719214741611744\n"
     ]
    }
   ],
   "source": [
    "# mse , mae and r2_score values\n",
    "mae_value = mean_absolute_error(y_val, prediction)\n",
    "mse_value = mean_squared_error(y_val, prediction)\n",
    "r2_score_value = r2_score(y_val, prediction)\n",
    "# Total error with mse , mae and r2_score\n",
    "print(f\"MSE {mse_value}\")\n",
    "print(f\"MAE {mae_value}\")\n",
    "print(f\"r2_score {r2_score_value}\")"
   ]
  },
  {
   "cell_type": "markdown",
   "id": "4c3ac75c",
   "metadata": {},
   "source": [
    "### Visulization"
   ]
  },
  {
   "cell_type": "code",
   "execution_count": 10,
   "id": "735b5040",
   "metadata": {},
   "outputs": [
    {
     "data": {
      "image/png": "[encoded data removed]",
      "text/plain": [
       "<Figure size 432x288 with 1 Axes>"
      ]
     },
     "metadata": {
      "needs_background": "light"
     },
     "output_type": "display_data"
    }
   ],
   "source": [
    "plt.plot(prediction,color = 'Blue')\n",
    "plt.plot(y_val, color = 'red')\n",
    "plt.title(\"Support Vector Regression Model for EC\")\n",
    "plt.legend(['Predicted EC values', 'Actual EC Values'], loc='upper left')\n",
    "plt.xlabel('Number of samples')\n",
    "plt.ylabel('EC values')\n",
    "plt.savefig(\"SVRmodelForECestimationUsingpHIndexes.jpg\")"
   ]
  },
  {
   "cell_type": "code",
   "execution_count": null,
   "id": "1c5ebbbe",
   "metadata": {},
   "outputs": [],
   "source": []
  },
  {
   "cell_type": "code",
   "execution_count": null,
   "id": "f43c8771",
   "metadata": {},
   "outputs": [],
   "source": []
  },
  {
   "cell_type": "code",
   "execution_count": null,
   "id": "f5e3eafc",
   "metadata": {},
   "outputs": [],
   "source": []
  },
  {
   "cell_type": "code",
   "execution_count": null,
   "id": "9e274189",
   "metadata": {},
   "outputs": [],
   "source": []
  },
  {
   "cell_type": "code",
   "execution_count": null,
   "id": "e9c78d20",
   "metadata": {},
   "outputs": [],
   "source": []
  }
 ],
 "metadata": {
  "kernelspec": {
   "display_name": "Python 3 (ipykernel)",
   "language": "python",
   "name": "python3"
  },
  "language_info": {
   "codemirror_mode": {
    "name": "ipython",
    "version": 3
   },
   "file_extension": ".py",
   "mimetype": "text/x-python",
   "name": "python",
   "nbconvert_exporter": "python",
   "pygments_lexer": "ipython3",
   "version": "3.8.12"
  }
 },
 "nbformat": 4,
 "nbformat_minor": 5
}
