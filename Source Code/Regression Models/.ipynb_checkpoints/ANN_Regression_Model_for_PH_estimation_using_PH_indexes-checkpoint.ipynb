{
 "cells": [
  {
   "cell_type": "code",
   "execution_count": 3,
   "id": "59a2ca92",
   "metadata": {},
   "outputs": [],
   "source": [
    "import numpy as np\n",
    "import pandas as pd\n",
    "import cv2\n",
    "import os \n",
    "import fnmatch"
   ]
  },
  {
   "cell_type": "code",
   "execution_count": null,
   "id": "5dae601a",
   "metadata": {},
   "outputs": [],
   "source": [
    "#Reading data lab tested data in csv\n",
    "Lab_tested_data = pd.read_csv('C:\\\\Users\\\\Mahmood Yousaf\\\\Desktop\\\\FYP\\\\Final-Year-Project-Soil-Analysis-using-machine-learning\\\\Lab Results\\\\Lab_tested_results.csv')"
   ]
  },
  {
   "cell_type": "code",
   "execution_count": null,
   "id": "bb892ca3",
   "metadata": {},
   "outputs": [],
   "source": [
    "#Getting sample id for images and PH values against each image\n",
    "Sample_ID = Lab_tested_data.iloc[:,0]\n",
    "pH_Value = Lab_tested_data.iloc[:,2]\n",
    "print(pH_Value)"
   ]
  },
  {
   "cell_type": "code",
   "execution_count": null,
   "id": "afaa19c1",
   "metadata": {},
   "outputs": [],
   "source": [
    "def load_images_from_folder(folder):\n",
    "    Labels = []\n",
    "    image_counter = 0\n",
    "    for filename in os.listdir(folder):\n",
    "        x = filename.split(\"_\")\n",
    "        id = float(x[0])\n",
    "        img = cv2.imread(os.path.join(folder,filename))\n",
    "        width = 1000\n",
    "        height = 1000\n",
    "        dim = (width, height)\n",
    "        # resize image\n",
    "        img = cv2.resize(img, dim, interpolation = cv2.INTER_AREA)\n",
    "        img = img[500:800,500:800] #Resizing the image\n",
    "        kernel = np.array([[-1,-1,-1], \n",
    "                   [-1, 9,-1],\n",
    "                   [-1,-1,-1]])\n",
    "        img = cv2.filter2D(img, -1, kernel) # applying the sharpening kernel.\n",
    "        Result = Sample_ID.isin([id])\n",
    "        Result = Sample_ID[Result]\n",
    "        #Checking that there should be sample id exists\n",
    "        if len(Result) >= 1:\n",
    "            print(image_counter)\n",
    "            image_counter = image_counter + 1\n",
    "            #Checking for outer and inner surface values\n",
    "            if len(Result) == 2:  \n",
    "                Result = Sample_ID[Sample_ID==Result.iloc[1]].index.tolist()\n",
    "                Id_1_index = Result[0]\n",
    "                Id_2_index = Result[1]\n",
    "                #Average of both inner and surface image soil result \n",
    "                avg_pH_lab_value = (pH_Value[Id_2_index] + pH_Value[Id_2_index]) / 2\n",
    "                Labels.append([filename,img,avg_pH_lab_value])\n",
    "            #Checking only value can also be possible \n",
    "            elif len(Result==1):\n",
    "                Result = Sample_ID[Sample_ID==Result.iloc[1]].index.tolist()\n",
    "                Id_1_index = Result[0]\n",
    "                pH_lab_value = pH_Value[Id_1_index]\n",
    "                Labels.append([filename,img,pH_lab_value])\n",
    "        #Checking there is no mactch than continue the looping \n",
    "        else:\n",
    "            continue\n",
    "    return Labels"
   ]
  },
  {
   "cell_type": "code",
   "execution_count": null,
   "id": "347046a8",
   "metadata": {},
   "outputs": [],
   "source": [
    "dataset = load_images_from_folder('C:\\\\Users\\\\Mahmood Yousaf\\\\Desktop\\\\FYP\\\\Dataset RGB\\\\training_data')"
   ]
  },
  {
   "cell_type": "code",
   "execution_count": null,
   "id": "a1081fce",
   "metadata": {},
   "outputs": [],
   "source": [
    "Ph_index = []\n",
    "for data in dataset:\n",
    "    image = data[1]\n",
    "    # extracting blue,red,green channel from color image\n",
    "    blue_channel = image[:,:,0]\n",
    "    green_channel = image[:,:,1]\n",
    "    red_channel = image[:,:,2]\n",
    "    temp = (np.average(red_channel)/np.average(green_channel))/np.average(blue_channel)\n",
    "    temp = np.nanmean(temp)\n",
    "    print(temp)\n",
    "    Ph_index.append([temp,data[2]])"
   ]
  },
  {
   "cell_type": "code",
   "execution_count": null,
   "id": "658186cc",
   "metadata": {},
   "outputs": [],
   "source": [
    "data1 = pd.DataFrame(Ph_index,columns=['PH_Index','PH_Value'])"
   ]
  },
  {
   "cell_type": "code",
   "execution_count": null,
   "id": "49c62118",
   "metadata": {},
   "outputs": [],
   "source": [
    "data1.to_csv(\"Ph_Index_with_Ph_value.csv\")\n",
    "\n",
    "print(data1)"
   ]
  },
  {
   "cell_type": "code",
   "execution_count": 4,
   "id": "9ac00c9d",
   "metadata": {},
   "outputs": [],
   "source": [
    "data1 = pd.read_csv('C:\\\\Users\\\\Mahmood Yousaf\\\\Desktop\\\\FYP\\\\Final-Year-Project-Soil-Analysis-using-machine-learning\\\\Extracted Features\\\\Ph_Index_with_Ph_value.csv')"
   ]
  },
  {
   "cell_type": "code",
   "execution_count": 5,
   "id": "cd5486df",
   "metadata": {},
   "outputs": [
    {
     "name": "stdout",
     "output_type": "stream",
     "text": [
      "0       0.007039\n",
      "1       0.007308\n",
      "2       0.006806\n",
      "3       0.006358\n",
      "4       0.006373\n",
      "          ...   \n",
      "1059    0.009682\n",
      "1060    0.010652\n",
      "1061    0.008680\n",
      "1062    0.017607\n",
      "1063    0.010536\n",
      "Name: PH_Index, Length: 1064, dtype: float64\n"
     ]
    }
   ],
   "source": [
    "Ph_index = data1.iloc[:,1]\n",
    "print(Ph_index)"
   ]
  },
  {
   "cell_type": "code",
   "execution_count": 6,
   "id": "0b7b910d",
   "metadata": {},
   "outputs": [
    {
     "name": "stdout",
     "output_type": "stream",
     "text": [
      "0       7.9\n",
      "1       7.9\n",
      "2       7.9\n",
      "3       7.9\n",
      "4       7.7\n",
      "       ... \n",
      "1059    7.9\n",
      "1060    7.7\n",
      "1061    7.7\n",
      "1062    7.7\n",
      "1063    7.7\n",
      "Name: PH_Value, Length: 1064, dtype: float64\n"
     ]
    }
   ],
   "source": [
    "Ph_value = data1.iloc[:,2]\n",
    "print(Ph_value)"
   ]
  },
  {
   "cell_type": "code",
   "execution_count": null,
   "id": "d0e9f78b",
   "metadata": {},
   "outputs": [],
   "source": []
  },
  {
   "cell_type": "code",
   "execution_count": 7,
   "id": "6843fffb",
   "metadata": {},
   "outputs": [],
   "source": [
    "import math\n",
    "import matplotlib.pyplot as plt\n",
    "import numpy as np\n",
    "from numpy.random import seed\n",
    "seed(1)\n",
    "import pandas as pd\n",
    "import tensorflow\n",
    "tensorflow.random.set_seed(1)\n",
    "from tensorflow.python.keras.layers import Dense\n",
    "from tensorflow.keras.layers import Dropout\n",
    "from tensorflow.python.keras.models import Sequential\n",
    "from tensorflow.python.keras.wrappers.scikit_learn import KerasRegressor\n",
    "from sklearn.metrics import mean_absolute_error\n",
    "from sklearn.metrics import mean_squared_error\n",
    "from sklearn.metrics import r2_score\n",
    "from sklearn.model_selection import train_test_split\n",
    "from sklearn.preprocessing import MinMaxScaler\n"
   ]
  },
  {
   "cell_type": "code",
   "execution_count": 8,
   "id": "b3c7da86",
   "metadata": {},
   "outputs": [],
   "source": [
    "#Output variable or Tested\n",
    "y1 = np.array(Ph_value)"
   ]
  },
  {
   "cell_type": "code",
   "execution_count": 9,
   "id": "ee0be940",
   "metadata": {},
   "outputs": [],
   "source": [
    "#Input featuree\n",
    "x1 = np.array(Ph_index)"
   ]
  },
  {
   "cell_type": "code",
   "execution_count": 10,
   "id": "89c85ae4",
   "metadata": {},
   "outputs": [],
   "source": [
    "X_train, X_val, y_train, y_val = train_test_split(x1, y1)"
   ]
  },
  {
   "cell_type": "code",
   "execution_count": 11,
   "id": "85e7004b",
   "metadata": {},
   "outputs": [
    {
     "name": "stdout",
     "output_type": "stream",
     "text": [
      "Model: \"sequential\"\n",
      "_________________________________________________________________\n",
      "Layer (type)                 Output Shape              Param #   \n",
      "=================================================================\n",
      "dense (Dense)                (None, 128)               256       \n",
      "_________________________________________________________________\n",
      "dense_1 (Dense)              (None, 256)               33024     \n",
      "_________________________________________________________________\n",
      "dense_2 (Dense)              (None, 512)               131584    \n",
      "_________________________________________________________________\n",
      "dense_3 (Dense)              (None, 256)               131328    \n",
      "_________________________________________________________________\n",
      "dense_4 (Dense)              (None, 1)                 257       \n",
      "=================================================================\n",
      "Total params: 296,449\n",
      "Trainable params: 296,449\n",
      "Non-trainable params: 0\n",
      "_________________________________________________________________\n"
     ]
    }
   ],
   "source": [
    "model = Sequential()\n",
    "\n",
    "#Input layer\n",
    "model.add(Dense(128, kernel_initializer='normal',input_dim = 1, activation='relu'))\n",
    "\n",
    "#Hidden layers\n",
    "model.add(Dense(256, kernel_initializer='normal',activation='relu'))\n",
    "model.add(Dense(512, kernel_initializer='normal',activation='relu'))\n",
    "model.add(Dense(256, kernel_initializer='normal',activation='relu'))\n",
    "\n",
    "#Output layer\n",
    "model.add(Dense(1, kernel_initializer='normal',activation='linear'))\n",
    "\n",
    "#Network compilation\n",
    "model.compile(loss='mean_absolute_error', optimizer='adam', metrics=['mean_absolute_error'])\n",
    "model.summary()"
   ]
  },
  {
   "cell_type": "code",
   "execution_count": 12,
   "id": "7debf1e8",
   "metadata": {},
   "outputs": [
    {
     "name": "stdout",
     "output_type": "stream",
     "text": [
      "Epoch 1/50\n",
      "5/5 [==============================] - 1s 35ms/step - loss: 61.0296 - mse: 61.0296 - mae: 7.8101 - val_loss: 59.6652 - val_mse: 59.6652 - val_mae: 7.7227\n",
      "Epoch 2/50\n",
      "5/5 [==============================] - 0s 9ms/step - loss: 59.4356 - mse: 59.4356 - mae: 7.7073 - val_loss: 56.7175 - val_mse: 56.7175 - val_mae: 7.5294\n",
      "Epoch 3/50\n",
      "5/5 [==============================] - 0s 8ms/step - loss: 55.3877 - mse: 55.3877 - mae: 7.4396 - val_loss: 49.8725 - val_mse: 49.8725 - val_mae: 7.0602\n",
      "Epoch 4/50\n",
      "5/5 [==============================] - 0s 8ms/step - loss: 46.4825 - mse: 46.4825 - mae: 6.8119 - val_loss: 36.1762 - val_mse: 36.1762 - val_mae: 6.0125\n",
      "Epoch 5/50\n",
      "5/5 [==============================] - 0s 9ms/step - loss: 29.9254 - mse: 29.9254 - mae: 5.4458 - val_loss: 14.6627 - val_mse: 14.6627 - val_mae: 3.8258\n",
      "Epoch 6/50\n",
      "5/5 [==============================] - 0s 9ms/step - loss: 8.0846 - mse: 8.0846 - mae: 2.6787 - val_loss: 0.0871 - val_mse: 0.0871 - val_mae: 0.2573\n",
      "Epoch 7/50\n",
      "5/5 [==============================] - 0s 8ms/step - loss: 3.1759 - mse: 3.1759 - mae: 1.5402 - val_loss: 7.1049 - val_mse: 7.1049 - val_mae: 2.6606\n",
      "Epoch 8/50\n",
      "5/5 [==============================] - 0s 9ms/step - loss: 4.3030 - mse: 4.3030 - mae: 2.0014 - val_loss: 0.1999 - val_mse: 0.1999 - val_mae: 0.4170\n",
      "Epoch 9/50\n",
      "5/5 [==============================] - 0s 8ms/step - loss: 0.3223 - mse: 0.3223 - mae: 0.4808 - val_loss: 1.3879 - val_mse: 1.3879 - val_mae: 1.1670\n",
      "Epoch 10/50\n",
      "5/5 [==============================] - 0s 9ms/step - loss: 1.7120 - mse: 1.7120 - mae: 1.2951 - val_loss: 1.2874 - val_mse: 1.2874 - val_mae: 1.1232\n",
      "Epoch 11/50\n",
      "5/5 [==============================] - 0s 8ms/step - loss: 0.8390 - mse: 0.8390 - mae: 0.8683 - val_loss: 0.0426 - val_mse: 0.0426 - val_mae: 0.1665\n",
      "Epoch 12/50\n",
      "5/5 [==============================] - 0s 9ms/step - loss: 0.1264 - mse: 0.1264 - mae: 0.2939 - val_loss: 0.4829 - val_mse: 0.4829 - val_mae: 0.6759\n",
      "Epoch 13/50\n",
      "5/5 [==============================] - 0s 9ms/step - loss: 0.4342 - mse: 0.4342 - mae: 0.6329 - val_loss: 0.1988 - val_mse: 0.1988 - val_mae: 0.4157\n",
      "Epoch 14/50\n",
      "5/5 [==============================] - 0s 8ms/step - loss: 0.0826 - mse: 0.0826 - mae: 0.2339 - val_loss: 0.0562 - val_mse: 0.0562 - val_mae: 0.1948\n",
      "Epoch 15/50\n",
      "5/5 [==============================] - 0s 9ms/step - loss: 0.1224 - mse: 0.1224 - mae: 0.3052 - val_loss: 0.1177 - val_mse: 0.1177 - val_mae: 0.3071\n",
      "Epoch 16/50\n",
      "5/5 [==============================] - 0s 8ms/step - loss: 0.1013 - mse: 0.1013 - mae: 0.2717 - val_loss: 0.0260 - val_mse: 0.0260 - val_mae: 0.1290\n",
      "Epoch 17/50\n",
      "5/5 [==============================] - 0s 8ms/step - loss: 0.0403 - mse: 0.0403 - mae: 0.1594 - val_loss: 0.0753 - val_mse: 0.0753 - val_mae: 0.2343\n",
      "Epoch 18/50\n",
      "5/5 [==============================] - 0s 9ms/step - loss: 0.0633 - mse: 0.0633 - mae: 0.2059 - val_loss: 0.0406 - val_mse: 0.0406 - val_mae: 0.1608\n",
      "Epoch 19/50\n",
      "5/5 [==============================] - 0s 8ms/step - loss: 0.0361 - mse: 0.0361 - mae: 0.1533 - val_loss: 0.0289 - val_mse: 0.0289 - val_mae: 0.1370\n",
      "Epoch 20/50\n",
      "5/5 [==============================] - 0s 8ms/step - loss: 0.0403 - mse: 0.0403 - mae: 0.1636 - val_loss: 0.0274 - val_mse: 0.0274 - val_mae: 0.1342\n",
      "Epoch 21/50\n",
      "5/5 [==============================] - 0s 9ms/step - loss: 0.0336 - mse: 0.0336 - mae: 0.1481 - val_loss: 0.0293 - val_mse: 0.0293 - val_mae: 0.1392\n",
      "Epoch 22/50\n",
      "5/5 [==============================] - 0s 8ms/step - loss: 0.0329 - mse: 0.0329 - mae: 0.1461 - val_loss: 0.0321 - val_mse: 0.0321 - val_mae: 0.1446\n",
      "Epoch 23/50\n",
      "5/5 [==============================] - 0s 8ms/step - loss: 0.0326 - mse: 0.0326 - mae: 0.1459 - val_loss: 0.0269 - val_mse: 0.0269 - val_mae: 0.1321\n",
      "Epoch 24/50\n",
      "5/5 [==============================] - 0s 8ms/step - loss: 0.0321 - mse: 0.0321 - mae: 0.1427 - val_loss: 0.0260 - val_mse: 0.0260 - val_mae: 0.1281\n",
      "Epoch 25/50\n",
      "5/5 [==============================] - 0s 8ms/step - loss: 0.0322 - mse: 0.0322 - mae: 0.1432 - val_loss: 0.0268 - val_mse: 0.0268 - val_mae: 0.1317\n",
      "Epoch 26/50\n",
      "5/5 [==============================] - 0s 8ms/step - loss: 0.0314 - mse: 0.0314 - mae: 0.1431 - val_loss: 0.0279 - val_mse: 0.0279 - val_mae: 0.1353\n",
      "Epoch 27/50\n",
      "5/5 [==============================] - 0s 9ms/step - loss: 0.0317 - mse: 0.0317 - mae: 0.1441 - val_loss: 0.0277 - val_mse: 0.0277 - val_mae: 0.1349\n",
      "Epoch 28/50\n",
      "5/5 [==============================] - 0s 9ms/step - loss: 0.0315 - mse: 0.0315 - mae: 0.1435 - val_loss: 0.0268 - val_mse: 0.0268 - val_mae: 0.1315\n",
      "Epoch 29/50\n",
      "5/5 [==============================] - 0s 9ms/step - loss: 0.0315 - mse: 0.0315 - mae: 0.1424 - val_loss: 0.0263 - val_mse: 0.0263 - val_mae: 0.1290\n",
      "Epoch 30/50\n",
      "5/5 [==============================] - 0s 9ms/step - loss: 0.0316 - mse: 0.0316 - mae: 0.1421 - val_loss: 0.0267 - val_mse: 0.0267 - val_mae: 0.1311\n",
      "Epoch 31/50\n",
      "5/5 [==============================] - 0s 9ms/step - loss: 0.0315 - mse: 0.0315 - mae: 0.1433 - val_loss: 0.0278 - val_mse: 0.0278 - val_mae: 0.1352\n",
      "Epoch 32/50\n",
      "5/5 [==============================] - 0s 9ms/step - loss: 0.0315 - mse: 0.0315 - mae: 0.1437 - val_loss: 0.0270 - val_mse: 0.0270 - val_mae: 0.1324\n",
      "Epoch 33/50\n",
      "5/5 [==============================] - 0s 8ms/step - loss: 0.0315 - mse: 0.0315 - mae: 0.1428 - val_loss: 0.0268 - val_mse: 0.0268 - val_mae: 0.1313\n",
      "Epoch 34/50\n",
      "5/5 [==============================] - 0s 9ms/step - loss: 0.0315 - mse: 0.0315 - mae: 0.1429 - val_loss: 0.0273 - val_mse: 0.0273 - val_mae: 0.1337\n",
      "Epoch 35/50\n",
      "5/5 [==============================] - 0s 8ms/step - loss: 0.0315 - mse: 0.0315 - mae: 0.1435 - val_loss: 0.0273 - val_mse: 0.0273 - val_mae: 0.1335\n",
      "Epoch 36/50\n",
      "5/5 [==============================] - 0s 8ms/step - loss: 0.0315 - mse: 0.0315 - mae: 0.1433 - val_loss: 0.0269 - val_mse: 0.0269 - val_mae: 0.1320\n",
      "Epoch 37/50\n",
      "5/5 [==============================] - 0s 9ms/step - loss: 0.0316 - mse: 0.0316 - mae: 0.1436 - val_loss: 0.0276 - val_mse: 0.0276 - val_mae: 0.1344\n",
      "Epoch 38/50\n",
      "5/5 [==============================] - 0s 9ms/step - loss: 0.0316 - mse: 0.0316 - mae: 0.1435 - val_loss: 0.0266 - val_mse: 0.0266 - val_mae: 0.1304\n",
      "Epoch 39/50\n",
      "5/5 [==============================] - 0s 8ms/step - loss: 0.0316 - mse: 0.0316 - mae: 0.1426 - val_loss: 0.0269 - val_mse: 0.0269 - val_mae: 0.1319\n",
      "Epoch 40/50\n",
      "5/5 [==============================] - 0s 8ms/step - loss: 0.0315 - mse: 0.0315 - mae: 0.1432 - val_loss: 0.0274 - val_mse: 0.0274 - val_mae: 0.1338\n",
      "Epoch 41/50\n",
      "5/5 [==============================] - 0s 8ms/step - loss: 0.0315 - mse: 0.0315 - mae: 0.1435 - val_loss: 0.0273 - val_mse: 0.0273 - val_mae: 0.1336\n",
      "Epoch 42/50\n",
      "5/5 [==============================] - 0s 8ms/step - loss: 0.0315 - mse: 0.0315 - mae: 0.1433 - val_loss: 0.0270 - val_mse: 0.0270 - val_mae: 0.1324\n",
      "Epoch 43/50\n",
      "5/5 [==============================] - 0s 8ms/step - loss: 0.0315 - mse: 0.0315 - mae: 0.1433 - val_loss: 0.0272 - val_mse: 0.0272 - val_mae: 0.1330\n",
      "Epoch 44/50\n",
      "5/5 [==============================] - 0s 8ms/step - loss: 0.0316 - mse: 0.0316 - mae: 0.1432 - val_loss: 0.0267 - val_mse: 0.0267 - val_mae: 0.1310\n",
      "Epoch 45/50\n",
      "5/5 [==============================] - 0s 8ms/step - loss: 0.0315 - mse: 0.0315 - mae: 0.1427 - val_loss: 0.0270 - val_mse: 0.0270 - val_mae: 0.1325\n",
      "Epoch 46/50\n",
      "5/5 [==============================] - 0s 8ms/step - loss: 0.0315 - mse: 0.0315 - mae: 0.1434 - val_loss: 0.0276 - val_mse: 0.0276 - val_mae: 0.1345\n",
      "Epoch 47/50\n",
      "5/5 [==============================] - 0s 9ms/step - loss: 0.0316 - mse: 0.0316 - mae: 0.1437 - val_loss: 0.0273 - val_mse: 0.0273 - val_mae: 0.1333\n",
      "Epoch 48/50\n",
      "5/5 [==============================] - 0s 8ms/step - loss: 0.0315 - mse: 0.0315 - mae: 0.1433 - val_loss: 0.0271 - val_mse: 0.0271 - val_mae: 0.1329\n",
      "Epoch 49/50\n",
      "5/5 [==============================] - 0s 9ms/step - loss: 0.0315 - mse: 0.0315 - mae: 0.1430 - val_loss: 0.0266 - val_mse: 0.0266 - val_mae: 0.1308\n",
      "Epoch 50/50\n",
      "5/5 [==============================] - 0s 9ms/step - loss: 0.0315 - mse: 0.0315 - mae: 0.1428 - val_loss: 0.0269 - val_mse: 0.0269 - val_mae: 0.1319\n"
     ]
    }
   ],
   "source": [
    "model.compile(loss='mse', optimizer='adam', metrics=['mse','mae'])\n",
    "history=model.fit(X_train, y_train, epochs=50, batch_size=150, verbose=1, validation_split=0.2)\n"
   ]
  },
  {
   "cell_type": "code",
   "execution_count": 13,
   "id": "b0178863",
   "metadata": {},
   "outputs": [
    {
     "name": "stdout",
     "output_type": "stream",
     "text": [
      "9/9 [==============================] - 0s 994us/step\n"
     ]
    }
   ],
   "source": [
    "predictions = model.predict(X_val,verbose=1)"
   ]
  },
  {
   "cell_type": "code",
   "execution_count": 16,
   "id": "7c901aee",
   "metadata": {},
   "outputs": [
    {
     "name": "stdout",
     "output_type": "stream",
     "text": [
      "MSE 0.039995788299682505\n",
      "MAE 0.16169200875705353\n",
      "r2_score -0.00689613348668483\n"
     ]
    }
   ],
   "source": [
    "# mse , mae and r2_score values\n",
    "mae_value = mean_absolute_error(y_val, predictions)\n",
    "mse_value = mean_squared_error(y_val, predictions)\n",
    "r2_score_value = r2_score(y_val, predictions)\n",
    "# Total error with mse , mae and r2_score\n",
    "print(f\"MSE {mse_value}\")\n",
    "print(f\"MAE {mae_value}\")\n",
    "print(f\"r2_score {r2_score_value}\")"
   ]
  },
  {
   "cell_type": "code",
   "execution_count": 17,
   "id": "cb08da99",
   "metadata": {},
   "outputs": [
    {
     "data": {
      "image/png": "[encoded data removed]",
      "text/plain": [
       "<Figure size 432x288 with 1 Axes>"
      ]
     },
     "metadata": {
      "needs_background": "light"
     },
     "output_type": "display_data"
    }
   ],
   "source": [
    "\n",
    "plt.plot(predictions)\n",
    "plt.plot(y_val)\n",
    "plt.title('Predictions')\n",
    "plt.legend(['Predicted PH values', 'Actual PH Values'], loc='upper left')\n",
    "plt.xlabel(\"Number of samples\")\n",
    "plt.ylabel(\"pH value\")\n",
    "plt.savefig(\"AnnRegressionForPhUsingPhIndexes.jpg\")\n",
    "plt.show()\n"
   ]
  },
  {
   "cell_type": "code",
   "execution_count": null,
   "id": "5278e7f6",
   "metadata": {},
   "outputs": [],
   "source": []
  },
  {
   "cell_type": "code",
   "execution_count": null,
   "id": "b287030e",
   "metadata": {},
   "outputs": [],
   "source": []
  },
  {
   "cell_type": "code",
   "execution_count": null,
   "id": "e699bc64",
   "metadata": {},
   "outputs": [],
   "source": []
  },
  {
   "cell_type": "code",
   "execution_count": null,
   "id": "d8029ec1",
   "metadata": {},
   "outputs": [],
   "source": []
  },
  {
   "cell_type": "code",
   "execution_count": null,
   "id": "1c2425f8",
   "metadata": {},
   "outputs": [],
   "source": []
  },
  {
   "cell_type": "code",
   "execution_count": null,
   "id": "3d1c2bd4",
   "metadata": {},
   "outputs": [],
   "source": []
  },
  {
   "cell_type": "code",
   "execution_count": null,
   "id": "db4f1b84",
   "metadata": {},
   "outputs": [],
   "source": []
  },
  {
   "cell_type": "code",
   "execution_count": null,
   "id": "f3187bf2",
   "metadata": {},
   "outputs": [],
   "source": []
  },
  {
   "cell_type": "code",
   "execution_count": null,
   "id": "2625cc9c",
   "metadata": {},
   "outputs": [],
   "source": []
  },
  {
   "cell_type": "code",
   "execution_count": null,
   "id": "1510157b",
   "metadata": {},
   "outputs": [],
   "source": []
  },
  {
   "cell_type": "code",
   "execution_count": null,
   "id": "c1ac3038",
   "metadata": {},
   "outputs": [],
   "source": []
  },
  {
   "cell_type": "code",
   "execution_count": null,
   "id": "62a35ef9",
   "metadata": {},
   "outputs": [],
   "source": []
  }
 ],
 "metadata": {
  "kernelspec": {
   "display_name": "Python 3 (ipykernel)",
   "language": "python",
   "name": "python3"
  },
  "language_info": {
   "codemirror_mode": {
    "name": "ipython",
    "version": 3
   },
   "file_extension": ".py",
   "mimetype": "text/x-python",
   "name": "python",
   "nbconvert_exporter": "python",
   "pygments_lexer": "ipython3",
   "version": "3.8.12"
  }
 },
 "nbformat": 4,
 "nbformat_minor": 5
}
