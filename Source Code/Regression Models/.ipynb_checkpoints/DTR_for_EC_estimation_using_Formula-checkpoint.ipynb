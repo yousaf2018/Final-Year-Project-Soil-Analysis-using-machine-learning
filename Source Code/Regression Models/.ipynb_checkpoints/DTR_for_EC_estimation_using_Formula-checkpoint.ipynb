{
 "cells": [
  {
   "cell_type": "markdown",
   "id": "2f2bd941",
   "metadata": {},
   "source": [
    "### Libraries for dataset manipulation and visulization"
   ]
  },
  {
   "cell_type": "code",
   "execution_count": 1,
   "id": "bec3ab18",
   "metadata": {},
   "outputs": [],
   "source": [
    "import numpy as np\n",
    "import pandas as pd\n",
    "import matplotlib.pyplot as plt"
   ]
  },
  {
   "cell_type": "markdown",
   "id": "6a25f32e",
   "metadata": {},
   "source": [
    "### Dataset Loading"
   ]
  },
  {
   "cell_type": "code",
   "execution_count": 2,
   "id": "5e00c17d",
   "metadata": {},
   "outputs": [],
   "source": [
    "dataset = pd.read_csv('C:\\\\Users\\\\Mahmood Yousaf\\\\Desktop\\\\FYP\\\\Final-Year-Project-Soil-Analysis-using-machine-learning\\\\Extracted Features\\\\Formula_Index_with_EC_value.csv')"
   ]
  },
  {
   "cell_type": "markdown",
   "id": "44d666b2",
   "metadata": {},
   "source": [
    "### Preprocessing on dataset"
   ]
  },
  {
   "cell_type": "code",
   "execution_count": 3,
   "id": "bef79ea3",
   "metadata": {},
   "outputs": [
    {
     "name": "stdout",
     "output_type": "stream",
     "text": [
      "[525.  505.  542.  ... 397.  262.5 365. ]\n",
      "[0.54 0.54 0.55 ... 1.1  0.45 0.45]\n"
     ]
    }
   ],
   "source": [
    "X = np.array(dataset['Formula_Index'])\n",
    "Y = np.array(dataset['EC_Value'])\n",
    "print(X)\n",
    "print(Y)"
   ]
  },
  {
   "cell_type": "code",
   "execution_count": 4,
   "id": "dd2bed66",
   "metadata": {},
   "outputs": [
    {
     "name": "stdout",
     "output_type": "stream",
     "text": [
      "[[525. ]\n",
      " [505. ]\n",
      " [542. ]\n",
      " ...\n",
      " [397. ]\n",
      " [262.5]\n",
      " [365. ]] [[0.54]\n",
      " [0.54]\n",
      " [0.55]\n",
      " ...\n",
      " [1.1 ]\n",
      " [0.45]\n",
      " [0.45]]\n"
     ]
    }
   ],
   "source": [
    "X = X.reshape(len(X),1)\n",
    "Y = Y.reshape(len(Y),1)\n",
    "print(X,Y)"
   ]
  },
  {
   "cell_type": "markdown",
   "id": "c3db3d89",
   "metadata": {},
   "source": [
    "### DTR model training"
   ]
  },
  {
   "cell_type": "code",
   "execution_count": 5,
   "id": "70f6693c",
   "metadata": {},
   "outputs": [],
   "source": [
    "from sklearn.model_selection import train_test_split\n",
    "X_train, X_val, y_train, y_val = train_test_split(X, Y)"
   ]
  },
  {
   "cell_type": "code",
   "execution_count": 6,
   "id": "86107818",
   "metadata": {},
   "outputs": [
    {
     "data": {
      "text/plain": [
       "DecisionTreeRegressor(random_state=0)"
      ]
     },
     "execution_count": 6,
     "metadata": {},
     "output_type": "execute_result"
    }
   ],
   "source": [
    "from sklearn.tree import DecisionTreeRegressor\n",
    "from sklearn.metrics import mean_absolute_error\n",
    "from sklearn.metrics import mean_squared_error\n",
    "from sklearn.metrics import r2_score\n",
    "regressor = DecisionTreeRegressor(random_state = 0)\n",
    "regressor.fit(X_train,y_train)"
   ]
  },
  {
   "cell_type": "markdown",
   "id": "eb96c339",
   "metadata": {},
   "source": [
    "### Prediction "
   ]
  },
  {
   "cell_type": "code",
   "execution_count": 7,
   "id": "b5264ee9",
   "metadata": {},
   "outputs": [
    {
     "name": "stdout",
     "output_type": "stream",
     "text": [
      "[1.125]\n"
     ]
    }
   ],
   "source": [
    "prediction = regressor.predict([[500]])\n",
    "print(prediction)"
   ]
  },
  {
   "cell_type": "code",
   "execution_count": 8,
   "id": "7652decf",
   "metadata": {},
   "outputs": [
    {
     "name": "stdout",
     "output_type": "stream",
     "text": [
      "[0.6        3.2498     0.585      0.84       0.6384     1.54125\n",
      " 0.99428571 0.85625    0.09       0.986875   2.65       1.85\n",
      " 1.09       0.93       1.26       1.31       1.13       0.632\n",
      " 1.38       3.09       1.425      0.6        1.114      1.54125\n",
      " 0.69428571 0.986875   4.37       0.65       1.25       1.0175\n",
      " 0.9        1.21       1.175      0.88       0.86       1.55\n",
      " 1.155      2.844375   0.765      1.004      0.46       1.21\n",
      " 0.86       0.86       0.585      2.56444444 0.99       0.93\n",
      " 2.01666667 1.23666667 2.90333333 0.585      1.17028571 0.711\n",
      " 0.89166667 0.846      1.13       0.44       3.09       0.85625\n",
      " 0.9382     0.84666667 0.765      1.1125     1.21       1.16666667\n",
      " 0.69785714 1.9275     1.16666667 4.37       1.85       0.6025\n",
      " 1.15       1.346      0.64       0.4425     0.4125     0.6\n",
      " 1.52       2.4        0.63666667 0.74316667 0.47       0.69785714\n",
      " 0.59       1.01       1.36       0.995      1.25       1.004\n",
      " 0.4125     0.885      0.69428571 0.6125     0.8175     2.1\n",
      " 1.716      0.711      0.99       0.58       0.65       0.58\n",
      " 0.85625    1.01       0.4425     0.9        0.93475    1.49\n",
      " 1.17028571 0.67033333 1.09       0.59       0.88       0.348\n",
      " 1.7        1.38127273 0.86       0.89166667 0.86       1.55\n",
      " 0.58       4.37       0.733      0.97       0.49555556 0.348\n",
      " 1.435      0.63       0.99       2.56444444 0.4425     0.16\n",
      " 0.9382     2.075      0.32       0.93       0.9        0.86\n",
      " 1.45       0.346      0.6        2.1        0.91       0.6472\n",
      " 0.47       1.17028571 1.174      0.943      0.69785714 1.125\n",
      " 1.04       0.85625    0.86       0.69785714 1.31       1.16428571\n",
      " 1.01       1.105      1.174      1.174      0.51333333 1.07166667\n",
      " 1.17028571 0.30366667 2.844375   0.49555556 1.7        0.99\n",
      " 3.2498     0.93       1.035      1.13       0.23       2.124\n",
      " 1.9275     0.89166667 1.13       0.9382     2.844375   1.45666667\n",
      " 0.764      1.21       0.86       1.01       0.995      0.29\n",
      " 0.58       1.57       1.15       0.84       2.42       0.8575\n",
      " 0.986875   1.38127273 0.98166667 0.6        2.42       2.42\n",
      " 1.035      2.844375   2.844375   0.99428571 0.346      0.6025\n",
      " 4.37       0.87714286 1.7        2.1        2.1        0.6384\n",
      " 1.01       0.711      0.46       1.1        0.84666667 0.846\n",
      " 0.49555556 0.632      0.97333333 1.18666667 0.826      0.64\n",
      " 1.3        1.02833333 0.09       0.9382     0.93       0.93475\n",
      " 0.94       1.114      1.485      0.632      0.44       1.13\n",
      " 0.74666667 1.02833333 2.42       1.92       0.632      0.88\n",
      " 0.84       3.09       0.58       0.512      1.25       0.6025\n",
      " 1.7        1.36       1.9275     0.64       1.76333333 0.30366667\n",
      " 0.49555556 1.21       0.765      0.69785714 0.39666667 0.86\n",
      " 0.711      0.93       0.88666667 0.94       1.18333333 0.87714286\n",
      " 0.8        1.13      ]\n"
     ]
    }
   ],
   "source": [
    "pred = regressor.predict(X_val)\n",
    "print(pred)"
   ]
  },
  {
   "cell_type": "code",
   "execution_count": 9,
   "id": "d6ec7273",
   "metadata": {},
   "outputs": [
    {
     "name": "stdout",
     "output_type": "stream",
     "text": [
      "MSE 1.4531047199211071\n",
      "MAE 0.6353344172118609\n",
      "r2_score -0.2097849890082648\n"
     ]
    }
   ],
   "source": [
    "# mse , mae and r2_score values\n",
    "mae_value = mean_absolute_error(y_val, pred)\n",
    "mse_value = mean_squared_error(y_val, pred)\n",
    "r2_score_value = r2_score(y_val, pred)\n",
    "# Total error with mse , mae and r2_score\n",
    "print(f\"MSE {mse_value}\")\n",
    "print(f\"MAE {mae_value}\")\n",
    "print(f\"r2_score {r2_score_value}\")"
   ]
  },
  {
   "cell_type": "markdown",
   "id": "4c3ac75c",
   "metadata": {},
   "source": [
    "### Visulization"
   ]
  },
  {
   "cell_type": "code",
   "execution_count": 10,
   "id": "735b5040",
   "metadata": {},
   "outputs": [
    {
     "data": {
      "image/png": "[encoded data removed]",
      "text/plain": [
       "<Figure size 432x288 with 1 Axes>"
      ]
     },
     "metadata": {
      "needs_background": "light"
     },
     "output_type": "display_data"
    }
   ],
   "source": [
    "plt.plot(pred,color = 'Blue')\n",
    "plt.plot(y_val, color = 'red')\n",
    "plt.title(\"Decision Tree Regression Model For EC\")\n",
    "plt.legend(['Predicted EC values', 'Actual EC Values'], loc='upper left')\n",
    "plt.xlabel('Formula indexes')\n",
    "plt.ylabel('EC values')\n",
    "plt.savefig(\"DTRmodelForECestimationUsingFormula.jpg\")"
   ]
  },
  {
   "cell_type": "code",
   "execution_count": null,
   "id": "1c5ebbbe",
   "metadata": {},
   "outputs": [],
   "source": []
  },
  {
   "cell_type": "code",
   "execution_count": null,
   "id": "4f4c7b6b",
   "metadata": {},
   "outputs": [],
   "source": []
  },
  {
   "cell_type": "code",
   "execution_count": null,
   "id": "47c19473",
   "metadata": {},
   "outputs": [],
   "source": []
  },
  {
   "cell_type": "code",
   "execution_count": null,
   "id": "dae53a08",
   "metadata": {},
   "outputs": [],
   "source": []
  },
  {
   "cell_type": "code",
   "execution_count": null,
   "id": "a8f0bfd1",
   "metadata": {},
   "outputs": [],
   "source": []
  },
  {
   "cell_type": "code",
   "execution_count": null,
   "id": "2abab865",
   "metadata": {},
   "outputs": [],
   "source": []
  },
  {
   "cell_type": "code",
   "execution_count": null,
   "id": "3e945629",
   "metadata": {},
   "outputs": [],
   "source": []
  },
  {
   "cell_type": "code",
   "execution_count": null,
   "id": "7f526b70",
   "metadata": {},
   "outputs": [],
   "source": []
  },
  {
   "cell_type": "code",
   "execution_count": null,
   "id": "d47c3c95",
   "metadata": {},
   "outputs": [],
   "source": []
  },
  {
   "cell_type": "code",
   "execution_count": null,
   "id": "33df01da",
   "metadata": {},
   "outputs": [],
   "source": []
  },
  {
   "cell_type": "code",
   "execution_count": null,
   "id": "0827e9d0",
   "metadata": {},
   "outputs": [],
   "source": []
  },
  {
   "cell_type": "code",
   "execution_count": null,
   "id": "b5c34dd3",
   "metadata": {},
   "outputs": [],
   "source": []
  },
  {
   "cell_type": "code",
   "execution_count": null,
   "id": "d7d48451",
   "metadata": {},
   "outputs": [],
   "source": []
  },
  {
   "cell_type": "code",
   "execution_count": null,
   "id": "c11e295f",
   "metadata": {},
   "outputs": [],
   "source": []
  }
 ],
 "metadata": {
  "kernelspec": {
   "display_name": "Python 3 (ipykernel)",
   "language": "python",
   "name": "python3"
  },
  "language_info": {
   "codemirror_mode": {
    "name": "ipython",
    "version": 3
   },
   "file_extension": ".py",
   "mimetype": "text/x-python",
   "name": "python",
   "nbconvert_exporter": "python",
   "pygments_lexer": "ipython3",
   "version": "3.8.12"
  }
 },
 "nbformat": 4,
 "nbformat_minor": 5
}
