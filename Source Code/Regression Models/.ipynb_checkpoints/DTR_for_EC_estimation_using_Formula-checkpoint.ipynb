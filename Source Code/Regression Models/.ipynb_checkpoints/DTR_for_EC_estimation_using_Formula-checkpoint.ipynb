{
 "cells": [
  {
   "cell_type": "markdown",
   "id": "2f2bd941",
   "metadata": {},
   "source": [
    "### Libraries for dataset manipulation and visulization"
   ]
  },
  {
   "cell_type": "code",
   "execution_count": 1,
   "id": "bec3ab18",
   "metadata": {},
   "outputs": [],
   "source": [
    "import numpy as np\n",
    "import pandas as pd\n",
    "import matplotlib.pyplot as plt"
   ]
  },
  {
   "cell_type": "markdown",
   "id": "6a25f32e",
   "metadata": {},
   "source": [
    "### Dataset Loading"
   ]
  },
  {
   "cell_type": "code",
   "execution_count": 2,
   "id": "5e00c17d",
   "metadata": {},
   "outputs": [],
   "source": [
    "dataset = pd.read_csv('C:\\\\Users\\\\Mahmood Yousaf\\\\Desktop\\\\FYP\\\\Final-Year-Project-Soil-Analysis-using-machine-learning\\\\Extracted Features\\\\Formula_Index_with_EC_value.csv')"
   ]
  },
  {
   "cell_type": "markdown",
   "id": "44d666b2",
   "metadata": {},
   "source": [
    "### Preprocessing on dataset"
   ]
  },
  {
   "cell_type": "code",
   "execution_count": 3,
   "id": "bef79ea3",
   "metadata": {},
   "outputs": [
    {
     "name": "stdout",
     "output_type": "stream",
     "text": [
      "[525.  505.  542.  ... 397.  262.5 365. ]\n",
      "[0.54 0.54 0.55 ... 1.1  0.45 0.45]\n"
     ]
    }
   ],
   "source": [
    "X = np.array(dataset['Formula_Index'])\n",
    "Y = np.array(dataset['EC_Value'])\n",
    "print(X)\n",
    "print(Y)"
   ]
  },
  {
   "cell_type": "code",
   "execution_count": 4,
   "id": "dd2bed66",
   "metadata": {},
   "outputs": [
    {
     "name": "stdout",
     "output_type": "stream",
     "text": [
      "[[525. ]\n",
      " [505. ]\n",
      " [542. ]\n",
      " ...\n",
      " [397. ]\n",
      " [262.5]\n",
      " [365. ]] [[0.54]\n",
      " [0.54]\n",
      " [0.55]\n",
      " ...\n",
      " [1.1 ]\n",
      " [0.45]\n",
      " [0.45]]\n"
     ]
    }
   ],
   "source": [
    "X = X.reshape(len(X),1)\n",
    "Y = Y.reshape(len(Y),1)\n",
    "print(X,Y)"
   ]
  },
  {
   "cell_type": "markdown",
   "id": "c3db3d89",
   "metadata": {},
   "source": [
    "### DTR model training"
   ]
  },
  {
   "cell_type": "code",
   "execution_count": 5,
   "id": "70f6693c",
   "metadata": {},
   "outputs": [],
   "source": [
    "from sklearn.model_selection import train_test_split\n",
    "X_train, X_val, y_train, y_val = train_test_split(X, Y)"
   ]
  },
  {
   "cell_type": "code",
   "execution_count": 6,
   "id": "86107818",
   "metadata": {},
   "outputs": [
    {
     "data": {
      "text/plain": [
       "DecisionTreeRegressor(random_state=0)"
      ]
     },
     "execution_count": 6,
     "metadata": {},
     "output_type": "execute_result"
    }
   ],
   "source": [
    "from sklearn.tree import DecisionTreeRegressor\n",
    "regressor = DecisionTreeRegressor(random_state = 0)\n",
    "regressor.fit(X_train,y_train)"
   ]
  },
  {
   "cell_type": "markdown",
   "id": "eb96c339",
   "metadata": {},
   "source": [
    "### Prediction "
   ]
  },
  {
   "cell_type": "code",
   "execution_count": 7,
   "id": "b5264ee9",
   "metadata": {},
   "outputs": [
    {
     "name": "stdout",
     "output_type": "stream",
     "text": [
      "[1.32]\n"
     ]
    }
   ],
   "source": [
    "prediction = regressor.predict([[500]])\n",
    "print(prediction)"
   ]
  },
  {
   "cell_type": "code",
   "execution_count": 8,
   "id": "7652decf",
   "metadata": {},
   "outputs": [
    {
     "name": "stdout",
     "output_type": "stream",
     "text": [
      "[1.24       0.3305     1.16       0.78444444 0.93       1.56333333\n",
      " 3.39       0.563      3.39       0.754      1.256      1.31\n",
      " 1.32       0.555      0.754      0.19       1.053      0.744875\n",
      " 1.318      0.415      0.785      1.36333333 0.62333333 1.32\n",
      " 0.93       1.0175     0.785      1.035      1.614      0.71\n",
      " 0.93       0.73571429 1.34       0.85       0.22       0.76125\n",
      " 1.49       1.256      2.01666667 1.93       0.87833333 0.19\n",
      " 0.525      1.35       1.63333333 1.17       1.56333333 2.61375\n",
      " 1.02       0.25       0.98       1.93       0.926      0.504\n",
      " 3.2898     1.256      0.85       0.71       0.9        0.09\n",
      " 0.9335     0.796      0.504      0.995      0.835      0.89583333\n",
      " 0.23       1.34       1.49       1.56333333 1.2725     0.25\n",
      " 0.8675     1.35125    1.35       0.93       0.85       0.905\n",
      " 0.504      1.02       0.466      0.86       1.02       0.5025\n",
      " 1.56333333 1.1        0.68666667 0.92975    1.47       0.92975\n",
      " 0.995      0.23       1.45       1.1425     0.78333333 2.2\n",
      " 0.93       0.23       1.72       1.16       0.78571429 0.675\n",
      " 0.80857143 1.256      0.796      1.3175     0.796      0.807625\n",
      " 2.04333333 0.563      0.8675     0.7888     0.4475     1.45\n",
      " 0.25       1.774      0.4725     0.68666667 0.76125    0.514\n",
      " 0.88672727 3.2898     1.2        3.925      0.25       1.004\n",
      " 0.85       0.93       1.425      0.754      0.466      1.1\n",
      " 2.04333333 0.4475     0.54       1.004      1.035      0.563\n",
      " 0.09       1.36       1.25       0.83       1.4375     0.885\n",
      " 0.249      0.87833333 0.738      0.835      0.31333333 0.345\n",
      " 1.01       0.88672727 2.61375    0.7        1.24       2.2\n",
      " 0.93       0.69       7.3        0.67       3.39       0.75666667\n",
      " 0.22       0.78571429 0.5025     2.24842857 3.91       1.57\n",
      " 1.035      0.54833333 2.12822222 2.61375    0.87833333 0.926\n",
      " 0.738      0.67666667 0.744875   2.2        0.525      1.02\n",
      " 0.5195     0.93       0.32       0.93       0.91       3.39\n",
      " 2.63368421 0.93       0.16       1.63333333 1.31       0.555\n",
      " 0.75666667 1.35125    2.366      1.5        1.25       1.035\n",
      " 0.885      0.71       0.75666667 1.72       0.67666667 0.99\n",
      " 1.1        0.555      1.01       1.3175     4.05       0.71\n",
      " 0.62333333 0.29666667 0.83       0.8675     0.754      0.67\n",
      " 0.8675     0.61       2.2        0.555      1.194      0.89583333\n",
      " 0.2        0.675      2.2        0.80857143 1.195      0.85\n",
      " 0.514      0.81666667 1.22       0.4475     1.035      2.12822222\n",
      " 2.61375    0.19       1.05       0.95       0.29666667 1.1\n",
      " 1.614      0.78444444 1.09       0.408      0.93       0.76125\n",
      " 0.71       1.09       0.77       1.31       0.84266667 1.245\n",
      " 1.66       0.998      0.68666667 0.61       0.31333333 0.5725\n",
      " 2.37375    3.39       1.11       3.925      1.13       0.69\n",
      " 0.525      2.63368421]\n"
     ]
    }
   ],
   "source": [
    "pred = regressor.predict(X_val)\n",
    "print(pred)"
   ]
  },
  {
   "cell_type": "markdown",
   "id": "4c3ac75c",
   "metadata": {},
   "source": [
    "### Visulization"
   ]
  },
  {
   "cell_type": "code",
   "execution_count": 10,
   "id": "735b5040",
   "metadata": {},
   "outputs": [
    {
     "data": {
      "image/png": "[encoded data removed]",
      "text/plain": [
       "<Figure size 432x288 with 1 Axes>"
      ]
     },
     "metadata": {
      "needs_background": "light"
     },
     "output_type": "display_data"
    }
   ],
   "source": [
    "plt.plot(pred,color = 'Blue')\n",
    "plt.plot(y_val, color = 'red')\n",
    "plt.title(\"Decision Tree Regression Model For EC\")\n",
    "plt.legend(['Predicted EC values', 'Actual EC Values'], loc='upper left')\n",
    "plt.xlabel('Formula indexes')\n",
    "plt.ylabel('EC values')\n",
    "plt.savefig(\"DTRmodelForECestimationUsingFormula.jpg\")"
   ]
  },
  {
   "cell_type": "code",
   "execution_count": null,
   "id": "1c5ebbbe",
   "metadata": {},
   "outputs": [],
   "source": []
  },
  {
   "cell_type": "code",
   "execution_count": null,
   "id": "4f4c7b6b",
   "metadata": {},
   "outputs": [],
   "source": []
  },
  {
   "cell_type": "code",
   "execution_count": null,
   "id": "47c19473",
   "metadata": {},
   "outputs": [],
   "source": []
  },
  {
   "cell_type": "code",
   "execution_count": null,
   "id": "dae53a08",
   "metadata": {},
   "outputs": [],
   "source": []
  },
  {
   "cell_type": "code",
   "execution_count": null,
   "id": "a8f0bfd1",
   "metadata": {},
   "outputs": [],
   "source": []
  },
  {
   "cell_type": "code",
   "execution_count": null,
   "id": "2abab865",
   "metadata": {},
   "outputs": [],
   "source": []
  }
 ],
 "metadata": {
  "kernelspec": {
   "display_name": "Python 3 (ipykernel)",
   "language": "python",
   "name": "python3"
  },
  "language_info": {
   "codemirror_mode": {
    "name": "ipython",
    "version": 3
   },
   "file_extension": ".py",
   "mimetype": "text/x-python",
   "name": "python",
   "nbconvert_exporter": "python",
   "pygments_lexer": "ipython3",
   "version": "3.8.12"
  }
 },
 "nbformat": 4,
 "nbformat_minor": 5
}
