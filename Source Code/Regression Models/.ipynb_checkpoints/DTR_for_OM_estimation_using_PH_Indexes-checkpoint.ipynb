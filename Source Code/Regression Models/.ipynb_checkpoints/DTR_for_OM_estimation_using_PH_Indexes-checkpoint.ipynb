{
 "cells": [
  {
   "cell_type": "markdown",
   "id": "2f2bd941",
   "metadata": {},
   "source": [
    "### Libraries for dataset manipulation and visulization"
   ]
  },
  {
   "cell_type": "code",
   "execution_count": 1,
   "id": "bec3ab18",
   "metadata": {},
   "outputs": [],
   "source": [
    "import numpy as np\n",
    "import pandas as pd\n",
    "import matplotlib.pyplot as plt"
   ]
  },
  {
   "cell_type": "markdown",
   "id": "6a25f32e",
   "metadata": {},
   "source": [
    "### Dataset Loading"
   ]
  },
  {
   "cell_type": "code",
   "execution_count": 2,
   "id": "5e00c17d",
   "metadata": {},
   "outputs": [],
   "source": [
    "dataset = pd.read_csv('C:\\\\Users\\\\Mahmood Yousaf\\\\Desktop\\\\FYP\\\\Final-Year-Project-Soil-Analysis-using-machine-learning\\\\Extracted Features\\\\pH_Index_with_OM_value.csv')"
   ]
  },
  {
   "cell_type": "markdown",
   "id": "44d666b2",
   "metadata": {},
   "source": [
    "### Preprocessing on dataset"
   ]
  },
  {
   "cell_type": "code",
   "execution_count": 3,
   "id": "bef79ea3",
   "metadata": {},
   "outputs": [
    {
     "name": "stdout",
     "output_type": "stream",
     "text": [
      "[0.00703939 0.0073076  0.00680586 ... 0.00868003 0.0176074  0.01053636]\n",
      "[0.52 0.52 0.59 ... 0.6  0.5  0.5 ]\n"
     ]
    }
   ],
   "source": [
    "X = np.array(dataset['pH_Index'])\n",
    "Y = np.array(dataset['OM_Value'])\n",
    "print(X)\n",
    "print(Y)"
   ]
  },
  {
   "cell_type": "code",
   "execution_count": 4,
   "id": "dd2bed66",
   "metadata": {},
   "outputs": [
    {
     "name": "stdout",
     "output_type": "stream",
     "text": [
      "[[0.00703939]\n",
      " [0.0073076 ]\n",
      " [0.00680586]\n",
      " ...\n",
      " [0.00868003]\n",
      " [0.0176074 ]\n",
      " [0.01053636]] [[0.52]\n",
      " [0.52]\n",
      " [0.59]\n",
      " ...\n",
      " [0.6 ]\n",
      " [0.5 ]\n",
      " [0.5 ]]\n"
     ]
    }
   ],
   "source": [
    "X = X.reshape(len(X),1)\n",
    "Y = Y.reshape(len(Y),1)\n",
    "print(X,Y)"
   ]
  },
  {
   "cell_type": "markdown",
   "id": "c3db3d89",
   "metadata": {},
   "source": [
    "### DTR model training"
   ]
  },
  {
   "cell_type": "code",
   "execution_count": 5,
   "id": "70f6693c",
   "metadata": {},
   "outputs": [],
   "source": [
    "from sklearn.model_selection import train_test_split\n",
    "X_train, X_val, y_train, y_val = train_test_split(X, Y)"
   ]
  },
  {
   "cell_type": "code",
   "execution_count": 6,
   "id": "86107818",
   "metadata": {},
   "outputs": [
    {
     "data": {
      "text/plain": [
       "DecisionTreeRegressor(random_state=0)"
      ]
     },
     "execution_count": 6,
     "metadata": {},
     "output_type": "execute_result"
    }
   ],
   "source": [
    "from sklearn.tree import DecisionTreeRegressor\n",
    "regressor = DecisionTreeRegressor(random_state = 0)\n",
    "regressor.fit(X_train,y_train)"
   ]
  },
  {
   "cell_type": "markdown",
   "id": "eb96c339",
   "metadata": {},
   "source": [
    "### Prediction "
   ]
  },
  {
   "cell_type": "code",
   "execution_count": 10,
   "id": "b5264ee9",
   "metadata": {},
   "outputs": [
    {
     "name": "stdout",
     "output_type": "stream",
     "text": [
      "[0.57  0.5   0.6   0.6   0.52  0.36  0.5   0.31  0.5   0.44  0.52  0.48\n",
      " 0.6   0.5   0.5   0.6   0.56  0.4   0.4   0.6   0.3   0.5   0.2   0.5\n",
      " 0.7   0.52  0.47  0.47  0.5   0.51  0.64  0.6   0.75  0.47  0.41  0.5\n",
      " 0.7   0.67  0.72  0.53  0.4   0.5   0.5   0.4   0.59  0.45  0.6   0.26\n",
      " 0.47  0.45  0.45  0.57  0.83  0.55  0.5   0.3   1.    0.45  0.71  0.47\n",
      " 0.7   0.45  0.57  0.53  0.67  0.6   0.5   0.6   0.52  0.49  0.48  0.47\n",
      " 0.5   0.5   0.43  0.54  0.7   0.6   0.6   0.5   0.7   0.4   0.5   0.36\n",
      " 0.4   0.7   0.62  0.5   0.4   0.41  0.57  0.7   0.52  0.36  0.57  0.57\n",
      " 0.3   0.34  0.58  0.4   0.4   0.52  0.4   0.72  0.45  0.5   0.45  0.88\n",
      " 0.62  0.67  0.3   0.5   0.31  0.58  0.59  0.78  0.78  0.41  0.46  0.6\n",
      " 0.65  0.5   0.53  0.54  0.7   0.4   0.48  0.54  0.6   0.47  0.7   0.62\n",
      " 0.4   0.61  0.6   0.565 0.57  0.5   0.75  0.52  0.61  0.335 0.6   0.52\n",
      " 0.4   0.58  0.5   0.5   0.58  0.36  0.78  0.5   0.4   0.62  0.48  0.64\n",
      " 0.7   0.5   0.42  0.6   0.48  0.62  0.3   0.5   0.5   0.59  0.5   0.5\n",
      " 0.48  0.47  0.57  0.6   0.4   0.5   0.5   0.51  0.55  0.43  0.57  0.69\n",
      " 0.6   0.5   0.57  0.5   0.41  0.565 0.6   0.4   0.5   0.4   0.3   0.5\n",
      " 0.88  0.4   0.53  0.5   0.5   0.58  0.4   0.6   0.6   0.43  0.5   0.21\n",
      " 0.4   0.45  0.43  0.52  0.72  0.54  0.44  0.5   0.26  0.6   0.52  0.51\n",
      " 0.6   0.55  0.4   0.6   0.34  0.6   0.26  0.4   0.53  0.62  0.4   0.3\n",
      " 0.4   0.71  0.6   0.78  0.3   0.5   0.36  0.6   0.62  0.72  0.51  0.3\n",
      " 0.57  0.5   0.58  0.5   0.62  0.62  0.6   0.7   0.6   0.3   0.57  0.4\n",
      " 0.41  0.3   0.6   0.48  0.5   0.41  0.36  0.6   0.62  0.3   0.5   0.7\n",
      " 0.6   0.53 ]\n"
     ]
    }
   ],
   "source": [
    "prediction = regressor.predict(X_val)\n",
    "print(prediction)"
   ]
  },
  {
   "cell_type": "markdown",
   "id": "4c3ac75c",
   "metadata": {},
   "source": [
    "### Visulization"
   ]
  },
  {
   "cell_type": "code",
   "execution_count": 11,
   "id": "735b5040",
   "metadata": {},
   "outputs": [
    {
     "data": {
      "image/png": "[encoded data removed]",
      "text/plain": [
       "<Figure size 432x288 with 1 Axes>"
      ]
     },
     "metadata": {
      "needs_background": "light"
     },
     "output_type": "display_data"
    }
   ],
   "source": [
    "plt.plot(prediction,color = 'Blue')\n",
    "plt.plot(y_val, color = 'red')\n",
    "plt.title(\"Decision Tree Regression Model For OM\")\n",
    "plt.legend(['Predicted OM values', 'Actual OM Values'], loc='upper left')\n",
    "plt.xlabel('PH indexes')\n",
    "plt.ylabel('OM values')\n",
    "plt.savefig(\"DTRmodelForOMestimationUsingpHIndexes.jpg\")"
   ]
  },
  {
   "cell_type": "code",
   "execution_count": null,
   "id": "1c5ebbbe",
   "metadata": {},
   "outputs": [],
   "source": []
  },
  {
   "cell_type": "code",
   "execution_count": null,
   "id": "4f4c7b6b",
   "metadata": {},
   "outputs": [],
   "source": []
  },
  {
   "cell_type": "code",
   "execution_count": null,
   "id": "47c19473",
   "metadata": {},
   "outputs": [],
   "source": []
  },
  {
   "cell_type": "code",
   "execution_count": null,
   "id": "dae53a08",
   "metadata": {},
   "outputs": [],
   "source": []
  },
  {
   "cell_type": "code",
   "execution_count": null,
   "id": "a8f0bfd1",
   "metadata": {},
   "outputs": [],
   "source": []
  },
  {
   "cell_type": "code",
   "execution_count": null,
   "id": "2abab865",
   "metadata": {},
   "outputs": [],
   "source": []
  }
 ],
 "metadata": {
  "kernelspec": {
   "display_name": "Python 3 (ipykernel)",
   "language": "python",
   "name": "python3"
  },
  "language_info": {
   "codemirror_mode": {
    "name": "ipython",
    "version": 3
   },
   "file_extension": ".py",
   "mimetype": "text/x-python",
   "name": "python",
   "nbconvert_exporter": "python",
   "pygments_lexer": "ipython3",
   "version": "3.8.12"
  }
 },
 "nbformat": 4,
 "nbformat_minor": 5
}
