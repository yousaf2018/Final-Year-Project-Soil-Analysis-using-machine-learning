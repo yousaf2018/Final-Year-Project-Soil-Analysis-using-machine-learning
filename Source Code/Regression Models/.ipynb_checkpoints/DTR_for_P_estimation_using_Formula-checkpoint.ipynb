{
 "cells": [
  {
   "cell_type": "markdown",
   "id": "2f2bd941",
   "metadata": {},
   "source": [
    "### Libraries for dataset manipulation and visulization"
   ]
  },
  {
   "cell_type": "code",
   "execution_count": 1,
   "id": "bec3ab18",
   "metadata": {},
   "outputs": [],
   "source": [
    "import numpy as np\n",
    "import pandas as pd\n",
    "import matplotlib.pyplot as plt"
   ]
  },
  {
   "cell_type": "markdown",
   "id": "6a25f32e",
   "metadata": {},
   "source": [
    "### Dataset Loading"
   ]
  },
  {
   "cell_type": "code",
   "execution_count": 2,
   "id": "5e00c17d",
   "metadata": {},
   "outputs": [],
   "source": [
    "dataset = pd.read_csv('C:\\\\Users\\\\Mahmood Yousaf\\\\Desktop\\\\FYP\\\\Final-Year-Project-Soil-Analysis-using-machine-learning\\\\Extracted Features\\\\Formula_Index_with_P_value.csv')"
   ]
  },
  {
   "cell_type": "markdown",
   "id": "44d666b2",
   "metadata": {},
   "source": [
    "### Preprocessing on dataset"
   ]
  },
  {
   "cell_type": "code",
   "execution_count": 3,
   "id": "bef79ea3",
   "metadata": {},
   "outputs": [
    {
     "name": "stdout",
     "output_type": "stream",
     "text": [
      "[525.  505.  542.  ... 397.  262.5 365. ]\n",
      "[5.4 5.4 4.8 ... 5.  5.5 5.5]\n"
     ]
    }
   ],
   "source": [
    "X = np.array(dataset['Formula_Index'])\n",
    "Y = np.array(dataset['P_Value'])\n",
    "print(X)\n",
    "print(Y)"
   ]
  },
  {
   "cell_type": "code",
   "execution_count": 4,
   "id": "dd2bed66",
   "metadata": {},
   "outputs": [
    {
     "name": "stdout",
     "output_type": "stream",
     "text": [
      "[[525. ]\n",
      " [505. ]\n",
      " [542. ]\n",
      " ...\n",
      " [397. ]\n",
      " [262.5]\n",
      " [365. ]] [[5.4]\n",
      " [5.4]\n",
      " [4.8]\n",
      " ...\n",
      " [5. ]\n",
      " [5.5]\n",
      " [5.5]]\n"
     ]
    }
   ],
   "source": [
    "X = X.reshape(len(X),1)\n",
    "Y = Y.reshape(len(Y),1)\n",
    "print(X,Y)"
   ]
  },
  {
   "cell_type": "markdown",
   "id": "c3db3d89",
   "metadata": {},
   "source": [
    "### DTR model training"
   ]
  },
  {
   "cell_type": "code",
   "execution_count": 5,
   "id": "70f6693c",
   "metadata": {},
   "outputs": [],
   "source": [
    "from sklearn.model_selection import train_test_split\n",
    "X_train, X_val, y_train, y_val = train_test_split(X, Y)"
   ]
  },
  {
   "cell_type": "code",
   "execution_count": 6,
   "id": "86107818",
   "metadata": {},
   "outputs": [
    {
     "data": {
      "text/plain": [
       "DecisionTreeRegressor(random_state=0)"
      ]
     },
     "execution_count": 6,
     "metadata": {},
     "output_type": "execute_result"
    }
   ],
   "source": [
    "from sklearn.tree import DecisionTreeRegressor\n",
    "from sklearn.metrics import mean_absolute_error\n",
    "from sklearn.metrics import mean_squared_error\n",
    "from sklearn.metrics import r2_score\n",
    "regressor = DecisionTreeRegressor(random_state = 0)\n",
    "regressor.fit(X_train,y_train)"
   ]
  },
  {
   "cell_type": "markdown",
   "id": "eb96c339",
   "metadata": {},
   "source": [
    "### Prediction "
   ]
  },
  {
   "cell_type": "code",
   "execution_count": 7,
   "id": "b5264ee9",
   "metadata": {},
   "outputs": [
    {
     "name": "stdout",
     "output_type": "stream",
     "text": [
      "[5.53333333]\n"
     ]
    }
   ],
   "source": [
    "prediction = regressor.predict([[500]])\n",
    "print(prediction)"
   ]
  },
  {
   "cell_type": "code",
   "execution_count": 8,
   "id": "7652decf",
   "metadata": {},
   "outputs": [
    {
     "name": "stdout",
     "output_type": "stream",
     "text": [
      "[4.2        5.8        5.66666667 5.4        5.4        4.4\n",
      " 6.325      5.2        4.475      5.82       4.         5.46\n",
      " 4.7        4.68333333 4.55       5.7        4.8        5.225\n",
      " 5.1        6.         4.36666667 4.6        5.         4.9\n",
      " 5.775      4.66666667 5.64       5.75       5.2        6.\n",
      " 4.         5.08       7.075      5.8        5.         5.65\n",
      " 4.46666667 5.75       5.41428571 5.01875    5.62727273 4.825\n",
      " 7.86666667 5.2        4.2        3.95       5.3875     4.9\n",
      " 6.85       5.3875     5.         5.26666667 5.17       4.2\n",
      " 5.65       5.66666667 5.33333333 6.1        5.65       5.01875\n",
      " 5.475      5.25       4.         4.1        7.86666667 6.06666667\n",
      " 5.65       4.7        5.31666667 4.475      4.8        4.2\n",
      " 4.6        5.2        6.73333333 5.8        5.32       5.7\n",
      " 5.94285714 4.         4.825      4.4        6.6        5.5\n",
      " 5.01875    4.2        5.         5.16       5.44285714 3.95\n",
      " 5.75       4.68333333 6.         6.15       5.8        5.68571429\n",
      " 4.5        6.6        6.25       4.9        5.25       4.\n",
      " 5.68       4.36       5.46       4.36666667 5.2        5.1\n",
      " 5.26666667 4.         6.45       6.15       5.1        3.9\n",
      " 6.76666667 4.775      4.72857143 6.         4.36666667 5.1\n",
      " 5.2        5.68       5.58       5.1        5.75       5.3\n",
      " 4.5        5.43333333 7.86666667 5.4        5.8        7.55\n",
      " 4.72857143 5.3875     5.45       5.775      5.         5.94285714\n",
      " 5.5        5.52857143 5.45       5.         6.         5.4\n",
      " 4.35       6.1        5.52857143 5.14       4.63333333 4.8\n",
      " 6.7        5.01875    6.         4.3        4.5        4.\n",
      " 5.56666667 5.         4.82       5.5        5.2        6.\n",
      " 4.8        6.7        6.45       4.6        5.2        6.\n",
      " 3.1        5.3875     5.1        6.15       4.         4.82\n",
      " 3.         5.2        5.45       5.4        6.15       4.\n",
      " 6.45       5.33333333 5.08       4.2        4.5        5.\n",
      " 5.14       6.325      6.0125     5.4        5.62727273 6.45\n",
      " 5.52857143 4.975      5.         5.84545455 6.         5.56666667\n",
      " 4.9        5.65       7.5        5.36666667 5.17       7.2\n",
      " 5.32       4.72857143 4.825      6.0125     4.6        5.43333333\n",
      " 5.         5.2        4.275      4.65       6.8        3.1\n",
      " 5.58       5.65       6.8        4.2        6.0125     6.25\n",
      " 4.6        5.01875    6.8        4.88333333 5.5        5.05\n",
      " 5.16       6.1        5.84545455 5.8        5.16       4.05\n",
      " 4.63333333 5.44285714 4.6        4.6        4.46666667 5.93333333\n",
      " 5.         5.6        5.         5.83333333 5.68       6.25\n",
      " 5.68       3.95       4.7        5.56666667 6.25       5.14\n",
      " 5.4        4.9        5.52857143 7.075      5.93333333 5.14\n",
      " 5.         4.5        4.6        4.5        5.55       4.68333333\n",
      " 4.2        0.8       ]\n"
     ]
    }
   ],
   "source": [
    "pred = regressor.predict(X_val)\n",
    "print(pred)"
   ]
  },
  {
   "cell_type": "code",
   "execution_count": 9,
   "id": "c114ffe6",
   "metadata": {},
   "outputs": [
    {
     "name": "stdout",
     "output_type": "stream",
     "text": [
      "MSE 2.0878614732935223\n",
      "MAE 1.0696227785372523\n",
      "r2_score -0.3659295817088355\n"
     ]
    }
   ],
   "source": [
    "# mse , mae and r2_score values\n",
    "mae_value = mean_absolute_error(y_val, pred)\n",
    "mse_value = mean_squared_error(y_val, pred)\n",
    "r2_score_value = r2_score(y_val, pred)\n",
    "# Total error with mse , mae and r2_score\n",
    "print(f\"MSE {mse_value}\")\n",
    "print(f\"MAE {mae_value}\")\n",
    "print(f\"r2_score {r2_score_value}\")"
   ]
  },
  {
   "cell_type": "markdown",
   "id": "4c3ac75c",
   "metadata": {},
   "source": [
    "### Visulization"
   ]
  },
  {
   "cell_type": "code",
   "execution_count": 10,
   "id": "735b5040",
   "metadata": {},
   "outputs": [
    {
     "data": {
      "image/png": "[encoded data removed]",
      "text/plain": [
       "<Figure size 432x288 with 1 Axes>"
      ]
     },
     "metadata": {
      "needs_background": "light"
     },
     "output_type": "display_data"
    }
   ],
   "source": [
    "plt.plot(pred,color = 'Blue')\n",
    "plt.plot(y_val, color = 'red')\n",
    "plt.title(\"Decision Tree Regression Model For P\")\n",
    "plt.legend(['Predicted P values', 'Actual P Values'], loc='upper left')\n",
    "plt.xlabel('Formula indexes')\n",
    "plt.ylabel('P values')\n",
    "plt.savefig(\"DTRmodelForPestimationUsingFormula.jpg\")"
   ]
  },
  {
   "cell_type": "code",
   "execution_count": null,
   "id": "1c5ebbbe",
   "metadata": {},
   "outputs": [],
   "source": []
  },
  {
   "cell_type": "code",
   "execution_count": null,
   "id": "4f4c7b6b",
   "metadata": {},
   "outputs": [],
   "source": []
  },
  {
   "cell_type": "code",
   "execution_count": null,
   "id": "47c19473",
   "metadata": {},
   "outputs": [],
   "source": []
  },
  {
   "cell_type": "code",
   "execution_count": null,
   "id": "dae53a08",
   "metadata": {},
   "outputs": [],
   "source": []
  },
  {
   "cell_type": "code",
   "execution_count": null,
   "id": "a8f0bfd1",
   "metadata": {},
   "outputs": [],
   "source": []
  },
  {
   "cell_type": "code",
   "execution_count": null,
   "id": "2abab865",
   "metadata": {},
   "outputs": [],
   "source": []
  },
  {
   "cell_type": "code",
   "execution_count": null,
   "id": "f3218a40",
   "metadata": {},
   "outputs": [],
   "source": []
  },
  {
   "cell_type": "code",
   "execution_count": null,
   "id": "13ff1f7a",
   "metadata": {},
   "outputs": [],
   "source": []
  },
  {
   "cell_type": "code",
   "execution_count": null,
   "id": "f707d222",
   "metadata": {},
   "outputs": [],
   "source": []
  },
  {
   "cell_type": "code",
   "execution_count": null,
   "id": "c0f588f5",
   "metadata": {},
   "outputs": [],
   "source": []
  }
 ],
 "metadata": {
  "kernelspec": {
   "display_name": "Python 3 (ipykernel)",
   "language": "python",
   "name": "python3"
  },
  "language_info": {
   "codemirror_mode": {
    "name": "ipython",
    "version": 3
   },
   "file_extension": ".py",
   "mimetype": "text/x-python",
   "name": "python",
   "nbconvert_exporter": "python",
   "pygments_lexer": "ipython3",
   "version": "3.8.12"
  }
 },
 "nbformat": 4,
 "nbformat_minor": 5
}
