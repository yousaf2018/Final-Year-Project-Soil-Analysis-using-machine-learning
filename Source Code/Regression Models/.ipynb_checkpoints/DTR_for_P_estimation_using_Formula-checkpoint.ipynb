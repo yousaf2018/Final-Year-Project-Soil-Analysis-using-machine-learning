{
 "cells": [
  {
   "cell_type": "markdown",
   "id": "2f2bd941",
   "metadata": {},
   "source": [
    "### Libraries for dataset manipulation and visulization"
   ]
  },
  {
   "cell_type": "code",
   "execution_count": 1,
   "id": "bec3ab18",
   "metadata": {},
   "outputs": [],
   "source": [
    "import numpy as np\n",
    "import pandas as pd\n",
    "import matplotlib.pyplot as plt"
   ]
  },
  {
   "cell_type": "markdown",
   "id": "6a25f32e",
   "metadata": {},
   "source": [
    "### Dataset Loading"
   ]
  },
  {
   "cell_type": "code",
   "execution_count": 2,
   "id": "5e00c17d",
   "metadata": {},
   "outputs": [],
   "source": [
    "dataset = pd.read_csv('C:\\\\Users\\\\Mahmood Yousaf\\\\Desktop\\\\FYP\\\\Final-Year-Project-Soil-Analysis-using-machine-learning\\\\Extracted Features\\\\Formula_Index_with_P_value.csv')"
   ]
  },
  {
   "cell_type": "markdown",
   "id": "44d666b2",
   "metadata": {},
   "source": [
    "### Preprocessing on dataset"
   ]
  },
  {
   "cell_type": "code",
   "execution_count": 3,
   "id": "bef79ea3",
   "metadata": {},
   "outputs": [
    {
     "name": "stdout",
     "output_type": "stream",
     "text": [
      "[525.  505.  542.  ... 397.  262.5 365. ]\n",
      "[5.4 5.4 4.8 ... 5.  5.5 5.5]\n"
     ]
    }
   ],
   "source": [
    "X = np.array(dataset['Formula_Index'])\n",
    "Y = np.array(dataset['P_Value'])\n",
    "print(X)\n",
    "print(Y)"
   ]
  },
  {
   "cell_type": "code",
   "execution_count": 4,
   "id": "dd2bed66",
   "metadata": {},
   "outputs": [
    {
     "name": "stdout",
     "output_type": "stream",
     "text": [
      "[[525. ]\n",
      " [505. ]\n",
      " [542. ]\n",
      " ...\n",
      " [397. ]\n",
      " [262.5]\n",
      " [365. ]] [[5.4]\n",
      " [5.4]\n",
      " [4.8]\n",
      " ...\n",
      " [5. ]\n",
      " [5.5]\n",
      " [5.5]]\n"
     ]
    }
   ],
   "source": [
    "X = X.reshape(len(X),1)\n",
    "Y = Y.reshape(len(Y),1)\n",
    "print(X,Y)"
   ]
  },
  {
   "cell_type": "markdown",
   "id": "c3db3d89",
   "metadata": {},
   "source": [
    "### DTR model training"
   ]
  },
  {
   "cell_type": "code",
   "execution_count": 5,
   "id": "70f6693c",
   "metadata": {},
   "outputs": [],
   "source": [
    "from sklearn.model_selection import train_test_split\n",
    "X_train, X_val, y_train, y_val = train_test_split(X, Y)"
   ]
  },
  {
   "cell_type": "code",
   "execution_count": 6,
   "id": "86107818",
   "metadata": {},
   "outputs": [
    {
     "data": {
      "text/plain": [
       "DecisionTreeRegressor(random_state=0)"
      ]
     },
     "execution_count": 6,
     "metadata": {},
     "output_type": "execute_result"
    }
   ],
   "source": [
    "from sklearn.tree import DecisionTreeRegressor\n",
    "from sklearn.metrics import mean_absolute_error\n",
    "from sklearn.metrics import mean_squared_error\n",
    "from sklearn.metrics import r2_score\n",
    "regressor = DecisionTreeRegressor(random_state = 0)\n",
    "regressor.fit(X_train,y_train)"
   ]
  },
  {
   "cell_type": "markdown",
   "id": "eb96c339",
   "metadata": {},
   "source": [
    "### Prediction "
   ]
  },
  {
   "cell_type": "code",
   "execution_count": 7,
   "id": "b5264ee9",
   "metadata": {},
   "outputs": [
    {
     "name": "stdout",
     "output_type": "stream",
     "text": [
      "[5.]\n"
     ]
    }
   ],
   "source": [
    "prediction = regressor.predict([[500]])\n",
    "print(prediction)"
   ]
  },
  {
   "cell_type": "code",
   "execution_count": 8,
   "id": "7652decf",
   "metadata": {},
   "outputs": [
    {
     "name": "stdout",
     "output_type": "stream",
     "text": [
      "[4.85       4.56666667 5.3        5.625      4.9        6.6\n",
      " 8.         5.74       4.8        4.675      4.1        4.87142857\n",
      " 4.87142857 5.45       5.84444444 5.28       5.32       6.\n",
      " 5.23333333 5.76666667 5.7        4.5        5.46666667 4.8\n",
      " 5.06666667 4.7        5.26666667 4.41428571 4.36666667 5.56666667\n",
      " 5.55       4.95       5.33333333 3.8        5.64       4.85\n",
      " 4.87142857 4.2        5.68       6.6        4.63333333 4.9625\n",
      " 4.26       5.2        4.63333333 4.9625     6.65       6.1\n",
      " 5.05       5.33333333 5.16       5.3        4.87142857 5.9\n",
      " 5.84444444 4.85       4.93333333 5.28       4.56666667 4.4\n",
      " 5.825      6.         4.26       5.84444444 5.65       4.85\n",
      " 5.34375    5.36666667 4.36       5.05       4.68333333 5.84\n",
      " 5.42857143 4.         4.87142857 5.         4.63333333 4.675\n",
      " 3.85       5.5        5.46       5.1        5.7        5.46\n",
      " 5.11111111 4.95       5.9        4.8        4.6        5.34375\n",
      " 7.4        3.7        6.36       6.6        5.62       4.3\n",
      " 4.65555556 5.64       5.45       4.8        4.87142857 5.68\n",
      " 5.2        3.8        5.         5.34375    6.65       5.76666667\n",
      " 4.26       4.6        5.8        5.34375    5.42       6.6\n",
      " 5.34375    5.5875     7.5        5.11111111 5.         5.2\n",
      " 4.45       4.7        6.73333333 4.2        5.68       5.5\n",
      " 5.5875     8.4        5.45       6.4875     5.68       5.2\n",
      " 5.4        4.6        4.65       5.7        5.8        5.8\n",
      " 5.8        5.68888889 3.8        5.84444444 4.3        5.8\n",
      " 5.13333333 4.9        5.6        4.41428571 4.36666667 4.4\n",
      " 6.6        5.05       5.2        5.1        4.1        4.55\n",
      " 2.4        5.         5.2        3.6        5.19       3.8\n",
      " 6.         5.2        5.5875     5.45       4.68333333 4.2\n",
      " 5.825      5.825      5.26666667 6.5        3.         3.6\n",
      " 5.7        6.36       4.05       8.2        5.2        6.1\n",
      " 6.8        5.15       5.5        5.42857143 5.3        5.2\n",
      " 4.55       4.4        3.85       4.2        5.74       4.8\n",
      " 4.63333333 6.7        4.62857143 4.2        5.1        4.76666667\n",
      " 4.975      5.3        5.68       5.8        4.1        5.42857143\n",
      " 4.76666667 4.33333333 6.8        5.7        4.98571429 3.6\n",
      " 4.675      4.98571429 5.8        4.36       4.76666667 5.68\n",
      " 5.74       4.3        5.11111111 4.56666667 4.87142857 5.16\n",
      " 5.76666667 4.3        3.6        4.3        5.66666667 5.42\n",
      " 6.4875     4.75       5.7        3.6        4.65       5.1\n",
      " 5.         3.9        5.2        5.64       4.6        4.9\n",
      " 5.36666667 4.         6.6        6.1        6.1        4.95\n",
      " 6.65       5.9        5.68888889 8.         4.91666667 5.7\n",
      " 4.56666667 5.76       4.6        4.76666667 5.42857143 3.85\n",
      " 4.1        5.46666667 8.8        5.32       5.83333333 4.1\n",
      " 5.11111111 5.6       ]\n"
     ]
    }
   ],
   "source": [
    "pred = regressor.predict(X_val)\n",
    "print(pred)"
   ]
  },
  {
   "cell_type": "code",
   "execution_count": 9,
   "id": "c114ffe6",
   "metadata": {},
   "outputs": [
    {
     "name": "stdout",
     "output_type": "stream",
     "text": [
      "MSE 2.033650474176809\n",
      "MAE 1.064236260293591\n",
      "r2_score -0.4329518841335034\n"
     ]
    }
   ],
   "source": [
    "# mse , mae and r2_score values\n",
    "mae_value = mean_absolute_error(y_val, pred)\n",
    "mse_value = mean_squared_error(y_val, pred)\n",
    "r2_score_value = r2_score(y_val, pred)\n",
    "# Total error with mse , mae and r2_score\n",
    "print(f\"MSE {mse_value}\")\n",
    "print(f\"MAE {mae_value}\")\n",
    "print(f\"r2_score {r2_score_value}\")"
   ]
  },
  {
   "cell_type": "markdown",
   "id": "4c3ac75c",
   "metadata": {},
   "source": [
    "### Visulization"
   ]
  },
  {
   "cell_type": "code",
   "execution_count": 10,
   "id": "735b5040",
   "metadata": {},
   "outputs": [
    {
     "data": {
      "image/png": "[encoded data removed]",
      "text/plain": [
       "<Figure size 432x288 with 1 Axes>"
      ]
     },
     "metadata": {
      "needs_background": "light"
     },
     "output_type": "display_data"
    }
   ],
   "source": [
    "plt.plot(pred,color = 'Blue')\n",
    "plt.plot(y_val, color = 'red')\n",
    "plt.title(\"Decision Tree Regression Model For P\")\n",
    "plt.legend(['Predicted P values', 'Actual P Values'], loc='upper left')\n",
    "plt.xlabel('Number of samples')\n",
    "plt.ylabel('P values')\n",
    "plt.savefig(\"DTRmodelForPestimationUsingFormula.jpg\")"
   ]
  },
  {
   "cell_type": "code",
   "execution_count": null,
   "id": "1c5ebbbe",
   "metadata": {},
   "outputs": [],
   "source": []
  },
  {
   "cell_type": "code",
   "execution_count": null,
   "id": "4f4c7b6b",
   "metadata": {},
   "outputs": [],
   "source": []
  },
  {
   "cell_type": "code",
   "execution_count": null,
   "id": "47c19473",
   "metadata": {},
   "outputs": [],
   "source": []
  },
  {
   "cell_type": "code",
   "execution_count": null,
   "id": "dae53a08",
   "metadata": {},
   "outputs": [],
   "source": []
  },
  {
   "cell_type": "code",
   "execution_count": null,
   "id": "a8f0bfd1",
   "metadata": {},
   "outputs": [],
   "source": []
  },
  {
   "cell_type": "code",
   "execution_count": null,
   "id": "2abab865",
   "metadata": {},
   "outputs": [],
   "source": []
  },
  {
   "cell_type": "code",
   "execution_count": null,
   "id": "f3218a40",
   "metadata": {},
   "outputs": [],
   "source": []
  },
  {
   "cell_type": "code",
   "execution_count": null,
   "id": "13ff1f7a",
   "metadata": {},
   "outputs": [],
   "source": []
  },
  {
   "cell_type": "code",
   "execution_count": null,
   "id": "f707d222",
   "metadata": {},
   "outputs": [],
   "source": []
  },
  {
   "cell_type": "code",
   "execution_count": null,
   "id": "c0f588f5",
   "metadata": {},
   "outputs": [],
   "source": []
  }
 ],
 "metadata": {
  "kernelspec": {
   "display_name": "Python 3 (ipykernel)",
   "language": "python",
   "name": "python3"
  },
  "language_info": {
   "codemirror_mode": {
    "name": "ipython",
    "version": 3
   },
   "file_extension": ".py",
   "mimetype": "text/x-python",
   "name": "python",
   "nbconvert_exporter": "python",
   "pygments_lexer": "ipython3",
   "version": "3.8.12"
  }
 },
 "nbformat": 4,
 "nbformat_minor": 5
}
