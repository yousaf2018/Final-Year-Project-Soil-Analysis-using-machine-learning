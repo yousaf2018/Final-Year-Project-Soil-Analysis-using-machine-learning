{
 "cells": [
  {
   "cell_type": "markdown",
   "id": "2f2bd941",
   "metadata": {},
   "source": [
    "### Libraries for dataset manipulation and visulization"
   ]
  },
  {
   "cell_type": "code",
   "execution_count": 1,
   "id": "bec3ab18",
   "metadata": {},
   "outputs": [],
   "source": [
    "import numpy as np\n",
    "import pandas as pd\n",
    "import matplotlib.pyplot as plt"
   ]
  },
  {
   "cell_type": "markdown",
   "id": "6a25f32e",
   "metadata": {},
   "source": [
    "### Dataset Loading"
   ]
  },
  {
   "cell_type": "code",
   "execution_count": 2,
   "id": "5e00c17d",
   "metadata": {},
   "outputs": [],
   "source": [
    "dataset = pd.read_csv('C:\\\\Users\\\\Mahmood Yousaf\\\\Desktop\\\\FYP\\\\Final-Year-Project-Soil-Analysis-using-machine-learning\\\\Extracted Features\\\\Ph_Index_with_Ph_value.csv')"
   ]
  },
  {
   "cell_type": "markdown",
   "id": "44d666b2",
   "metadata": {},
   "source": [
    "### Preprocessing on dataset"
   ]
  },
  {
   "cell_type": "code",
   "execution_count": 3,
   "id": "bef79ea3",
   "metadata": {},
   "outputs": [
    {
     "name": "stdout",
     "output_type": "stream",
     "text": [
      "[0.00703939 0.0073076  0.00680586 ... 0.00868003 0.0176074  0.01053636]\n",
      "[7.9 7.9 7.9 ... 7.7 7.7 7.7]\n"
     ]
    }
   ],
   "source": [
    "X = np.array(dataset['PH_Index'])\n",
    "Y = np.array(dataset['PH_Value'])\n",
    "print(X)\n",
    "print(Y)"
   ]
  },
  {
   "cell_type": "code",
   "execution_count": 4,
   "id": "dd2bed66",
   "metadata": {},
   "outputs": [
    {
     "name": "stdout",
     "output_type": "stream",
     "text": [
      "[[0.00703939]\n",
      " [0.0073076 ]\n",
      " [0.00680586]\n",
      " ...\n",
      " [0.00868003]\n",
      " [0.0176074 ]\n",
      " [0.01053636]] [[7.9]\n",
      " [7.9]\n",
      " [7.9]\n",
      " ...\n",
      " [7.7]\n",
      " [7.7]\n",
      " [7.7]]\n"
     ]
    }
   ],
   "source": [
    "X = X.reshape(len(X),1)\n",
    "Y = Y.reshape(len(Y),1)\n",
    "print(X,Y)"
   ]
  },
  {
   "cell_type": "markdown",
   "id": "c3db3d89",
   "metadata": {},
   "source": [
    "### DTR model training"
   ]
  },
  {
   "cell_type": "code",
   "execution_count": 5,
   "id": "ab6201fd",
   "metadata": {},
   "outputs": [],
   "source": [
    "from sklearn.model_selection import train_test_split\n",
    "X_train, X_val, y_train, y_val = train_test_split(X, Y)"
   ]
  },
  {
   "cell_type": "code",
   "execution_count": 6,
   "id": "70f6693c",
   "metadata": {},
   "outputs": [
    {
     "data": {
      "text/plain": [
       "DecisionTreeRegressor(random_state=0)"
      ]
     },
     "execution_count": 6,
     "metadata": {},
     "output_type": "execute_result"
    }
   ],
   "source": [
    "from sklearn.tree import DecisionTreeRegressor\n",
    "from sklearn.metrics import mean_absolute_error\n",
    "from sklearn.metrics import mean_squared_error\n",
    "from sklearn.metrics import r2_score\n",
    "regressor = DecisionTreeRegressor(random_state = 0)\n",
    "regressor.fit(X_train,y_train)"
   ]
  },
  {
   "cell_type": "markdown",
   "id": "eb96c339",
   "metadata": {},
   "source": [
    "### Prediction "
   ]
  },
  {
   "cell_type": "code",
   "execution_count": 7,
   "id": "b5264ee9",
   "metadata": {},
   "outputs": [
    {
     "name": "stdout",
     "output_type": "stream",
     "text": [
      "[7.8]\n"
     ]
    }
   ],
   "source": [
    "prediction = regressor.predict([[530]])\n",
    "print(prediction)"
   ]
  },
  {
   "cell_type": "code",
   "execution_count": 8,
   "id": "b79d09dc",
   "metadata": {},
   "outputs": [
    {
     "name": "stdout",
     "output_type": "stream",
     "text": [
      "[7.9        7.6        8.2        7.7        8.         7.5\n",
      " 7.7        8.1        7.8        8.         7.9        7.9\n",
      " 7.7        7.6        7.8        7.9        7.6        7.8\n",
      " 8.         7.5        8.         8.         7.7        7.8\n",
      " 7.8        7.4        7.8        7.7        7.6        8.1\n",
      " 7.6        7.7        7.9        7.8        7.6        8.1\n",
      " 7.8        7.7        7.8        7.8        7.7        8.2\n",
      " 7.9        8.         7.8        7.8        7.6        7.7\n",
      " 7.7        8.         7.8        7.9        7.9        7.8\n",
      " 7.9        7.7        7.7        7.9        8.         7.8\n",
      " 7.7        8.         8.         7.9        7.8        7.7\n",
      " 7.8        7.3        7.6        7.8        8.1        8.1\n",
      " 7.6        7.7        7.6        8.2        7.8        7.6\n",
      " 7.7        7.6        8.         7.9        8.         8.\n",
      " 7.8        7.9        7.6        7.8        7.8        7.9\n",
      " 7.6        7.7        7.7        7.6        7.8        8.3\n",
      " 7.8        8.         7.8        7.6        7.6        8.\n",
      " 8.         7.7        7.7        8.         8.         8.1\n",
      " 8.         7.8        7.7        7.7        7.8        7.6\n",
      " 7.7        7.8        7.9        7.9        7.7        8.\n",
      " 7.8        7.7        7.7        7.5        7.7        7.65\n",
      " 7.8        8.         7.7        7.5        7.9        8.\n",
      " 7.9        7.9        7.5        7.5        7.6        7.9\n",
      " 8.         7.9        7.8        7.6        7.9        7.65\n",
      " 8.2        7.8        7.75       7.8        7.9        7.8\n",
      " 7.7        7.6        8.         7.8        7.9        7.6\n",
      " 7.9        7.9        7.7        8.         7.8        8.\n",
      " 7.9        7.9        7.5        7.9        7.8        7.9\n",
      " 7.7        7.8        8.1        8.2        7.7        7.6\n",
      " 7.9        8.         8.         7.9        7.9        7.9\n",
      " 7.8        7.9        7.9        7.9        7.9        7.7\n",
      " 7.8        7.7        7.7        7.9        7.9        7.7\n",
      " 7.6        7.6        7.8        7.9        7.9        7.8\n",
      " 7.7        7.5        8.         8.         7.5        7.7\n",
      " 8.         7.6        7.7        7.7        7.8        7.8\n",
      " 7.9        7.9        7.63333333 7.9        7.9        7.8\n",
      " 7.7        7.9        7.9        7.9        8.2        8.1\n",
      " 7.6        7.7        8.2        7.75       7.8        7.7\n",
      " 7.7        7.7        7.6        7.6        7.9        7.8\n",
      " 8.1        7.3        7.9        7.6        7.6        7.5\n",
      " 8.1        8.1        8.1        7.8        7.9        7.6\n",
      " 7.8        7.9        7.9        8.1        7.7        7.8\n",
      " 7.9        8.         7.9        8.         7.7        7.6\n",
      " 7.7        8.         7.4        7.9        8.2        7.9\n",
      " 7.8        7.5       ]\n"
     ]
    }
   ],
   "source": [
    "pred = regressor.predict(X_val)\n",
    "print(pred)"
   ]
  },
  {
   "cell_type": "code",
   "execution_count": 12,
   "id": "7652decf",
   "metadata": {},
   "outputs": [
    {
     "name": "stdout",
     "output_type": "stream",
     "text": [
      "MSE 0.04284878863826232\n",
      "MAE 0.14423558897243108\n",
      "r2_score -0.4471917787876085\n"
     ]
    }
   ],
   "source": [
    "# mse , mae and r2_score values\n",
    "mae_value = mean_absolute_error(y_val, pred)\n",
    "mse_value = mean_squared_error(y_val, pred)\n",
    "r2_score_value = r2_score(y_val, pred)\n",
    "# Total error with mse , mae and r2_score\n",
    "print(f\"MSE {mse_value}\")\n",
    "print(f\"MAE {mae_value}\")\n",
    "print(f\"r2_score {r2_score_value}\")"
   ]
  },
  {
   "cell_type": "code",
   "execution_count": null,
   "id": "5849af3c",
   "metadata": {},
   "outputs": [],
   "source": []
  },
  {
   "cell_type": "markdown",
   "id": "4c3ac75c",
   "metadata": {},
   "source": [
    "### Visulization"
   ]
  },
  {
   "cell_type": "code",
   "execution_count": 10,
   "id": "735b5040",
   "metadata": {},
   "outputs": [
    {
     "data": {
      "image/png": "[encoded data removed]",
      "text/plain": [
       "<Figure size 432x288 with 1 Axes>"
      ]
     },
     "metadata": {
      "needs_background": "light"
     },
     "output_type": "display_data"
    }
   ],
   "source": [
    "plt.plot(pred,color = 'Blue')\n",
    "plt.plot(y_val, color = 'red')\n",
    "plt.title(\"Decision Tree Regression Model\")\n",
    "plt.legend(['Predicted pH values', 'Actual pH Values'], loc='upper left')\n",
    "plt.xlabel('Number of samples')\n",
    "plt.ylabel('pH values')\n",
    "plt.savefig(\"DTRmodelForpHestimationUsingPHIndexes.jpg\")"
   ]
  },
  {
   "cell_type": "code",
   "execution_count": 11,
   "id": "1c5ebbbe",
   "metadata": {},
   "outputs": [
    {
     "data": {
      "text/plain": [
       "(266, 1)"
      ]
     },
     "execution_count": 11,
     "metadata": {},
     "output_type": "execute_result"
    }
   ],
   "source": [
    "y_val.shape"
   ]
  },
  {
   "cell_type": "code",
   "execution_count": null,
   "id": "b6612d57",
   "metadata": {},
   "outputs": [],
   "source": []
  },
  {
   "cell_type": "code",
   "execution_count": null,
   "id": "089c6434",
   "metadata": {},
   "outputs": [],
   "source": []
  },
  {
   "cell_type": "code",
   "execution_count": null,
   "id": "4b64f2c2",
   "metadata": {},
   "outputs": [],
   "source": []
  },
  {
   "cell_type": "code",
   "execution_count": null,
   "id": "a72ddd34",
   "metadata": {},
   "outputs": [],
   "source": []
  },
  {
   "cell_type": "code",
   "execution_count": null,
   "id": "9397fcfc",
   "metadata": {},
   "outputs": [],
   "source": []
  }
 ],
 "metadata": {
  "kernelspec": {
   "display_name": "Python 3 (ipykernel)",
   "language": "python",
   "name": "python3"
  },
  "language_info": {
   "codemirror_mode": {
    "name": "ipython",
    "version": 3
   },
   "file_extension": ".py",
   "mimetype": "text/x-python",
   "name": "python",
   "nbconvert_exporter": "python",
   "pygments_lexer": "ipython3",
   "version": "3.8.12"
  }
 },
 "nbformat": 4,
 "nbformat_minor": 5
}
