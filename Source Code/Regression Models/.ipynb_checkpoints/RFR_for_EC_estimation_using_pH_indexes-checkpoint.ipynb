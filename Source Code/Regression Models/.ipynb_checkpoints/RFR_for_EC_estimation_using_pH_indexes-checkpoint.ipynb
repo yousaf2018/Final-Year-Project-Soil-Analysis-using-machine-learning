{
 "cells": [
  {
   "cell_type": "markdown",
   "id": "2f2bd941",
   "metadata": {},
   "source": [
    "### Libraries for dataset manipulation and visulization"
   ]
  },
  {
   "cell_type": "code",
   "execution_count": 1,
   "id": "bec3ab18",
   "metadata": {},
   "outputs": [],
   "source": [
    "import numpy as np\n",
    "import pandas as pd\n",
    "import matplotlib.pyplot as plt"
   ]
  },
  {
   "cell_type": "markdown",
   "id": "6a25f32e",
   "metadata": {},
   "source": [
    "### Dataset Loading"
   ]
  },
  {
   "cell_type": "code",
   "execution_count": 2,
   "id": "5e00c17d",
   "metadata": {},
   "outputs": [],
   "source": [
    "dataset = pd.read_csv('C:\\\\Users\\\\Mahmood Yousaf\\\\Desktop\\\\FYP\\\\Final-Year-Project-Soil-Analysis-using-machine-learning\\\\Extracted Features\\\\pH_Index_with_EC_value.csv')"
   ]
  },
  {
   "cell_type": "markdown",
   "id": "44d666b2",
   "metadata": {},
   "source": [
    "### Preprocessing on dataset"
   ]
  },
  {
   "cell_type": "code",
   "execution_count": 3,
   "id": "bef79ea3",
   "metadata": {},
   "outputs": [
    {
     "name": "stdout",
     "output_type": "stream",
     "text": [
      "[0.00703939 0.0073076  0.00680586 ... 0.00868003 0.0176074  0.01053636]\n",
      "[0.54 0.54 0.55 ... 1.1  0.45 0.45]\n"
     ]
    }
   ],
   "source": [
    "X = np.array(dataset['pH_Index'])\n",
    "Y = np.array(dataset['EC_Value'])\n",
    "print(X)\n",
    "print(Y)"
   ]
  },
  {
   "cell_type": "code",
   "execution_count": 4,
   "id": "dd2bed66",
   "metadata": {},
   "outputs": [
    {
     "name": "stdout",
     "output_type": "stream",
     "text": [
      "[[0.00703939]\n",
      " [0.0073076 ]\n",
      " [0.00680586]\n",
      " ...\n",
      " [0.00868003]\n",
      " [0.0176074 ]\n",
      " [0.01053636]] [[0.54]\n",
      " [0.54]\n",
      " [0.55]\n",
      " ...\n",
      " [1.1 ]\n",
      " [0.45]\n",
      " [0.45]]\n"
     ]
    }
   ],
   "source": [
    "X = X.reshape(len(X),1)\n",
    "Y = Y.reshape(len(Y),1)\n",
    "print(X,Y)"
   ]
  },
  {
   "cell_type": "markdown",
   "id": "c3db3d89",
   "metadata": {},
   "source": [
    "### DTR model training"
   ]
  },
  {
   "cell_type": "code",
   "execution_count": 5,
   "id": "70f6693c",
   "metadata": {},
   "outputs": [],
   "source": [
    "from sklearn.model_selection import train_test_split\n",
    "X_train, X_val, y_train, y_val = train_test_split(X, Y)"
   ]
  },
  {
   "cell_type": "code",
   "execution_count": 6,
   "id": "86107818",
   "metadata": {},
   "outputs": [
    {
     "name": "stderr",
     "output_type": "stream",
     "text": [
      "C:\\Users\\MAHMOO~1\\AppData\\Local\\Temp/ipykernel_13488/4034448984.py:3: DataConversionWarning: A column-vector y was passed when a 1d array was expected. Please change the shape of y to (n_samples,), for example using ravel().\n",
      "  regressor.fit(X_train,y_train)\n"
     ]
    },
    {
     "data": {
      "text/plain": [
       "RandomForestRegressor(n_estimators=50, random_state=0)"
      ]
     },
     "execution_count": 6,
     "metadata": {},
     "output_type": "execute_result"
    }
   ],
   "source": [
    "from sklearn.ensemble import RandomForestRegressor\n",
    "regressor = RandomForestRegressor(n_estimators=50, random_state = 0)\n",
    "regressor.fit(X_train,y_train)"
   ]
  },
  {
   "cell_type": "markdown",
   "id": "eb96c339",
   "metadata": {},
   "source": [
    "### Prediction "
   ]
  },
  {
   "cell_type": "code",
   "execution_count": 7,
   "id": "b5264ee9",
   "metadata": {},
   "outputs": [
    {
     "name": "stdout",
     "output_type": "stream",
     "text": [
      "[1.268]\n"
     ]
    }
   ],
   "source": [
    "prediction = regressor.predict([[500]])\n",
    "print(prediction)"
   ]
  },
  {
   "cell_type": "code",
   "execution_count": 8,
   "id": "7652decf",
   "metadata": {},
   "outputs": [
    {
     "name": "stdout",
     "output_type": "stream",
     "text": [
      "[0.5778     0.50386343 2.3908     0.47119333 0.95732    0.8143\n",
      " 1.1184     0.8474     1.1102     0.6855     0.30682    1.07841333\n",
      " 1.23328    0.9006     0.9426     0.3702     1.59457333 0.3698\n",
      " 0.316      1.6824     1.122      1.1802     1.2481     0.41758\n",
      " 1.587      0.4166     0.3232     1.6658     1.3184     0.806\n",
      " 0.9316     0.88324    0.2644     0.7058     0.472443   0.921\n",
      " 1.1798     0.5396     2.3908     1.0156     1.1972     1.188\n",
      " 1.1324     0.7205     0.3802     0.711      0.8052     0.8956\n",
      " 0.6922     1.4828     1.6824     1.1972     0.2644     1.20483333\n",
      " 1.4964     0.7634     0.8664     1.0766     0.95732    0.4298\n",
      " 0.4468     1.0964     8.373      0.7794     0.8153     1.3942\n",
      " 1.1169     0.4596     1.1822     0.67284    0.1676     1.7256\n",
      " 0.6398     0.7538     1.1054     0.8398     0.4908     0.9068\n",
      " 0.91324    1.0728     0.8176     0.7662     0.3046     1.02192\n",
      " 0.65128    1.2144     1.4282     0.8514     1.3386     1.0728\n",
      " 0.5482     0.5835     0.59228    8.373      1.2172     0.89748\n",
      " 0.895      1.2678     0.4512     1.0524     0.49682    0.9894\n",
      " 1.142752   0.54582    1.1798     0.6542     0.245      0.38359333\n",
      " 1.043      1.4206     0.4882     0.87718    1.3104     0.64628\n",
      " 1.5912     9.9814     1.6074     0.5482     0.2434     0.51884\n",
      " 1.22848667 0.472443   0.6518     1.177      0.8458     1.0416\n",
      " 0.946      1.2318     1.23606857 0.6356     0.9746     0.9116\n",
      " 0.6308     0.8358     1.0014     0.89108571 1.142752   1.4964\n",
      " 0.483325   0.8168     0.98654    0.7582     1.0628     0.59554\n",
      " 2.9008     0.717      0.2886     0.3398     1.2183     1.54006857\n",
      " 1.1802     1.86762    1.2392     0.713      1.2994     1.0298\n",
      " 0.4864     1.3654     0.9496     1.043      1.7342     0.4731\n",
      " 0.89108    1.7588     0.8856     0.484      0.89108    0.3056\n",
      " 0.726      0.46444    1.4074     0.8        0.9946     0.438\n",
      " 0.9074     1.1564     0.9496     0.5536     0.8558     1.3954\n",
      " 1.177      0.6672     0.574      0.551      0.9116     0.4362\n",
      " 1.0512     1.1822     1.142752   1.4138     0.7032     0.8\n",
      " 0.3188     0.5422     1.1208     6.75       0.8052     0.8918\n",
      " 0.3046     0.916      2.014      1.1454     0.825      3.7654\n",
      " 0.9112     0.71604    0.311      0.3292     1.862      2.594\n",
      " 0.8642     1.98616    1.6858     1.1748     1.8702     1.14045\n",
      " 1.2678     0.7058     0.8456     0.8456     0.5074     0.895\n",
      " 1.0182     1.144      1.306      1.567      1.0394     0.9988\n",
      " 0.83228    1.0016     2.3908     0.5945     0.32932    0.4264\n",
      " 0.81086667 0.6562     2.3908     0.6016     0.4298     1.1895\n",
      " 1.0378     0.6466     0.6922     0.93672    0.56       0.8558\n",
      " 0.50386343 0.952      0.4094     0.9116     0.9746     0.9006\n",
      " 0.9244     1.144      1.0964     1.469      0.5835     1.6876\n",
      " 0.245      0.711      2.528      0.3188     3.2206     1.171\n",
      " 0.2064     0.8168    ]\n"
     ]
    }
   ],
   "source": [
    "pred = regressor.predict(X_val)\n",
    "print(pred)"
   ]
  },
  {
   "cell_type": "markdown",
   "id": "4c3ac75c",
   "metadata": {},
   "source": [
    "### Visulization"
   ]
  },
  {
   "cell_type": "code",
   "execution_count": 9,
   "id": "735b5040",
   "metadata": {},
   "outputs": [
    {
     "data": {
      "image/png": "[encoded data removed]",
      "text/plain": [
       "<Figure size 432x288 with 1 Axes>"
      ]
     },
     "metadata": {
      "needs_background": "light"
     },
     "output_type": "display_data"
    }
   ],
   "source": [
    "plt.plot(pred,color = 'Blue')\n",
    "plt.plot(y_val, color = 'red')\n",
    "plt.title(\"Random Forest Regression Model For EC\")\n",
    "plt.legend(['Predicted EC values', 'Actual EC Values'], loc='upper left')\n",
    "plt.xlabel('PH indexes')\n",
    "plt.ylabel('EC values')\n",
    "plt.savefig(\"RFRmodelForECestimationUsingpHIndexes.jpg\")"
   ]
  },
  {
   "cell_type": "code",
   "execution_count": 10,
   "id": "1c5ebbbe",
   "metadata": {},
   "outputs": [
    {
     "data": {
      "text/plain": [
       "0.016491723649963097"
      ]
     },
     "execution_count": 10,
     "metadata": {},
     "output_type": "execute_result"
    }
   ],
   "source": [
    "from sklearn.metrics import r2_score\n",
    "r2_score(y_val,pred)"
   ]
  },
  {
   "cell_type": "code",
   "execution_count": 11,
   "id": "4f4c7b6b",
   "metadata": {},
   "outputs": [
    {
     "name": "stdout",
     "output_type": "stream",
     "text": [
      "[0.5778     0.50386343 2.3908     0.47119333 0.95732    0.8143\n",
      " 1.1184     0.8474     1.1102     0.6855     0.30682    1.07841333\n",
      " 1.23328    0.9006     0.9426     0.3702     1.59457333 0.3698\n",
      " 0.316      1.6824     1.122      1.1802     1.2481     0.41758\n",
      " 1.587      0.4166     0.3232     1.6658     1.3184     0.806\n",
      " 0.9316     0.88324    0.2644     0.7058     0.472443   0.921\n",
      " 1.1798     0.5396     2.3908     1.0156     1.1972     1.188\n",
      " 1.1324     0.7205     0.3802     0.711      0.8052     0.8956\n",
      " 0.6922     1.4828     1.6824     1.1972     0.2644     1.20483333\n",
      " 1.4964     0.7634     0.8664     1.0766     0.95732    0.4298\n",
      " 0.4468     1.0964     8.373      0.7794     0.8153     1.3942\n",
      " 1.1169     0.4596     1.1822     0.67284    0.1676     1.7256\n",
      " 0.6398     0.7538     1.1054     0.8398     0.4908     0.9068\n",
      " 0.91324    1.0728     0.8176     0.7662     0.3046     1.02192\n",
      " 0.65128    1.2144     1.4282     0.8514     1.3386     1.0728\n",
      " 0.5482     0.5835     0.59228    8.373      1.2172     0.89748\n",
      " 0.895      1.2678     0.4512     1.0524     0.49682    0.9894\n",
      " 1.142752   0.54582    1.1798     0.6542     0.245      0.38359333\n",
      " 1.043      1.4206     0.4882     0.87718    1.3104     0.64628\n",
      " 1.5912     9.9814     1.6074     0.5482     0.2434     0.51884\n",
      " 1.22848667 0.472443   0.6518     1.177      0.8458     1.0416\n",
      " 0.946      1.2318     1.23606857 0.6356     0.9746     0.9116\n",
      " 0.6308     0.8358     1.0014     0.89108571 1.142752   1.4964\n",
      " 0.483325   0.8168     0.98654    0.7582     1.0628     0.59554\n",
      " 2.9008     0.717      0.2886     0.3398     1.2183     1.54006857\n",
      " 1.1802     1.86762    1.2392     0.713      1.2994     1.0298\n",
      " 0.4864     1.3654     0.9496     1.043      1.7342     0.4731\n",
      " 0.89108    1.7588     0.8856     0.484      0.89108    0.3056\n",
      " 0.726      0.46444    1.4074     0.8        0.9946     0.438\n",
      " 0.9074     1.1564     0.9496     0.5536     0.8558     1.3954\n",
      " 1.177      0.6672     0.574      0.551      0.9116     0.4362\n",
      " 1.0512     1.1822     1.142752   1.4138     0.7032     0.8\n",
      " 0.3188     0.5422     1.1208     6.75       0.8052     0.8918\n",
      " 0.3046     0.916      2.014      1.1454     0.825      3.7654\n",
      " 0.9112     0.71604    0.311      0.3292     1.862      2.594\n",
      " 0.8642     1.98616    1.6858     1.1748     1.8702     1.14045\n",
      " 1.2678     0.7058     0.8456     0.8456     0.5074     0.895\n",
      " 1.0182     1.144      1.306      1.567      1.0394     0.9988\n",
      " 0.83228    1.0016     2.3908     0.5945     0.32932    0.4264\n",
      " 0.81086667 0.6562     2.3908     0.6016     0.4298     1.1895\n",
      " 1.0378     0.6466     0.6922     0.93672    0.56       0.8558\n",
      " 0.50386343 0.952      0.4094     0.9116     0.9746     0.9006\n",
      " 0.9244     1.144      1.0964     1.469      0.5835     1.6876\n",
      " 0.245      0.711      2.528      0.3188     3.2206     1.171\n",
      " 0.2064     0.8168    ]\n"
     ]
    }
   ],
   "source": [
    "print(pred)"
   ]
  },
  {
   "cell_type": "code",
   "execution_count": 12,
   "id": "47c19473",
   "metadata": {},
   "outputs": [
    {
     "name": "stdout",
     "output_type": "stream",
     "text": [
      "[[ 1.38 ]\n",
      " [ 0.72 ]\n",
      " [ 1.5  ]\n",
      " [ 0.49 ]\n",
      " [ 0.96 ]\n",
      " [ 0.85 ]\n",
      " [ 1.53 ]\n",
      " [ 0.31 ]\n",
      " [11.5  ]\n",
      " [ 0.58 ]\n",
      " [ 0.615]\n",
      " [ 1.02 ]\n",
      " [ 1.77 ]\n",
      " [ 0.25 ]\n",
      " [ 0.408]\n",
      " [ 0.2  ]\n",
      " [ 1.01 ]\n",
      " [ 0.82 ]\n",
      " [ 0.15 ]\n",
      " [ 0.88 ]\n",
      " [ 2.1  ]\n",
      " [ 1.02 ]\n",
      " [ 0.87 ]\n",
      " [ 1.44 ]\n",
      " [ 1.98 ]\n",
      " [ 0.15 ]\n",
      " [ 0.86 ]\n",
      " [ 1.75 ]\n",
      " [ 0.88 ]\n",
      " [ 0.94 ]\n",
      " [ 1.76 ]\n",
      " [ 1.7  ]\n",
      " [ 0.31 ]\n",
      " [ 0.41 ]\n",
      " [ 0.26 ]\n",
      " [ 1.77 ]\n",
      " [ 1.7  ]\n",
      " [ 0.23 ]\n",
      " [ 1.09 ]\n",
      " [ 1.45 ]\n",
      " [ 0.25 ]\n",
      " [ 1.05 ]\n",
      " [ 0.42 ]\n",
      " [ 0.6  ]\n",
      " [ 0.8  ]\n",
      " [ 1.74 ]\n",
      " [ 0.94 ]\n",
      " [ 0.35 ]\n",
      " [ 0.24 ]\n",
      " [ 0.58 ]\n",
      " [ 0.64 ]\n",
      " [ 0.77 ]\n",
      " [ 0.31 ]\n",
      " [ 1.22 ]\n",
      " [ 1.01 ]\n",
      " [ 1.21 ]\n",
      " [ 0.615]\n",
      " [ 1.14 ]\n",
      " [ 2.   ]\n",
      " [ 1.98 ]\n",
      " [ 1.93 ]\n",
      " [ 1.13 ]\n",
      " [ 0.16 ]\n",
      " [ 0.25 ]\n",
      " [ 0.44 ]\n",
      " [ 1.7  ]\n",
      " [ 0.63 ]\n",
      " [ 0.32 ]\n",
      " [ 0.86 ]\n",
      " [ 0.98 ]\n",
      " [ 0.345]\n",
      " [ 2.38 ]\n",
      " [ 0.15 ]\n",
      " [ 1.93 ]\n",
      " [ 0.91 ]\n",
      " [ 1.09 ]\n",
      " [ 0.22 ]\n",
      " [ 0.91 ]\n",
      " [ 0.69 ]\n",
      " [ 0.9  ]\n",
      " [ 1.09 ]\n",
      " [ 0.52 ]\n",
      " [ 1.11 ]\n",
      " [ 1.34 ]\n",
      " [ 1.15 ]\n",
      " [ 0.85 ]\n",
      " [ 1.62 ]\n",
      " [ 1.08 ]\n",
      " [ 1.1  ]\n",
      " [ 0.6  ]\n",
      " [ 0.466]\n",
      " [ 0.29 ]\n",
      " [ 1.08 ]\n",
      " [ 0.16 ]\n",
      " [ 0.4  ]\n",
      " [ 0.88 ]\n",
      " [ 1.14 ]\n",
      " [ 0.85 ]\n",
      " [ 0.25 ]\n",
      " [ 1.2  ]\n",
      " [ 1.34 ]\n",
      " [ 0.96 ]\n",
      " [ 1.07 ]\n",
      " [ 1.21 ]\n",
      " [ 1.7  ]\n",
      " [ 0.18 ]\n",
      " [ 1.52 ]\n",
      " [ 1.1  ]\n",
      " [ 0.2  ]\n",
      " [ 0.83 ]\n",
      " [ 0.14 ]\n",
      " [ 1.1  ]\n",
      " [ 0.95 ]\n",
      " [ 0.66 ]\n",
      " [ 1.15 ]\n",
      " [15.6  ]\n",
      " [ 0.4  ]\n",
      " [ 0.88 ]\n",
      " [ 1.01 ]\n",
      " [ 1.09 ]\n",
      " [ 1.32 ]\n",
      " [ 0.76 ]\n",
      " [ 0.94 ]\n",
      " [ 0.42 ]\n",
      " [ 1.77 ]\n",
      " [ 1.03 ]\n",
      " [ 0.83 ]\n",
      " [ 1.35 ]\n",
      " [ 0.98 ]\n",
      " [ 1.57 ]\n",
      " [ 1.1  ]\n",
      " [ 0.88 ]\n",
      " [ 0.55 ]\n",
      " [ 0.86 ]\n",
      " [ 1.26 ]\n",
      " [ 1.29 ]\n",
      " [ 0.8  ]\n",
      " [ 1.23 ]\n",
      " [ 1.68 ]\n",
      " [ 0.26 ]\n",
      " [ 0.77 ]\n",
      " [ 0.79 ]\n",
      " [ 0.56 ]\n",
      " [ 1.09 ]\n",
      " [ 3.91 ]\n",
      " [ 0.41 ]\n",
      " [ 0.85 ]\n",
      " [ 0.81 ]\n",
      " [ 1.6  ]\n",
      " [ 0.96 ]\n",
      " [ 1.14 ]\n",
      " [ 0.56 ]\n",
      " [ 0.67 ]\n",
      " [ 1.03 ]\n",
      " [ 0.9  ]\n",
      " [ 1.11 ]\n",
      " [ 1.1  ]\n",
      " [ 2.34 ]\n",
      " [ 1.72 ]\n",
      " [ 0.2  ]\n",
      " [ 1.92 ]\n",
      " [ 0.52 ]\n",
      " [ 0.94 ]\n",
      " [ 0.345]\n",
      " [ 1.09 ]\n",
      " [ 0.11 ]\n",
      " [ 1.09 ]\n",
      " [ 0.515]\n",
      " [ 1.88 ]\n",
      " [ 0.23 ]\n",
      " [ 0.49 ]\n",
      " [ 1.53 ]\n",
      " [ 0.96 ]\n",
      " [ 0.396]\n",
      " [ 0.85 ]\n",
      " [ 0.324]\n",
      " [ 1.53 ]\n",
      " [ 2.62 ]\n",
      " [ 0.82 ]\n",
      " [ 1.36 ]\n",
      " [ 0.42 ]\n",
      " [ 0.11 ]\n",
      " [ 0.49 ]\n",
      " [ 1.17 ]\n",
      " [ 1.09 ]\n",
      " [ 0.09 ]\n",
      " [ 1.19 ]\n",
      " [ 0.91 ]\n",
      " [ 1.07 ]\n",
      " [ 1.74 ]\n",
      " [ 1.21 ]\n",
      " [ 1.01 ]\n",
      " [ 0.78 ]\n",
      " [ 0.23 ]\n",
      " [ 1.12 ]\n",
      " [ 2.3  ]\n",
      " [ 0.79 ]\n",
      " [ 0.63 ]\n",
      " [ 0.19 ]\n",
      " [ 1.   ]\n",
      " [ 2.38 ]\n",
      " [ 1.12 ]\n",
      " [ 0.98 ]\n",
      " [ 0.8  ]\n",
      " [ 0.65 ]\n",
      " [ 0.43 ]\n",
      " [ 0.93 ]\n",
      " [ 0.17 ]\n",
      " [ 1.93 ]\n",
      " [ 0.18 ]\n",
      " [ 2.8  ]\n",
      " [ 0.2  ]\n",
      " [ 0.63 ]\n",
      " [ 0.42 ]\n",
      " [ 2.65 ]\n",
      " [ 1.22 ]\n",
      " [ 0.93 ]\n",
      " [ 2.   ]\n",
      " [ 1.12 ]\n",
      " [ 0.71 ]\n",
      " [ 0.21 ]\n",
      " [ 0.98 ]\n",
      " [ 1.25 ]\n",
      " [ 0.75 ]\n",
      " [ 7.3  ]\n",
      " [ 0.65 ]\n",
      " [ 1.02 ]\n",
      " [ 0.91 ]\n",
      " [ 0.73 ]\n",
      " [ 2.4  ]\n",
      " [ 3.39 ]\n",
      " [ 0.324]\n",
      " [ 0.88 ]\n",
      " [ 1.5  ]\n",
      " [ 0.8  ]\n",
      " [ 4.05 ]\n",
      " [ 0.67 ]\n",
      " [ 0.41 ]\n",
      " [ 1.98 ]\n",
      " [ 0.431]\n",
      " [ 2.   ]\n",
      " [ 0.31 ]\n",
      " [ 0.24 ]\n",
      " [ 1.15 ]\n",
      " [ 0.31 ]\n",
      " [ 1.32 ]\n",
      " [ 0.81 ]\n",
      " [ 1.47 ]\n",
      " [ 0.408]\n",
      " [ 0.65 ]\n",
      " [ 0.25 ]\n",
      " [ 0.25 ]\n",
      " [ 1.02 ]\n",
      " [ 1.75 ]\n",
      " [ 0.71 ]\n",
      " [ 1.85 ]\n",
      " [ 0.29 ]\n",
      " [ 0.82 ]\n",
      " [ 1.1  ]\n",
      " [ 1.74 ]\n",
      " [ 0.76 ]\n",
      " [ 0.78 ]\n",
      " [ 0.89 ]\n",
      " [ 0.271]\n",
      " [ 0.89 ]\n",
      " [ 0.26 ]]\n"
     ]
    }
   ],
   "source": [
    "print(y_val)"
   ]
  },
  {
   "cell_type": "code",
   "execution_count": null,
   "id": "dae53a08",
   "metadata": {},
   "outputs": [],
   "source": []
  },
  {
   "cell_type": "code",
   "execution_count": null,
   "id": "a8f0bfd1",
   "metadata": {},
   "outputs": [],
   "source": []
  },
  {
   "cell_type": "code",
   "execution_count": null,
   "id": "2abab865",
   "metadata": {},
   "outputs": [],
   "source": []
  },
  {
   "cell_type": "code",
   "execution_count": null,
   "id": "b293a827",
   "metadata": {},
   "outputs": [],
   "source": []
  },
  {
   "cell_type": "code",
   "execution_count": null,
   "id": "b80ac50d",
   "metadata": {},
   "outputs": [],
   "source": []
  },
  {
   "cell_type": "code",
   "execution_count": null,
   "id": "b6b38bd1",
   "metadata": {},
   "outputs": [],
   "source": []
  }
 ],
 "metadata": {
  "kernelspec": {
   "display_name": "Python 3 (ipykernel)",
   "language": "python",
   "name": "python3"
  },
  "language_info": {
   "codemirror_mode": {
    "name": "ipython",
    "version": 3
   },
   "file_extension": ".py",
   "mimetype": "text/x-python",
   "name": "python",
   "nbconvert_exporter": "python",
   "pygments_lexer": "ipython3",
   "version": "3.8.12"
  }
 },
 "nbformat": 4,
 "nbformat_minor": 5
}
