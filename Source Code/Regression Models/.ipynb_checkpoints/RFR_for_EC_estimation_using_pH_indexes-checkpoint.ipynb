{
 "cells": [
  {
   "cell_type": "markdown",
   "id": "2f2bd941",
   "metadata": {},
   "source": [
    "### Libraries for dataset manipulation and visulization"
   ]
  },
  {
   "cell_type": "code",
   "execution_count": 1,
   "id": "bec3ab18",
   "metadata": {},
   "outputs": [],
   "source": [
    "import numpy as np\n",
    "import pandas as pd\n",
    "import matplotlib.pyplot as plt"
   ]
  },
  {
   "cell_type": "markdown",
   "id": "6a25f32e",
   "metadata": {},
   "source": [
    "### Dataset Loading"
   ]
  },
  {
   "cell_type": "code",
   "execution_count": 2,
   "id": "5e00c17d",
   "metadata": {},
   "outputs": [],
   "source": [
    "dataset = pd.read_csv('C:\\\\Users\\\\Mahmood Yousaf\\\\Desktop\\\\FYP\\\\Final-Year-Project-Soil-Analysis-using-machine-learning\\\\Extracted Features\\\\pH_Index_with_EC_value.csv')"
   ]
  },
  {
   "cell_type": "markdown",
   "id": "44d666b2",
   "metadata": {},
   "source": [
    "### Preprocessing on dataset"
   ]
  },
  {
   "cell_type": "code",
   "execution_count": 3,
   "id": "bef79ea3",
   "metadata": {},
   "outputs": [
    {
     "name": "stdout",
     "output_type": "stream",
     "text": [
      "[0.00703939 0.0073076  0.00680586 ... 0.00868003 0.0176074  0.01053636]\n",
      "[0.54 0.54 0.55 ... 1.1  0.45 0.45]\n"
     ]
    }
   ],
   "source": [
    "X = np.array(dataset['pH_Index'])\n",
    "Y = np.array(dataset['EC_Value'])\n",
    "print(X)\n",
    "print(Y)"
   ]
  },
  {
   "cell_type": "code",
   "execution_count": 4,
   "id": "dd2bed66",
   "metadata": {},
   "outputs": [
    {
     "name": "stdout",
     "output_type": "stream",
     "text": [
      "[[0.00703939]\n",
      " [0.0073076 ]\n",
      " [0.00680586]\n",
      " ...\n",
      " [0.00868003]\n",
      " [0.0176074 ]\n",
      " [0.01053636]] [[0.54]\n",
      " [0.54]\n",
      " [0.55]\n",
      " ...\n",
      " [1.1 ]\n",
      " [0.45]\n",
      " [0.45]]\n"
     ]
    }
   ],
   "source": [
    "X = X.reshape(len(X),1)\n",
    "Y = Y.reshape(len(Y),1)\n",
    "print(X,Y)"
   ]
  },
  {
   "cell_type": "markdown",
   "id": "c3db3d89",
   "metadata": {},
   "source": [
    "### DTR model training"
   ]
  },
  {
   "cell_type": "code",
   "execution_count": 5,
   "id": "70f6693c",
   "metadata": {},
   "outputs": [],
   "source": [
    "from sklearn.model_selection import train_test_split\n",
    "X_train, X_val, y_train, y_val = train_test_split(X, Y)"
   ]
  },
  {
   "cell_type": "code",
   "execution_count": 6,
   "id": "86107818",
   "metadata": {},
   "outputs": [
    {
     "name": "stderr",
     "output_type": "stream",
     "text": [
      "C:\\Users\\MAHMOO~1\\AppData\\Local\\Temp/ipykernel_8228/3513569335.py:6: DataConversionWarning: A column-vector y was passed when a 1d array was expected. Please change the shape of y to (n_samples,), for example using ravel().\n",
      "  regressor.fit(X_train,y_train)\n"
     ]
    },
    {
     "data": {
      "text/plain": [
       "RandomForestRegressor(n_estimators=50, random_state=0)"
      ]
     },
     "execution_count": 6,
     "metadata": {},
     "output_type": "execute_result"
    }
   ],
   "source": [
    "from sklearn.ensemble import RandomForestRegressor\n",
    "from sklearn.metrics import mean_absolute_error\n",
    "from sklearn.metrics import mean_squared_error\n",
    "from sklearn.metrics import r2_score\n",
    "regressor = RandomForestRegressor(n_estimators=50, random_state = 0)\n",
    "regressor.fit(X_train,y_train)"
   ]
  },
  {
   "cell_type": "markdown",
   "id": "eb96c339",
   "metadata": {},
   "source": [
    "### Prediction "
   ]
  },
  {
   "cell_type": "code",
   "execution_count": 7,
   "id": "b5264ee9",
   "metadata": {},
   "outputs": [
    {
     "name": "stdout",
     "output_type": "stream",
     "text": [
      "[1.1208]\n"
     ]
    }
   ],
   "source": [
    "prediction = regressor.predict([[500]])\n",
    "print(prediction)"
   ]
  },
  {
   "cell_type": "code",
   "execution_count": 8,
   "id": "7652decf",
   "metadata": {},
   "outputs": [
    {
     "name": "stdout",
     "output_type": "stream",
     "text": [
      "[0.6902     0.5628     1.2582     0.7788     0.8632     1.1978\n",
      " 0.8636     0.19152    0.6534     0.936      1.0673     0.946\n",
      " 0.5472     0.8694     0.67068    0.99324    0.52876    1.2644\n",
      " 0.99124    0.99184    0.5188     0.45112    0.512      0.92572\n",
      " 1.00584    0.2924     1.5378     1.0054     0.85358    1.686\n",
      " 1.25393333 0.7426     0.8806     0.5196     0.954      0.442\n",
      " 0.317      1.0036     0.7788     1.40872    0.52354    0.67068\n",
      " 2.9098     0.92572    0.99432    0.8782     0.3614     0.815\n",
      " 0.9564     0.9694     0.8806     0.658      0.9718     0.9896\n",
      " 0.3886     0.76514    0.3076     1.1362     1.2334     0.91348\n",
      " 1.1754     0.65118    0.2518     1.4406     0.91796    1.33487667\n",
      " 1.2528     0.7048     0.74736    1.88161667 0.3349     1.4406\n",
      " 1.0663     1.0386     0.9438     1.192      0.6738     1.027\n",
      " 0.9896     0.6538     0.7214     1.4494     1.2438     0.5009\n",
      " 0.4102     1.15012    0.531      0.2228     0.3588     0.2632\n",
      " 1.076      1.342      0.946      0.4935     0.3766     0.9438\n",
      " 1.045      1.2452     0.678      0.83       1.224      0.6802\n",
      " 1.067      0.6132     0.444      0.65118    1.8888     1.0076\n",
      " 2.178      1.18       0.9612     0.2372     1.3076     1.214\n",
      " 0.6536     0.7712     0.76484    1.2576     0.4763     0.53986\n",
      " 1.12628    1.142      1.35952    1.4612     0.7026     1.4186\n",
      " 0.6534     2.6898     0.346      1.2576     2.9299     1.0848\n",
      " 1.1612     1.1912     0.3416     0.7062     1.4664     0.59115467\n",
      " 1.1732     1.22389    0.7566     0.486      1.1681     1.234\n",
      " 1.9116     1.0334     1.4225     0.4252     0.955      0.8928\n",
      " 0.9404     0.9694     0.6128     0.819      0.6363     0.5266\n",
      " 0.64       1.702      1.0332     8.1334     1.6882     0.3694\n",
      " 0.7189     0.3748     1.6454     0.416      0.7189     1.0284\n",
      " 0.6592     1.0638     0.6538     0.96212    0.993      1.3086\n",
      " 0.74736    1.1294     0.9376     0.8602     0.9228     0.9728\n",
      " 0.3436     0.8074     0.5332     0.3416     3.4673     1.2508\n",
      " 1.2248     0.4102     1.2679     0.8452     1.111      1.2516\n",
      " 1.4814     1.0422     0.309      0.9706     1.3656     1.1262\n",
      " 1.002      1.2248     1.4218     1.20220333 0.9034     1.40872\n",
      " 1.222      1.9408     1.4406     1.4848     0.954      0.4374\n",
      " 0.906      6.5506     0.8611     0.7168     0.317      1.34346\n",
      " 1.40872    1.3306     0.603      2.0951     0.5696     0.9404\n",
      " 0.3246     1.2878     0.9656     1.8926     1.2472     1.4946\n",
      " 1.1052     0.9878     0.392      0.7658     1.18092    0.67068\n",
      " 0.712      0.4222     0.8812     0.9324     0.97464    0.90748\n",
      " 2.0951     1.1484     1.8218     1.2348     0.5778     1.9408\n",
      " 0.8724     1.025      0.9706     1.9394     1.04       1.927\n",
      " 1.2576     0.9536     0.5614     0.5059     0.7788     1.4664\n",
      " 0.64388    6.7264     0.3848     0.63992    0.905      0.8636\n",
      " 0.25242    0.903     ]\n"
     ]
    }
   ],
   "source": [
    "pred = regressor.predict(X_val)\n",
    "print(pred)"
   ]
  },
  {
   "cell_type": "code",
   "execution_count": 9,
   "id": "c4b06ebb",
   "metadata": {},
   "outputs": [
    {
     "name": "stdout",
     "output_type": "stream",
     "text": [
      "MSE 1.0420833209472418\n",
      "MAE 0.5317117493734336\n",
      "r2_score -0.9143722996916315\n"
     ]
    }
   ],
   "source": [
    "# mse , mae and r2_score values\n",
    "mae_value = mean_absolute_error(y_val, pred)\n",
    "mse_value = mean_squared_error(y_val, pred)\n",
    "r2_score_value = r2_score(y_val, pred)\n",
    "# Total error with mse , mae and r2_score\n",
    "print(f\"MSE {mse_value}\")\n",
    "print(f\"MAE {mae_value}\")\n",
    "print(f\"r2_score {r2_score_value}\")"
   ]
  },
  {
   "cell_type": "markdown",
   "id": "4c3ac75c",
   "metadata": {},
   "source": [
    "### Visulization"
   ]
  },
  {
   "cell_type": "code",
   "execution_count": 10,
   "id": "735b5040",
   "metadata": {},
   "outputs": [
    {
     "data": {
      "image/png": "[encoded data removed]",
      "text/plain": [
       "<Figure size 432x288 with 1 Axes>"
      ]
     },
     "metadata": {
      "needs_background": "light"
     },
     "output_type": "display_data"
    }
   ],
   "source": [
    "plt.plot(pred,color = 'Blue')\n",
    "plt.plot(y_val, color = 'red')\n",
    "plt.title(\"Random Forest Regression Model For EC\")\n",
    "plt.legend(['Predicted EC values', 'Actual EC Values'], loc='upper left')\n",
    "plt.xlabel('PH indexes')\n",
    "plt.ylabel('EC values')\n",
    "plt.savefig(\"RFRmodelForECestimationUsingpHIndexes.jpg\")"
   ]
  },
  {
   "cell_type": "code",
   "execution_count": null,
   "id": "1c5ebbbe",
   "metadata": {},
   "outputs": [],
   "source": []
  },
  {
   "cell_type": "code",
   "execution_count": 11,
   "id": "4f4c7b6b",
   "metadata": {},
   "outputs": [
    {
     "name": "stdout",
     "output_type": "stream",
     "text": [
      "[0.6902     0.5628     1.2582     0.7788     0.8632     1.1978\n",
      " 0.8636     0.19152    0.6534     0.936      1.0673     0.946\n",
      " 0.5472     0.8694     0.67068    0.99324    0.52876    1.2644\n",
      " 0.99124    0.99184    0.5188     0.45112    0.512      0.92572\n",
      " 1.00584    0.2924     1.5378     1.0054     0.85358    1.686\n",
      " 1.25393333 0.7426     0.8806     0.5196     0.954      0.442\n",
      " 0.317      1.0036     0.7788     1.40872    0.52354    0.67068\n",
      " 2.9098     0.92572    0.99432    0.8782     0.3614     0.815\n",
      " 0.9564     0.9694     0.8806     0.658      0.9718     0.9896\n",
      " 0.3886     0.76514    0.3076     1.1362     1.2334     0.91348\n",
      " 1.1754     0.65118    0.2518     1.4406     0.91796    1.33487667\n",
      " 1.2528     0.7048     0.74736    1.88161667 0.3349     1.4406\n",
      " 1.0663     1.0386     0.9438     1.192      0.6738     1.027\n",
      " 0.9896     0.6538     0.7214     1.4494     1.2438     0.5009\n",
      " 0.4102     1.15012    0.531      0.2228     0.3588     0.2632\n",
      " 1.076      1.342      0.946      0.4935     0.3766     0.9438\n",
      " 1.045      1.2452     0.678      0.83       1.224      0.6802\n",
      " 1.067      0.6132     0.444      0.65118    1.8888     1.0076\n",
      " 2.178      1.18       0.9612     0.2372     1.3076     1.214\n",
      " 0.6536     0.7712     0.76484    1.2576     0.4763     0.53986\n",
      " 1.12628    1.142      1.35952    1.4612     0.7026     1.4186\n",
      " 0.6534     2.6898     0.346      1.2576     2.9299     1.0848\n",
      " 1.1612     1.1912     0.3416     0.7062     1.4664     0.59115467\n",
      " 1.1732     1.22389    0.7566     0.486      1.1681     1.234\n",
      " 1.9116     1.0334     1.4225     0.4252     0.955      0.8928\n",
      " 0.9404     0.9694     0.6128     0.819      0.6363     0.5266\n",
      " 0.64       1.702      1.0332     8.1334     1.6882     0.3694\n",
      " 0.7189     0.3748     1.6454     0.416      0.7189     1.0284\n",
      " 0.6592     1.0638     0.6538     0.96212    0.993      1.3086\n",
      " 0.74736    1.1294     0.9376     0.8602     0.9228     0.9728\n",
      " 0.3436     0.8074     0.5332     0.3416     3.4673     1.2508\n",
      " 1.2248     0.4102     1.2679     0.8452     1.111      1.2516\n",
      " 1.4814     1.0422     0.309      0.9706     1.3656     1.1262\n",
      " 1.002      1.2248     1.4218     1.20220333 0.9034     1.40872\n",
      " 1.222      1.9408     1.4406     1.4848     0.954      0.4374\n",
      " 0.906      6.5506     0.8611     0.7168     0.317      1.34346\n",
      " 1.40872    1.3306     0.603      2.0951     0.5696     0.9404\n",
      " 0.3246     1.2878     0.9656     1.8926     1.2472     1.4946\n",
      " 1.1052     0.9878     0.392      0.7658     1.18092    0.67068\n",
      " 0.712      0.4222     0.8812     0.9324     0.97464    0.90748\n",
      " 2.0951     1.1484     1.8218     1.2348     0.5778     1.9408\n",
      " 0.8724     1.025      0.9706     1.9394     1.04       1.927\n",
      " 1.2576     0.9536     0.5614     0.5059     0.7788     1.4664\n",
      " 0.64388    6.7264     0.3848     0.63992    0.905      0.8636\n",
      " 0.25242    0.903     ]\n"
     ]
    }
   ],
   "source": [
    "print(pred)"
   ]
  },
  {
   "cell_type": "code",
   "execution_count": 12,
   "id": "47c19473",
   "metadata": {},
   "outputs": [
    {
     "name": "stdout",
     "output_type": "stream",
     "text": [
      "[[1.53 ]\n",
      " [0.73 ]\n",
      " [2.17 ]\n",
      " [0.55 ]\n",
      " [0.6  ]\n",
      " [1.45 ]\n",
      " [0.21 ]\n",
      " [0.12 ]\n",
      " [1.65 ]\n",
      " [0.96 ]\n",
      " [0.16 ]\n",
      " [0.324]\n",
      " [0.25 ]\n",
      " [0.35 ]\n",
      " [0.98 ]\n",
      " [1.17 ]\n",
      " [0.55 ]\n",
      " [1.01 ]\n",
      " [1.09 ]\n",
      " [1.2  ]\n",
      " [0.85 ]\n",
      " [0.125]\n",
      " [1.47 ]\n",
      " [0.31 ]\n",
      " [0.525]\n",
      " [5.9  ]\n",
      " [0.25 ]\n",
      " [0.91 ]\n",
      " [1.1  ]\n",
      " [1.62 ]\n",
      " [1.21 ]\n",
      " [0.431]\n",
      " [1.26 ]\n",
      " [1.2  ]\n",
      " [0.63 ]\n",
      " [0.32 ]\n",
      " [1.09 ]\n",
      " [0.409]\n",
      " [0.55 ]\n",
      " [0.93 ]\n",
      " [0.525]\n",
      " [0.44 ]\n",
      " [0.16 ]\n",
      " [0.9  ]\n",
      " [1.07 ]\n",
      " [1.74 ]\n",
      " [0.93 ]\n",
      " [0.79 ]\n",
      " [0.65 ]\n",
      " [0.93 ]\n",
      " [1.32 ]\n",
      " [0.32 ]\n",
      " [1.29 ]\n",
      " [1.12 ]\n",
      " [0.13 ]\n",
      " [1.6  ]\n",
      " [0.15 ]\n",
      " [1.35 ]\n",
      " [0.96 ]\n",
      " [0.94 ]\n",
      " [0.64 ]\n",
      " [0.65 ]\n",
      " [1.11 ]\n",
      " [1.3  ]\n",
      " [0.81 ]\n",
      " [1.1  ]\n",
      " [0.4  ]\n",
      " [0.2  ]\n",
      " [1.09 ]\n",
      " [1.11 ]\n",
      " [0.41 ]\n",
      " [2.34 ]\n",
      " [1.19 ]\n",
      " [0.88 ]\n",
      " [1.62 ]\n",
      " [0.81 ]\n",
      " [0.49 ]\n",
      " [0.23 ]\n",
      " [0.82 ]\n",
      " [0.25 ]\n",
      " [0.12 ]\n",
      " [1.1  ]\n",
      " [1.02 ]\n",
      " [0.98 ]\n",
      " [0.91 ]\n",
      " [0.83 ]\n",
      " [1.93 ]\n",
      " [0.69 ]\n",
      " [0.82 ]\n",
      " [0.15 ]\n",
      " [0.91 ]\n",
      " [0.94 ]\n",
      " [1.34 ]\n",
      " [0.98 ]\n",
      " [0.26 ]\n",
      " [1.02 ]\n",
      " [0.91 ]\n",
      " [1.6  ]\n",
      " [1.1  ]\n",
      " [0.35 ]\n",
      " [1.12 ]\n",
      " [0.79 ]\n",
      " [1.14 ]\n",
      " [0.77 ]\n",
      " [0.18 ]\n",
      " [0.96 ]\n",
      " [2.38 ]\n",
      " [1.05 ]\n",
      " [0.8  ]\n",
      " [1.5  ]\n",
      " [0.84 ]\n",
      " [0.345]\n",
      " [1.14 ]\n",
      " [0.44 ]\n",
      " [1.15 ]\n",
      " [4.05 ]\n",
      " [1.88 ]\n",
      " [0.23 ]\n",
      " [1.01 ]\n",
      " [1.15 ]\n",
      " [0.66 ]\n",
      " [1.05 ]\n",
      " [0.19 ]\n",
      " [0.76 ]\n",
      " [0.55 ]\n",
      " [0.91 ]\n",
      " [0.42 ]\n",
      " [3.39 ]\n",
      " [0.17 ]\n",
      " [0.466]\n",
      " [0.73 ]\n",
      " [0.409]\n",
      " [0.62 ]\n",
      " [1.11 ]\n",
      " [0.25 ]\n",
      " [0.58 ]\n",
      " [0.89 ]\n",
      " [1.77 ]\n",
      " [0.49 ]\n",
      " [1.03 ]\n",
      " [1.93 ]\n",
      " [1.05 ]\n",
      " [0.735]\n",
      " [1.02 ]\n",
      " [1.02 ]\n",
      " [1.11 ]\n",
      " [1.11 ]\n",
      " [0.82 ]\n",
      " [0.94 ]\n",
      " [0.88 ]\n",
      " [0.86 ]\n",
      " [0.98 ]\n",
      " [0.16 ]\n",
      " [0.81 ]\n",
      " [1.6  ]\n",
      " [1.38 ]\n",
      " [0.32 ]\n",
      " [0.45 ]\n",
      " [0.85 ]\n",
      " [1.09 ]\n",
      " [1.98 ]\n",
      " [0.28 ]\n",
      " [0.26 ]\n",
      " [0.31 ]\n",
      " [1.7  ]\n",
      " [1.12 ]\n",
      " [0.26 ]\n",
      " [1.14 ]\n",
      " [0.6  ]\n",
      " [0.74 ]\n",
      " [1.1  ]\n",
      " [0.431]\n",
      " [0.26 ]\n",
      " [1.13 ]\n",
      " [0.77 ]\n",
      " [0.65 ]\n",
      " [0.75 ]\n",
      " [0.93 ]\n",
      " [1.72 ]\n",
      " [1.17 ]\n",
      " [0.09 ]\n",
      " [1.01 ]\n",
      " [0.41 ]\n",
      " [0.408]\n",
      " [0.84 ]\n",
      " [1.17 ]\n",
      " [2.1  ]\n",
      " [1.68 ]\n",
      " [0.62 ]\n",
      " [1.57 ]\n",
      " [1.01 ]\n",
      " [1.09 ]\n",
      " [1.74 ]\n",
      " [1.17 ]\n",
      " [0.92 ]\n",
      " [1.26 ]\n",
      " [1.05 ]\n",
      " [0.324]\n",
      " [1.25 ]\n",
      " [1.44 ]\n",
      " [1.22 ]\n",
      " [0.8  ]\n",
      " [0.81 ]\n",
      " [0.93 ]\n",
      " [0.98 ]\n",
      " [0.88 ]\n",
      " [0.95 ]\n",
      " [0.49 ]\n",
      " [0.84 ]\n",
      " [0.34 ]\n",
      " [0.81 ]\n",
      " [1.09 ]\n",
      " [1.06 ]\n",
      " [0.36 ]\n",
      " [0.409]\n",
      " [0.249]\n",
      " [1.74 ]\n",
      " [0.91 ]\n",
      " [0.31 ]\n",
      " [2.3  ]\n",
      " [1.1  ]\n",
      " [0.91 ]\n",
      " [1.02 ]\n",
      " [1.1  ]\n",
      " [0.271]\n",
      " [2.38 ]\n",
      " [1.55 ]\n",
      " [1.7  ]\n",
      " [1.   ]\n",
      " [1.36 ]\n",
      " [0.15 ]\n",
      " [1.3  ]\n",
      " [0.98 ]\n",
      " [0.54 ]\n",
      " [1.7  ]\n",
      " [0.25 ]\n",
      " [1.25 ]\n",
      " [1.2  ]\n",
      " [1.19 ]\n",
      " [1.05 ]\n",
      " [0.2  ]\n",
      " [1.14 ]\n",
      " [1.92 ]\n",
      " [1.98 ]\n",
      " [0.24 ]\n",
      " [1.92 ]\n",
      " [0.89 ]\n",
      " [0.43 ]\n",
      " [1.26 ]\n",
      " [1.09 ]\n",
      " [0.92 ]\n",
      " [1.09 ]\n",
      " [0.42 ]\n",
      " [0.94 ]\n",
      " [0.35 ]\n",
      " [0.55 ]\n",
      " [0.21 ]\n",
      " [7.3  ]\n",
      " [0.615]\n",
      " [0.8  ]\n",
      " [0.17 ]\n",
      " [1.03 ]\n",
      " [0.65 ]\n",
      " [0.21 ]\n",
      " [1.09 ]\n",
      " [0.85 ]]\n"
     ]
    }
   ],
   "source": [
    "print(y_val)"
   ]
  },
  {
   "cell_type": "code",
   "execution_count": null,
   "id": "dae53a08",
   "metadata": {},
   "outputs": [],
   "source": []
  },
  {
   "cell_type": "code",
   "execution_count": null,
   "id": "a8f0bfd1",
   "metadata": {},
   "outputs": [],
   "source": []
  },
  {
   "cell_type": "code",
   "execution_count": null,
   "id": "2abab865",
   "metadata": {},
   "outputs": [],
   "source": []
  },
  {
   "cell_type": "code",
   "execution_count": null,
   "id": "b293a827",
   "metadata": {},
   "outputs": [],
   "source": []
  },
  {
   "cell_type": "code",
   "execution_count": null,
   "id": "b80ac50d",
   "metadata": {},
   "outputs": [],
   "source": []
  },
  {
   "cell_type": "code",
   "execution_count": null,
   "id": "b6b38bd1",
   "metadata": {},
   "outputs": [],
   "source": []
  }
 ],
 "metadata": {
  "kernelspec": {
   "display_name": "Python 3 (ipykernel)",
   "language": "python",
   "name": "python3"
  },
  "language_info": {
   "codemirror_mode": {
    "name": "ipython",
    "version": 3
   },
   "file_extension": ".py",
   "mimetype": "text/x-python",
   "name": "python",
   "nbconvert_exporter": "python",
   "pygments_lexer": "ipython3",
   "version": "3.8.12"
  }
 },
 "nbformat": 4,
 "nbformat_minor": 5
}
