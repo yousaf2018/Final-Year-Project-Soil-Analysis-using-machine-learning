{
 "cells": [
  {
   "cell_type": "markdown",
   "id": "2f2bd941",
   "metadata": {},
   "source": [
    "### Libraries for dataset manipulation and visulization"
   ]
  },
  {
   "cell_type": "code",
   "execution_count": 1,
   "id": "bec3ab18",
   "metadata": {},
   "outputs": [],
   "source": [
    "import numpy as np\n",
    "import pandas as pd\n",
    "import matplotlib.pyplot as plt"
   ]
  },
  {
   "cell_type": "markdown",
   "id": "6a25f32e",
   "metadata": {},
   "source": [
    "### Dataset Loading"
   ]
  },
  {
   "cell_type": "code",
   "execution_count": 2,
   "id": "5e00c17d",
   "metadata": {},
   "outputs": [],
   "source": [
    "dataset = pd.read_csv('C:\\\\Users\\\\Mahmood Yousaf\\\\Desktop\\\\FYP\\\\Final-Year-Project-Soil-Analysis-using-machine-learning\\\\Extracted Features\\\\Formula_Index_with_OM_value.csv')"
   ]
  },
  {
   "cell_type": "markdown",
   "id": "44d666b2",
   "metadata": {},
   "source": [
    "### Preprocessing on dataset"
   ]
  },
  {
   "cell_type": "code",
   "execution_count": 3,
   "id": "bef79ea3",
   "metadata": {},
   "outputs": [
    {
     "name": "stdout",
     "output_type": "stream",
     "text": [
      "[525.  505.  542.  ... 397.  262.5 365. ]\n",
      "[0.52 0.52 0.59 ... 0.6  0.5  0.5 ]\n"
     ]
    }
   ],
   "source": [
    "X = np.array(dataset['Formula_Index'])\n",
    "Y = np.array(dataset['OM_Value'])\n",
    "print(X)\n",
    "print(Y)"
   ]
  },
  {
   "cell_type": "code",
   "execution_count": 4,
   "id": "dd2bed66",
   "metadata": {},
   "outputs": [
    {
     "name": "stdout",
     "output_type": "stream",
     "text": [
      "[[525. ]\n",
      " [505. ]\n",
      " [542. ]\n",
      " ...\n",
      " [397. ]\n",
      " [262.5]\n",
      " [365. ]] [[0.52]\n",
      " [0.52]\n",
      " [0.59]\n",
      " ...\n",
      " [0.6 ]\n",
      " [0.5 ]\n",
      " [0.5 ]]\n"
     ]
    }
   ],
   "source": [
    "X = X.reshape(len(X),1)\n",
    "Y = Y.reshape(len(Y),1)\n",
    "print(X,Y)"
   ]
  },
  {
   "cell_type": "markdown",
   "id": "c3db3d89",
   "metadata": {},
   "source": [
    "### DTR model training"
   ]
  },
  {
   "cell_type": "code",
   "execution_count": 5,
   "id": "70f6693c",
   "metadata": {},
   "outputs": [],
   "source": [
    "from sklearn.model_selection import train_test_split\n",
    "X_train, X_val, y_train, y_val = train_test_split(X, Y)"
   ]
  },
  {
   "cell_type": "code",
   "execution_count": 6,
   "id": "86107818",
   "metadata": {},
   "outputs": [
    {
     "name": "stderr",
     "output_type": "stream",
     "text": [
      "C:\\Users\\MAHMOO~1\\AppData\\Local\\Temp/ipykernel_11808/3513569335.py:6: DataConversionWarning: A column-vector y was passed when a 1d array was expected. Please change the shape of y to (n_samples,), for example using ravel().\n",
      "  regressor.fit(X_train,y_train)\n"
     ]
    },
    {
     "data": {
      "text/plain": [
       "RandomForestRegressor(n_estimators=50, random_state=0)"
      ]
     },
     "execution_count": 6,
     "metadata": {},
     "output_type": "execute_result"
    }
   ],
   "source": [
    "from sklearn.ensemble import RandomForestRegressor\n",
    "from sklearn.metrics import mean_absolute_error\n",
    "from sklearn.metrics import mean_squared_error\n",
    "from sklearn.metrics import r2_score\n",
    "regressor = RandomForestRegressor(n_estimators=50, random_state = 0)\n",
    "regressor.fit(X_train,y_train)"
   ]
  },
  {
   "cell_type": "markdown",
   "id": "eb96c339",
   "metadata": {},
   "source": [
    "### Prediction "
   ]
  },
  {
   "cell_type": "code",
   "execution_count": 7,
   "id": "b5264ee9",
   "metadata": {},
   "outputs": [
    {
     "name": "stdout",
     "output_type": "stream",
     "text": [
      "[0.4458719]\n"
     ]
    }
   ],
   "source": [
    "prediction = regressor.predict([[500]])\n",
    "print(prediction)"
   ]
  },
  {
   "cell_type": "code",
   "execution_count": 8,
   "id": "7652decf",
   "metadata": {},
   "outputs": [
    {
     "name": "stdout",
     "output_type": "stream",
     "text": [
      "[0.42533762 0.55606603 0.55687516 0.48671476 0.49618968 0.43853365\n",
      " 0.54880952 0.54636333 0.62491143 0.48925899 0.51666857 0.4281\n",
      " 0.53356667 0.4955     0.49250881 0.57785192 0.5546     0.54173872\n",
      " 0.4258     0.796655   0.49190667 0.7798     0.4539     0.42753\n",
      " 0.43917413 0.60847143 0.5645531  0.50499333 0.60730333 0.54173872\n",
      " 0.5        0.51564015 0.518      0.52709667 0.4797597  0.60598333\n",
      " 0.42753    0.41234738 0.43853365 0.41234738 0.52502381 0.57407068\n",
      " 0.43917413 0.50991694 0.43508333 0.5454     0.61583    0.518\n",
      " 0.46989461 0.55606603 0.37692403 0.48156472 0.492      0.4539\n",
      " 0.66666667 0.64628    0.49876    0.59874616 0.65255    0.50499333\n",
      " 0.53143317 0.4274     0.4358     0.4704     0.46375548 0.57296667\n",
      " 0.51304595 0.58757    0.59874616 0.54836333 0.53143317 0.52031508\n",
      " 0.4567881  0.50961938 0.57090833 0.5496     0.52770159 0.55898024\n",
      " 0.54375    0.49438889 0.55898024 0.4764     0.48156472 0.55684952\n",
      " 0.44772429 0.5        0.4        0.64069206 0.50991694 0.50562819\n",
      " 0.4567881  0.44772429 0.4        0.64393333 0.66596    0.50991694\n",
      " 0.50068649 0.51564015 0.4767     0.42533762 0.50950381 0.53589343\n",
      " 0.5586547  0.57090833 0.46375548 0.60847143 0.4281     0.54184054\n",
      " 0.51037333 0.35767    0.55606603 0.61102857 0.48575976 0.49654667\n",
      " 0.50950381 0.60730333 0.49874938 0.55786381 0.53190498 0.44152905\n",
      " 0.5546     0.4358     0.47242286 0.54375    0.55057333 0.46216373\n",
      " 0.64350143 0.44421143 0.50961938 0.45498143 0.5716     0.45577095\n",
      " 0.3718     0.50068649 0.54918185 0.64629619 0.5957     0.53061778\n",
      " 0.5479339  0.4274     0.5264211  0.4281     0.57407068 0.43853365\n",
      " 0.50539265 0.45046    0.60598333 0.5479339  0.37692403 0.49654667\n",
      " 0.57296667 0.63744    0.37692403 0.796655   0.61583    0.44752619\n",
      " 0.37692403 0.45108971 0.45108971 0.46216373 0.57407068 0.55421667\n",
      " 0.62057333 0.58792762 0.434965   0.46257857 0.53652167 0.50068649\n",
      " 0.62057333 0.50068649 0.4764     0.48424    0.4704     0.45753333\n",
      " 0.48925899 0.54918185 0.50950381 0.62111833 0.41135333 0.4946\n",
      " 0.5430436  0.4281     0.34132238 0.50885    0.47965    0.60847143\n",
      " 0.53623959 0.48671476 0.65396429 0.55450058 0.50562819 0.51666857\n",
      " 0.43853365 0.44152905 0.49630714 0.47632    0.7962     0.57785192\n",
      " 0.57090833 0.53061778 0.5602473  0.41136667 0.62111833 0.43853365\n",
      " 0.50516117 0.50961938 0.4258     0.48852913 0.56250857 0.52236667\n",
      " 0.61102857 0.48156472 0.63326667 0.41135333 0.53589343 0.49874938\n",
      " 0.6065946  0.68168048 0.51037333 0.65396429 0.61165667 0.41483762\n",
      " 0.55450058 0.47965    0.57785192 0.6143019  0.44752619 0.48671476\n",
      " 0.50004048 0.66257333 0.52031508 0.50352863 0.49876    0.51549127\n",
      " 0.53061778 0.49874938 0.54636333 0.7626     0.64978    0.48763333\n",
      " 0.51037333 0.4567881  0.53474525 0.61102857 0.53356667 0.5496\n",
      " 0.55786381 0.58608    0.56036437 0.55829286 0.53589343 0.53356667\n",
      " 0.44152905 0.46216373 0.52770159 0.49250881 0.46216373 0.4764\n",
      " 0.41234738 0.55898024 0.41234738 0.51564015 0.48156472 0.46257857\n",
      " 0.56348    0.55450058]\n"
     ]
    }
   ],
   "source": [
    "pred = regressor.predict(X_val)\n",
    "print(pred)"
   ]
  },
  {
   "cell_type": "code",
   "execution_count": 9,
   "id": "06232e36",
   "metadata": {},
   "outputs": [
    {
     "name": "stdout",
     "output_type": "stream",
     "text": [
      "MSE 0.13685679742372206\n",
      "MAE 0.15329781950639998\n",
      "r2_score -0.027461010856785206\n"
     ]
    }
   ],
   "source": [
    "# mse , mae and r2_score values\n",
    "mae_value = mean_absolute_error(y_val, pred)\n",
    "mse_value = mean_squared_error(y_val, pred)\n",
    "r2_score_value = r2_score(y_val, pred)\n",
    "# Total error with mse , mae and r2_score\n",
    "print(f\"MSE {mse_value}\")\n",
    "print(f\"MAE {mae_value}\")\n",
    "print(f\"r2_score {r2_score_value}\")"
   ]
  },
  {
   "cell_type": "markdown",
   "id": "4c3ac75c",
   "metadata": {},
   "source": [
    "### Visulization"
   ]
  },
  {
   "cell_type": "code",
   "execution_count": 10,
   "id": "735b5040",
   "metadata": {},
   "outputs": [
    {
     "data": {
      "image/png": "[encoded data removed]",
      "text/plain": [
       "<Figure size 432x288 with 1 Axes>"
      ]
     },
     "metadata": {
      "needs_background": "light"
     },
     "output_type": "display_data"
    }
   ],
   "source": [
    "plt.plot(pred,color = 'Blue')\n",
    "plt.plot(y_val, color = 'red')\n",
    "plt.title(\"Random Forest Regression Model For OM\")\n",
    "plt.legend(['Predicted OM values', 'Actual OM Values'], loc='upper left')\n",
    "plt.xlabel('Formula indexes')\n",
    "plt.ylabel('OM values')\n",
    "plt.savefig(\"RFRmodelForOMestimationUsingFormula.jpg\")"
   ]
  },
  {
   "cell_type": "code",
   "execution_count": 11,
   "id": "1c5ebbbe",
   "metadata": {},
   "outputs": [
    {
     "data": {
      "text/plain": [
       "-0.027461010856785206"
      ]
     },
     "execution_count": 11,
     "metadata": {},
     "output_type": "execute_result"
    }
   ],
   "source": [
    "from sklearn.metrics import r2_score\n",
    "r2_score(y_val,pred)"
   ]
  },
  {
   "cell_type": "code",
   "execution_count": 12,
   "id": "4f4c7b6b",
   "metadata": {},
   "outputs": [
    {
     "name": "stdout",
     "output_type": "stream",
     "text": [
      "[0.42533762 0.55606603 0.55687516 0.48671476 0.49618968 0.43853365\n",
      " 0.54880952 0.54636333 0.62491143 0.48925899 0.51666857 0.4281\n",
      " 0.53356667 0.4955     0.49250881 0.57785192 0.5546     0.54173872\n",
      " 0.4258     0.796655   0.49190667 0.7798     0.4539     0.42753\n",
      " 0.43917413 0.60847143 0.5645531  0.50499333 0.60730333 0.54173872\n",
      " 0.5        0.51564015 0.518      0.52709667 0.4797597  0.60598333\n",
      " 0.42753    0.41234738 0.43853365 0.41234738 0.52502381 0.57407068\n",
      " 0.43917413 0.50991694 0.43508333 0.5454     0.61583    0.518\n",
      " 0.46989461 0.55606603 0.37692403 0.48156472 0.492      0.4539\n",
      " 0.66666667 0.64628    0.49876    0.59874616 0.65255    0.50499333\n",
      " 0.53143317 0.4274     0.4358     0.4704     0.46375548 0.57296667\n",
      " 0.51304595 0.58757    0.59874616 0.54836333 0.53143317 0.52031508\n",
      " 0.4567881  0.50961938 0.57090833 0.5496     0.52770159 0.55898024\n",
      " 0.54375    0.49438889 0.55898024 0.4764     0.48156472 0.55684952\n",
      " 0.44772429 0.5        0.4        0.64069206 0.50991694 0.50562819\n",
      " 0.4567881  0.44772429 0.4        0.64393333 0.66596    0.50991694\n",
      " 0.50068649 0.51564015 0.4767     0.42533762 0.50950381 0.53589343\n",
      " 0.5586547  0.57090833 0.46375548 0.60847143 0.4281     0.54184054\n",
      " 0.51037333 0.35767    0.55606603 0.61102857 0.48575976 0.49654667\n",
      " 0.50950381 0.60730333 0.49874938 0.55786381 0.53190498 0.44152905\n",
      " 0.5546     0.4358     0.47242286 0.54375    0.55057333 0.46216373\n",
      " 0.64350143 0.44421143 0.50961938 0.45498143 0.5716     0.45577095\n",
      " 0.3718     0.50068649 0.54918185 0.64629619 0.5957     0.53061778\n",
      " 0.5479339  0.4274     0.5264211  0.4281     0.57407068 0.43853365\n",
      " 0.50539265 0.45046    0.60598333 0.5479339  0.37692403 0.49654667\n",
      " 0.57296667 0.63744    0.37692403 0.796655   0.61583    0.44752619\n",
      " 0.37692403 0.45108971 0.45108971 0.46216373 0.57407068 0.55421667\n",
      " 0.62057333 0.58792762 0.434965   0.46257857 0.53652167 0.50068649\n",
      " 0.62057333 0.50068649 0.4764     0.48424    0.4704     0.45753333\n",
      " 0.48925899 0.54918185 0.50950381 0.62111833 0.41135333 0.4946\n",
      " 0.5430436  0.4281     0.34132238 0.50885    0.47965    0.60847143\n",
      " 0.53623959 0.48671476 0.65396429 0.55450058 0.50562819 0.51666857\n",
      " 0.43853365 0.44152905 0.49630714 0.47632    0.7962     0.57785192\n",
      " 0.57090833 0.53061778 0.5602473  0.41136667 0.62111833 0.43853365\n",
      " 0.50516117 0.50961938 0.4258     0.48852913 0.56250857 0.52236667\n",
      " 0.61102857 0.48156472 0.63326667 0.41135333 0.53589343 0.49874938\n",
      " 0.6065946  0.68168048 0.51037333 0.65396429 0.61165667 0.41483762\n",
      " 0.55450058 0.47965    0.57785192 0.6143019  0.44752619 0.48671476\n",
      " 0.50004048 0.66257333 0.52031508 0.50352863 0.49876    0.51549127\n",
      " 0.53061778 0.49874938 0.54636333 0.7626     0.64978    0.48763333\n",
      " 0.51037333 0.4567881  0.53474525 0.61102857 0.53356667 0.5496\n",
      " 0.55786381 0.58608    0.56036437 0.55829286 0.53589343 0.53356667\n",
      " 0.44152905 0.46216373 0.52770159 0.49250881 0.46216373 0.4764\n",
      " 0.41234738 0.55898024 0.41234738 0.51564015 0.48156472 0.46257857\n",
      " 0.56348    0.55450058]\n"
     ]
    }
   ],
   "source": [
    "print(pred)"
   ]
  },
  {
   "cell_type": "code",
   "execution_count": 13,
   "id": "47c19473",
   "metadata": {},
   "outputs": [
    {
     "name": "stdout",
     "output_type": "stream",
     "text": [
      "[[0.4 ]\n",
      " [0.4 ]\n",
      " [0.5 ]\n",
      " [0.52]\n",
      " [0.5 ]\n",
      " [0.47]\n",
      " [0.49]\n",
      " [0.7 ]\n",
      " [0.64]\n",
      " [0.52]\n",
      " [0.78]\n",
      " [0.52]\n",
      " [0.4 ]\n",
      " [0.26]\n",
      " [0.61]\n",
      " [0.41]\n",
      " [0.41]\n",
      " [0.86]\n",
      " [0.53]\n",
      " [0.31]\n",
      " [4.4 ]\n",
      " [0.53]\n",
      " [0.41]\n",
      " [0.35]\n",
      " [0.3 ]\n",
      " [0.64]\n",
      " [0.4 ]\n",
      " [0.5 ]\n",
      " [0.45]\n",
      " [0.51]\n",
      " [0.83]\n",
      " [0.5 ]\n",
      " [0.69]\n",
      " [0.26]\n",
      " [0.7 ]\n",
      " [0.42]\n",
      " [0.88]\n",
      " [0.69]\n",
      " [0.7 ]\n",
      " [0.6 ]\n",
      " [0.55]\n",
      " [0.6 ]\n",
      " [1.  ]\n",
      " [0.74]\n",
      " [0.48]\n",
      " [0.62]\n",
      " [0.6 ]\n",
      " [0.75]\n",
      " [0.5 ]\n",
      " [0.5 ]\n",
      " [0.4 ]\n",
      " [0.5 ]\n",
      " [0.4 ]\n",
      " [0.3 ]\n",
      " [0.4 ]\n",
      " [0.4 ]\n",
      " [0.34]\n",
      " [0.5 ]\n",
      " [0.5 ]\n",
      " [0.48]\n",
      " [0.6 ]\n",
      " [0.52]\n",
      " [0.6 ]\n",
      " [0.55]\n",
      " [0.4 ]\n",
      " [0.5 ]\n",
      " [0.34]\n",
      " [0.6 ]\n",
      " [0.62]\n",
      " [0.3 ]\n",
      " [0.62]\n",
      " [0.4 ]\n",
      " [0.55]\n",
      " [0.4 ]\n",
      " [0.57]\n",
      " [0.5 ]\n",
      " [0.7 ]\n",
      " [0.69]\n",
      " [0.6 ]\n",
      " [0.4 ]\n",
      " [0.69]\n",
      " [0.45]\n",
      " [0.4 ]\n",
      " [0.5 ]\n",
      " [0.4 ]\n",
      " [0.47]\n",
      " [0.4 ]\n",
      " [0.7 ]\n",
      " [0.53]\n",
      " [0.5 ]\n",
      " [0.4 ]\n",
      " [0.62]\n",
      " [0.7 ]\n",
      " [0.88]\n",
      " [0.72]\n",
      " [0.3 ]\n",
      " [0.52]\n",
      " [0.3 ]\n",
      " [0.49]\n",
      " [0.47]\n",
      " [0.52]\n",
      " [0.45]\n",
      " [0.2 ]\n",
      " [0.6 ]\n",
      " [0.4 ]\n",
      " [0.93]\n",
      " [0.45]\n",
      " [0.6 ]\n",
      " [0.44]\n",
      " [0.52]\n",
      " [0.5 ]\n",
      " [0.38]\n",
      " [0.3 ]\n",
      " [0.5 ]\n",
      " [0.52]\n",
      " [0.64]\n",
      " [0.5 ]\n",
      " [0.39]\n",
      " [0.5 ]\n",
      " [0.5 ]\n",
      " [0.6 ]\n",
      " [0.36]\n",
      " [0.58]\n",
      " [0.67]\n",
      " [0.5 ]\n",
      " [0.55]\n",
      " [0.52]\n",
      " [0.49]\n",
      " [0.4 ]\n",
      " [0.57]\n",
      " [0.36]\n",
      " [0.47]\n",
      " [0.72]\n",
      " [0.43]\n",
      " [0.41]\n",
      " [0.5 ]\n",
      " [0.55]\n",
      " [0.67]\n",
      " [0.6 ]\n",
      " [0.62]\n",
      " [0.3 ]\n",
      " [0.45]\n",
      " [0.47]\n",
      " [0.4 ]\n",
      " [0.56]\n",
      " [0.52]\n",
      " [0.5 ]\n",
      " [0.57]\n",
      " [0.6 ]\n",
      " [0.5 ]\n",
      " [0.26]\n",
      " [0.6 ]\n",
      " [0.35]\n",
      " [0.4 ]\n",
      " [0.43]\n",
      " [1.01]\n",
      " [0.6 ]\n",
      " [0.54]\n",
      " [0.37]\n",
      " [0.62]\n",
      " [0.4 ]\n",
      " [0.52]\n",
      " [0.45]\n",
      " [0.67]\n",
      " [0.83]\n",
      " [0.69]\n",
      " [0.6 ]\n",
      " [0.44]\n",
      " [0.7 ]\n",
      " [0.3 ]\n",
      " [0.31]\n",
      " [0.63]\n",
      " [0.62]\n",
      " [0.62]\n",
      " [0.52]\n",
      " [0.38]\n",
      " [0.47]\n",
      " [0.57]\n",
      " [0.5 ]\n",
      " [0.4 ]\n",
      " [0.41]\n",
      " [0.47]\n",
      " [0.6 ]\n",
      " [0.65]\n",
      " [0.35]\n",
      " [0.41]\n",
      " [0.4 ]\n",
      " [0.5 ]\n",
      " [0.26]\n",
      " [0.78]\n",
      " [0.48]\n",
      " [0.36]\n",
      " [0.52]\n",
      " [0.5 ]\n",
      " [0.47]\n",
      " [0.36]\n",
      " [0.7 ]\n",
      " [0.6 ]\n",
      " [0.6 ]\n",
      " [0.57]\n",
      " [0.3 ]\n",
      " [0.4 ]\n",
      " [0.48]\n",
      " [0.45]\n",
      " [0.45]\n",
      " [0.6 ]\n",
      " [1.09]\n",
      " [0.5 ]\n",
      " [0.4 ]\n",
      " [0.57]\n",
      " [0.4 ]\n",
      " [0.5 ]\n",
      " [0.5 ]\n",
      " [0.3 ]\n",
      " [0.63]\n",
      " [0.5 ]\n",
      " [0.4 ]\n",
      " [4.4 ]\n",
      " [0.5 ]\n",
      " [0.47]\n",
      " [0.6 ]\n",
      " [0.6 ]\n",
      " [0.52]\n",
      " [0.5 ]\n",
      " [0.5 ]\n",
      " [0.42]\n",
      " [0.3 ]\n",
      " [0.3 ]\n",
      " [0.5 ]\n",
      " [0.46]\n",
      " [0.7 ]\n",
      " [0.78]\n",
      " [0.55]\n",
      " [0.5 ]\n",
      " [0.4 ]\n",
      " [0.43]\n",
      " [0.7 ]\n",
      " [0.43]\n",
      " [0.52]\n",
      " [0.69]\n",
      " [0.67]\n",
      " [0.6 ]\n",
      " [0.4 ]\n",
      " [0.5 ]\n",
      " [0.45]\n",
      " [0.5 ]\n",
      " [1.  ]\n",
      " [0.7 ]\n",
      " [0.45]\n",
      " [0.35]\n",
      " [0.6 ]\n",
      " [0.56]\n",
      " [0.5 ]\n",
      " [0.26]\n",
      " [0.61]\n",
      " [0.72]\n",
      " [0.4 ]\n",
      " [0.4 ]\n",
      " [0.72]\n",
      " [0.5 ]\n",
      " [0.78]\n",
      " [0.6 ]\n",
      " [0.67]\n",
      " [0.69]\n",
      " [0.51]\n",
      " [0.85]]\n"
     ]
    }
   ],
   "source": [
    "print(y_val)"
   ]
  },
  {
   "cell_type": "code",
   "execution_count": null,
   "id": "dae53a08",
   "metadata": {},
   "outputs": [],
   "source": []
  },
  {
   "cell_type": "code",
   "execution_count": null,
   "id": "a8f0bfd1",
   "metadata": {},
   "outputs": [],
   "source": []
  },
  {
   "cell_type": "code",
   "execution_count": null,
   "id": "2abab865",
   "metadata": {},
   "outputs": [],
   "source": []
  },
  {
   "cell_type": "code",
   "execution_count": null,
   "id": "b293a827",
   "metadata": {},
   "outputs": [],
   "source": []
  },
  {
   "cell_type": "code",
   "execution_count": null,
   "id": "b80ac50d",
   "metadata": {},
   "outputs": [],
   "source": []
  },
  {
   "cell_type": "code",
   "execution_count": null,
   "id": "b6b38bd1",
   "metadata": {},
   "outputs": [],
   "source": []
  },
  {
   "cell_type": "code",
   "execution_count": null,
   "id": "0793fc75",
   "metadata": {},
   "outputs": [],
   "source": []
  },
  {
   "cell_type": "code",
   "execution_count": null,
   "id": "a6639b0f",
   "metadata": {},
   "outputs": [],
   "source": []
  },
  {
   "cell_type": "code",
   "execution_count": null,
   "id": "bc8dbb99",
   "metadata": {},
   "outputs": [],
   "source": []
  },
  {
   "cell_type": "code",
   "execution_count": null,
   "id": "5cd6a0bc",
   "metadata": {},
   "outputs": [],
   "source": []
  },
  {
   "cell_type": "code",
   "execution_count": null,
   "id": "d5384b0e",
   "metadata": {},
   "outputs": [],
   "source": []
  }
 ],
 "metadata": {
  "kernelspec": {
   "display_name": "Python 3 (ipykernel)",
   "language": "python",
   "name": "python3"
  },
  "language_info": {
   "codemirror_mode": {
    "name": "ipython",
    "version": 3
   },
   "file_extension": ".py",
   "mimetype": "text/x-python",
   "name": "python",
   "nbconvert_exporter": "python",
   "pygments_lexer": "ipython3",
   "version": "3.8.12"
  }
 },
 "nbformat": 4,
 "nbformat_minor": 5
}
