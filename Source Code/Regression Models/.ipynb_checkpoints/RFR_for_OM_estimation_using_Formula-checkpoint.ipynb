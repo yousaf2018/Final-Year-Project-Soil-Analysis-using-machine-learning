{
 "cells": [
  {
   "cell_type": "markdown",
   "id": "2f2bd941",
   "metadata": {},
   "source": [
    "### Libraries for dataset manipulation and visulization"
   ]
  },
  {
   "cell_type": "code",
   "execution_count": 1,
   "id": "bec3ab18",
   "metadata": {},
   "outputs": [],
   "source": [
    "import numpy as np\n",
    "import pandas as pd\n",
    "import matplotlib.pyplot as plt"
   ]
  },
  {
   "cell_type": "markdown",
   "id": "6a25f32e",
   "metadata": {},
   "source": [
    "### Dataset Loading"
   ]
  },
  {
   "cell_type": "code",
   "execution_count": 2,
   "id": "5e00c17d",
   "metadata": {},
   "outputs": [],
   "source": [
    "dataset = pd.read_csv('C:\\\\Users\\\\Mahmood Yousaf\\\\Desktop\\\\FYP\\\\Final-Year-Project-Soil-Analysis-using-machine-learning\\\\Extracted Features\\\\Formula_Index_with_OM_value.csv')"
   ]
  },
  {
   "cell_type": "markdown",
   "id": "44d666b2",
   "metadata": {},
   "source": [
    "### Preprocessing on dataset"
   ]
  },
  {
   "cell_type": "code",
   "execution_count": 3,
   "id": "bef79ea3",
   "metadata": {},
   "outputs": [
    {
     "name": "stdout",
     "output_type": "stream",
     "text": [
      "[525.  505.  542.  ... 397.  262.5 365. ]\n",
      "[0.52 0.52 0.59 ... 0.6  0.5  0.5 ]\n"
     ]
    }
   ],
   "source": [
    "X = np.array(dataset['Formula_Index'])\n",
    "Y = np.array(dataset['OM_Value'])\n",
    "print(X)\n",
    "print(Y)"
   ]
  },
  {
   "cell_type": "code",
   "execution_count": 4,
   "id": "dd2bed66",
   "metadata": {},
   "outputs": [
    {
     "name": "stdout",
     "output_type": "stream",
     "text": [
      "[[525. ]\n",
      " [505. ]\n",
      " [542. ]\n",
      " ...\n",
      " [397. ]\n",
      " [262.5]\n",
      " [365. ]] [[0.52]\n",
      " [0.52]\n",
      " [0.59]\n",
      " ...\n",
      " [0.6 ]\n",
      " [0.5 ]\n",
      " [0.5 ]]\n"
     ]
    }
   ],
   "source": [
    "X = X.reshape(len(X),1)\n",
    "Y = Y.reshape(len(Y),1)\n",
    "print(X,Y)"
   ]
  },
  {
   "cell_type": "markdown",
   "id": "c3db3d89",
   "metadata": {},
   "source": [
    "### DTR model training"
   ]
  },
  {
   "cell_type": "code",
   "execution_count": 5,
   "id": "70f6693c",
   "metadata": {},
   "outputs": [],
   "source": [
    "from sklearn.model_selection import train_test_split\n",
    "X_train, X_val, y_train, y_val = train_test_split(X, Y)"
   ]
  },
  {
   "cell_type": "code",
   "execution_count": 6,
   "id": "86107818",
   "metadata": {},
   "outputs": [
    {
     "name": "stderr",
     "output_type": "stream",
     "text": [
      "C:\\Users\\MAHMOO~1\\AppData\\Local\\Temp/ipykernel_12720/3513569335.py:6: DataConversionWarning: A column-vector y was passed when a 1d array was expected. Please change the shape of y to (n_samples,), for example using ravel().\n",
      "  regressor.fit(X_train,y_train)\n"
     ]
    },
    {
     "data": {
      "text/plain": [
       "RandomForestRegressor(n_estimators=50, random_state=0)"
      ]
     },
     "execution_count": 6,
     "metadata": {},
     "output_type": "execute_result"
    }
   ],
   "source": [
    "from sklearn.ensemble import RandomForestRegressor\n",
    "from sklearn.metrics import mean_absolute_error\n",
    "from sklearn.metrics import mean_squared_error\n",
    "from sklearn.metrics import r2_score\n",
    "regressor = RandomForestRegressor(n_estimators=50, random_state = 0)\n",
    "regressor.fit(X_train,y_train)"
   ]
  },
  {
   "cell_type": "markdown",
   "id": "eb96c339",
   "metadata": {},
   "source": [
    "### Prediction "
   ]
  },
  {
   "cell_type": "code",
   "execution_count": 7,
   "id": "b5264ee9",
   "metadata": {},
   "outputs": [
    {
     "name": "stdout",
     "output_type": "stream",
     "text": [
      "[0.38541667]\n"
     ]
    }
   ],
   "source": [
    "prediction = regressor.predict([[500]])\n",
    "print(prediction)"
   ]
  },
  {
   "cell_type": "code",
   "execution_count": 8,
   "id": "7652decf",
   "metadata": {},
   "outputs": [
    {
     "name": "stdout",
     "output_type": "stream",
     "text": [
      "[0.5031     0.47466667 0.49192166 0.52372576 0.45997524 0.47466667\n",
      " 0.48916947 0.53995    0.5533781  0.47535746 0.6422     0.53704\n",
      " 0.5959546  0.52372576 0.46068    0.5842925  0.63091667 0.50853\n",
      " 0.38818333 0.49192166 0.47535746 0.55988635 0.52278052 0.50327294\n",
      " 0.51485524 0.47832675 0.5031     0.51016504 0.60040476 0.46146098\n",
      " 0.54821238 0.6588     0.64830722 0.4672869  0.53184    0.50287381\n",
      " 0.52754976 0.4312     0.61517587 0.55115866 0.55470475 0.48916947\n",
      " 0.47832675 0.47545714 0.63091667 0.55115866 0.47358056 0.38912381\n",
      " 0.48405944 0.4954     0.44811333 0.47747333 0.71753333 1.22623333\n",
      " 0.49054667 0.56304619 0.49267568 0.55773333 0.55695737 0.48224143\n",
      " 0.6417619  0.48519726 0.53501238 0.48224143 0.47832675 0.54055\n",
      " 0.6588     0.65649    0.48916947 0.58304667 0.4105     0.51573333\n",
      " 0.48519726 0.54055    0.5368     0.58534881 0.55773333 0.71008\n",
      " 0.4456781  0.5003204  0.4707     0.52754976 0.50761593 0.49192166\n",
      " 0.47658889 0.49192166 0.51016504 0.41495476 0.49267568 0.58694\n",
      " 0.55695737 0.47466667 0.44431698 0.41956286 0.44811333 0.62335905\n",
      " 0.54821238 0.50761593 0.48916947 0.51576667 0.48049743 0.4312\n",
      " 0.54821238 0.47806667 0.46351048 0.5616     0.45032143 0.4672869\n",
      " 0.54055    0.47658889 0.68077905 0.51016504 0.4436     0.50554282\n",
      " 0.51856558 0.41741667 0.6596     0.47535746 0.58892937 0.47466667\n",
      " 0.50336245 0.46349669 0.63672238 0.5314234  0.71753333 0.43971524\n",
      " 0.6417619  0.52163619 0.6518     0.41741667 0.53184    0.71604254\n",
      " 0.5022     0.43209063 0.3725     0.58083064 0.5314234  0.5533781\n",
      " 0.46275667 0.67845    0.53195    0.38541667 0.47103035 0.50233014\n",
      " 1.22623333 0.55569111 0.58238429 0.4886     2.25870333 0.5953\n",
      " 0.55963957 0.43164481 0.597915   0.49299    0.53730167 0.58857324\n",
      " 0.50411571 0.65313238 0.5842925  0.63672238 0.48224143 0.70283333\n",
      " 0.50327294 0.4063     0.64618    0.51573333 0.47535746 0.4101181\n",
      " 0.45997524 0.49054667 0.58664048 0.62574246 0.484      0.62574246\n",
      " 0.43840683 0.52372576 0.50168889 0.44876    0.59602333 0.65566\n",
      " 0.43392952 0.65803333 0.36993333 0.5959546  0.55988635 0.71604254\n",
      " 0.43164481 0.47757333 0.55115866 0.6417619  0.39493    0.63672238\n",
      " 0.62335905 0.4063     0.48519726 0.55569111 0.60972648 0.53995\n",
      " 0.45997524 0.65649    0.6422     0.43209063 0.48900333 0.47747333\n",
      " 0.5368     0.44431698 0.55569111 0.49446667 0.55273381 0.49776667\n",
      " 0.81139333 0.68808333 0.68884    0.48916947 0.41495476 0.49192166\n",
      " 0.58664048 0.5314234  0.65166713 0.72357333 0.37298222 0.5031\n",
      " 0.44220063 0.48916947 0.48916947 0.4756     0.56481667 0.4672869\n",
      " 0.41855333 0.47887492 0.51518803 0.53793    0.54055    0.56304619\n",
      " 0.50761593 0.61517587 0.48916947 0.41855333 0.73215    0.4672869\n",
      " 0.6288     0.49299    0.47535746 0.56974667 0.43164481 0.5959546\n",
      " 0.70008667 0.48049743 0.51016504 0.48916947 0.58892937 0.53730167\n",
      " 0.53501238 0.58083064 0.50336245 0.56887866 0.55569111 0.52754976\n",
      " 0.52372576 0.6518     0.5533781  0.48942667 0.63091667 0.44431698\n",
      " 0.58238429 0.50761593]\n"
     ]
    }
   ],
   "source": [
    "pred = regressor.predict(X_val)\n",
    "print(pred)"
   ]
  },
  {
   "cell_type": "code",
   "execution_count": 9,
   "id": "06232e36",
   "metadata": {},
   "outputs": [
    {
     "name": "stdout",
     "output_type": "stream",
     "text": [
      "MSE 0.0874395790813379\n",
      "MAE 0.14163327255783342\n",
      "r2_score -0.18955779346642965\n"
     ]
    }
   ],
   "source": [
    "# mse , mae and r2_score values\n",
    "mae_value = mean_absolute_error(y_val, pred)\n",
    "mse_value = mean_squared_error(y_val, pred)\n",
    "r2_score_value = r2_score(y_val, pred)\n",
    "# Total error with mse , mae and r2_score\n",
    "print(f\"MSE {mse_value}\")\n",
    "print(f\"MAE {mae_value}\")\n",
    "print(f\"r2_score {r2_score_value}\")"
   ]
  },
  {
   "cell_type": "markdown",
   "id": "4c3ac75c",
   "metadata": {},
   "source": [
    "### Visulization"
   ]
  },
  {
   "cell_type": "code",
   "execution_count": 10,
   "id": "735b5040",
   "metadata": {},
   "outputs": [
    {
     "data": {
      "image/png": "[encoded data removed]",
      "text/plain": [
       "<Figure size 432x288 with 1 Axes>"
      ]
     },
     "metadata": {
      "needs_background": "light"
     },
     "output_type": "display_data"
    }
   ],
   "source": [
    "plt.plot(pred,color = 'Blue')\n",
    "plt.plot(y_val, color = 'red')\n",
    "plt.title(\"Random Forest Regression Model For OM\")\n",
    "plt.legend(['Predicted OM values', 'Actual OM Values'], loc='upper left')\n",
    "plt.xlabel('Number of samples')\n",
    "plt.ylabel('OM values')\n",
    "plt.savefig(\"RFRmodelForOMestimationUsingFormula.jpg\")"
   ]
  },
  {
   "cell_type": "code",
   "execution_count": 11,
   "id": "1c5ebbbe",
   "metadata": {},
   "outputs": [
    {
     "data": {
      "text/plain": [
       "-0.18955779346642965"
      ]
     },
     "execution_count": 11,
     "metadata": {},
     "output_type": "execute_result"
    }
   ],
   "source": [
    "from sklearn.metrics import r2_score\n",
    "r2_score(y_val,pred)"
   ]
  },
  {
   "cell_type": "code",
   "execution_count": 12,
   "id": "4f4c7b6b",
   "metadata": {},
   "outputs": [
    {
     "name": "stdout",
     "output_type": "stream",
     "text": [
      "[0.5031     0.47466667 0.49192166 0.52372576 0.45997524 0.47466667\n",
      " 0.48916947 0.53995    0.5533781  0.47535746 0.6422     0.53704\n",
      " 0.5959546  0.52372576 0.46068    0.5842925  0.63091667 0.50853\n",
      " 0.38818333 0.49192166 0.47535746 0.55988635 0.52278052 0.50327294\n",
      " 0.51485524 0.47832675 0.5031     0.51016504 0.60040476 0.46146098\n",
      " 0.54821238 0.6588     0.64830722 0.4672869  0.53184    0.50287381\n",
      " 0.52754976 0.4312     0.61517587 0.55115866 0.55470475 0.48916947\n",
      " 0.47832675 0.47545714 0.63091667 0.55115866 0.47358056 0.38912381\n",
      " 0.48405944 0.4954     0.44811333 0.47747333 0.71753333 1.22623333\n",
      " 0.49054667 0.56304619 0.49267568 0.55773333 0.55695737 0.48224143\n",
      " 0.6417619  0.48519726 0.53501238 0.48224143 0.47832675 0.54055\n",
      " 0.6588     0.65649    0.48916947 0.58304667 0.4105     0.51573333\n",
      " 0.48519726 0.54055    0.5368     0.58534881 0.55773333 0.71008\n",
      " 0.4456781  0.5003204  0.4707     0.52754976 0.50761593 0.49192166\n",
      " 0.47658889 0.49192166 0.51016504 0.41495476 0.49267568 0.58694\n",
      " 0.55695737 0.47466667 0.44431698 0.41956286 0.44811333 0.62335905\n",
      " 0.54821238 0.50761593 0.48916947 0.51576667 0.48049743 0.4312\n",
      " 0.54821238 0.47806667 0.46351048 0.5616     0.45032143 0.4672869\n",
      " 0.54055    0.47658889 0.68077905 0.51016504 0.4436     0.50554282\n",
      " 0.51856558 0.41741667 0.6596     0.47535746 0.58892937 0.47466667\n",
      " 0.50336245 0.46349669 0.63672238 0.5314234  0.71753333 0.43971524\n",
      " 0.6417619  0.52163619 0.6518     0.41741667 0.53184    0.71604254\n",
      " 0.5022     0.43209063 0.3725     0.58083064 0.5314234  0.5533781\n",
      " 0.46275667 0.67845    0.53195    0.38541667 0.47103035 0.50233014\n",
      " 1.22623333 0.55569111 0.58238429 0.4886     2.25870333 0.5953\n",
      " 0.55963957 0.43164481 0.597915   0.49299    0.53730167 0.58857324\n",
      " 0.50411571 0.65313238 0.5842925  0.63672238 0.48224143 0.70283333\n",
      " 0.50327294 0.4063     0.64618    0.51573333 0.47535746 0.4101181\n",
      " 0.45997524 0.49054667 0.58664048 0.62574246 0.484      0.62574246\n",
      " 0.43840683 0.52372576 0.50168889 0.44876    0.59602333 0.65566\n",
      " 0.43392952 0.65803333 0.36993333 0.5959546  0.55988635 0.71604254\n",
      " 0.43164481 0.47757333 0.55115866 0.6417619  0.39493    0.63672238\n",
      " 0.62335905 0.4063     0.48519726 0.55569111 0.60972648 0.53995\n",
      " 0.45997524 0.65649    0.6422     0.43209063 0.48900333 0.47747333\n",
      " 0.5368     0.44431698 0.55569111 0.49446667 0.55273381 0.49776667\n",
      " 0.81139333 0.68808333 0.68884    0.48916947 0.41495476 0.49192166\n",
      " 0.58664048 0.5314234  0.65166713 0.72357333 0.37298222 0.5031\n",
      " 0.44220063 0.48916947 0.48916947 0.4756     0.56481667 0.4672869\n",
      " 0.41855333 0.47887492 0.51518803 0.53793    0.54055    0.56304619\n",
      " 0.50761593 0.61517587 0.48916947 0.41855333 0.73215    0.4672869\n",
      " 0.6288     0.49299    0.47535746 0.56974667 0.43164481 0.5959546\n",
      " 0.70008667 0.48049743 0.51016504 0.48916947 0.58892937 0.53730167\n",
      " 0.53501238 0.58083064 0.50336245 0.56887866 0.55569111 0.52754976\n",
      " 0.52372576 0.6518     0.5533781  0.48942667 0.63091667 0.44431698\n",
      " 0.58238429 0.50761593]\n"
     ]
    }
   ],
   "source": [
    "print(pred)"
   ]
  },
  {
   "cell_type": "code",
   "execution_count": 13,
   "id": "47c19473",
   "metadata": {},
   "outputs": [
    {
     "name": "stdout",
     "output_type": "stream",
     "text": [
      "[[0.5 ]\n",
      " [0.69]\n",
      " [0.5 ]\n",
      " [0.5 ]\n",
      " [0.5 ]\n",
      " [0.55]\n",
      " [0.56]\n",
      " [0.5 ]\n",
      " [0.4 ]\n",
      " [0.67]\n",
      " [1.01]\n",
      " [0.4 ]\n",
      " [0.52]\n",
      " [0.67]\n",
      " [0.4 ]\n",
      " [0.4 ]\n",
      " [0.57]\n",
      " [0.62]\n",
      " [0.6 ]\n",
      " [0.4 ]\n",
      " [0.47]\n",
      " [0.38]\n",
      " [0.6 ]\n",
      " [0.49]\n",
      " [0.5 ]\n",
      " [0.74]\n",
      " [0.4 ]\n",
      " [0.5 ]\n",
      " [0.47]\n",
      " [0.4 ]\n",
      " [0.51]\n",
      " [0.69]\n",
      " [0.39]\n",
      " [0.26]\n",
      " [0.4 ]\n",
      " [0.3 ]\n",
      " [0.4 ]\n",
      " [0.81]\n",
      " [0.78]\n",
      " [0.36]\n",
      " [0.6 ]\n",
      " [0.41]\n",
      " [0.59]\n",
      " [0.4 ]\n",
      " [0.52]\n",
      " [0.6 ]\n",
      " [0.55]\n",
      " [0.5 ]\n",
      " [0.5 ]\n",
      " [0.45]\n",
      " [0.6 ]\n",
      " [0.57]\n",
      " [0.5 ]\n",
      " [0.9 ]\n",
      " [0.45]\n",
      " [0.67]\n",
      " [0.67]\n",
      " [0.62]\n",
      " [0.5 ]\n",
      " [0.6 ]\n",
      " [0.41]\n",
      " [0.4 ]\n",
      " [0.6 ]\n",
      " [0.5 ]\n",
      " [0.85]\n",
      " [0.4 ]\n",
      " [0.57]\n",
      " [0.78]\n",
      " [0.4 ]\n",
      " [0.5 ]\n",
      " [0.63]\n",
      " [0.35]\n",
      " [0.6 ]\n",
      " [0.52]\n",
      " [0.64]\n",
      " [0.72]\n",
      " [0.6 ]\n",
      " [0.47]\n",
      " [0.5 ]\n",
      " [0.55]\n",
      " [0.47]\n",
      " [0.49]\n",
      " [0.4 ]\n",
      " [0.52]\n",
      " [0.55]\n",
      " [0.3 ]\n",
      " [0.5 ]\n",
      " [0.5 ]\n",
      " [0.6 ]\n",
      " [0.5 ]\n",
      " [0.19]\n",
      " [0.69]\n",
      " [0.36]\n",
      " [0.5 ]\n",
      " [0.43]\n",
      " [0.47]\n",
      " [0.86]\n",
      " [0.6 ]\n",
      " [0.57]\n",
      " [0.78]\n",
      " [0.5 ]\n",
      " [0.47]\n",
      " [0.62]\n",
      " [0.67]\n",
      " [0.5 ]\n",
      " [0.31]\n",
      " [0.52]\n",
      " [0.62]\n",
      " [0.6 ]\n",
      " [0.4 ]\n",
      " [0.36]\n",
      " [0.3 ]\n",
      " [0.51]\n",
      " [0.4 ]\n",
      " [0.67]\n",
      " [0.4 ]\n",
      " [0.5 ]\n",
      " [0.5 ]\n",
      " [0.5 ]\n",
      " [0.4 ]\n",
      " [0.57]\n",
      " [0.5 ]\n",
      " [0.41]\n",
      " [0.57]\n",
      " [0.5 ]\n",
      " [0.3 ]\n",
      " [0.5 ]\n",
      " [0.54]\n",
      " [0.6 ]\n",
      " [0.4 ]\n",
      " [0.47]\n",
      " [0.39]\n",
      " [0.45]\n",
      " [0.6 ]\n",
      " [0.6 ]\n",
      " [0.59]\n",
      " [0.52]\n",
      " [0.5 ]\n",
      " [0.78]\n",
      " [0.5 ]\n",
      " [0.66]\n",
      " [0.61]\n",
      " [0.7 ]\n",
      " [0.5 ]\n",
      " [0.47]\n",
      " [0.45]\n",
      " [0.41]\n",
      " [0.4 ]\n",
      " [0.52]\n",
      " [0.54]\n",
      " [0.63]\n",
      " [0.45]\n",
      " [0.7 ]\n",
      " [0.41]\n",
      " [0.52]\n",
      " [0.48]\n",
      " [0.7 ]\n",
      " [0.52]\n",
      " [0.3 ]\n",
      " [0.5 ]\n",
      " [0.45]\n",
      " [4.4 ]\n",
      " [0.52]\n",
      " [0.31]\n",
      " [0.75]\n",
      " [0.6 ]\n",
      " [0.6 ]\n",
      " [0.61]\n",
      " [0.45]\n",
      " [0.36]\n",
      " [0.7 ]\n",
      " [0.7 ]\n",
      " [0.5 ]\n",
      " [0.3 ]\n",
      " [0.62]\n",
      " [0.6 ]\n",
      " [0.45]\n",
      " [0.54]\n",
      " [0.4 ]\n",
      " [0.52]\n",
      " [0.57]\n",
      " [0.52]\n",
      " [0.3 ]\n",
      " [0.36]\n",
      " [0.43]\n",
      " [0.5 ]\n",
      " [0.35]\n",
      " [0.36]\n",
      " [0.3 ]\n",
      " [0.57]\n",
      " [0.6 ]\n",
      " [0.5 ]\n",
      " [0.4 ]\n",
      " [0.53]\n",
      " [0.5 ]\n",
      " [0.6 ]\n",
      " [0.5 ]\n",
      " [0.5 ]\n",
      " [0.5 ]\n",
      " [0.47]\n",
      " [0.77]\n",
      " [0.39]\n",
      " [0.62]\n",
      " [0.47]\n",
      " [0.3 ]\n",
      " [0.2 ]\n",
      " [0.6 ]\n",
      " [0.5 ]\n",
      " [0.49]\n",
      " [0.36]\n",
      " [0.35]\n",
      " [0.48]\n",
      " [0.53]\n",
      " [0.57]\n",
      " [0.3 ]\n",
      " [0.5 ]\n",
      " [0.55]\n",
      " [0.21]\n",
      " [0.5 ]\n",
      " [0.26]\n",
      " [0.7 ]\n",
      " [0.62]\n",
      " [0.3 ]\n",
      " [0.5 ]\n",
      " [0.6 ]\n",
      " [0.8 ]\n",
      " [0.7 ]\n",
      " [0.4 ]\n",
      " [0.57]\n",
      " [0.49]\n",
      " [0.54]\n",
      " [0.51]\n",
      " [0.64]\n",
      " [0.67]\n",
      " [0.63]\n",
      " [0.5 ]\n",
      " [0.4 ]\n",
      " [0.4 ]\n",
      " [0.44]\n",
      " [0.54]\n",
      " [0.7 ]\n",
      " [0.5 ]\n",
      " [0.34]\n",
      " [0.43]\n",
      " [0.35]\n",
      " [0.53]\n",
      " [0.26]\n",
      " [0.6 ]\n",
      " [0.6 ]\n",
      " [0.5 ]\n",
      " [0.41]\n",
      " [0.53]\n",
      " [0.77]\n",
      " [0.85]\n",
      " [0.3 ]\n",
      " [0.4 ]\n",
      " [0.49]\n",
      " [0.6 ]\n",
      " [0.6 ]\n",
      " [0.6 ]\n",
      " [0.41]\n",
      " [0.58]\n",
      " [0.6 ]\n",
      " [0.36]\n",
      " [0.6 ]\n",
      " [0.4 ]]\n"
     ]
    }
   ],
   "source": [
    "print(y_val)"
   ]
  },
  {
   "cell_type": "code",
   "execution_count": null,
   "id": "dae53a08",
   "metadata": {},
   "outputs": [],
   "source": []
  },
  {
   "cell_type": "code",
   "execution_count": null,
   "id": "a8f0bfd1",
   "metadata": {},
   "outputs": [],
   "source": []
  },
  {
   "cell_type": "code",
   "execution_count": null,
   "id": "2abab865",
   "metadata": {},
   "outputs": [],
   "source": []
  },
  {
   "cell_type": "code",
   "execution_count": null,
   "id": "b293a827",
   "metadata": {},
   "outputs": [],
   "source": []
  },
  {
   "cell_type": "code",
   "execution_count": null,
   "id": "b80ac50d",
   "metadata": {},
   "outputs": [],
   "source": []
  },
  {
   "cell_type": "code",
   "execution_count": null,
   "id": "b6b38bd1",
   "metadata": {},
   "outputs": [],
   "source": []
  },
  {
   "cell_type": "code",
   "execution_count": null,
   "id": "0793fc75",
   "metadata": {},
   "outputs": [],
   "source": []
  },
  {
   "cell_type": "code",
   "execution_count": null,
   "id": "a6639b0f",
   "metadata": {},
   "outputs": [],
   "source": []
  },
  {
   "cell_type": "code",
   "execution_count": null,
   "id": "bc8dbb99",
   "metadata": {},
   "outputs": [],
   "source": []
  },
  {
   "cell_type": "code",
   "execution_count": null,
   "id": "5cd6a0bc",
   "metadata": {},
   "outputs": [],
   "source": []
  },
  {
   "cell_type": "code",
   "execution_count": null,
   "id": "d5384b0e",
   "metadata": {},
   "outputs": [],
   "source": []
  }
 ],
 "metadata": {
  "kernelspec": {
   "display_name": "Python 3 (ipykernel)",
   "language": "python",
   "name": "python3"
  },
  "language_info": {
   "codemirror_mode": {
    "name": "ipython",
    "version": 3
   },
   "file_extension": ".py",
   "mimetype": "text/x-python",
   "name": "python",
   "nbconvert_exporter": "python",
   "pygments_lexer": "ipython3",
   "version": "3.8.12"
  }
 },
 "nbformat": 4,
 "nbformat_minor": 5
}
