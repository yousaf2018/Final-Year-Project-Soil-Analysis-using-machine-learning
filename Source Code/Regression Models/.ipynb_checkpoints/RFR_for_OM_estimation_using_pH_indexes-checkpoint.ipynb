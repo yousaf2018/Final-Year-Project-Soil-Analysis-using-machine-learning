{
 "cells": [
  {
   "cell_type": "markdown",
   "id": "2f2bd941",
   "metadata": {},
   "source": [
    "### Libraries for dataset manipulation and visulization"
   ]
  },
  {
   "cell_type": "code",
   "execution_count": 1,
   "id": "bec3ab18",
   "metadata": {},
   "outputs": [],
   "source": [
    "import numpy as np\n",
    "import pandas as pd\n",
    "import matplotlib.pyplot as plt"
   ]
  },
  {
   "cell_type": "markdown",
   "id": "6a25f32e",
   "metadata": {},
   "source": [
    "### Dataset Loading"
   ]
  },
  {
   "cell_type": "code",
   "execution_count": 2,
   "id": "5e00c17d",
   "metadata": {},
   "outputs": [],
   "source": [
    "dataset = pd.read_csv('C:\\\\Users\\\\Mahmood Yousaf\\\\Desktop\\\\FYP\\\\Final-Year-Project-Soil-Analysis-using-machine-learning\\\\Extracted Features\\\\pH_Index_with_OM_value.csv')"
   ]
  },
  {
   "cell_type": "markdown",
   "id": "44d666b2",
   "metadata": {},
   "source": [
    "### Preprocessing on dataset"
   ]
  },
  {
   "cell_type": "code",
   "execution_count": 3,
   "id": "bef79ea3",
   "metadata": {},
   "outputs": [
    {
     "name": "stdout",
     "output_type": "stream",
     "text": [
      "[0.00703939 0.0073076  0.00680586 ... 0.00868003 0.0176074  0.01053636]\n",
      "[0.52 0.52 0.59 ... 0.6  0.5  0.5 ]\n"
     ]
    }
   ],
   "source": [
    "X = np.array(dataset['pH_Index'])\n",
    "Y = np.array(dataset['OM_Value'])\n",
    "print(X)\n",
    "print(Y)"
   ]
  },
  {
   "cell_type": "code",
   "execution_count": 4,
   "id": "dd2bed66",
   "metadata": {},
   "outputs": [
    {
     "name": "stdout",
     "output_type": "stream",
     "text": [
      "[[0.00703939]\n",
      " [0.0073076 ]\n",
      " [0.00680586]\n",
      " ...\n",
      " [0.00868003]\n",
      " [0.0176074 ]\n",
      " [0.01053636]] [[0.52]\n",
      " [0.52]\n",
      " [0.59]\n",
      " ...\n",
      " [0.6 ]\n",
      " [0.5 ]\n",
      " [0.5 ]]\n"
     ]
    }
   ],
   "source": [
    "X = X.reshape(len(X),1)\n",
    "Y = Y.reshape(len(Y),1)\n",
    "print(X,Y)"
   ]
  },
  {
   "cell_type": "markdown",
   "id": "c3db3d89",
   "metadata": {},
   "source": [
    "### DTR model training"
   ]
  },
  {
   "cell_type": "code",
   "execution_count": 5,
   "id": "70f6693c",
   "metadata": {},
   "outputs": [],
   "source": [
    "from sklearn.model_selection import train_test_split\n",
    "X_train, X_val, y_train, y_val = train_test_split(X, Y)"
   ]
  },
  {
   "cell_type": "code",
   "execution_count": 6,
   "id": "86107818",
   "metadata": {},
   "outputs": [
    {
     "name": "stderr",
     "output_type": "stream",
     "text": [
      "C:\\Users\\MAHMOO~1\\AppData\\Local\\Temp/ipykernel_13780/3513569335.py:6: DataConversionWarning: A column-vector y was passed when a 1d array was expected. Please change the shape of y to (n_samples,), for example using ravel().\n",
      "  regressor.fit(X_train,y_train)\n"
     ]
    },
    {
     "data": {
      "text/plain": [
       "RandomForestRegressor(n_estimators=50, random_state=0)"
      ]
     },
     "execution_count": 6,
     "metadata": {},
     "output_type": "execute_result"
    }
   ],
   "source": [
    "from sklearn.ensemble import RandomForestRegressor\n",
    "from sklearn.metrics import mean_absolute_error\n",
    "from sklearn.metrics import mean_squared_error\n",
    "from sklearn.metrics import r2_score\n",
    "regressor = RandomForestRegressor(n_estimators=50, random_state = 0)\n",
    "regressor.fit(X_train,y_train)"
   ]
  },
  {
   "cell_type": "markdown",
   "id": "eb96c339",
   "metadata": {},
   "source": [
    "### Prediction "
   ]
  },
  {
   "cell_type": "code",
   "execution_count": 7,
   "id": "b5264ee9",
   "metadata": {},
   "outputs": [
    {
     "name": "stdout",
     "output_type": "stream",
     "text": [
      "[0.4644]\n"
     ]
    }
   ],
   "source": [
    "prediction = regressor.predict([[500]])\n",
    "print(prediction)"
   ]
  },
  {
   "cell_type": "code",
   "execution_count": 8,
   "id": "7652decf",
   "metadata": {},
   "outputs": [
    {
     "name": "stdout",
     "output_type": "stream",
     "text": [
      "[0.3424     0.659      0.473      0.4134     0.7192     0.4816\n",
      " 0.5186     0.4394     0.6558     0.51       0.4076     0.5918\n",
      " 0.49       0.5596     0.6        0.4288     0.564      0.64191667\n",
      " 0.5598     0.6296     0.56       0.6478     0.4838     0.5456\n",
      " 0.484      0.6204     0.4002     0.4312     0.705      0.5692\n",
      " 0.3856     0.426      0.5288     0.5196     0.532      0.6264\n",
      " 0.4898     0.489      0.5636     0.4214     0.4798     0.9054\n",
      " 0.3084     0.5624     0.3252     0.3684     0.4472     0.5264\n",
      " 0.3778     0.6264     0.5756     0.4906     0.6384     0.592\n",
      " 0.524      0.4288     0.5136     0.6298     0.358      0.39\n",
      " 0.7332     0.5808     0.521      0.5072     0.532      0.522\n",
      " 0.5536     0.5252     0.5598     0.6        0.5698     0.4076\n",
      " 0.6        0.6        0.4374     0.33       0.5786     0.5318\n",
      " 0.6796     0.5744     0.578      0.57332667 0.5412     0.5134\n",
      " 0.53505    0.6144     0.4824     0.516      0.6036     0.5404\n",
      " 0.632      0.504      0.3472     0.407      0.5146     0.5618\n",
      " 0.358      0.4646     0.4668     0.4876     0.393      0.4976\n",
      " 0.33       0.6548     0.5336     0.4732     0.59158    0.74167333\n",
      " 0.6796     0.4692     0.6096     0.358      0.5958     0.4122\n",
      " 0.5318     0.5136     0.509      0.472      0.64116667 0.574\n",
      " 0.64191667 0.4236     0.7776     0.5136     0.55736    0.59\n",
      " 0.6748     0.521      0.4824     0.6264     0.5474     0.64391667\n",
      " 0.35       0.4846     0.5206     0.4432     0.4476     0.6472\n",
      " 0.408      0.4532     0.5848     0.5136     0.426      0.4136\n",
      " 0.5404     0.5416     0.4114     0.464      0.5284     0.4504\n",
      " 0.5198     0.74167333 0.5254     0.5112     0.4714     0.6278\n",
      " 0.4362     0.5092     0.5276     0.502      0.53413333 0.4448\n",
      " 0.59       0.314      0.5056     0.5928     0.57332667 0.4808\n",
      " 0.4496     0.4164     0.4538     0.5636     0.5072     0.5682\n",
      " 0.5196     0.434      0.5478     0.5282     0.455      0.5426\n",
      " 0.4504     0.4764     0.5404     0.3304     0.4858     0.441\n",
      " 0.4736     0.6028     0.415      0.5        0.4134     0.5356\n",
      " 0.4054     0.3848     0.446      0.6522     0.4956     0.5428\n",
      " 0.7178     0.5318     0.5928     0.5216     0.50206667 0.5316\n",
      " 0.44486    0.53776    0.5734     0.5992     0.6024     0.3778\n",
      " 0.51       0.4912     0.5782     0.456      0.7084     0.4562\n",
      " 0.4402     0.4478     0.4772     0.5698     0.5118     0.463\n",
      " 0.6264     0.68166667 0.2796     0.64       0.5072     0.6\n",
      " 0.6096     0.7724     0.415      0.4646     0.3268     0.3056\n",
      " 0.55263    0.518      0.3252     0.4136     0.55556667 0.492\n",
      " 0.578      0.4054     0.9054     0.604      0.3948     0.527\n",
      " 0.54876667 0.308      0.6464     0.4856     0.4902     0.4054\n",
      " 0.44       0.64116667 0.5688     0.544      0.5202     0.5032\n",
      " 0.5172     0.7054     0.4198     0.5247     0.4176     0.59\n",
      " 0.59       0.5128    ]\n"
     ]
    }
   ],
   "source": [
    "pred = regressor.predict(X_val)\n",
    "print(pred)"
   ]
  },
  {
   "cell_type": "code",
   "execution_count": 9,
   "id": "c2e13401",
   "metadata": {},
   "outputs": [
    {
     "name": "stdout",
     "output_type": "stream",
     "text": [
      "MSE 0.033263161897451966\n",
      "MAE 0.12981442355889725\n",
      "r2_score -0.402285288238341\n"
     ]
    }
   ],
   "source": [
    "# mse , mae and r2_score values\n",
    "mae_value = mean_absolute_error(y_val, pred)\n",
    "mse_value = mean_squared_error(y_val, pred)\n",
    "r2_score_value = r2_score(y_val, pred)\n",
    "# Total error with mse , mae and r2_score\n",
    "print(f\"MSE {mse_value}\")\n",
    "print(f\"MAE {mae_value}\")\n",
    "print(f\"r2_score {r2_score_value}\")"
   ]
  },
  {
   "cell_type": "markdown",
   "id": "4c3ac75c",
   "metadata": {},
   "source": [
    "### Visulization"
   ]
  },
  {
   "cell_type": "code",
   "execution_count": 10,
   "id": "735b5040",
   "metadata": {},
   "outputs": [
    {
     "data": {
      "image/png": "[encoded data removed]",
      "text/plain": [
       "<Figure size 432x288 with 1 Axes>"
      ]
     },
     "metadata": {
      "needs_background": "light"
     },
     "output_type": "display_data"
    }
   ],
   "source": [
    "plt.plot(pred,color = 'Blue')\n",
    "plt.plot(y_val, color = 'red')\n",
    "plt.title(\"Random Forest Regression Model For OM\")\n",
    "plt.legend(['Predicted OM values', 'Actual OM Values'], loc='upper left')\n",
    "plt.xlabel('PH indexes')\n",
    "plt.ylabel('OM values')\n",
    "plt.savefig(\"RFRmodelForOMestimationUsingpHIndexes.jpg\")"
   ]
  },
  {
   "cell_type": "code",
   "execution_count": 11,
   "id": "1c5ebbbe",
   "metadata": {},
   "outputs": [
    {
     "data": {
      "text/plain": [
       "-0.402285288238341"
      ]
     },
     "execution_count": 11,
     "metadata": {},
     "output_type": "execute_result"
    }
   ],
   "source": [
    "from sklearn.metrics import r2_score\n",
    "r2_score(y_val,pred)"
   ]
  },
  {
   "cell_type": "code",
   "execution_count": 12,
   "id": "4f4c7b6b",
   "metadata": {},
   "outputs": [
    {
     "name": "stdout",
     "output_type": "stream",
     "text": [
      "[0.3424     0.659      0.473      0.4134     0.7192     0.4816\n",
      " 0.5186     0.4394     0.6558     0.51       0.4076     0.5918\n",
      " 0.49       0.5596     0.6        0.4288     0.564      0.64191667\n",
      " 0.5598     0.6296     0.56       0.6478     0.4838     0.5456\n",
      " 0.484      0.6204     0.4002     0.4312     0.705      0.5692\n",
      " 0.3856     0.426      0.5288     0.5196     0.532      0.6264\n",
      " 0.4898     0.489      0.5636     0.4214     0.4798     0.9054\n",
      " 0.3084     0.5624     0.3252     0.3684     0.4472     0.5264\n",
      " 0.3778     0.6264     0.5756     0.4906     0.6384     0.592\n",
      " 0.524      0.4288     0.5136     0.6298     0.358      0.39\n",
      " 0.7332     0.5808     0.521      0.5072     0.532      0.522\n",
      " 0.5536     0.5252     0.5598     0.6        0.5698     0.4076\n",
      " 0.6        0.6        0.4374     0.33       0.5786     0.5318\n",
      " 0.6796     0.5744     0.578      0.57332667 0.5412     0.5134\n",
      " 0.53505    0.6144     0.4824     0.516      0.6036     0.5404\n",
      " 0.632      0.504      0.3472     0.407      0.5146     0.5618\n",
      " 0.358      0.4646     0.4668     0.4876     0.393      0.4976\n",
      " 0.33       0.6548     0.5336     0.4732     0.59158    0.74167333\n",
      " 0.6796     0.4692     0.6096     0.358      0.5958     0.4122\n",
      " 0.5318     0.5136     0.509      0.472      0.64116667 0.574\n",
      " 0.64191667 0.4236     0.7776     0.5136     0.55736    0.59\n",
      " 0.6748     0.521      0.4824     0.6264     0.5474     0.64391667\n",
      " 0.35       0.4846     0.5206     0.4432     0.4476     0.6472\n",
      " 0.408      0.4532     0.5848     0.5136     0.426      0.4136\n",
      " 0.5404     0.5416     0.4114     0.464      0.5284     0.4504\n",
      " 0.5198     0.74167333 0.5254     0.5112     0.4714     0.6278\n",
      " 0.4362     0.5092     0.5276     0.502      0.53413333 0.4448\n",
      " 0.59       0.314      0.5056     0.5928     0.57332667 0.4808\n",
      " 0.4496     0.4164     0.4538     0.5636     0.5072     0.5682\n",
      " 0.5196     0.434      0.5478     0.5282     0.455      0.5426\n",
      " 0.4504     0.4764     0.5404     0.3304     0.4858     0.441\n",
      " 0.4736     0.6028     0.415      0.5        0.4134     0.5356\n",
      " 0.4054     0.3848     0.446      0.6522     0.4956     0.5428\n",
      " 0.7178     0.5318     0.5928     0.5216     0.50206667 0.5316\n",
      " 0.44486    0.53776    0.5734     0.5992     0.6024     0.3778\n",
      " 0.51       0.4912     0.5782     0.456      0.7084     0.4562\n",
      " 0.4402     0.4478     0.4772     0.5698     0.5118     0.463\n",
      " 0.6264     0.68166667 0.2796     0.64       0.5072     0.6\n",
      " 0.6096     0.7724     0.415      0.4646     0.3268     0.3056\n",
      " 0.55263    0.518      0.3252     0.4136     0.55556667 0.492\n",
      " 0.578      0.4054     0.9054     0.604      0.3948     0.527\n",
      " 0.54876667 0.308      0.6464     0.4856     0.4902     0.4054\n",
      " 0.44       0.64116667 0.5688     0.544      0.5202     0.5032\n",
      " 0.5172     0.7054     0.4198     0.5247     0.4176     0.59\n",
      " 0.59       0.5128    ]\n"
     ]
    }
   ],
   "source": [
    "print(pred)"
   ]
  },
  {
   "cell_type": "code",
   "execution_count": 13,
   "id": "47c19473",
   "metadata": {},
   "outputs": [
    {
     "name": "stdout",
     "output_type": "stream",
     "text": [
      "[[0.36]\n",
      " [0.4 ]\n",
      " [0.6 ]\n",
      " [0.51]\n",
      " [0.48]\n",
      " [0.4 ]\n",
      " [0.45]\n",
      " [0.4 ]\n",
      " [0.83]\n",
      " [0.5 ]\n",
      " [0.5 ]\n",
      " [0.47]\n",
      " [0.5 ]\n",
      " [0.6 ]\n",
      " [0.7 ]\n",
      " [0.4 ]\n",
      " [0.6 ]\n",
      " [0.6 ]\n",
      " [0.52]\n",
      " [0.69]\n",
      " [0.49]\n",
      " [0.62]\n",
      " [0.4 ]\n",
      " [0.57]\n",
      " [0.5 ]\n",
      " [0.88]\n",
      " [0.8 ]\n",
      " [0.78]\n",
      " [0.26]\n",
      " [0.6 ]\n",
      " [0.77]\n",
      " [0.7 ]\n",
      " [0.7 ]\n",
      " [0.4 ]\n",
      " [0.4 ]\n",
      " [0.6 ]\n",
      " [0.88]\n",
      " [0.4 ]\n",
      " [0.47]\n",
      " [0.7 ]\n",
      " [0.47]\n",
      " [0.4 ]\n",
      " [0.5 ]\n",
      " [0.4 ]\n",
      " [0.36]\n",
      " [0.19]\n",
      " [0.4 ]\n",
      " [0.5 ]\n",
      " [0.4 ]\n",
      " [0.66]\n",
      " [0.52]\n",
      " [0.72]\n",
      " [0.6 ]\n",
      " [0.5 ]\n",
      " [0.54]\n",
      " [0.4 ]\n",
      " [0.45]\n",
      " [0.62]\n",
      " [0.41]\n",
      " [0.51]\n",
      " [0.65]\n",
      " [0.41]\n",
      " [0.52]\n",
      " [0.42]\n",
      " [0.4 ]\n",
      " [0.76]\n",
      " [0.6 ]\n",
      " [0.6 ]\n",
      " [0.5 ]\n",
      " [0.78]\n",
      " [0.5 ]\n",
      " [0.4 ]\n",
      " [0.3 ]\n",
      " [0.6 ]\n",
      " [0.4 ]\n",
      " [0.5 ]\n",
      " [0.41]\n",
      " [0.6 ]\n",
      " [0.41]\n",
      " [0.51]\n",
      " [0.78]\n",
      " [0.7 ]\n",
      " [0.52]\n",
      " [0.26]\n",
      " [0.62]\n",
      " [0.5 ]\n",
      " [0.67]\n",
      " [0.57]\n",
      " [0.6 ]\n",
      " [0.4 ]\n",
      " [0.52]\n",
      " [0.5 ]\n",
      " [1.09]\n",
      " [0.7 ]\n",
      " [0.64]\n",
      " [0.6 ]\n",
      " [0.36]\n",
      " [0.8 ]\n",
      " [0.49]\n",
      " [0.5 ]\n",
      " [0.6 ]\n",
      " [0.64]\n",
      " [0.5 ]\n",
      " [0.6 ]\n",
      " [0.5 ]\n",
      " [0.4 ]\n",
      " [0.41]\n",
      " [0.7 ]\n",
      " [0.41]\n",
      " [0.5 ]\n",
      " [0.52]\n",
      " [0.26]\n",
      " [0.57]\n",
      " [0.7 ]\n",
      " [0.36]\n",
      " [0.53]\n",
      " [0.54]\n",
      " [0.67]\n",
      " [0.36]\n",
      " [0.7 ]\n",
      " [0.31]\n",
      " [0.4 ]\n",
      " [0.26]\n",
      " [0.93]\n",
      " [0.88]\n",
      " [0.6 ]\n",
      " [0.69]\n",
      " [0.62]\n",
      " [0.4 ]\n",
      " [0.52]\n",
      " [0.62]\n",
      " [0.4 ]\n",
      " [0.41]\n",
      " [0.5 ]\n",
      " [0.55]\n",
      " [0.43]\n",
      " [0.26]\n",
      " [0.41]\n",
      " [0.4 ]\n",
      " [0.4 ]\n",
      " [0.59]\n",
      " [0.86]\n",
      " [0.7 ]\n",
      " [0.3 ]\n",
      " [0.5 ]\n",
      " [0.43]\n",
      " [0.52]\n",
      " [0.4 ]\n",
      " [0.55]\n",
      " [0.7 ]\n",
      " [0.78]\n",
      " [0.7 ]\n",
      " [0.46]\n",
      " [0.63]\n",
      " [0.36]\n",
      " [1.01]\n",
      " [0.4 ]\n",
      " [0.34]\n",
      " [0.6 ]\n",
      " [0.53]\n",
      " [0.52]\n",
      " [0.47]\n",
      " [0.6 ]\n",
      " [0.57]\n",
      " [0.53]\n",
      " [0.3 ]\n",
      " [0.78]\n",
      " [0.45]\n",
      " [0.62]\n",
      " [0.4 ]\n",
      " [0.4 ]\n",
      " [0.6 ]\n",
      " [0.47]\n",
      " [0.78]\n",
      " [0.34]\n",
      " [0.5 ]\n",
      " [0.67]\n",
      " [0.69]\n",
      " [0.39]\n",
      " [0.57]\n",
      " [0.57]\n",
      " [0.41]\n",
      " [0.4 ]\n",
      " [0.52]\n",
      " [0.5 ]\n",
      " [0.43]\n",
      " [0.4 ]\n",
      " [0.55]\n",
      " [0.5 ]\n",
      " [0.5 ]\n",
      " [0.4 ]\n",
      " [0.5 ]\n",
      " [0.4 ]\n",
      " [1.09]\n",
      " [0.5 ]\n",
      " [0.4 ]\n",
      " [0.62]\n",
      " [0.39]\n",
      " [0.72]\n",
      " [0.6 ]\n",
      " [0.7 ]\n",
      " [0.42]\n",
      " [0.63]\n",
      " [0.71]\n",
      " [0.36]\n",
      " [0.36]\n",
      " [0.47]\n",
      " [0.39]\n",
      " [0.52]\n",
      " [0.41]\n",
      " [0.5 ]\n",
      " [0.5 ]\n",
      " [0.52]\n",
      " [0.4 ]\n",
      " [0.62]\n",
      " [0.45]\n",
      " [0.41]\n",
      " [0.85]\n",
      " [0.49]\n",
      " [0.5 ]\n",
      " [0.46]\n",
      " [0.39]\n",
      " [0.21]\n",
      " [0.57]\n",
      " [0.41]\n",
      " [0.41]\n",
      " [0.5 ]\n",
      " [0.3 ]\n",
      " [0.21]\n",
      " [0.3 ]\n",
      " [0.83]\n",
      " [0.43]\n",
      " [0.5 ]\n",
      " [0.55]\n",
      " [0.64]\n",
      " [0.4 ]\n",
      " [0.57]\n",
      " [0.78]\n",
      " [0.5 ]\n",
      " [0.5 ]\n",
      " [0.6 ]\n",
      " [0.52]\n",
      " [0.4 ]\n",
      " [0.48]\n",
      " [0.6 ]\n",
      " [1.  ]\n",
      " [0.55]\n",
      " [0.54]\n",
      " [0.5 ]\n",
      " [0.41]\n",
      " [0.52]\n",
      " [0.6 ]\n",
      " [0.57]\n",
      " [0.72]\n",
      " [0.45]\n",
      " [0.52]\n",
      " [0.5 ]\n",
      " [1.01]\n",
      " [0.57]\n",
      " [0.48]\n",
      " [0.35]\n",
      " [0.35]\n",
      " [0.6 ]\n",
      " [0.4 ]\n",
      " [0.4 ]\n",
      " [0.5 ]]\n"
     ]
    }
   ],
   "source": [
    "print(y_val)"
   ]
  },
  {
   "cell_type": "code",
   "execution_count": null,
   "id": "dae53a08",
   "metadata": {},
   "outputs": [],
   "source": []
  },
  {
   "cell_type": "code",
   "execution_count": null,
   "id": "a8f0bfd1",
   "metadata": {},
   "outputs": [],
   "source": []
  },
  {
   "cell_type": "code",
   "execution_count": null,
   "id": "2abab865",
   "metadata": {},
   "outputs": [],
   "source": []
  },
  {
   "cell_type": "code",
   "execution_count": null,
   "id": "b293a827",
   "metadata": {},
   "outputs": [],
   "source": []
  },
  {
   "cell_type": "code",
   "execution_count": null,
   "id": "b80ac50d",
   "metadata": {},
   "outputs": [],
   "source": []
  },
  {
   "cell_type": "code",
   "execution_count": null,
   "id": "b6b38bd1",
   "metadata": {},
   "outputs": [],
   "source": []
  },
  {
   "cell_type": "code",
   "execution_count": null,
   "id": "4be7e770",
   "metadata": {},
   "outputs": [],
   "source": []
  },
  {
   "cell_type": "code",
   "execution_count": null,
   "id": "508a3350",
   "metadata": {},
   "outputs": [],
   "source": []
  },
  {
   "cell_type": "code",
   "execution_count": null,
   "id": "93069b59",
   "metadata": {},
   "outputs": [],
   "source": []
  }
 ],
 "metadata": {
  "kernelspec": {
   "display_name": "Python 3 (ipykernel)",
   "language": "python",
   "name": "python3"
  },
  "language_info": {
   "codemirror_mode": {
    "name": "ipython",
    "version": 3
   },
   "file_extension": ".py",
   "mimetype": "text/x-python",
   "name": "python",
   "nbconvert_exporter": "python",
   "pygments_lexer": "ipython3",
   "version": "3.8.12"
  }
 },
 "nbformat": 4,
 "nbformat_minor": 5
}
