{
 "cells": [
  {
   "cell_type": "markdown",
   "id": "2f2bd941",
   "metadata": {},
   "source": [
    "### Libraries for dataset manipulation and visulization"
   ]
  },
  {
   "cell_type": "code",
   "execution_count": 1,
   "id": "bec3ab18",
   "metadata": {},
   "outputs": [],
   "source": [
    "import numpy as np\n",
    "import pandas as pd\n",
    "import matplotlib.pyplot as plt"
   ]
  },
  {
   "cell_type": "markdown",
   "id": "6a25f32e",
   "metadata": {},
   "source": [
    "### Dataset Loading"
   ]
  },
  {
   "cell_type": "code",
   "execution_count": 2,
   "id": "5e00c17d",
   "metadata": {},
   "outputs": [],
   "source": [
    "dataset = pd.read_csv('C:\\\\Users\\\\Mahmood Yousaf\\\\Desktop\\\\FYP\\\\Final-Year-Project-Soil-Analysis-using-machine-learning\\\\Extracted Features\\\\P_Index_with_P_value.csv')"
   ]
  },
  {
   "cell_type": "markdown",
   "id": "44d666b2",
   "metadata": {},
   "source": [
    "### Preprocessing on dataset"
   ]
  },
  {
   "cell_type": "code",
   "execution_count": 3,
   "id": "bef79ea3",
   "metadata": {},
   "outputs": [
    {
     "name": "stdout",
     "output_type": "stream",
     "text": [
      "[0.00703939 0.0073076  0.00680586 ... 0.00868003 0.0176074  0.01053636]\n",
      "[5.4 5.4 4.8 ... 5.  5.5 5.5]\n"
     ]
    }
   ],
   "source": [
    "X = np.array(dataset['P_Index'])\n",
    "Y = np.array(dataset['P_Value'])\n",
    "print(X)\n",
    "print(Y)"
   ]
  },
  {
   "cell_type": "code",
   "execution_count": 4,
   "id": "dd2bed66",
   "metadata": {},
   "outputs": [
    {
     "name": "stdout",
     "output_type": "stream",
     "text": [
      "[[0.00703939]\n",
      " [0.0073076 ]\n",
      " [0.00680586]\n",
      " ...\n",
      " [0.00868003]\n",
      " [0.0176074 ]\n",
      " [0.01053636]] [[5.4]\n",
      " [5.4]\n",
      " [4.8]\n",
      " ...\n",
      " [5. ]\n",
      " [5.5]\n",
      " [5.5]]\n"
     ]
    }
   ],
   "source": [
    "X = X.reshape(len(X),1)\n",
    "Y = Y.reshape(len(Y),1)\n",
    "print(X,Y)"
   ]
  },
  {
   "cell_type": "markdown",
   "id": "c3db3d89",
   "metadata": {},
   "source": [
    "### DTR model training"
   ]
  },
  {
   "cell_type": "code",
   "execution_count": 5,
   "id": "70f6693c",
   "metadata": {},
   "outputs": [],
   "source": [
    "from sklearn.model_selection import train_test_split\n",
    "X_train, X_val, y_train, y_val = train_test_split(X, Y)"
   ]
  },
  {
   "cell_type": "code",
   "execution_count": 20,
   "id": "86107818",
   "metadata": {},
   "outputs": [
    {
     "name": "stderr",
     "output_type": "stream",
     "text": [
      "C:\\Users\\MAHMOO~1\\AppData\\Local\\Temp/ipykernel_13272/1487919723.py:3: DataConversionWarning: A column-vector y was passed when a 1d array was expected. Please change the shape of y to (n_samples,), for example using ravel().\n",
      "  regressor.fit(X_train,y_train)\n"
     ]
    },
    {
     "data": {
      "text/plain": [
       "RandomForestRegressor(random_state=0)"
      ]
     },
     "execution_count": 20,
     "metadata": {},
     "output_type": "execute_result"
    }
   ],
   "source": [
    "from sklearn.ensemble import RandomForestRegressor\n",
    "regressor = RandomForestRegressor(n_estimators=100, random_state = 0)\n",
    "regressor.fit(X_train,y_train)"
   ]
  },
  {
   "cell_type": "markdown",
   "id": "eb96c339",
   "metadata": {},
   "source": [
    "### Prediction "
   ]
  },
  {
   "cell_type": "code",
   "execution_count": 21,
   "id": "b5264ee9",
   "metadata": {},
   "outputs": [
    {
     "name": "stdout",
     "output_type": "stream",
     "text": [
      "[4.44]\n"
     ]
    }
   ],
   "source": [
    "prediction = regressor.predict([[500]])\n",
    "print(prediction)"
   ]
  },
  {
   "cell_type": "code",
   "execution_count": 22,
   "id": "7652decf",
   "metadata": {},
   "outputs": [
    {
     "name": "stdout",
     "output_type": "stream",
     "text": [
      "[5.26125    5.634      4.207      5.221      4.74333333 7.396\n",
      " 5.189      5.655      3.323      6.107      4.899      6.397\n",
      " 7.227      6.222      4.582      3.90433333 4.704      5.678\n",
      " 6.127      5.10055    5.528      4.213      5.83       7.764\n",
      " 5.22       4.344      4.826      4.259      5.562      5.802\n",
      " 5.068      4.597      5.695      6.35008333 5.623      4.877\n",
      " 4.483      7.049      5.209      4.503      3.378      4.411\n",
      " 5.791      4.977      4.2482     6.02921667 5.245      4.613\n",
      " 5.448      4.367      5.552      4.668      4.8555     4.471\n",
      " 6.563      4.8555     4.978      4.543      5.331      5.3483\n",
      " 5.694      5.176      4.897      5.317      4.87108333 7.427\n",
      " 5.242      4.036      2.519      4.067      4.677      4.978\n",
      " 3.439      5.505      5.296      4.048      4.076      5.388\n",
      " 4.792      7.6745     6.868      5.694      5.032      4.87108333\n",
      " 5.986      4.624      5.593      4.016      5.836      5.75866667\n",
      " 5.075      6.855      5.9        5.936      5.19       4.405\n",
      " 4.222      5.778      5.735      7.758      4.98357143 8.134\n",
      " 6.015      5.756      5.876      5.549      4.772      4.656\n",
      " 3.854      5.576      5.72       5.581      4.512      5.22\n",
      " 5.414      5.17       5.879      6.97       5.068      4.564\n",
      " 4.839      5.371      4.844      5.032      7.6745     4.601\n",
      " 6.42825    6.301      4.85       4.752      4.54       3.974\n",
      " 5.72       6.184      5.72958333 5.735      4.914      6.493\n",
      " 5.008      4.806      5.371      5.984      6.184      6.03766667\n",
      " 5.922      5.362      6.948      5.537      7.352      6.62\n",
      " 4.771      4.42       3.75       4.919      4.955      5.009\n",
      " 7.132      5.598      5.184      4.672      4.902      5.289\n",
      " 3.535      6.02       5.437      5.292      4.287      3.90723095\n",
      " 5.09753333 6.141      4.036      7.409      5.838      5.094\n",
      " 5.74358333 5.331      6.422      4.24633333 5.609      7.372\n",
      " 5.969      4.957      5.331      4.817      3.631      5.191\n",
      " 5.695      5.702      5.549      5.922      5.455      5.3483\n",
      " 5.903      6.166      4.611      4.512      4.483      6.97\n",
      " 4.692      5.552      5.068      6.881      4.86       4.542\n",
      " 4.069      5.442      5.2        5.364      5.371      5.263\n",
      " 4.538      5.485      4.175      7.362      4.906      5.193\n",
      " 5.632      5.834      5.068      5.19       5.341      5.366\n",
      " 4.727      5.795      5.176      4.993      4.898      4.079\n",
      " 4.245      4.582      5.2        5.182      4.434      6.678\n",
      " 5.857      6.872      4.142      4.792      5.1        5.395\n",
      " 5.70455    6.477      4.739      5.931      5.07       5.643\n",
      " 5.925      5.032      5.688      5.641      4.204      5.2\n",
      " 4.757      4.72       5.688      5.75866667 5.803      5.537\n",
      " 4.842      4.757      4.155      5.447      4.731      4.505\n",
      " 5.075      5.28      ]\n"
     ]
    }
   ],
   "source": [
    "pred = regressor.predict(X_val)\n",
    "print(pred)"
   ]
  },
  {
   "cell_type": "markdown",
   "id": "4c3ac75c",
   "metadata": {},
   "source": [
    "### Visulization"
   ]
  },
  {
   "cell_type": "code",
   "execution_count": 23,
   "id": "735b5040",
   "metadata": {},
   "outputs": [
    {
     "data": {
      "image/png": "[encoded data removed]",
      "text/plain": [
       "<Figure size 432x288 with 1 Axes>"
      ]
     },
     "metadata": {
      "needs_background": "light"
     },
     "output_type": "display_data"
    }
   ],
   "source": [
    "plt.plot(pred,color = 'Blue')\n",
    "plt.plot(y_val, color = 'red')\n",
    "plt.title(\"Random Forest Regression Model For P\")\n",
    "plt.legend(['Predicted P values', 'Actual P Values'], loc='upper left')\n",
    "plt.xlabel('PH indexes')\n",
    "plt.ylabel('P values')\n",
    "plt.savefig(\"RFRmodelForPestimationUsingpHIndexes.jpg\")"
   ]
  },
  {
   "cell_type": "code",
   "execution_count": 24,
   "id": "1c5ebbbe",
   "metadata": {},
   "outputs": [
    {
     "data": {
      "text/plain": [
       "-0.041582900490408914"
      ]
     },
     "execution_count": 24,
     "metadata": {},
     "output_type": "execute_result"
    }
   ],
   "source": [
    "from sklearn.metrics import r2_score\n",
    "r2_score(y_val,pred)"
   ]
  },
  {
   "cell_type": "code",
   "execution_count": 25,
   "id": "4f4c7b6b",
   "metadata": {},
   "outputs": [
    {
     "name": "stdout",
     "output_type": "stream",
     "text": [
      "[5.26125    5.634      4.207      5.221      4.74333333 7.396\n",
      " 5.189      5.655      3.323      6.107      4.899      6.397\n",
      " 7.227      6.222      4.582      3.90433333 4.704      5.678\n",
      " 6.127      5.10055    5.528      4.213      5.83       7.764\n",
      " 5.22       4.344      4.826      4.259      5.562      5.802\n",
      " 5.068      4.597      5.695      6.35008333 5.623      4.877\n",
      " 4.483      7.049      5.209      4.503      3.378      4.411\n",
      " 5.791      4.977      4.2482     6.02921667 5.245      4.613\n",
      " 5.448      4.367      5.552      4.668      4.8555     4.471\n",
      " 6.563      4.8555     4.978      4.543      5.331      5.3483\n",
      " 5.694      5.176      4.897      5.317      4.87108333 7.427\n",
      " 5.242      4.036      2.519      4.067      4.677      4.978\n",
      " 3.439      5.505      5.296      4.048      4.076      5.388\n",
      " 4.792      7.6745     6.868      5.694      5.032      4.87108333\n",
      " 5.986      4.624      5.593      4.016      5.836      5.75866667\n",
      " 5.075      6.855      5.9        5.936      5.19       4.405\n",
      " 4.222      5.778      5.735      7.758      4.98357143 8.134\n",
      " 6.015      5.756      5.876      5.549      4.772      4.656\n",
      " 3.854      5.576      5.72       5.581      4.512      5.22\n",
      " 5.414      5.17       5.879      6.97       5.068      4.564\n",
      " 4.839      5.371      4.844      5.032      7.6745     4.601\n",
      " 6.42825    6.301      4.85       4.752      4.54       3.974\n",
      " 5.72       6.184      5.72958333 5.735      4.914      6.493\n",
      " 5.008      4.806      5.371      5.984      6.184      6.03766667\n",
      " 5.922      5.362      6.948      5.537      7.352      6.62\n",
      " 4.771      4.42       3.75       4.919      4.955      5.009\n",
      " 7.132      5.598      5.184      4.672      4.902      5.289\n",
      " 3.535      6.02       5.437      5.292      4.287      3.90723095\n",
      " 5.09753333 6.141      4.036      7.409      5.838      5.094\n",
      " 5.74358333 5.331      6.422      4.24633333 5.609      7.372\n",
      " 5.969      4.957      5.331      4.817      3.631      5.191\n",
      " 5.695      5.702      5.549      5.922      5.455      5.3483\n",
      " 5.903      6.166      4.611      4.512      4.483      6.97\n",
      " 4.692      5.552      5.068      6.881      4.86       4.542\n",
      " 4.069      5.442      5.2        5.364      5.371      5.263\n",
      " 4.538      5.485      4.175      7.362      4.906      5.193\n",
      " 5.632      5.834      5.068      5.19       5.341      5.366\n",
      " 4.727      5.795      5.176      4.993      4.898      4.079\n",
      " 4.245      4.582      5.2        5.182      4.434      6.678\n",
      " 5.857      6.872      4.142      4.792      5.1        5.395\n",
      " 5.70455    6.477      4.739      5.931      5.07       5.643\n",
      " 5.925      5.032      5.688      5.641      4.204      5.2\n",
      " 4.757      4.72       5.688      5.75866667 5.803      5.537\n",
      " 4.842      4.757      4.155      5.447      4.731      4.505\n",
      " 5.075      5.28      ]\n"
     ]
    }
   ],
   "source": [
    "print(pred)"
   ]
  },
  {
   "cell_type": "code",
   "execution_count": 26,
   "id": "47c19473",
   "metadata": {},
   "outputs": [
    {
     "name": "stdout",
     "output_type": "stream",
     "text": [
      "[[ 4.5]\n",
      " [ 5.5]\n",
      " [ 5.2]\n",
      " [ 5.2]\n",
      " [ 4.6]\n",
      " [ 4.8]\n",
      " [ 4.5]\n",
      " [ 6.6]\n",
      " [ 5.4]\n",
      " [ 5.3]\n",
      " [ 6.7]\n",
      " [ 7.5]\n",
      " [ 7.4]\n",
      " [ 7.2]\n",
      " [ 4.5]\n",
      " [ 6.2]\n",
      " [ 4.2]\n",
      " [ 5.1]\n",
      " [ 4.6]\n",
      " [ 4. ]\n",
      " [ 6. ]\n",
      " [ 4.8]\n",
      " [ 6.1]\n",
      " [ 4. ]\n",
      " [ 4.8]\n",
      " [ 5.2]\n",
      " [ 4.6]\n",
      " [ 6.5]\n",
      " [ 4.8]\n",
      " [ 5.1]\n",
      " [ 8. ]\n",
      " [ 5.7]\n",
      " [ 4.2]\n",
      " [ 4.8]\n",
      " [ 4.5]\n",
      " [ 3.1]\n",
      " [ 5.5]\n",
      " [ 5.5]\n",
      " [ 5.1]\n",
      " [ 8.5]\n",
      " [ 3.2]\n",
      " [ 4.2]\n",
      " [ 6.6]\n",
      " [ 3.7]\n",
      " [ 4.1]\n",
      " [ 6.8]\n",
      " [ 4.5]\n",
      " [ 4.7]\n",
      " [ 3.6]\n",
      " [ 4. ]\n",
      " [ 5. ]\n",
      " [ 4. ]\n",
      " [ 5.4]\n",
      " [ 5.1]\n",
      " [ 4.6]\n",
      " [ 4. ]\n",
      " [ 4.1]\n",
      " [ 4.2]\n",
      " [ 5.1]\n",
      " [ 5.1]\n",
      " [ 5.2]\n",
      " [ 5.3]\n",
      " [ 5.5]\n",
      " [ 4.5]\n",
      " [ 5.2]\n",
      " [ 8.1]\n",
      " [ 6. ]\n",
      " [ 6. ]\n",
      " [ 3. ]\n",
      " [ 3.7]\n",
      " [ 3.2]\n",
      " [ 4.6]\n",
      " [ 4.6]\n",
      " [ 5.3]\n",
      " [ 6. ]\n",
      " [ 3.9]\n",
      " [ 6. ]\n",
      " [ 5.1]\n",
      " [ 6.2]\n",
      " [ 8.8]\n",
      " [ 7.4]\n",
      " [ 6. ]\n",
      " [ 5.2]\n",
      " [ 4. ]\n",
      " [ 5.4]\n",
      " [ 6.5]\n",
      " [ 6. ]\n",
      " [ 4.6]\n",
      " [ 4. ]\n",
      " [ 6.5]\n",
      " [ 7.4]\n",
      " [ 8.1]\n",
      " [ 6.6]\n",
      " [ 6. ]\n",
      " [ 6.2]\n",
      " [ 5.5]\n",
      " [ 5. ]\n",
      " [ 4. ]\n",
      " [ 4.2]\n",
      " [ 8.4]\n",
      " [ 4.5]\n",
      " [10.2]\n",
      " [ 4.6]\n",
      " [ 4.8]\n",
      " [ 6. ]\n",
      " [ 6.6]\n",
      " [ 5. ]\n",
      " [ 7.2]\n",
      " [ 4.7]\n",
      " [ 4.2]\n",
      " [ 5. ]\n",
      " [ 4.6]\n",
      " [ 5. ]\n",
      " [ 4.8]\n",
      " [ 5.4]\n",
      " [ 5.1]\n",
      " [ 5.5]\n",
      " [ 8.4]\n",
      " [ 4.6]\n",
      " [ 7.8]\n",
      " [ 4.3]\n",
      " [ 6.5]\n",
      " [ 5.8]\n",
      " [ 5.1]\n",
      " [ 4.1]\n",
      " [ 4. ]\n",
      " [ 4.1]\n",
      " [ 5.7]\n",
      " [ 3.6]\n",
      " [ 6.6]\n",
      " [ 4. ]\n",
      " [ 5. ]\n",
      " [ 5. ]\n",
      " [ 4. ]\n",
      " [ 5. ]\n",
      " [ 5.3]\n",
      " [ 5.5]\n",
      " [ 8.3]\n",
      " [ 6.1]\n",
      " [ 5.2]\n",
      " [ 5.4]\n",
      " [ 6.9]\n",
      " [ 4. ]\n",
      " [ 5.2]\n",
      " [ 8.3]\n",
      " [ 5.5]\n",
      " [ 5.6]\n",
      " [ 3.8]\n",
      " [ 4.4]\n",
      " [ 5. ]\n",
      " [ 4.2]\n",
      " [ 5.6]\n",
      " [ 6.2]\n",
      " [ 4.4]\n",
      " [ 3.1]\n",
      " [ 4.6]\n",
      " [ 7.5]\n",
      " [ 4.3]\n",
      " [ 5. ]\n",
      " [ 4.7]\n",
      " [ 4. ]\n",
      " [ 5.8]\n",
      " [ 6.5]\n",
      " [ 6.8]\n",
      " [ 5.2]\n",
      " [ 5.6]\n",
      " [ 6.2]\n",
      " [ 4.5]\n",
      " [ 4.9]\n",
      " [ 3.1]\n",
      " [ 5.2]\n",
      " [ 8. ]\n",
      " [ 6.2]\n",
      " [ 4.6]\n",
      " [ 4.9]\n",
      " [ 4.6]\n",
      " [ 5.1]\n",
      " [ 5.1]\n",
      " [ 4.4]\n",
      " [ 8.8]\n",
      " [ 7.5]\n",
      " [ 4. ]\n",
      " [ 3.9]\n",
      " [ 6.5]\n",
      " [ 5.6]\n",
      " [ 4.9]\n",
      " [ 5.5]\n",
      " [ 4.4]\n",
      " [ 5.5]\n",
      " [ 8.3]\n",
      " [ 5.5]\n",
      " [ 5. ]\n",
      " [ 3. ]\n",
      " [ 6.8]\n",
      " [ 4.8]\n",
      " [ 3.6]\n",
      " [ 5.5]\n",
      " [ 5.2]\n",
      " [ 4.7]\n",
      " [ 4.1]\n",
      " [ 4.6]\n",
      " [ 7. ]\n",
      " [ 5.2]\n",
      " [ 7.2]\n",
      " [ 0.8]\n",
      " [ 6. ]\n",
      " [ 3.2]\n",
      " [ 6.2]\n",
      " [ 5.2]\n",
      " [ 4.2]\n",
      " [ 5.2]\n",
      " [ 4.1]\n",
      " [ 6. ]\n",
      " [ 7. ]\n",
      " [ 4.1]\n",
      " [ 5.2]\n",
      " [ 5.8]\n",
      " [ 5.7]\n",
      " [ 8. ]\n",
      " [ 6.2]\n",
      " [ 4.1]\n",
      " [ 6.9]\n",
      " [ 5.6]\n",
      " [ 5.8]\n",
      " [ 5.3]\n",
      " [ 4.1]\n",
      " [ 5.5]\n",
      " [ 5.5]\n",
      " [ 4. ]\n",
      " [ 5.2]\n",
      " [ 3.2]\n",
      " [ 5. ]\n",
      " [ 4.7]\n",
      " [ 5.2]\n",
      " [ 7.4]\n",
      " [ 3.8]\n",
      " [ 4.2]\n",
      " [ 6.2]\n",
      " [ 4.8]\n",
      " [ 4.7]\n",
      " [ 6. ]\n",
      " [ 5.1]\n",
      " [ 4.5]\n",
      " [ 6.1]\n",
      " [ 4. ]\n",
      " [ 4.6]\n",
      " [ 4.6]\n",
      " [ 6.3]\n",
      " [ 5.6]\n",
      " [ 4.3]\n",
      " [ 7.4]\n",
      " [ 5.2]\n",
      " [ 9.5]\n",
      " [ 3.2]\n",
      " [ 4.7]\n",
      " [ 5.4]\n",
      " [ 6.9]\n",
      " [ 5.5]\n",
      " [ 5.4]\n",
      " [ 9.5]\n",
      " [ 7.4]\n",
      " [ 7.4]\n",
      " [ 5.5]\n",
      " [ 5.5]\n",
      " [ 6. ]\n",
      " [ 5.5]]\n"
     ]
    }
   ],
   "source": [
    "print(y_val)"
   ]
  },
  {
   "cell_type": "code",
   "execution_count": null,
   "id": "dae53a08",
   "metadata": {},
   "outputs": [],
   "source": []
  },
  {
   "cell_type": "code",
   "execution_count": null,
   "id": "a8f0bfd1",
   "metadata": {},
   "outputs": [],
   "source": []
  },
  {
   "cell_type": "code",
   "execution_count": null,
   "id": "2abab865",
   "metadata": {},
   "outputs": [],
   "source": []
  },
  {
   "cell_type": "code",
   "execution_count": null,
   "id": "b293a827",
   "metadata": {},
   "outputs": [],
   "source": []
  },
  {
   "cell_type": "code",
   "execution_count": null,
   "id": "b80ac50d",
   "metadata": {},
   "outputs": [],
   "source": []
  },
  {
   "cell_type": "code",
   "execution_count": null,
   "id": "b6b38bd1",
   "metadata": {},
   "outputs": [],
   "source": []
  }
 ],
 "metadata": {
  "kernelspec": {
   "display_name": "Python 3 (ipykernel)",
   "language": "python",
   "name": "python3"
  },
  "language_info": {
   "codemirror_mode": {
    "name": "ipython",
    "version": 3
   },
   "file_extension": ".py",
   "mimetype": "text/x-python",
   "name": "python",
   "nbconvert_exporter": "python",
   "pygments_lexer": "ipython3",
   "version": "3.8.12"
  }
 },
 "nbformat": 4,
 "nbformat_minor": 5
}
