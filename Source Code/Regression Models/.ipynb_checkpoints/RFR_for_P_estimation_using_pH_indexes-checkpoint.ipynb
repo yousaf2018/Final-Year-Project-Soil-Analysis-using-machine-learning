{
 "cells": [
  {
   "cell_type": "markdown",
   "id": "2f2bd941",
   "metadata": {},
   "source": [
    "### Libraries for dataset manipulation and visulization"
   ]
  },
  {
   "cell_type": "code",
   "execution_count": 1,
   "id": "bec3ab18",
   "metadata": {},
   "outputs": [],
   "source": [
    "import numpy as np\n",
    "import pandas as pd\n",
    "import matplotlib.pyplot as plt"
   ]
  },
  {
   "cell_type": "markdown",
   "id": "6a25f32e",
   "metadata": {},
   "source": [
    "### Dataset Loading"
   ]
  },
  {
   "cell_type": "code",
   "execution_count": 2,
   "id": "5e00c17d",
   "metadata": {},
   "outputs": [],
   "source": [
    "dataset = pd.read_csv('C:\\\\Users\\\\Mahmood Yousaf\\\\Desktop\\\\FYP\\\\Final-Year-Project-Soil-Analysis-using-machine-learning\\\\Extracted Features\\\\P_Index_with_P_value.csv')"
   ]
  },
  {
   "cell_type": "markdown",
   "id": "44d666b2",
   "metadata": {},
   "source": [
    "### Preprocessing on dataset"
   ]
  },
  {
   "cell_type": "code",
   "execution_count": 3,
   "id": "bef79ea3",
   "metadata": {},
   "outputs": [
    {
     "name": "stdout",
     "output_type": "stream",
     "text": [
      "[0.00703939 0.0073076  0.00680586 ... 0.00868003 0.0176074  0.01053636]\n",
      "[5.4 5.4 4.8 ... 5.  5.5 5.5]\n"
     ]
    }
   ],
   "source": [
    "X = np.array(dataset['P_Index'])\n",
    "Y = np.array(dataset['P_Value'])\n",
    "print(X)\n",
    "print(Y)"
   ]
  },
  {
   "cell_type": "code",
   "execution_count": 4,
   "id": "dd2bed66",
   "metadata": {},
   "outputs": [
    {
     "name": "stdout",
     "output_type": "stream",
     "text": [
      "[[0.00703939]\n",
      " [0.0073076 ]\n",
      " [0.00680586]\n",
      " ...\n",
      " [0.00868003]\n",
      " [0.0176074 ]\n",
      " [0.01053636]] [[5.4]\n",
      " [5.4]\n",
      " [4.8]\n",
      " ...\n",
      " [5. ]\n",
      " [5.5]\n",
      " [5.5]]\n"
     ]
    }
   ],
   "source": [
    "X = X.reshape(len(X),1)\n",
    "Y = Y.reshape(len(Y),1)\n",
    "print(X,Y)"
   ]
  },
  {
   "cell_type": "markdown",
   "id": "c3db3d89",
   "metadata": {},
   "source": [
    "### DTR model training"
   ]
  },
  {
   "cell_type": "code",
   "execution_count": 5,
   "id": "70f6693c",
   "metadata": {},
   "outputs": [],
   "source": [
    "from sklearn.model_selection import train_test_split\n",
    "X_train, X_val, y_train, y_val = train_test_split(X, Y)"
   ]
  },
  {
   "cell_type": "code",
   "execution_count": 6,
   "id": "86107818",
   "metadata": {},
   "outputs": [
    {
     "name": "stderr",
     "output_type": "stream",
     "text": [
      "C:\\Users\\MAHMOO~1\\AppData\\Local\\Temp/ipykernel_9576/3116153416.py:6: DataConversionWarning: A column-vector y was passed when a 1d array was expected. Please change the shape of y to (n_samples,), for example using ravel().\n",
      "  regressor.fit(X_train,y_train)\n"
     ]
    },
    {
     "data": {
      "text/plain": [
       "RandomForestRegressor(random_state=0)"
      ]
     },
     "execution_count": 6,
     "metadata": {},
     "output_type": "execute_result"
    }
   ],
   "source": [
    "from sklearn.ensemble import RandomForestRegressor\n",
    "from sklearn.metrics import mean_absolute_error\n",
    "from sklearn.metrics import mean_squared_error\n",
    "from sklearn.metrics import r2_score\n",
    "regressor = RandomForestRegressor(n_estimators=100, random_state = 0)\n",
    "regressor.fit(X_train,y_train)"
   ]
  },
  {
   "cell_type": "markdown",
   "id": "eb96c339",
   "metadata": {},
   "source": [
    "### Prediction "
   ]
  },
  {
   "cell_type": "code",
   "execution_count": 7,
   "id": "b5264ee9",
   "metadata": {},
   "outputs": [
    {
     "name": "stdout",
     "output_type": "stream",
     "text": [
      "[4.49]\n"
     ]
    }
   ],
   "source": [
    "prediction = regressor.predict([[500]])\n",
    "print(prediction)"
   ]
  },
  {
   "cell_type": "code",
   "execution_count": 8,
   "id": "7652decf",
   "metadata": {},
   "outputs": [
    {
     "name": "stdout",
     "output_type": "stream",
     "text": [
      "[4.817      6.003      5.424      4.625      7.568      5.244\n",
      " 5.858      5.553      4.64       6.218      5.981      5.68\n",
      " 5.051      5.362      4.961      4.746      6.218      4.363\n",
      " 5.186      5.166      5.266      5.692      5.683      3.748\n",
      " 4.97       6.449      6.234      5.797      4.276      5.1275\n",
      " 4.208      5.384      7.806      7.204      7.334      5.721\n",
      " 3.28       5.268      3.286      5.281      4.579      5.033\n",
      " 4.823      5.596      5.644      5.452      5.353      5.391\n",
      " 4.6215     7.06       4.079      4.765      4.884      6.194\n",
      " 4.432      5.353      6.17       4.149      7.126      3.812\n",
      " 4.35933333 3.791      7.657      4.438      6.858      5.714\n",
      " 4.942      5.85       4.852      5.042      4.614      5.997\n",
      " 5.92       6.444      7.008      5.415      5.204      4.741\n",
      " 5.41       4.36       5.053      4.565      5.563      5.00283333\n",
      " 7.18       4.679      4.693      4.232      4.366      6.5\n",
      " 5.20833333 5.217      4.115      5.466      4.482      5.307\n",
      " 4.734      7.032      5.554      5.322      5.652      5.658\n",
      " 4.6215     5.626      5.599      5.753      7.18       4.804\n",
      " 5.3        5.385      5.2        6.176      4.853      6.37966667\n",
      " 5.726      5.099      5.148      5.095      5.417      4.391\n",
      " 3.808      6.895      5.069      4.906      5.622      4.895\n",
      " 5.369      5.051      5.434      5.809      6.269      5.996\n",
      " 5.557      4.937      5.249      5.104      5.926      4.952\n",
      " 7.224      4.054      3.75133333 4.995      5.148      4.324\n",
      " 5.059      4.93       4.392      7.934      5.395      5.007\n",
      " 5.005      4.28       5.395      6.263      5.575      5.786\n",
      " 4.392      4.315      5.584      5.11983333 4.662      5.142\n",
      " 4.276      5.097      7.454      4.464      4.941      6.907\n",
      " 5.415      4.56       5.037      8.7165     4.752      4.949\n",
      " 5.241      4.823      5.353      5.43421667 5.803      8.124\n",
      " 5.997      4.33433333 4.451      5.338      6.595      5.603\n",
      " 4.097      5.042      5.398      6.36916667 2.027      8.7165\n",
      " 5.21       6.36916667 4.852      4.79826667 5.85       5.204\n",
      " 4.33433333 4.662      4.477      3.748      6.159      5.214\n",
      " 6.009      5.212      6.851      5.45418333 4.148      5.346\n",
      " 4.415      5.033      5.353      5.635      6.595      4.818\n",
      " 4.713      4.351      5.764      4.79       6.68166667 4.6\n",
      " 4.662      5.407      4.44       5.643      4.338      5.053\n",
      " 3.727      4.983      6.062      5.984      4.657      5.116\n",
      " 4.565      4.968      4.963      5.895      5.833      6.754\n",
      " 5.15       5.309      5.133      5.313      5.85828571 5.519\n",
      " 6.543      5.72       4.941      8.28       3.593      4.721\n",
      " 4.72733333 5.415      3.75593333 5.148      4.98       4.054\n",
      " 6.754      5.231      4.608      4.265      4.64614762 7.063\n",
      " 7.709      4.811     ]\n"
     ]
    }
   ],
   "source": [
    "pred = regressor.predict(X_val)\n",
    "print(pred)"
   ]
  },
  {
   "cell_type": "code",
   "execution_count": 9,
   "id": "71cb0a9f",
   "metadata": {},
   "outputs": [
    {
     "name": "stdout",
     "output_type": "stream",
     "text": [
      "MSE 1.6940125517186246\n",
      "MAE 0.9903138023630507\n",
      "r2_score 0.007508736688232265\n"
     ]
    }
   ],
   "source": [
    "# mse , mae and r2_score values\n",
    "mae_value = mean_absolute_error(y_val, pred)\n",
    "mse_value = mean_squared_error(y_val, pred)\n",
    "r2_score_value = r2_score(y_val, pred)\n",
    "# Total error with mse , mae and r2_score\n",
    "print(f\"MSE {mse_value}\")\n",
    "print(f\"MAE {mae_value}\")\n",
    "print(f\"r2_score {r2_score_value}\")"
   ]
  },
  {
   "cell_type": "markdown",
   "id": "4c3ac75c",
   "metadata": {},
   "source": [
    "### Visulization"
   ]
  },
  {
   "cell_type": "code",
   "execution_count": 10,
   "id": "735b5040",
   "metadata": {},
   "outputs": [
    {
     "data": {
      "image/png": "[encoded data removed]",
      "text/plain": [
       "<Figure size 432x288 with 1 Axes>"
      ]
     },
     "metadata": {
      "needs_background": "light"
     },
     "output_type": "display_data"
    }
   ],
   "source": [
    "plt.plot(pred,color = 'Blue')\n",
    "plt.plot(y_val, color = 'red')\n",
    "plt.title(\"Random Forest Regression Model For P\")\n",
    "plt.legend(['Predicted P values', 'Actual P Values'], loc='upper left')\n",
    "plt.xlabel('Number of samples')\n",
    "plt.ylabel('P values')\n",
    "plt.savefig(\"RFRmodelForPestimationUsingpHIndexes.jpg\")"
   ]
  },
  {
   "cell_type": "code",
   "execution_count": 11,
   "id": "1c5ebbbe",
   "metadata": {},
   "outputs": [
    {
     "data": {
      "text/plain": [
       "0.007508736688232265"
      ]
     },
     "execution_count": 11,
     "metadata": {},
     "output_type": "execute_result"
    }
   ],
   "source": [
    "from sklearn.metrics import r2_score\n",
    "r2_score(y_val,pred)"
   ]
  },
  {
   "cell_type": "code",
   "execution_count": 12,
   "id": "4f4c7b6b",
   "metadata": {},
   "outputs": [
    {
     "name": "stdout",
     "output_type": "stream",
     "text": [
      "[4.817      6.003      5.424      4.625      7.568      5.244\n",
      " 5.858      5.553      4.64       6.218      5.981      5.68\n",
      " 5.051      5.362      4.961      4.746      6.218      4.363\n",
      " 5.186      5.166      5.266      5.692      5.683      3.748\n",
      " 4.97       6.449      6.234      5.797      4.276      5.1275\n",
      " 4.208      5.384      7.806      7.204      7.334      5.721\n",
      " 3.28       5.268      3.286      5.281      4.579      5.033\n",
      " 4.823      5.596      5.644      5.452      5.353      5.391\n",
      " 4.6215     7.06       4.079      4.765      4.884      6.194\n",
      " 4.432      5.353      6.17       4.149      7.126      3.812\n",
      " 4.35933333 3.791      7.657      4.438      6.858      5.714\n",
      " 4.942      5.85       4.852      5.042      4.614      5.997\n",
      " 5.92       6.444      7.008      5.415      5.204      4.741\n",
      " 5.41       4.36       5.053      4.565      5.563      5.00283333\n",
      " 7.18       4.679      4.693      4.232      4.366      6.5\n",
      " 5.20833333 5.217      4.115      5.466      4.482      5.307\n",
      " 4.734      7.032      5.554      5.322      5.652      5.658\n",
      " 4.6215     5.626      5.599      5.753      7.18       4.804\n",
      " 5.3        5.385      5.2        6.176      4.853      6.37966667\n",
      " 5.726      5.099      5.148      5.095      5.417      4.391\n",
      " 3.808      6.895      5.069      4.906      5.622      4.895\n",
      " 5.369      5.051      5.434      5.809      6.269      5.996\n",
      " 5.557      4.937      5.249      5.104      5.926      4.952\n",
      " 7.224      4.054      3.75133333 4.995      5.148      4.324\n",
      " 5.059      4.93       4.392      7.934      5.395      5.007\n",
      " 5.005      4.28       5.395      6.263      5.575      5.786\n",
      " 4.392      4.315      5.584      5.11983333 4.662      5.142\n",
      " 4.276      5.097      7.454      4.464      4.941      6.907\n",
      " 5.415      4.56       5.037      8.7165     4.752      4.949\n",
      " 5.241      4.823      5.353      5.43421667 5.803      8.124\n",
      " 5.997      4.33433333 4.451      5.338      6.595      5.603\n",
      " 4.097      5.042      5.398      6.36916667 2.027      8.7165\n",
      " 5.21       6.36916667 4.852      4.79826667 5.85       5.204\n",
      " 4.33433333 4.662      4.477      3.748      6.159      5.214\n",
      " 6.009      5.212      6.851      5.45418333 4.148      5.346\n",
      " 4.415      5.033      5.353      5.635      6.595      4.818\n",
      " 4.713      4.351      5.764      4.79       6.68166667 4.6\n",
      " 4.662      5.407      4.44       5.643      4.338      5.053\n",
      " 3.727      4.983      6.062      5.984      4.657      5.116\n",
      " 4.565      4.968      4.963      5.895      5.833      6.754\n",
      " 5.15       5.309      5.133      5.313      5.85828571 5.519\n",
      " 6.543      5.72       4.941      8.28       3.593      4.721\n",
      " 4.72733333 5.415      3.75593333 5.148      4.98       4.054\n",
      " 6.754      5.231      4.608      4.265      4.64614762 7.063\n",
      " 7.709      4.811     ]\n"
     ]
    }
   ],
   "source": [
    "print(pred)"
   ]
  },
  {
   "cell_type": "code",
   "execution_count": 13,
   "id": "47c19473",
   "metadata": {},
   "outputs": [
    {
     "name": "stdout",
     "output_type": "stream",
     "text": [
      "[[ 4.1]\n",
      " [ 4. ]\n",
      " [ 8.5]\n",
      " [ 4.4]\n",
      " [ 7.5]\n",
      " [ 5.3]\n",
      " [ 6.8]\n",
      " [ 4.6]\n",
      " [ 5.1]\n",
      " [ 6.8]\n",
      " [ 4.6]\n",
      " [ 4.7]\n",
      " [ 5.5]\n",
      " [ 4.1]\n",
      " [ 3.6]\n",
      " [ 5. ]\n",
      " [ 6.8]\n",
      " [ 8.2]\n",
      " [ 4.8]\n",
      " [ 5.1]\n",
      " [ 5.6]\n",
      " [ 5.6]\n",
      " [ 5. ]\n",
      " [ 4.3]\n",
      " [ 6.1]\n",
      " [ 7.5]\n",
      " [ 4.8]\n",
      " [ 5.5]\n",
      " [ 5.1]\n",
      " [ 4.5]\n",
      " [ 5.7]\n",
      " [ 4. ]\n",
      " [ 4.8]\n",
      " [ 4. ]\n",
      " [ 8.8]\n",
      " [ 4.8]\n",
      " [ 5. ]\n",
      " [ 3.1]\n",
      " [ 5.8]\n",
      " [ 8.5]\n",
      " [ 5.4]\n",
      " [ 4.6]\n",
      " [ 4.5]\n",
      " [ 5.8]\n",
      " [ 5.5]\n",
      " [ 7.8]\n",
      " [ 3.8]\n",
      " [ 5.6]\n",
      " [ 3.2]\n",
      " [ 8.3]\n",
      " [ 3.2]\n",
      " [ 5.1]\n",
      " [ 4.1]\n",
      " [ 7. ]\n",
      " [ 4. ]\n",
      " [ 6.1]\n",
      " [ 3.8]\n",
      " [ 4.3]\n",
      " [ 5.1]\n",
      " [ 5.2]\n",
      " [ 6.7]\n",
      " [ 4.5]\n",
      " [ 8.1]\n",
      " [ 5.1]\n",
      " [ 7.4]\n",
      " [ 6. ]\n",
      " [ 6.1]\n",
      " [ 4.6]\n",
      " [ 4.6]\n",
      " [ 4.8]\n",
      " [ 4. ]\n",
      " [ 4.7]\n",
      " [ 5.8]\n",
      " [ 7.2]\n",
      " [ 6.9]\n",
      " [ 6.2]\n",
      " [ 5. ]\n",
      " [ 5. ]\n",
      " [ 5.4]\n",
      " [ 5.2]\n",
      " [ 8.5]\n",
      " [ 5.1]\n",
      " [ 4. ]\n",
      " [ 4. ]\n",
      " [ 8. ]\n",
      " [ 3.8]\n",
      " [ 4. ]\n",
      " [ 4. ]\n",
      " [ 6.5]\n",
      " [ 8. ]\n",
      " [ 5. ]\n",
      " [ 4.8]\n",
      " [ 4.1]\n",
      " [ 4.3]\n",
      " [ 4.5]\n",
      " [ 4.8]\n",
      " [ 6.2]\n",
      " [ 5.4]\n",
      " [ 4.3]\n",
      " [ 5.2]\n",
      " [ 5. ]\n",
      " [ 4.2]\n",
      " [ 6.9]\n",
      " [ 5.2]\n",
      " [ 3.8]\n",
      " [ 5.2]\n",
      " [ 8.2]\n",
      " [ 5. ]\n",
      " [ 4.8]\n",
      " [ 4.5]\n",
      " [ 4.3]\n",
      " [ 4. ]\n",
      " [ 7.5]\n",
      " [ 4.3]\n",
      " [ 3.8]\n",
      " [ 4.5]\n",
      " [ 3.8]\n",
      " [ 3.6]\n",
      " [ 5.2]\n",
      " [ 5.3]\n",
      " [ 5.5]\n",
      " [ 4.9]\n",
      " [ 6.5]\n",
      " [ 6.5]\n",
      " [ 5.5]\n",
      " [ 5.1]\n",
      " [ 5.3]\n",
      " [ 5.5]\n",
      " [ 5.2]\n",
      " [ 6. ]\n",
      " [ 5.1]\n",
      " [ 5.6]\n",
      " [ 4. ]\n",
      " [ 4.5]\n",
      " [ 4.2]\n",
      " [ 4.5]\n",
      " [ 5.4]\n",
      " [ 4.5]\n",
      " [ 4.4]\n",
      " [ 4.5]\n",
      " [ 4.2]\n",
      " [ 5.2]\n",
      " [ 5. ]\n",
      " [ 6.1]\n",
      " [ 4.1]\n",
      " [ 4.4]\n",
      " [ 5.6]\n",
      " [ 5. ]\n",
      " [ 4.8]\n",
      " [ 6. ]\n",
      " [ 3.9]\n",
      " [ 4.6]\n",
      " [ 4.8]\n",
      " [ 7.2]\n",
      " [ 6. ]\n",
      " [ 4. ]\n",
      " [ 5.7]\n",
      " [ 4.7]\n",
      " [ 5.3]\n",
      " [ 4.6]\n",
      " [ 6. ]\n",
      " [ 4.5]\n",
      " [ 3.6]\n",
      " [ 5. ]\n",
      " [ 8. ]\n",
      " [ 5.2]\n",
      " [ 8.4]\n",
      " [ 8. ]\n",
      " [ 4.6]\n",
      " [ 9. ]\n",
      " [ 5. ]\n",
      " [ 5.5]\n",
      " [ 7.2]\n",
      " [ 7.4]\n",
      " [ 5.9]\n",
      " [ 3.1]\n",
      " [ 6.1]\n",
      " [ 4.3]\n",
      " [ 4.5]\n",
      " [10.2]\n",
      " [ 4. ]\n",
      " [ 4. ]\n",
      " [ 5.6]\n",
      " [ 5.6]\n",
      " [ 5.2]\n",
      " [ 6. ]\n",
      " [ 4.3]\n",
      " [ 6.8]\n",
      " [ 5. ]\n",
      " [ 4.8]\n",
      " [ 4. ]\n",
      " [ 5.5]\n",
      " [ 4.3]\n",
      " [ 4.1]\n",
      " [ 4.6]\n",
      " [ 4.8]\n",
      " [ 6. ]\n",
      " [ 4.2]\n",
      " [ 3.9]\n",
      " [ 5.5]\n",
      " [ 6. ]\n",
      " [ 4.2]\n",
      " [ 7.2]\n",
      " [ 5.5]\n",
      " [ 5.2]\n",
      " [ 7.2]\n",
      " [ 6.2]\n",
      " [ 6.5]\n",
      " [ 7.4]\n",
      " [ 5.5]\n",
      " [ 5.2]\n",
      " [ 4.2]\n",
      " [ 5.5]\n",
      " [ 4.6]\n",
      " [ 4.6]\n",
      " [ 4. ]\n",
      " [ 5.3]\n",
      " [ 4.2]\n",
      " [ 5.8]\n",
      " [ 4.6]\n",
      " [ 5.6]\n",
      " [ 5.5]\n",
      " [ 4. ]\n",
      " [ 4.1]\n",
      " [ 4.1]\n",
      " [ 5.5]\n",
      " [ 3.7]\n",
      " [ 4.8]\n",
      " [ 6.5]\n",
      " [ 5.4]\n",
      " [ 6. ]\n",
      " [ 4.8]\n",
      " [ 4. ]\n",
      " [ 6.4]\n",
      " [ 4.1]\n",
      " [ 4.7]\n",
      " [ 5.8]\n",
      " [ 4.2]\n",
      " [ 3.6]\n",
      " [ 7.2]\n",
      " [ 5.4]\n",
      " [ 4.3]\n",
      " [ 4. ]\n",
      " [ 5.5]\n",
      " [ 4. ]\n",
      " [ 4.5]\n",
      " [ 4.2]\n",
      " [ 6.6]\n",
      " [ 8.4]\n",
      " [ 9.5]\n",
      " [ 4.3]\n",
      " [ 5. ]\n",
      " [ 4.7]\n",
      " [ 6.2]\n",
      " [ 4.1]\n",
      " [ 5.2]\n",
      " [ 4.2]\n",
      " [ 4.2]\n",
      " [ 7.2]\n",
      " [ 5.2]\n",
      " [ 4.2]\n",
      " [ 4.2]\n",
      " [ 4.8]\n",
      " [ 8.8]\n",
      " [ 8.4]\n",
      " [ 4.8]]\n"
     ]
    }
   ],
   "source": [
    "print(y_val)"
   ]
  },
  {
   "cell_type": "code",
   "execution_count": null,
   "id": "dae53a08",
   "metadata": {},
   "outputs": [],
   "source": []
  },
  {
   "cell_type": "code",
   "execution_count": null,
   "id": "a8f0bfd1",
   "metadata": {},
   "outputs": [],
   "source": []
  },
  {
   "cell_type": "code",
   "execution_count": null,
   "id": "2abab865",
   "metadata": {},
   "outputs": [],
   "source": []
  },
  {
   "cell_type": "code",
   "execution_count": null,
   "id": "b293a827",
   "metadata": {},
   "outputs": [],
   "source": []
  },
  {
   "cell_type": "code",
   "execution_count": null,
   "id": "b80ac50d",
   "metadata": {},
   "outputs": [],
   "source": []
  },
  {
   "cell_type": "code",
   "execution_count": null,
   "id": "b6b38bd1",
   "metadata": {},
   "outputs": [],
   "source": []
  },
  {
   "cell_type": "code",
   "execution_count": null,
   "id": "0925f8ad",
   "metadata": {},
   "outputs": [],
   "source": []
  },
  {
   "cell_type": "code",
   "execution_count": null,
   "id": "9108bfe0",
   "metadata": {},
   "outputs": [],
   "source": []
  },
  {
   "cell_type": "code",
   "execution_count": null,
   "id": "b5aaac91",
   "metadata": {},
   "outputs": [],
   "source": []
  }
 ],
 "metadata": {
  "kernelspec": {
   "display_name": "Python 3 (ipykernel)",
   "language": "python",
   "name": "python3"
  },
  "language_info": {
   "codemirror_mode": {
    "name": "ipython",
    "version": 3
   },
   "file_extension": ".py",
   "mimetype": "text/x-python",
   "name": "python",
   "nbconvert_exporter": "python",
   "pygments_lexer": "ipython3",
   "version": "3.8.12"
  }
 },
 "nbformat": 4,
 "nbformat_minor": 5
}
