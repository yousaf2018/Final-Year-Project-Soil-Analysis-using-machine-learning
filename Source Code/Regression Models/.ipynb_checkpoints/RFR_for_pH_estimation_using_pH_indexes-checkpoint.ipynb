{
 "cells": [
  {
   "cell_type": "markdown",
   "id": "2f2bd941",
   "metadata": {},
   "source": [
    "### Libraries for dataset manipulation and visulization"
   ]
  },
  {
   "cell_type": "code",
   "execution_count": 1,
   "id": "bec3ab18",
   "metadata": {},
   "outputs": [],
   "source": [
    "import numpy as np\n",
    "import pandas as pd\n",
    "import matplotlib.pyplot as plt"
   ]
  },
  {
   "cell_type": "markdown",
   "id": "6a25f32e",
   "metadata": {},
   "source": [
    "### Dataset Loading"
   ]
  },
  {
   "cell_type": "code",
   "execution_count": 2,
   "id": "5e00c17d",
   "metadata": {},
   "outputs": [],
   "source": [
    "dataset = pd.read_csv('C:\\\\Users\\\\Mahmood Yousaf\\\\Desktop\\\\FYP\\\\Final-Year-Project-Soil-Analysis-using-machine-learning\\\\Extracted Features\\\\Ph_Index_with_Ph_value.csv')"
   ]
  },
  {
   "cell_type": "markdown",
   "id": "44d666b2",
   "metadata": {},
   "source": [
    "### Preprocessing on dataset"
   ]
  },
  {
   "cell_type": "code",
   "execution_count": 3,
   "id": "bef79ea3",
   "metadata": {},
   "outputs": [
    {
     "name": "stdout",
     "output_type": "stream",
     "text": [
      "[0.00703939 0.0073076  0.00680586 ... 0.00868003 0.0176074  0.01053636]\n",
      "[7.9 7.9 7.9 ... 7.7 7.7 7.7]\n"
     ]
    }
   ],
   "source": [
    "X = np.array(dataset['PH_Index'])\n",
    "Y = np.array(dataset['PH_Value'])\n",
    "print(X)\n",
    "print(Y)"
   ]
  },
  {
   "cell_type": "code",
   "execution_count": 4,
   "id": "dd2bed66",
   "metadata": {},
   "outputs": [
    {
     "name": "stdout",
     "output_type": "stream",
     "text": [
      "[[0.00703939]\n",
      " [0.0073076 ]\n",
      " [0.00680586]\n",
      " ...\n",
      " [0.00868003]\n",
      " [0.0176074 ]\n",
      " [0.01053636]] [[7.9]\n",
      " [7.9]\n",
      " [7.9]\n",
      " ...\n",
      " [7.7]\n",
      " [7.7]\n",
      " [7.7]]\n"
     ]
    }
   ],
   "source": [
    "X = X.reshape(len(X),1)\n",
    "Y = Y.reshape(len(Y),1)\n",
    "print(X,Y)"
   ]
  },
  {
   "cell_type": "markdown",
   "id": "c3db3d89",
   "metadata": {},
   "source": [
    "### DTR model training"
   ]
  },
  {
   "cell_type": "code",
   "execution_count": 5,
   "id": "70f6693c",
   "metadata": {},
   "outputs": [],
   "source": [
    "from sklearn.model_selection import train_test_split\n",
    "X_train, X_val, y_train, y_val = train_test_split(X, Y)"
   ]
  },
  {
   "cell_type": "code",
   "execution_count": 6,
   "id": "86107818",
   "metadata": {},
   "outputs": [
    {
     "name": "stderr",
     "output_type": "stream",
     "text": [
      "C:\\Users\\MAHMOO~1\\AppData\\Local\\Temp/ipykernel_10652/3116153416.py:6: DataConversionWarning: A column-vector y was passed when a 1d array was expected. Please change the shape of y to (n_samples,), for example using ravel().\n",
      "  regressor.fit(X_train,y_train)\n"
     ]
    },
    {
     "data": {
      "text/plain": [
       "RandomForestRegressor(random_state=0)"
      ]
     },
     "execution_count": 6,
     "metadata": {},
     "output_type": "execute_result"
    }
   ],
   "source": [
    "from sklearn.ensemble import RandomForestRegressor\n",
    "from sklearn.metrics import mean_absolute_error\n",
    "from sklearn.metrics import mean_squared_error\n",
    "from sklearn.metrics import r2_score\n",
    "regressor = RandomForestRegressor(n_estimators=100, random_state = 0)\n",
    "regressor.fit(X_train,y_train)"
   ]
  },
  {
   "cell_type": "markdown",
   "id": "eb96c339",
   "metadata": {},
   "source": [
    "### Prediction "
   ]
  },
  {
   "cell_type": "code",
   "execution_count": 7,
   "id": "b5264ee9",
   "metadata": {},
   "outputs": [
    {
     "name": "stdout",
     "output_type": "stream",
     "text": [
      "[7.86]\n"
     ]
    }
   ],
   "source": [
    "prediction = regressor.predict([[500]])\n",
    "print(prediction)"
   ]
  },
  {
   "cell_type": "code",
   "execution_count": 8,
   "id": "7652decf",
   "metadata": {},
   "outputs": [
    {
     "name": "stdout",
     "output_type": "stream",
     "text": [
      "[7.703      7.722      7.711      7.912      7.936      7.788\n",
      " 7.666      7.683      7.961      7.963      7.768      8.063\n",
      " 7.895      7.787      7.862      7.835      7.731      7.666\n",
      " 7.703      7.828      7.661      7.945      7.71       7.687\n",
      " 7.69563333 7.803      7.803      7.858      7.969      7.97216667\n",
      " 8.048      7.838      7.8        7.646      8.149      7.906\n",
      " 7.877      7.705      7.947      7.915      7.9        8.034\n",
      " 8.047      7.816      7.7873     7.92       7.71       8.06\n",
      " 8.044      7.973      7.775      7.847      7.962      7.671\n",
      " 7.96416667 7.523      7.721      7.553      7.57       7.973\n",
      " 7.72       7.963      7.73066667 7.858      7.822      7.961\n",
      " 7.688      7.867      7.622      7.772      7.741      7.849\n",
      " 7.839      7.932      7.8421     7.592      7.728      7.878\n",
      " 7.699      7.834      7.945      7.761      7.77       7.895\n",
      " 7.82       7.74       7.917      8.054      7.812      7.976\n",
      " 7.7695     7.923      7.712      7.963      7.71       7.876\n",
      " 7.782      7.72       7.7489     7.631      7.759      7.71\n",
      " 7.728      7.729      7.811      7.737      7.866      7.815\n",
      " 7.879      7.728      7.854      7.89       7.706      7.74\n",
      " 7.97216667 7.716      7.875      7.945      7.942      7.819\n",
      " 7.894      8.017      7.748      8.019      7.718      7.65\n",
      " 7.791      7.891      7.728      7.63       7.822      7.603\n",
      " 7.827      7.6565     7.775      7.799      7.675      7.921\n",
      " 7.759      8.119      8.05113333 7.746      7.667      7.994\n",
      " 7.786      7.915      7.759      8.124      7.685      7.766\n",
      " 7.857      7.865      7.772      7.698      7.821      8.006\n",
      " 7.912      7.828      7.855      8.009      7.676      7.746\n",
      " 7.592      7.785      7.768      7.739      7.791      7.85\n",
      " 7.755      7.901      7.771      7.949      8.157      7.945\n",
      " 7.666      7.645      7.619      7.797      7.708      7.746\n",
      " 7.771      7.847      7.746      7.868      8.021      7.823\n",
      " 7.945      7.949      7.81       7.822      7.631      7.925\n",
      " 7.894      7.739      7.936      7.884      7.446      7.698\n",
      " 7.726      7.74       7.509      8.029      7.888      7.894\n",
      " 8.05       7.79       7.746      7.981      7.915      7.644\n",
      " 7.8374     7.446      7.817      7.64       7.756      7.891\n",
      " 7.945      7.906      7.822      7.763      7.914      7.812\n",
      " 7.787      7.905      8.039      7.772      7.914      7.858\n",
      " 7.858      7.672      7.876      7.631      7.728      8.157\n",
      " 7.782      7.666      7.727      7.927      7.97       7.779\n",
      " 7.968      7.916      7.652      7.88       7.697      7.993\n",
      " 7.739      7.818      7.766      7.875      7.868      7.864\n",
      " 7.69563333 7.955      7.828      7.672      7.754      7.758\n",
      " 7.731      7.609      7.702      7.865      7.828      7.706\n",
      " 7.82       7.803     ]\n"
     ]
    }
   ],
   "source": [
    "pred = regressor.predict(X_val)\n",
    "print(pred)"
   ]
  },
  {
   "cell_type": "code",
   "execution_count": 9,
   "id": "90c58c2d",
   "metadata": {},
   "outputs": [
    {
     "name": "stdout",
     "output_type": "stream",
     "text": [
      "MSE 0.03626651798663298\n",
      "MAE 0.1501135338345865\n",
      "r2_score -0.16806935504359743\n"
     ]
    }
   ],
   "source": [
    "# mse , mae and r2_score values\n",
    "mae_value = mean_absolute_error(y_val, pred)\n",
    "mse_value = mean_squared_error(y_val, pred)\n",
    "r2_score_value = r2_score(y_val, pred)\n",
    "# Total error with mse , mae and r2_score\n",
    "print(f\"MSE {mse_value}\")\n",
    "print(f\"MAE {mae_value}\")\n",
    "print(f\"r2_score {r2_score_value}\")"
   ]
  },
  {
   "cell_type": "markdown",
   "id": "4c3ac75c",
   "metadata": {},
   "source": [
    "### Visulization"
   ]
  },
  {
   "cell_type": "code",
   "execution_count": 10,
   "id": "735b5040",
   "metadata": {},
   "outputs": [
    {
     "data": {
      "image/png": "[encoded data removed]",
      "text/plain": [
       "<Figure size 432x288 with 1 Axes>"
      ]
     },
     "metadata": {
      "needs_background": "light"
     },
     "output_type": "display_data"
    }
   ],
   "source": [
    "plt.plot(pred,color = 'Blue')\n",
    "plt.plot(y_val, color = 'red')\n",
    "plt.title(\"Random Forest Regression Model For pH\")\n",
    "plt.legend(['Predicted pH values', 'Actual pH Values'], loc='upper left')\n",
    "plt.xlabel('PH indexes')\n",
    "plt.ylabel('pH values')\n",
    "plt.savefig(\"RFRmodelForpHestimationUsingpHIndexes.jpg\")"
   ]
  },
  {
   "cell_type": "code",
   "execution_count": 11,
   "id": "1c5ebbbe",
   "metadata": {},
   "outputs": [
    {
     "data": {
      "text/plain": [
       "-0.16806935504359743"
      ]
     },
     "execution_count": 11,
     "metadata": {},
     "output_type": "execute_result"
    }
   ],
   "source": [
    "from sklearn.metrics import r2_score\n",
    "r2_score(y_val,pred)"
   ]
  },
  {
   "cell_type": "code",
   "execution_count": 12,
   "id": "4f4c7b6b",
   "metadata": {},
   "outputs": [
    {
     "name": "stdout",
     "output_type": "stream",
     "text": [
      "[7.703      7.722      7.711      7.912      7.936      7.788\n",
      " 7.666      7.683      7.961      7.963      7.768      8.063\n",
      " 7.895      7.787      7.862      7.835      7.731      7.666\n",
      " 7.703      7.828      7.661      7.945      7.71       7.687\n",
      " 7.69563333 7.803      7.803      7.858      7.969      7.97216667\n",
      " 8.048      7.838      7.8        7.646      8.149      7.906\n",
      " 7.877      7.705      7.947      7.915      7.9        8.034\n",
      " 8.047      7.816      7.7873     7.92       7.71       8.06\n",
      " 8.044      7.973      7.775      7.847      7.962      7.671\n",
      " 7.96416667 7.523      7.721      7.553      7.57       7.973\n",
      " 7.72       7.963      7.73066667 7.858      7.822      7.961\n",
      " 7.688      7.867      7.622      7.772      7.741      7.849\n",
      " 7.839      7.932      7.8421     7.592      7.728      7.878\n",
      " 7.699      7.834      7.945      7.761      7.77       7.895\n",
      " 7.82       7.74       7.917      8.054      7.812      7.976\n",
      " 7.7695     7.923      7.712      7.963      7.71       7.876\n",
      " 7.782      7.72       7.7489     7.631      7.759      7.71\n",
      " 7.728      7.729      7.811      7.737      7.866      7.815\n",
      " 7.879      7.728      7.854      7.89       7.706      7.74\n",
      " 7.97216667 7.716      7.875      7.945      7.942      7.819\n",
      " 7.894      8.017      7.748      8.019      7.718      7.65\n",
      " 7.791      7.891      7.728      7.63       7.822      7.603\n",
      " 7.827      7.6565     7.775      7.799      7.675      7.921\n",
      " 7.759      8.119      8.05113333 7.746      7.667      7.994\n",
      " 7.786      7.915      7.759      8.124      7.685      7.766\n",
      " 7.857      7.865      7.772      7.698      7.821      8.006\n",
      " 7.912      7.828      7.855      8.009      7.676      7.746\n",
      " 7.592      7.785      7.768      7.739      7.791      7.85\n",
      " 7.755      7.901      7.771      7.949      8.157      7.945\n",
      " 7.666      7.645      7.619      7.797      7.708      7.746\n",
      " 7.771      7.847      7.746      7.868      8.021      7.823\n",
      " 7.945      7.949      7.81       7.822      7.631      7.925\n",
      " 7.894      7.739      7.936      7.884      7.446      7.698\n",
      " 7.726      7.74       7.509      8.029      7.888      7.894\n",
      " 8.05       7.79       7.746      7.981      7.915      7.644\n",
      " 7.8374     7.446      7.817      7.64       7.756      7.891\n",
      " 7.945      7.906      7.822      7.763      7.914      7.812\n",
      " 7.787      7.905      8.039      7.772      7.914      7.858\n",
      " 7.858      7.672      7.876      7.631      7.728      8.157\n",
      " 7.782      7.666      7.727      7.927      7.97       7.779\n",
      " 7.968      7.916      7.652      7.88       7.697      7.993\n",
      " 7.739      7.818      7.766      7.875      7.868      7.864\n",
      " 7.69563333 7.955      7.828      7.672      7.754      7.758\n",
      " 7.731      7.609      7.702      7.865      7.828      7.706\n",
      " 7.82       7.803     ]\n"
     ]
    }
   ],
   "source": [
    "print(pred)"
   ]
  },
  {
   "cell_type": "code",
   "execution_count": 13,
   "id": "47c19473",
   "metadata": {},
   "outputs": [
    {
     "name": "stdout",
     "output_type": "stream",
     "text": [
      "[[7.5 ]\n",
      " [7.8 ]\n",
      " [7.8 ]\n",
      " [7.8 ]\n",
      " [8.  ]\n",
      " [7.9 ]\n",
      " [7.9 ]\n",
      " [8.1 ]\n",
      " [7.9 ]\n",
      " [8.  ]\n",
      " [7.7 ]\n",
      " [7.7 ]\n",
      " [8.  ]\n",
      " [7.9 ]\n",
      " [7.8 ]\n",
      " [7.6 ]\n",
      " [7.8 ]\n",
      " [7.9 ]\n",
      " [7.7 ]\n",
      " [8.  ]\n",
      " [7.8 ]\n",
      " [8.2 ]\n",
      " [7.8 ]\n",
      " [7.6 ]\n",
      " [7.6 ]\n",
      " [7.7 ]\n",
      " [7.7 ]\n",
      " [7.6 ]\n",
      " [8.  ]\n",
      " [7.7 ]\n",
      " [8.  ]\n",
      " [7.9 ]\n",
      " [7.8 ]\n",
      " [7.8 ]\n",
      " [8.  ]\n",
      " [8.  ]\n",
      " [7.9 ]\n",
      " [7.7 ]\n",
      " [7.6 ]\n",
      " [8.  ]\n",
      " [8.  ]\n",
      " [7.8 ]\n",
      " [8.1 ]\n",
      " [8.  ]\n",
      " [7.9 ]\n",
      " [8.2 ]\n",
      " [7.6 ]\n",
      " [7.7 ]\n",
      " [8.2 ]\n",
      " [7.7 ]\n",
      " [7.7 ]\n",
      " [7.9 ]\n",
      " [7.9 ]\n",
      " [7.9 ]\n",
      " [7.7 ]\n",
      " [7.9 ]\n",
      " [8.  ]\n",
      " [7.9 ]\n",
      " [7.7 ]\n",
      " [8.  ]\n",
      " [7.6 ]\n",
      " [8.  ]\n",
      " [8.  ]\n",
      " [7.7 ]\n",
      " [8.  ]\n",
      " [7.9 ]\n",
      " [8.1 ]\n",
      " [7.8 ]\n",
      " [7.6 ]\n",
      " [8.  ]\n",
      " [7.8 ]\n",
      " [7.8 ]\n",
      " [7.8 ]\n",
      " [7.7 ]\n",
      " [7.7 ]\n",
      " [7.5 ]\n",
      " [7.6 ]\n",
      " [8.2 ]\n",
      " [8.  ]\n",
      " [7.9 ]\n",
      " [7.9 ]\n",
      " [7.8 ]\n",
      " [8.1 ]\n",
      " [8.1 ]\n",
      " [7.9 ]\n",
      " [7.7 ]\n",
      " [8.  ]\n",
      " [7.9 ]\n",
      " [7.9 ]\n",
      " [7.8 ]\n",
      " [7.7 ]\n",
      " [8.  ]\n",
      " [7.9 ]\n",
      " [7.9 ]\n",
      " [7.9 ]\n",
      " [7.8 ]\n",
      " [7.7 ]\n",
      " [7.7 ]\n",
      " [7.8 ]\n",
      " [7.9 ]\n",
      " [8.  ]\n",
      " [7.8 ]\n",
      " [7.6 ]\n",
      " [7.6 ]\n",
      " [8.  ]\n",
      " [8.1 ]\n",
      " [7.7 ]\n",
      " [7.8 ]\n",
      " [7.8 ]\n",
      " [7.8 ]\n",
      " [7.9 ]\n",
      " [7.8 ]\n",
      " [8.2 ]\n",
      " [7.7 ]\n",
      " [7.8 ]\n",
      " [7.9 ]\n",
      " [7.9 ]\n",
      " [8.  ]\n",
      " [8.  ]\n",
      " [7.6 ]\n",
      " [7.9 ]\n",
      " [8.2 ]\n",
      " [7.8 ]\n",
      " [7.8 ]\n",
      " [7.9 ]\n",
      " [7.7 ]\n",
      " [7.7 ]\n",
      " [8.  ]\n",
      " [8.  ]\n",
      " [7.6 ]\n",
      " [8.  ]\n",
      " [7.9 ]\n",
      " [7.4 ]\n",
      " [7.6 ]\n",
      " [8.  ]\n",
      " [7.8 ]\n",
      " [7.7 ]\n",
      " [7.9 ]\n",
      " [8.1 ]\n",
      " [8.  ]\n",
      " [8.2 ]\n",
      " [7.6 ]\n",
      " [7.6 ]\n",
      " [7.9 ]\n",
      " [8.2 ]\n",
      " [7.9 ]\n",
      " [7.7 ]\n",
      " [8.  ]\n",
      " [8.1 ]\n",
      " [7.8 ]\n",
      " [7.9 ]\n",
      " [7.5 ]\n",
      " [8.  ]\n",
      " [7.5 ]\n",
      " [7.8 ]\n",
      " [7.6 ]\n",
      " [7.9 ]\n",
      " [7.5 ]\n",
      " [8.  ]\n",
      " [8.1 ]\n",
      " [7.6 ]\n",
      " [7.5 ]\n",
      " [7.8 ]\n",
      " [7.9 ]\n",
      " [7.8 ]\n",
      " [7.5 ]\n",
      " [7.8 ]\n",
      " [7.9 ]\n",
      " [7.8 ]\n",
      " [8.  ]\n",
      " [7.8 ]\n",
      " [8.01]\n",
      " [7.7 ]\n",
      " [7.7 ]\n",
      " [7.9 ]\n",
      " [7.9 ]\n",
      " [8.  ]\n",
      " [7.7 ]\n",
      " [7.9 ]\n",
      " [7.8 ]\n",
      " [7.9 ]\n",
      " [7.9 ]\n",
      " [7.7 ]\n",
      " [8.  ]\n",
      " [7.8 ]\n",
      " [7.4 ]\n",
      " [7.9 ]\n",
      " [7.9 ]\n",
      " [7.6 ]\n",
      " [8.  ]\n",
      " [7.9 ]\n",
      " [7.6 ]\n",
      " [7.8 ]\n",
      " [7.9 ]\n",
      " [7.9 ]\n",
      " [7.9 ]\n",
      " [7.6 ]\n",
      " [7.9 ]\n",
      " [8.1 ]\n",
      " [7.7 ]\n",
      " [7.8 ]\n",
      " [8.2 ]\n",
      " [7.7 ]\n",
      " [8.  ]\n",
      " [8.2 ]\n",
      " [7.7 ]\n",
      " [7.6 ]\n",
      " [8.2 ]\n",
      " [8.  ]\n",
      " [7.7 ]\n",
      " [7.9 ]\n",
      " [7.8 ]\n",
      " [7.7 ]\n",
      " [7.5 ]\n",
      " [7.8 ]\n",
      " [7.9 ]\n",
      " [7.4 ]\n",
      " [7.8 ]\n",
      " [7.8 ]\n",
      " [7.7 ]\n",
      " [7.9 ]\n",
      " [7.8 ]\n",
      " [7.9 ]\n",
      " [8.  ]\n",
      " [8.1 ]\n",
      " [7.8 ]\n",
      " [8.  ]\n",
      " [7.8 ]\n",
      " [7.9 ]\n",
      " [7.7 ]\n",
      " [8.  ]\n",
      " [7.7 ]\n",
      " [7.5 ]\n",
      " [7.7 ]\n",
      " [8.2 ]\n",
      " [7.9 ]\n",
      " [8.  ]\n",
      " [8.  ]\n",
      " [7.6 ]\n",
      " [7.8 ]\n",
      " [8.  ]\n",
      " [7.7 ]\n",
      " [8.  ]\n",
      " [7.7 ]\n",
      " [7.9 ]\n",
      " [7.7 ]\n",
      " [7.9 ]\n",
      " [8.  ]\n",
      " [7.8 ]\n",
      " [7.9 ]\n",
      " [8.2 ]\n",
      " [7.7 ]\n",
      " [7.7 ]\n",
      " [8.  ]\n",
      " [7.7 ]\n",
      " [7.6 ]\n",
      " [8.  ]\n",
      " [8.  ]\n",
      " [7.6 ]\n",
      " [8.  ]\n",
      " [7.6 ]\n",
      " [7.8 ]\n",
      " [7.5 ]\n",
      " [8.  ]\n",
      " [7.5 ]\n",
      " [7.8 ]]\n"
     ]
    }
   ],
   "source": [
    "print(y_val)"
   ]
  },
  {
   "cell_type": "code",
   "execution_count": null,
   "id": "dae53a08",
   "metadata": {},
   "outputs": [],
   "source": []
  },
  {
   "cell_type": "code",
   "execution_count": null,
   "id": "a8f0bfd1",
   "metadata": {},
   "outputs": [],
   "source": []
  },
  {
   "cell_type": "code",
   "execution_count": null,
   "id": "2abab865",
   "metadata": {},
   "outputs": [],
   "source": []
  },
  {
   "cell_type": "code",
   "execution_count": null,
   "id": "b293a827",
   "metadata": {},
   "outputs": [],
   "source": []
  },
  {
   "cell_type": "code",
   "execution_count": null,
   "id": "b80ac50d",
   "metadata": {},
   "outputs": [],
   "source": []
  },
  {
   "cell_type": "code",
   "execution_count": null,
   "id": "b6b38bd1",
   "metadata": {},
   "outputs": [],
   "source": []
  },
  {
   "cell_type": "code",
   "execution_count": null,
   "id": "ac412cb7",
   "metadata": {},
   "outputs": [],
   "source": []
  },
  {
   "cell_type": "code",
   "execution_count": null,
   "id": "1dfc9de1",
   "metadata": {},
   "outputs": [],
   "source": []
  }
 ],
 "metadata": {
  "kernelspec": {
   "display_name": "Python 3 (ipykernel)",
   "language": "python",
   "name": "python3"
  },
  "language_info": {
   "codemirror_mode": {
    "name": "ipython",
    "version": 3
   },
   "file_extension": ".py",
   "mimetype": "text/x-python",
   "name": "python",
   "nbconvert_exporter": "python",
   "pygments_lexer": "ipython3",
   "version": "3.8.12"
  }
 },
 "nbformat": 4,
 "nbformat_minor": 5
}
