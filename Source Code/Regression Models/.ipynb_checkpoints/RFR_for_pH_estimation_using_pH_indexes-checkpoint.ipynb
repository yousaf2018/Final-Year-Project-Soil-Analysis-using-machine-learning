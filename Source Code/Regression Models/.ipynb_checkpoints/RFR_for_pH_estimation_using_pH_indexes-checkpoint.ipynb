{
 "cells": [
  {
   "cell_type": "markdown",
   "id": "2f2bd941",
   "metadata": {},
   "source": [
    "### Libraries for dataset manipulation and visulization"
   ]
  },
  {
   "cell_type": "code",
   "execution_count": 1,
   "id": "bec3ab18",
   "metadata": {},
   "outputs": [],
   "source": [
    "import numpy as np\n",
    "import pandas as pd\n",
    "import matplotlib.pyplot as plt"
   ]
  },
  {
   "cell_type": "markdown",
   "id": "6a25f32e",
   "metadata": {},
   "source": [
    "### Dataset Loading"
   ]
  },
  {
   "cell_type": "code",
   "execution_count": 2,
   "id": "5e00c17d",
   "metadata": {},
   "outputs": [],
   "source": [
    "dataset = pd.read_csv('C:\\\\Users\\\\Mahmood Yousaf\\\\Desktop\\\\FYP\\\\Final-Year-Project-Soil-Analysis-using-machine-learning\\\\Extracted Features\\\\Ph_Index_with_Ph_value.csv')"
   ]
  },
  {
   "cell_type": "markdown",
   "id": "44d666b2",
   "metadata": {},
   "source": [
    "### Preprocessing on dataset"
   ]
  },
  {
   "cell_type": "code",
   "execution_count": 3,
   "id": "bef79ea3",
   "metadata": {},
   "outputs": [
    {
     "name": "stdout",
     "output_type": "stream",
     "text": [
      "[0.00703939 0.0073076  0.00680586 ... 0.00868003 0.0176074  0.01053636]\n",
      "[7.9 7.9 7.9 ... 7.7 7.7 7.7]\n"
     ]
    }
   ],
   "source": [
    "X = np.array(dataset['PH_Index'])\n",
    "Y = np.array(dataset['PH_Value'])\n",
    "print(X)\n",
    "print(Y)"
   ]
  },
  {
   "cell_type": "code",
   "execution_count": 4,
   "id": "dd2bed66",
   "metadata": {},
   "outputs": [
    {
     "name": "stdout",
     "output_type": "stream",
     "text": [
      "[[0.00703939]\n",
      " [0.0073076 ]\n",
      " [0.00680586]\n",
      " ...\n",
      " [0.00868003]\n",
      " [0.0176074 ]\n",
      " [0.01053636]] [[7.9]\n",
      " [7.9]\n",
      " [7.9]\n",
      " ...\n",
      " [7.7]\n",
      " [7.7]\n",
      " [7.7]]\n"
     ]
    }
   ],
   "source": [
    "X = X.reshape(len(X),1)\n",
    "Y = Y.reshape(len(Y),1)\n",
    "print(X,Y)"
   ]
  },
  {
   "cell_type": "markdown",
   "id": "c3db3d89",
   "metadata": {},
   "source": [
    "### DTR model training"
   ]
  },
  {
   "cell_type": "code",
   "execution_count": 5,
   "id": "70f6693c",
   "metadata": {},
   "outputs": [],
   "source": [
    "from sklearn.model_selection import train_test_split\n",
    "X_train, X_val, y_train, y_val = train_test_split(X, Y)"
   ]
  },
  {
   "cell_type": "code",
   "execution_count": 6,
   "id": "86107818",
   "metadata": {},
   "outputs": [
    {
     "name": "stderr",
     "output_type": "stream",
     "text": [
      "C:\\Users\\MAHMOO~1\\AppData\\Local\\Temp/ipykernel_3864/1487919723.py:3: DataConversionWarning: A column-vector y was passed when a 1d array was expected. Please change the shape of y to (n_samples,), for example using ravel().\n",
      "  regressor.fit(X_train,y_train)\n"
     ]
    },
    {
     "data": {
      "text/plain": [
       "RandomForestRegressor(random_state=0)"
      ]
     },
     "execution_count": 6,
     "metadata": {},
     "output_type": "execute_result"
    }
   ],
   "source": [
    "from sklearn.ensemble import RandomForestRegressor\n",
    "regressor = RandomForestRegressor(n_estimators=100, random_state = 0)\n",
    "regressor.fit(X_train,y_train)"
   ]
  },
  {
   "cell_type": "markdown",
   "id": "eb96c339",
   "metadata": {},
   "source": [
    "### Prediction "
   ]
  },
  {
   "cell_type": "code",
   "execution_count": 7,
   "id": "b5264ee9",
   "metadata": {},
   "outputs": [
    {
     "name": "stdout",
     "output_type": "stream",
     "text": [
      "[7.849]\n"
     ]
    }
   ],
   "source": [
    "prediction = regressor.predict([[500]])\n",
    "print(prediction)"
   ]
  },
  {
   "cell_type": "code",
   "execution_count": 8,
   "id": "7652decf",
   "metadata": {},
   "outputs": [
    {
     "name": "stdout",
     "output_type": "stream",
     "text": [
      "[7.935      7.684      7.618      7.653      7.572      7.859\n",
      " 7.63       7.996      7.911      8.051      7.9        7.683\n",
      " 7.719      7.904      7.959      7.903      7.723      7.981\n",
      " 7.567      7.545      7.652      7.711      7.643      8.019\n",
      " 7.738      7.99       7.74766667 7.89       7.824      7.88\n",
      " 7.889      7.861      7.799      7.907      7.881      7.981\n",
      " 7.825      7.86       7.775      7.618      7.862      7.855\n",
      " 7.789      7.764      7.7616     7.744      7.63       7.885\n",
      " 7.81011905 7.643      7.889      8.074      7.621      7.926\n",
      " 7.753      7.985      7.913      8.014      7.74       7.936\n",
      " 7.744      8.084      7.841      7.891      8.042      7.808\n",
      " 7.624      7.888      7.908      7.6375     7.778      7.819\n",
      " 7.881      7.826      7.74       7.61       7.8385     7.903\n",
      " 8.055      8.014      7.841      7.57       7.901      7.832\n",
      " 7.896      7.764      7.889      7.672      7.891      7.908\n",
      " 7.849      7.737      7.698      7.9811     7.623      7.88\n",
      " 7.837      8.003      7.751      7.687      7.869      7.835\n",
      " 7.79855714 7.593      8.043      7.68343651 7.719      7.684\n",
      " 7.932      7.771      7.605      7.804      7.976      7.786\n",
      " 7.83       7.729      7.737      7.898      7.712      7.926\n",
      " 7.87       7.926      7.721      7.8503619  7.783      7.7\n",
      " 7.786      7.7        7.826      7.777      7.948      7.867\n",
      " 7.894      7.899      7.687      7.80155714 7.594      7.8\n",
      " 8.046      8.129      8.041      7.71       7.838      7.786\n",
      " 7.908      7.757      7.651      7.684      7.849      7.737\n",
      " 7.666      7.795      7.628      7.8503619  7.75365476 7.648\n",
      " 7.749      7.916      7.992      7.79       8.085      8.14\n",
      " 8.006      7.65932143 7.929      7.951      7.948      8.046\n",
      " 7.853      7.745      7.44       7.934      7.818      7.737\n",
      " 7.753      7.779      7.959      7.653      7.882      7.723\n",
      " 7.798      7.612      7.88       7.7        7.626      7.738\n",
      " 7.50823333 7.632      7.844      7.899      7.964      7.74\n",
      " 7.571      7.757      7.754      7.774      7.928      7.882\n",
      " 7.9575     7.752      7.909      7.789      7.762      7.566\n",
      " 8.003      7.78       7.804      7.755      7.964      7.8\n",
      " 7.878      7.937      7.967      7.64       7.593      7.867\n",
      " 7.878      7.912      7.639      8.055      7.904      7.829\n",
      " 7.44       7.891      7.702      7.88       7.825      8.11\n",
      " 7.648      7.74766667 7.785      7.9594     7.594      7.876\n",
      " 7.955      7.66133333 7.818      7.62       7.602      7.687\n",
      " 7.995      7.765      7.91       7.758      7.8        7.897\n",
      " 7.727      7.701      7.844      7.885      7.904      8.014\n",
      " 8.087      7.853      7.943      8.095      7.634      7.44\n",
      " 7.956      7.566      8.024      7.798      8.126      7.656\n",
      " 7.72366667 7.988     ]\n"
     ]
    }
   ],
   "source": [
    "pred = regressor.predict(X_val)\n",
    "print(pred)"
   ]
  },
  {
   "cell_type": "markdown",
   "id": "4c3ac75c",
   "metadata": {},
   "source": [
    "### Visulization"
   ]
  },
  {
   "cell_type": "code",
   "execution_count": 9,
   "id": "735b5040",
   "metadata": {},
   "outputs": [
    {
     "data": {
      "image/png": "[encoded data removed]",
      "text/plain": [
       "<Figure size 432x288 with 1 Axes>"
      ]
     },
     "metadata": {
      "needs_background": "light"
     },
     "output_type": "display_data"
    }
   ],
   "source": [
    "plt.plot(pred,color = 'Blue')\n",
    "plt.plot(y_val, color = 'red')\n",
    "plt.title(\"Random Forest Regression Model For pH\")\n",
    "plt.legend(['Predicted pH values', 'Actual pH Values'], loc='upper left')\n",
    "plt.xlabel('PH indexes')\n",
    "plt.ylabel('pH values')\n",
    "plt.savefig(\"RFRmodelForpHestimationUsingpHIndexes.jpg\")"
   ]
  },
  {
   "cell_type": "code",
   "execution_count": 10,
   "id": "1c5ebbbe",
   "metadata": {},
   "outputs": [
    {
     "data": {
      "text/plain": [
       "-0.30882905923615644"
      ]
     },
     "execution_count": 10,
     "metadata": {},
     "output_type": "execute_result"
    }
   ],
   "source": [
    "from sklearn.metrics import r2_score\n",
    "r2_score(y_val,pred)"
   ]
  },
  {
   "cell_type": "code",
   "execution_count": 11,
   "id": "4f4c7b6b",
   "metadata": {},
   "outputs": [
    {
     "name": "stdout",
     "output_type": "stream",
     "text": [
      "[7.935      7.684      7.618      7.653      7.572      7.859\n",
      " 7.63       7.996      7.911      8.051      7.9        7.683\n",
      " 7.719      7.904      7.959      7.903      7.723      7.981\n",
      " 7.567      7.545      7.652      7.711      7.643      8.019\n",
      " 7.738      7.99       7.74766667 7.89       7.824      7.88\n",
      " 7.889      7.861      7.799      7.907      7.881      7.981\n",
      " 7.825      7.86       7.775      7.618      7.862      7.855\n",
      " 7.789      7.764      7.7616     7.744      7.63       7.885\n",
      " 7.81011905 7.643      7.889      8.074      7.621      7.926\n",
      " 7.753      7.985      7.913      8.014      7.74       7.936\n",
      " 7.744      8.084      7.841      7.891      8.042      7.808\n",
      " 7.624      7.888      7.908      7.6375     7.778      7.819\n",
      " 7.881      7.826      7.74       7.61       7.8385     7.903\n",
      " 8.055      8.014      7.841      7.57       7.901      7.832\n",
      " 7.896      7.764      7.889      7.672      7.891      7.908\n",
      " 7.849      7.737      7.698      7.9811     7.623      7.88\n",
      " 7.837      8.003      7.751      7.687      7.869      7.835\n",
      " 7.79855714 7.593      8.043      7.68343651 7.719      7.684\n",
      " 7.932      7.771      7.605      7.804      7.976      7.786\n",
      " 7.83       7.729      7.737      7.898      7.712      7.926\n",
      " 7.87       7.926      7.721      7.8503619  7.783      7.7\n",
      " 7.786      7.7        7.826      7.777      7.948      7.867\n",
      " 7.894      7.899      7.687      7.80155714 7.594      7.8\n",
      " 8.046      8.129      8.041      7.71       7.838      7.786\n",
      " 7.908      7.757      7.651      7.684      7.849      7.737\n",
      " 7.666      7.795      7.628      7.8503619  7.75365476 7.648\n",
      " 7.749      7.916      7.992      7.79       8.085      8.14\n",
      " 8.006      7.65932143 7.929      7.951      7.948      8.046\n",
      " 7.853      7.745      7.44       7.934      7.818      7.737\n",
      " 7.753      7.779      7.959      7.653      7.882      7.723\n",
      " 7.798      7.612      7.88       7.7        7.626      7.738\n",
      " 7.50823333 7.632      7.844      7.899      7.964      7.74\n",
      " 7.571      7.757      7.754      7.774      7.928      7.882\n",
      " 7.9575     7.752      7.909      7.789      7.762      7.566\n",
      " 8.003      7.78       7.804      7.755      7.964      7.8\n",
      " 7.878      7.937      7.967      7.64       7.593      7.867\n",
      " 7.878      7.912      7.639      8.055      7.904      7.829\n",
      " 7.44       7.891      7.702      7.88       7.825      8.11\n",
      " 7.648      7.74766667 7.785      7.9594     7.594      7.876\n",
      " 7.955      7.66133333 7.818      7.62       7.602      7.687\n",
      " 7.995      7.765      7.91       7.758      7.8        7.897\n",
      " 7.727      7.701      7.844      7.885      7.904      8.014\n",
      " 8.087      7.853      7.943      8.095      7.634      7.44\n",
      " 7.956      7.566      8.024      7.798      8.126      7.656\n",
      " 7.72366667 7.988     ]\n"
     ]
    }
   ],
   "source": [
    "print(pred)"
   ]
  },
  {
   "cell_type": "code",
   "execution_count": 12,
   "id": "47c19473",
   "metadata": {},
   "outputs": [
    {
     "name": "stdout",
     "output_type": "stream",
     "text": [
      "[[7.7]\n",
      " [7.8]\n",
      " [7.9]\n",
      " [7.8]\n",
      " [7.7]\n",
      " [7.6]\n",
      " [7.7]\n",
      " [7.9]\n",
      " [7.9]\n",
      " [8.1]\n",
      " [7.9]\n",
      " [7.4]\n",
      " [7.6]\n",
      " [7.9]\n",
      " [7.9]\n",
      " [7.8]\n",
      " [7.7]\n",
      " [8. ]\n",
      " [7.7]\n",
      " [7.7]\n",
      " [7.7]\n",
      " [7.7]\n",
      " [7.9]\n",
      " [7.8]\n",
      " [8. ]\n",
      " [8.2]\n",
      " [8.1]\n",
      " [7.7]\n",
      " [7.8]\n",
      " [7.7]\n",
      " [7.8]\n",
      " [7.8]\n",
      " [7.8]\n",
      " [7.6]\n",
      " [8.1]\n",
      " [8.2]\n",
      " [8.1]\n",
      " [8.2]\n",
      " [7.7]\n",
      " [7.8]\n",
      " [7.9]\n",
      " [7.9]\n",
      " [7.9]\n",
      " [7.6]\n",
      " [7.8]\n",
      " [7.6]\n",
      " [7.8]\n",
      " [7.6]\n",
      " [8. ]\n",
      " [7.9]\n",
      " [7.8]\n",
      " [8.2]\n",
      " [8.2]\n",
      " [7.6]\n",
      " [7.5]\n",
      " [7.7]\n",
      " [7.6]\n",
      " [7.7]\n",
      " [8.1]\n",
      " [8. ]\n",
      " [7.8]\n",
      " [7.6]\n",
      " [7.9]\n",
      " [7.6]\n",
      " [7.9]\n",
      " [7.8]\n",
      " [7.8]\n",
      " [8. ]\n",
      " [7.9]\n",
      " [7.7]\n",
      " [7.8]\n",
      " [7.8]\n",
      " [8.1]\n",
      " [7.9]\n",
      " [7.7]\n",
      " [7.6]\n",
      " [7.9]\n",
      " [8. ]\n",
      " [7.9]\n",
      " [7.7]\n",
      " [8.1]\n",
      " [7.6]\n",
      " [7.9]\n",
      " [8.2]\n",
      " [7.7]\n",
      " [7.6]\n",
      " [7.9]\n",
      " [7.8]\n",
      " [8. ]\n",
      " [8. ]\n",
      " [7.5]\n",
      " [7.8]\n",
      " [7.8]\n",
      " [7.7]\n",
      " [7.8]\n",
      " [7.6]\n",
      " [7.9]\n",
      " [7.8]\n",
      " [8.2]\n",
      " [7.9]\n",
      " [8. ]\n",
      " [7.8]\n",
      " [7.9]\n",
      " [7.8]\n",
      " [7.9]\n",
      " [7.6]\n",
      " [7.7]\n",
      " [8.1]\n",
      " [8. ]\n",
      " [8.1]\n",
      " [7.5]\n",
      " [7.6]\n",
      " [7.7]\n",
      " [7.8]\n",
      " [7.4]\n",
      " [7.6]\n",
      " [8. ]\n",
      " [8. ]\n",
      " [7.7]\n",
      " [7.7]\n",
      " [7.9]\n",
      " [7.7]\n",
      " [7.8]\n",
      " [7.9]\n",
      " [7.8]\n",
      " [8.1]\n",
      " [7.7]\n",
      " [7.9]\n",
      " [7.9]\n",
      " [7.9]\n",
      " [8. ]\n",
      " [7.7]\n",
      " [8. ]\n",
      " [7.4]\n",
      " [8. ]\n",
      " [7.9]\n",
      " [7.8]\n",
      " [7.7]\n",
      " [8. ]\n",
      " [7.9]\n",
      " [7.6]\n",
      " [7.6]\n",
      " [7.8]\n",
      " [7.9]\n",
      " [7.9]\n",
      " [7.5]\n",
      " [7.6]\n",
      " [8.1]\n",
      " [7.8]\n",
      " [7.9]\n",
      " [7.4]\n",
      " [7.8]\n",
      " [7.7]\n",
      " [7.8]\n",
      " [7.7]\n",
      " [7.8]\n",
      " [7.7]\n",
      " [7.7]\n",
      " [8.2]\n",
      " [7.8]\n",
      " [7.9]\n",
      " [8. ]\n",
      " [7.6]\n",
      " [7.9]\n",
      " [8. ]\n",
      " [8. ]\n",
      " [8. ]\n",
      " [7.7]\n",
      " [7.8]\n",
      " [7.7]\n",
      " [7.7]\n",
      " [8.2]\n",
      " [7.7]\n",
      " [7.7]\n",
      " [7.6]\n",
      " [7.8]\n",
      " [7.8]\n",
      " [8. ]\n",
      " [7.9]\n",
      " [7.9]\n",
      " [7.9]\n",
      " [7.7]\n",
      " [7.6]\n",
      " [7.8]\n",
      " [7.5]\n",
      " [7.6]\n",
      " [7.8]\n",
      " [7.6]\n",
      " [7.7]\n",
      " [8. ]\n",
      " [7.7]\n",
      " [7.8]\n",
      " [7.7]\n",
      " [7.9]\n",
      " [7.9]\n",
      " [7.5]\n",
      " [7.7]\n",
      " [7.5]\n",
      " [8.1]\n",
      " [7.6]\n",
      " [7.6]\n",
      " [7.7]\n",
      " [8.1]\n",
      " [7.8]\n",
      " [7.6]\n",
      " [7.8]\n",
      " [7.6]\n",
      " [7.7]\n",
      " [7.9]\n",
      " [7.8]\n",
      " [7.5]\n",
      " [7.8]\n",
      " [7.8]\n",
      " [7.9]\n",
      " [7.6]\n",
      " [7.7]\n",
      " [7.5]\n",
      " [7.9]\n",
      " [8. ]\n",
      " [7.6]\n",
      " [8. ]\n",
      " [7.8]\n",
      " [7.8]\n",
      " [7.6]\n",
      " [8.1]\n",
      " [7.5]\n",
      " [7.9]\n",
      " [8. ]\n",
      " [7.9]\n",
      " [7.9]\n",
      " [8. ]\n",
      " [8. ]\n",
      " [7.6]\n",
      " [7.7]\n",
      " [8.1]\n",
      " [8.1]\n",
      " [7.8]\n",
      " [7.6]\n",
      " [7.9]\n",
      " [7.9]\n",
      " [7.6]\n",
      " [7.7]\n",
      " [7.9]\n",
      " [7.8]\n",
      " [8. ]\n",
      " [7.8]\n",
      " [7.7]\n",
      " [8. ]\n",
      " [8. ]\n",
      " [7.7]\n",
      " [7.9]\n",
      " [7.7]\n",
      " [7.9]\n",
      " [8. ]\n",
      " [8. ]\n",
      " [8. ]\n",
      " [7.9]\n",
      " [7.8]\n",
      " [7.9]\n",
      " [7.4]\n",
      " [8.1]\n",
      " [7.7]\n",
      " [7.8]\n",
      " [7.8]\n",
      " [7.3]\n",
      " [7.6]]\n"
     ]
    }
   ],
   "source": [
    "print(y_val)"
   ]
  },
  {
   "cell_type": "code",
   "execution_count": null,
   "id": "dae53a08",
   "metadata": {},
   "outputs": [],
   "source": []
  },
  {
   "cell_type": "code",
   "execution_count": null,
   "id": "a8f0bfd1",
   "metadata": {},
   "outputs": [],
   "source": []
  },
  {
   "cell_type": "code",
   "execution_count": null,
   "id": "2abab865",
   "metadata": {},
   "outputs": [],
   "source": []
  },
  {
   "cell_type": "code",
   "execution_count": null,
   "id": "b293a827",
   "metadata": {},
   "outputs": [],
   "source": []
  },
  {
   "cell_type": "code",
   "execution_count": null,
   "id": "b80ac50d",
   "metadata": {},
   "outputs": [],
   "source": []
  },
  {
   "cell_type": "code",
   "execution_count": null,
   "id": "b6b38bd1",
   "metadata": {},
   "outputs": [],
   "source": []
  }
 ],
 "metadata": {
  "kernelspec": {
   "display_name": "Python 3 (ipykernel)",
   "language": "python",
   "name": "python3"
  },
  "language_info": {
   "codemirror_mode": {
    "name": "ipython",
    "version": 3
   },
   "file_extension": ".py",
   "mimetype": "text/x-python",
   "name": "python",
   "nbconvert_exporter": "python",
   "pygments_lexer": "ipython3",
   "version": "3.8.12"
  }
 },
 "nbformat": 4,
 "nbformat_minor": 5
}
