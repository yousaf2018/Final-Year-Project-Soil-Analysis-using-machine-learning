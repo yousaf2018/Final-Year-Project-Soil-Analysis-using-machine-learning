{
 "cells": [
  {
   "cell_type": "markdown",
   "id": "2f2bd941",
   "metadata": {},
   "source": [
    "### Libraries for dataset manipulation and visulization"
   ]
  },
  {
   "cell_type": "code",
   "execution_count": 1,
   "id": "bec3ab18",
   "metadata": {},
   "outputs": [],
   "source": [
    "import numpy as np\n",
    "import pandas as pd\n",
    "import matplotlib.pyplot as plt"
   ]
  },
  {
   "cell_type": "markdown",
   "id": "6a25f32e",
   "metadata": {},
   "source": [
    "### Dataset Loading"
   ]
  },
  {
   "cell_type": "code",
   "execution_count": 2,
   "id": "5e00c17d",
   "metadata": {},
   "outputs": [],
   "source": [
    "dataset = pd.read_csv('C:\\\\Users\\\\Mahmood Yousaf\\\\Desktop\\\\FYP\\\\Final-Year-Project-Soil-Analysis-using-machine-learning\\\\Extracted Features\\\\pH_Index_with_EC_value.csv')"
   ]
  },
  {
   "cell_type": "markdown",
   "id": "44d666b2",
   "metadata": {},
   "source": [
    "### Preprocessing on dataset"
   ]
  },
  {
   "cell_type": "code",
   "execution_count": 3,
   "id": "bef79ea3",
   "metadata": {},
   "outputs": [
    {
     "name": "stdout",
     "output_type": "stream",
     "text": [
      "[0.00703939 0.0073076  0.00680586 ... 0.00868003 0.0176074  0.01053636]\n",
      "[0.54 0.54 0.55 ... 1.1  0.45 0.45]\n"
     ]
    }
   ],
   "source": [
    "X = np.array(dataset['pH_Index'])\n",
    "Y = np.array(dataset['EC_Value'])\n",
    "print(X)\n",
    "print(Y)"
   ]
  },
  {
   "cell_type": "code",
   "execution_count": 4,
   "id": "dd2bed66",
   "metadata": {},
   "outputs": [
    {
     "name": "stdout",
     "output_type": "stream",
     "text": [
      "[[0.00703939]\n",
      " [0.0073076 ]\n",
      " [0.00680586]\n",
      " ...\n",
      " [0.00868003]\n",
      " [0.0176074 ]\n",
      " [0.01053636]] [[0.54]\n",
      " [0.54]\n",
      " [0.55]\n",
      " ...\n",
      " [1.1 ]\n",
      " [0.45]\n",
      " [0.45]]\n"
     ]
    }
   ],
   "source": [
    "X = X.reshape(len(X),1)\n",
    "Y = Y.reshape(len(Y),1)\n",
    "print(X,Y)"
   ]
  },
  {
   "cell_type": "markdown",
   "id": "c3db3d89",
   "metadata": {},
   "source": [
    "### DTR model training"
   ]
  },
  {
   "cell_type": "code",
   "execution_count": 5,
   "id": "70f6693c",
   "metadata": {},
   "outputs": [],
   "source": [
    "from sklearn.model_selection import train_test_split\n",
    "X_train, X_val, y_train, y_val = train_test_split(X, Y)"
   ]
  },
  {
   "cell_type": "code",
   "execution_count": 6,
   "id": "86107818",
   "metadata": {},
   "outputs": [
    {
     "data": {
      "text/plain": [
       "DecisionTreeRegressor(random_state=0)"
      ]
     },
     "execution_count": 6,
     "metadata": {},
     "output_type": "execute_result"
    }
   ],
   "source": [
    "from sklearn.tree import DecisionTreeRegressor\n",
    "from sklearn.metrics import mean_absolute_error\n",
    "from sklearn.metrics import mean_squared_error\n",
    "from sklearn.metrics import r2_score\n",
    "regressor = DecisionTreeRegressor(random_state = 0)\n",
    "regressor.fit(X_train,y_train)"
   ]
  },
  {
   "cell_type": "markdown",
   "id": "eb96c339",
   "metadata": {},
   "source": [
    "### Prediction "
   ]
  },
  {
   "cell_type": "code",
   "execution_count": 7,
   "id": "b5264ee9",
   "metadata": {},
   "outputs": [
    {
     "name": "stdout",
     "output_type": "stream",
     "text": [
      "[1.17]\n"
     ]
    }
   ],
   "source": [
    "prediction = regressor.predict([[500]])\n",
    "print(prediction)"
   ]
  },
  {
   "cell_type": "code",
   "execution_count": 8,
   "id": "7652decf",
   "metadata": {},
   "outputs": [
    {
     "name": "stdout",
     "output_type": "stream",
     "text": [
      "[ 3.39    0.73    1.225   0.31    0.58    0.81    1.14    3.39    0.525\n",
      "  0.42    1.02    1.01    2.65    2.34    2.4     0.88    1.92    0.32\n",
      "  0.94    0.93    0.77    1.12    0.86    0.285   1.3     0.13    0.55\n",
      "  3.91    0.11    0.21    0.77    0.85    0.23    0.85    0.84    0.98\n",
      "  0.98    0.14    0.94    1.98   15.6     1.19    0.55    0.54    0.96\n",
      "  2.08    1.98    1.53    0.82    0.26    0.31    1.1     0.09    1.2\n",
      "  0.19    1.72    0.55    1.45    0.32    1.93    0.83    0.16    1.47\n",
      "  0.77    1.09    0.16    0.94    0.64    0.81    0.24    0.66    0.94\n",
      "  0.55    0.14    1.05    0.735   0.23    1.19    0.23    1.09    1.02\n",
      "  2.38    0.396   1.05    0.15    0.78    1.88    0.18    0.58    1.1\n",
      "  0.56    1.06    0.91    1.01    1.77    0.97    1.72    0.93    1.33\n",
      "  1.2     1.1     0.65    1.06    1.36    0.58    2.      2.      1.92\n",
      "  0.36    1.1     0.15    0.85    1.93    0.18    0.2     0.64    1.01\n",
      "  1.09    1.32    0.6     2.38    0.64    0.29    0.17    1.29    0.24\n",
      "  1.73    1.95    0.25    0.13    0.49    1.5     1.6     0.88    1.25\n",
      "  1.02    0.15    1.26    1.93    0.19    1.1     0.93    1.06    1.23\n",
      "  0.98    2.34    1.1     1.09    1.1     2.62    0.32    0.9     0.96\n",
      "  0.12    0.3455  1.09    0.22    1.07    0.91    0.81    0.31    1.11\n",
      "  0.15    1.11    1.11    0.12    0.82    0.96    0.2     0.58    0.09\n",
      "  1.09    0.96    0.11    0.9     0.4     1.11    1.95    1.17    0.83\n",
      "  1.1     1.21    0.85    0.58    0.9     0.25    1.14    0.31    1.03\n",
      "  0.23    0.29    0.9     0.81    0.73    0.42    0.81    0.16    0.8\n",
      "  0.55    1.03    0.97    1.53    0.91    0.93    1.72    1.62    0.85\n",
      "  0.54    0.94    0.43    1.02    1.07    0.22    0.11    0.78    0.56\n",
      "  1.6     1.2     0.408   0.31    1.76    0.9     0.11    1.32    0.19\n",
      "  0.23    0.26    3.91    1.09    0.82    1.77    0.94    0.85    0.82\n",
      "  0.525   2.62    0.25    1.11    1.81    1.26    1.11    0.42    0.35\n",
      "  0.83    0.96    1.23    0.55    0.25    0.41    0.35    0.67    0.82\n",
      "  0.462   1.12    0.23    1.64    0.702   1.11    0.3455  0.65    0.11\n",
      "  0.71    1.74    1.01    0.77    0.77  ]\n"
     ]
    }
   ],
   "source": [
    "pred = regressor.predict(X_val)\n",
    "print(pred)"
   ]
  },
  {
   "cell_type": "code",
   "execution_count": 9,
   "id": "cd81de99",
   "metadata": {},
   "outputs": [
    {
     "name": "stdout",
     "output_type": "stream",
     "text": [
      "MSE 1.7504486672932331\n",
      "MAE 0.5157556390977444\n",
      "r2_score -1.0121033753135582\n"
     ]
    }
   ],
   "source": [
    "# mse , mae and r2_score values\n",
    "mae_value = mean_absolute_error(y_val, pred)\n",
    "mse_value = mean_squared_error(y_val, pred)\n",
    "r2_score_value = r2_score(y_val, pred)\n",
    "# Total error with mse , mae and r2_score\n",
    "print(f\"MSE {mse_value}\")\n",
    "print(f\"MAE {mae_value}\")\n",
    "print(f\"r2_score {r2_score_value}\")"
   ]
  },
  {
   "cell_type": "markdown",
   "id": "4c3ac75c",
   "metadata": {},
   "source": [
    "### Visulization"
   ]
  },
  {
   "cell_type": "code",
   "execution_count": 10,
   "id": "735b5040",
   "metadata": {},
   "outputs": [
    {
     "data": {
      "image/png": "[encoded data removed]",
      "text/plain": [
       "<Figure size 432x288 with 1 Axes>"
      ]
     },
     "metadata": {
      "needs_background": "light"
     },
     "output_type": "display_data"
    }
   ],
   "source": [
    "plt.plot(pred,color = 'Blue')\n",
    "plt.plot(y_val, color = 'red')\n",
    "plt.title(\"Decision Tree Regression Model For EC\")\n",
    "plt.legend(['Predicted EC values', 'Actual EC Values'], loc='upper left')\n",
    "plt.xlabel('PH indexes')\n",
    "plt.ylabel('EC values')\n",
    "plt.savefig(\"DTRmodelForECestimationUsingpHIndexes.jpg\")"
   ]
  },
  {
   "cell_type": "code",
   "execution_count": null,
   "id": "1c5ebbbe",
   "metadata": {},
   "outputs": [],
   "source": []
  },
  {
   "cell_type": "code",
   "execution_count": null,
   "id": "4f4c7b6b",
   "metadata": {},
   "outputs": [],
   "source": []
  },
  {
   "cell_type": "code",
   "execution_count": null,
   "id": "47c19473",
   "metadata": {},
   "outputs": [],
   "source": []
  },
  {
   "cell_type": "code",
   "execution_count": null,
   "id": "dae53a08",
   "metadata": {},
   "outputs": [],
   "source": []
  },
  {
   "cell_type": "code",
   "execution_count": null,
   "id": "a8f0bfd1",
   "metadata": {},
   "outputs": [],
   "source": []
  },
  {
   "cell_type": "code",
   "execution_count": null,
   "id": "2abab865",
   "metadata": {},
   "outputs": [],
   "source": []
  },
  {
   "cell_type": "code",
   "execution_count": null,
   "id": "4b1a2598",
   "metadata": {},
   "outputs": [],
   "source": []
  },
  {
   "cell_type": "code",
   "execution_count": null,
   "id": "6ca89e28",
   "metadata": {},
   "outputs": [],
   "source": []
  },
  {
   "cell_type": "code",
   "execution_count": null,
   "id": "1c6b1eca",
   "metadata": {},
   "outputs": [],
   "source": []
  },
  {
   "cell_type": "code",
   "execution_count": null,
   "id": "1e899b9c",
   "metadata": {},
   "outputs": [],
   "source": []
  },
  {
   "cell_type": "code",
   "execution_count": null,
   "id": "e7b4db85",
   "metadata": {},
   "outputs": [],
   "source": []
  }
 ],
 "metadata": {
  "kernelspec": {
   "display_name": "Python 3 (ipykernel)",
   "language": "python",
   "name": "python3"
  },
  "language_info": {
   "codemirror_mode": {
    "name": "ipython",
    "version": 3
   },
   "file_extension": ".py",
   "mimetype": "text/x-python",
   "name": "python",
   "nbconvert_exporter": "python",
   "pygments_lexer": "ipython3",
   "version": "3.8.12"
  }
 },
 "nbformat": 4,
 "nbformat_minor": 5
}
