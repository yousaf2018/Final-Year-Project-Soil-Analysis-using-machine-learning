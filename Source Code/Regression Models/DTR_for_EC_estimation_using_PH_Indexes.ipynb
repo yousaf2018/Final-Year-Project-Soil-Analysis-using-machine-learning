{
 "cells": [
  {
   "cell_type": "markdown",
   "id": "2f2bd941",
   "metadata": {},
   "source": [
    "### Libraries for dataset manipulation and visulization"
   ]
  },
  {
   "cell_type": "code",
   "execution_count": 1,
   "id": "bec3ab18",
   "metadata": {},
   "outputs": [],
   "source": [
    "import numpy as np\n",
    "import pandas as pd\n",
    "import matplotlib.pyplot as plt"
   ]
  },
  {
   "cell_type": "markdown",
   "id": "6a25f32e",
   "metadata": {},
   "source": [
    "### Dataset Loading"
   ]
  },
  {
   "cell_type": "code",
   "execution_count": 2,
   "id": "5e00c17d",
   "metadata": {},
   "outputs": [],
   "source": [
    "dataset = pd.read_csv('C:\\\\Users\\\\Mahmood Yousaf\\\\Desktop\\\\FYP\\\\Final-Year-Project-Soil-Analysis-using-machine-learning\\\\Extracted Features\\\\pH_Index_with_EC_value.csv')"
   ]
  },
  {
   "cell_type": "markdown",
   "id": "44d666b2",
   "metadata": {},
   "source": [
    "### Preprocessing on dataset"
   ]
  },
  {
   "cell_type": "code",
   "execution_count": 3,
   "id": "bef79ea3",
   "metadata": {},
   "outputs": [
    {
     "name": "stdout",
     "output_type": "stream",
     "text": [
      "[0.00703939 0.0073076  0.00680586 ... 0.00868003 0.0176074  0.01053636]\n",
      "[0.54 0.54 0.55 ... 1.1  0.45 0.45]\n"
     ]
    }
   ],
   "source": [
    "X = np.array(dataset['pH_Index'])\n",
    "Y = np.array(dataset['EC_Value'])\n",
    "print(X)\n",
    "print(Y)"
   ]
  },
  {
   "cell_type": "code",
   "execution_count": 4,
   "id": "dd2bed66",
   "metadata": {},
   "outputs": [
    {
     "name": "stdout",
     "output_type": "stream",
     "text": [
      "[[0.00703939]\n",
      " [0.0073076 ]\n",
      " [0.00680586]\n",
      " ...\n",
      " [0.00868003]\n",
      " [0.0176074 ]\n",
      " [0.01053636]] [[0.54]\n",
      " [0.54]\n",
      " [0.55]\n",
      " ...\n",
      " [1.1 ]\n",
      " [0.45]\n",
      " [0.45]]\n"
     ]
    }
   ],
   "source": [
    "X = X.reshape(len(X),1)\n",
    "Y = Y.reshape(len(Y),1)\n",
    "print(X,Y)"
   ]
  },
  {
   "cell_type": "markdown",
   "id": "c3db3d89",
   "metadata": {},
   "source": [
    "### DTR model training"
   ]
  },
  {
   "cell_type": "code",
   "execution_count": 5,
   "id": "70f6693c",
   "metadata": {},
   "outputs": [],
   "source": [
    "from sklearn.model_selection import train_test_split\n",
    "X_train, X_val, y_train, y_val = train_test_split(X, Y)"
   ]
  },
  {
   "cell_type": "code",
   "execution_count": 6,
   "id": "86107818",
   "metadata": {},
   "outputs": [
    {
     "data": {
      "text/plain": [
       "DecisionTreeRegressor(random_state=0)"
      ]
     },
     "execution_count": 6,
     "metadata": {},
     "output_type": "execute_result"
    }
   ],
   "source": [
    "from sklearn.tree import DecisionTreeRegressor\n",
    "regressor = DecisionTreeRegressor(random_state = 0)\n",
    "regressor.fit(X_train,y_train)"
   ]
  },
  {
   "cell_type": "markdown",
   "id": "eb96c339",
   "metadata": {},
   "source": [
    "### Prediction "
   ]
  },
  {
   "cell_type": "code",
   "execution_count": 7,
   "id": "b5264ee9",
   "metadata": {},
   "outputs": [
    {
     "name": "stdout",
     "output_type": "stream",
     "text": [
      "[1.17]\n"
     ]
    }
   ],
   "source": [
    "prediction = regressor.predict([[500]])\n",
    "print(prediction)"
   ]
  },
  {
   "cell_type": "code",
   "execution_count": 8,
   "id": "7652decf",
   "metadata": {},
   "outputs": [
    {
     "name": "stdout",
     "output_type": "stream",
     "text": [
      "[ 0.51   0.2    1.2    1.95   1.14   0.85   1.05   0.98   1.19   0.16\n",
      "  0.24   0.94   1.15   1.98   0.75   1.2    0.76   0.98   0.09   0.81\n",
      "  1.21   0.85   1.15   0.98   0.25   1.02   1.2    2.4    0.26   1.55\n",
      "  1.25   0.2    0.97   0.64   1.3    0.25   0.23   1.13   1.14   1.19\n",
      "  1.76   2.2    1.12   7.42   1.14   0.85   0.4    1.     1.74   1.2\n",
      "  1.35   0.76   0.82   0.96   1.01   3.275  1.36   0.24   0.44   1.08\n",
      "  1.08   0.565  0.19   0.23   0.525  0.77   1.95   0.88   0.44   0.58\n",
      "  0.97   0.22   0.25   1.5    0.26   0.91   1.53   0.26   0.525  0.93\n",
      "  0.42   1.17   0.58   1.65   0.41   9.3    1.14   0.26   0.55   0.22\n",
      "  0.75   9.3    1.55   0.98   1.01   1.53   1.02   1.1    0.65   0.11\n",
      "  0.94   1.93   0.98   1.11   0.12   0.96   0.75   0.93   1.09   0.24\n",
      "  1.14   1.09   2.3    2.3    1.01   1.23   1.53   1.98   1.5    0.94\n",
      "  0.81   1.1    2.2    0.88   1.2    0.9    1.12   0.88   0.58   1.19\n",
      "  3.39   1.93   0.22   0.98   0.16   0.17   1.2    0.506  0.83   0.81\n",
      "  0.58  15.6    0.31   0.9    0.91   0.19   0.249  0.93   1.74   1.01\n",
      "  0.515  1.36   0.81   0.26   0.35   0.65   0.15   1.02   0.94   1.47\n",
      "  1.44   0.32   0.17   2.4    0.94   1.02   1.01   0.19   0.16   2.65\n",
      "  1.13   1.53   2.34   0.324  1.57   1.34   1.01   1.09   0.32   0.43\n",
      "  1.13   0.85   0.13   0.25   0.15   1.36   0.324  0.13   1.13   0.58\n",
      "  0.26   0.25   1.01   0.35   0.56   0.55   0.55   1.01   1.03   0.43\n",
      "  0.16   0.8    0.15   0.85   0.58   0.58   0.615  0.6    0.36   1.02\n",
      "  1.38   0.32   0.98   0.13   1.215  1.14   2.38   0.77   1.09   1.98\n",
      "  1.98   0.615  1.64   0.23   1.1    0.55   0.23   0.67   0.19   3.91\n",
      "  1.265  1.1    1.22   1.265  0.11   0.21   1.12   0.35   1.45   1.52\n",
      "  0.31   2.38   2.65   1.01   1.3    1.5    0.396  3.39   0.64   1.98\n",
      "  1.1    1.55   0.17   2.62   1.45   0.77   1.65   0.431  1.36   1.09\n",
      "  0.21   0.14   1.05   1.2    0.98   1.92 ]\n"
     ]
    }
   ],
   "source": [
    "pred = regressor.predict(X_val)\n",
    "print(pred)"
   ]
  },
  {
   "cell_type": "markdown",
   "id": "4c3ac75c",
   "metadata": {},
   "source": [
    "### Visulization"
   ]
  },
  {
   "cell_type": "code",
   "execution_count": 9,
   "id": "735b5040",
   "metadata": {},
   "outputs": [
    {
     "data": {
      "image/png": "[encoded data removed]",
      "text/plain": [
       "<Figure size 432x288 with 1 Axes>"
      ]
     },
     "metadata": {
      "needs_background": "light"
     },
     "output_type": "display_data"
    }
   ],
   "source": [
    "plt.plot(pred,color = 'Blue')\n",
    "plt.plot(y_val, color = 'red')\n",
    "plt.title(\"Decision Tree Regression Model For EC\")\n",
    "plt.legend(['Predicted EC values', 'Actual EC Values'], loc='upper left')\n",
    "plt.xlabel('PH indexes')\n",
    "plt.ylabel('EC values')\n",
    "plt.savefig(\"DTRmodelForECestimationUsingpHIndexes.jpg\")"
   ]
  },
  {
   "cell_type": "code",
   "execution_count": null,
   "id": "1c5ebbbe",
   "metadata": {},
   "outputs": [],
   "source": []
  },
  {
   "cell_type": "code",
   "execution_count": null,
   "id": "4f4c7b6b",
   "metadata": {},
   "outputs": [],
   "source": []
  },
  {
   "cell_type": "code",
   "execution_count": null,
   "id": "47c19473",
   "metadata": {},
   "outputs": [],
   "source": []
  },
  {
   "cell_type": "code",
   "execution_count": null,
   "id": "dae53a08",
   "metadata": {},
   "outputs": [],
   "source": []
  },
  {
   "cell_type": "code",
   "execution_count": null,
   "id": "a8f0bfd1",
   "metadata": {},
   "outputs": [],
   "source": []
  },
  {
   "cell_type": "code",
   "execution_count": null,
   "id": "2abab865",
   "metadata": {},
   "outputs": [],
   "source": []
  }
 ],
 "metadata": {
  "kernelspec": {
   "display_name": "Python 3 (ipykernel)",
   "language": "python",
   "name": "python3"
  },
  "language_info": {
   "codemirror_mode": {
    "name": "ipython",
    "version": 3
   },
   "file_extension": ".py",
   "mimetype": "text/x-python",
   "name": "python",
   "nbconvert_exporter": "python",
   "pygments_lexer": "ipython3",
   "version": "3.8.12"
  }
 },
 "nbformat": 4,
 "nbformat_minor": 5
}
