{
 "cells": [
  {
   "cell_type": "markdown",
   "id": "2f2bd941",
   "metadata": {},
   "source": [
    "### Libraries for dataset manipulation and visulization"
   ]
  },
  {
   "cell_type": "code",
   "execution_count": 1,
   "id": "bec3ab18",
   "metadata": {},
   "outputs": [],
   "source": [
    "import numpy as np\n",
    "import pandas as pd\n",
    "import matplotlib.pyplot as plt"
   ]
  },
  {
   "cell_type": "markdown",
   "id": "6a25f32e",
   "metadata": {},
   "source": [
    "### Dataset Loading"
   ]
  },
  {
   "cell_type": "code",
   "execution_count": 2,
   "id": "5e00c17d",
   "metadata": {},
   "outputs": [],
   "source": [
    "dataset = pd.read_csv('C:\\\\Users\\\\Mahmood Yousaf\\\\Desktop\\\\FYP\\\\Final-Year-Project-Soil-Analysis-using-machine-learning\\\\Extracted Features\\\\Formula_Index_with_P_value.csv')"
   ]
  },
  {
   "cell_type": "markdown",
   "id": "44d666b2",
   "metadata": {},
   "source": [
    "### Preprocessing on dataset"
   ]
  },
  {
   "cell_type": "code",
   "execution_count": 3,
   "id": "bef79ea3",
   "metadata": {},
   "outputs": [
    {
     "name": "stdout",
     "output_type": "stream",
     "text": [
      "[525.  505.  542.  ... 397.  262.5 365. ]\n",
      "[5.4 5.4 4.8 ... 5.  5.5 5.5]\n"
     ]
    }
   ],
   "source": [
    "X = np.array(dataset['Formula_Index'])\n",
    "Y = np.array(dataset['P_Value'])\n",
    "print(X)\n",
    "print(Y)"
   ]
  },
  {
   "cell_type": "code",
   "execution_count": 4,
   "id": "dd2bed66",
   "metadata": {},
   "outputs": [
    {
     "name": "stdout",
     "output_type": "stream",
     "text": [
      "[[525. ]\n",
      " [505. ]\n",
      " [542. ]\n",
      " ...\n",
      " [397. ]\n",
      " [262.5]\n",
      " [365. ]] [[5.4]\n",
      " [5.4]\n",
      " [4.8]\n",
      " ...\n",
      " [5. ]\n",
      " [5.5]\n",
      " [5.5]]\n"
     ]
    }
   ],
   "source": [
    "X = X.reshape(len(X),1)\n",
    "Y = Y.reshape(len(Y),1)\n",
    "print(X,Y)"
   ]
  },
  {
   "cell_type": "markdown",
   "id": "c3db3d89",
   "metadata": {},
   "source": [
    "### DTR model training"
   ]
  },
  {
   "cell_type": "code",
   "execution_count": 5,
   "id": "70f6693c",
   "metadata": {},
   "outputs": [],
   "source": [
    "from sklearn.model_selection import train_test_split\n",
    "X_train, X_val, y_train, y_val = train_test_split(X, Y)"
   ]
  },
  {
   "cell_type": "code",
   "execution_count": 6,
   "id": "86107818",
   "metadata": {},
   "outputs": [
    {
     "data": {
      "text/plain": [
       "DecisionTreeRegressor(random_state=0)"
      ]
     },
     "execution_count": 6,
     "metadata": {},
     "output_type": "execute_result"
    }
   ],
   "source": [
    "from sklearn.tree import DecisionTreeRegressor\n",
    "regressor = DecisionTreeRegressor(random_state = 0)\n",
    "regressor.fit(X_train,y_train)"
   ]
  },
  {
   "cell_type": "markdown",
   "id": "eb96c339",
   "metadata": {},
   "source": [
    "### Prediction "
   ]
  },
  {
   "cell_type": "code",
   "execution_count": 7,
   "id": "b5264ee9",
   "metadata": {},
   "outputs": [
    {
     "name": "stdout",
     "output_type": "stream",
     "text": [
      "[5.1]\n"
     ]
    }
   ],
   "source": [
    "prediction = regressor.predict([[500]])\n",
    "print(prediction)"
   ]
  },
  {
   "cell_type": "code",
   "execution_count": 8,
   "id": "7652decf",
   "metadata": {},
   "outputs": [
    {
     "name": "stdout",
     "output_type": "stream",
     "text": [
      "[4.45       3.         5.02857143 6.26666667 6.5        8.1\n",
      " 5.15555556 6.18       5.38       5.2        5.26666667 6.18\n",
      " 7.2        3.6        5.52       5.77       5.1        6.\n",
      " 5.16666667 4.7        5.5        4.5        5.35       7.1\n",
      " 5.         4.2        3.6        5.52       4.6375     4.2\n",
      " 5.06       0.8        4.94285714 5.43333333 4.275      5.05\n",
      " 4.7        4.6        4.1        4.4        8.8        6.15\n",
      " 6.5        4.5        5.1        4.         4.53333333 5.41428571\n",
      " 6.36666667 5.65       4.9        8.5        5.525      5.57272727\n",
      " 7.2        5.05       5.73333333 5.16666667 4.5        4.8\n",
      " 4.         4.7        4.65       6.36666667 4.1        6.15\n",
      " 4.55       5.53333333 4.5        4.9        6.1        5.26\n",
      " 6.         4.94285714 4.7        4.6        5.23333333 5.35\n",
      " 4.5        4.55       4.5        5.45       5.5        5.5\n",
      " 6.26666667 4.96666667 6.65       5.16666667 5.56666667 5.6\n",
      " 4.3        4.1        4.8        4.1        5.1        4.6\n",
      " 4.45       4.825      5.6        6.43333333 5.56666667 5.08333333\n",
      " 5.16       5.6        6.96       5.15       4.15       3.1\n",
      " 6.15       5.5        5.86666667 5.6        5.22222222 5.41428571\n",
      " 4.6        4.73333333 4.55       6.21111111 6.15       5.0375\n",
      " 4.65       6.6        4.5        5.41428571 5.95       4.\n",
      " 7.1        4.4        6.1        4.6        3.1        4.6\n",
      " 6.15       4.8        4.3        5.26       6.26666667 5.15555556\n",
      " 6.73333333 4.375      4.         5.45       4.75       5.08333333\n",
      " 5.25       5.525      6.15       6.5        5.48       5.43333333\n",
      " 5.41428571 6.5        4.55       4.45       7.1        4.91666667\n",
      " 4.1        5.26       6.36666667 5.02857143 5.525      5.7\n",
      " 5.1        5.2        6.43333333 5.06       4.475      5.1\n",
      " 4.4        4.55       4.75555556 5.95       6.96       5.3\n",
      " 4.475      5.77       5.1        4.78571429 4.7        4.78571429\n",
      " 6.43333333 5.75       5.         4.94285714 5.3        4.1\n",
      " 4.15       4.95       5.75       5.52       5.86666667 4.54\n",
      " 4.6375     5.2        6.21111111 4.5        4.05       7.3625\n",
      " 5.53333333 4.025      5.56666667 3.9        6.5        4.5\n",
      " 6.1        5.         5.16       4.6        5.3        4.75\n",
      " 4.2        5.48       3.625      4.         5.05       4.825\n",
      " 5.5        4.825      4.65       5.24       8.1        5.22222222\n",
      " 4.53333333 4.94285714 6.26666667 4.3        4.475      5.7\n",
      " 6.         7.55       3.4        5.525      5.38       6.15\n",
      " 5.6        5.43333333 4.5        5.86666667 5.22222222 5.4\n",
      " 4.5        6.15       5.3        5.56666667 5.15       5.77\n",
      " 4.1        5.57272727 5.2        5.75       8.5        4.94285714\n",
      " 4.1        6.1        4.94285714 6.26666667 5.26       5.26\n",
      " 5.15       4.5        6.15       4.94285714 5.16       5.86666667\n",
      " 6.35       4.7       ]\n"
     ]
    }
   ],
   "source": [
    "pred = regressor.predict(X_val)\n",
    "print(pred)"
   ]
  },
  {
   "cell_type": "markdown",
   "id": "4c3ac75c",
   "metadata": {},
   "source": [
    "### Visulization"
   ]
  },
  {
   "cell_type": "code",
   "execution_count": 10,
   "id": "735b5040",
   "metadata": {},
   "outputs": [
    {
     "data": {
      "image/png": "[encoded data removed]",
      "text/plain": [
       "<Figure size 432x288 with 1 Axes>"
      ]
     },
     "metadata": {
      "needs_background": "light"
     },
     "output_type": "display_data"
    }
   ],
   "source": [
    "plt.plot(pred,color = 'Blue')\n",
    "plt.plot(y_val, color = 'red')\n",
    "plt.title(\"Decision Tree Regression Model For P\")\n",
    "plt.legend(['Predicted P values', 'Actual P Values'], loc='upper left')\n",
    "plt.xlabel('Formula indexes')\n",
    "plt.ylabel('P values')\n",
    "plt.savefig(\"DTRmodelForPestimationUsingFormula.jpg\")"
   ]
  },
  {
   "cell_type": "code",
   "execution_count": null,
   "id": "1c5ebbbe",
   "metadata": {},
   "outputs": [],
   "source": []
  },
  {
   "cell_type": "code",
   "execution_count": null,
   "id": "4f4c7b6b",
   "metadata": {},
   "outputs": [],
   "source": []
  },
  {
   "cell_type": "code",
   "execution_count": null,
   "id": "47c19473",
   "metadata": {},
   "outputs": [],
   "source": []
  },
  {
   "cell_type": "code",
   "execution_count": null,
   "id": "dae53a08",
   "metadata": {},
   "outputs": [],
   "source": []
  },
  {
   "cell_type": "code",
   "execution_count": null,
   "id": "a8f0bfd1",
   "metadata": {},
   "outputs": [],
   "source": []
  },
  {
   "cell_type": "code",
   "execution_count": null,
   "id": "2abab865",
   "metadata": {},
   "outputs": [],
   "source": []
  }
 ],
 "metadata": {
  "kernelspec": {
   "display_name": "Python 3 (ipykernel)",
   "language": "python",
   "name": "python3"
  },
  "language_info": {
   "codemirror_mode": {
    "name": "ipython",
    "version": 3
   },
   "file_extension": ".py",
   "mimetype": "text/x-python",
   "name": "python",
   "nbconvert_exporter": "python",
   "pygments_lexer": "ipython3",
   "version": "3.8.12"
  }
 },
 "nbformat": 4,
 "nbformat_minor": 5
}
