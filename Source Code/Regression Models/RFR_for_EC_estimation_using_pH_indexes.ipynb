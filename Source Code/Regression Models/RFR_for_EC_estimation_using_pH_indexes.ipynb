{
 "cells": [
  {
   "cell_type": "markdown",
   "id": "2f2bd941",
   "metadata": {},
   "source": [
    "### Libraries for dataset manipulation and visulization"
   ]
  },
  {
   "cell_type": "code",
   "execution_count": 1,
   "id": "bec3ab18",
   "metadata": {},
   "outputs": [],
   "source": [
    "import numpy as np\n",
    "import pandas as pd\n",
    "import matplotlib.pyplot as plt"
   ]
  },
  {
   "cell_type": "markdown",
   "id": "6a25f32e",
   "metadata": {},
   "source": [
    "### Dataset Loading"
   ]
  },
  {
   "cell_type": "code",
   "execution_count": 2,
   "id": "5e00c17d",
   "metadata": {},
   "outputs": [],
   "source": [
    "dataset = pd.read_csv('C:\\\\Users\\\\Mahmood Yousaf\\\\Desktop\\\\FYP\\\\Final-Year-Project-Soil-Analysis-using-machine-learning\\\\Extracted Features\\\\pH_Index_with_EC_value.csv')"
   ]
  },
  {
   "cell_type": "markdown",
   "id": "44d666b2",
   "metadata": {},
   "source": [
    "### Preprocessing on dataset"
   ]
  },
  {
   "cell_type": "code",
   "execution_count": 3,
   "id": "bef79ea3",
   "metadata": {},
   "outputs": [
    {
     "name": "stdout",
     "output_type": "stream",
     "text": [
      "[0.00703939 0.0073076  0.00680586 ... 0.00868003 0.0176074  0.01053636]\n",
      "[0.54 0.54 0.55 ... 1.1  0.45 0.45]\n"
     ]
    }
   ],
   "source": [
    "X = np.array(dataset['pH_Index'])\n",
    "Y = np.array(dataset['EC_Value'])\n",
    "print(X)\n",
    "print(Y)"
   ]
  },
  {
   "cell_type": "code",
   "execution_count": 4,
   "id": "dd2bed66",
   "metadata": {},
   "outputs": [
    {
     "name": "stdout",
     "output_type": "stream",
     "text": [
      "[[0.00703939]\n",
      " [0.0073076 ]\n",
      " [0.00680586]\n",
      " ...\n",
      " [0.00868003]\n",
      " [0.0176074 ]\n",
      " [0.01053636]] [[0.54]\n",
      " [0.54]\n",
      " [0.55]\n",
      " ...\n",
      " [1.1 ]\n",
      " [0.45]\n",
      " [0.45]]\n"
     ]
    }
   ],
   "source": [
    "X = X.reshape(len(X),1)\n",
    "Y = Y.reshape(len(Y),1)\n",
    "print(X,Y)"
   ]
  },
  {
   "cell_type": "markdown",
   "id": "c3db3d89",
   "metadata": {},
   "source": [
    "### DTR model training"
   ]
  },
  {
   "cell_type": "code",
   "execution_count": 5,
   "id": "70f6693c",
   "metadata": {},
   "outputs": [],
   "source": [
    "from sklearn.model_selection import train_test_split\n",
    "X_train, X_val, y_train, y_val = train_test_split(X, Y)"
   ]
  },
  {
   "cell_type": "code",
   "execution_count": 6,
   "id": "86107818",
   "metadata": {},
   "outputs": [
    {
     "name": "stderr",
     "output_type": "stream",
     "text": [
      "C:\\Users\\MAHMOO~1\\AppData\\Local\\Temp/ipykernel_12336/3513569335.py:6: DataConversionWarning: A column-vector y was passed when a 1d array was expected. Please change the shape of y to (n_samples,), for example using ravel().\n",
      "  regressor.fit(X_train,y_train)\n"
     ]
    },
    {
     "data": {
      "text/plain": [
       "RandomForestRegressor(n_estimators=50, random_state=0)"
      ]
     },
     "execution_count": 6,
     "metadata": {},
     "output_type": "execute_result"
    }
   ],
   "source": [
    "from sklearn.ensemble import RandomForestRegressor\n",
    "from sklearn.metrics import mean_absolute_error\n",
    "from sklearn.metrics import mean_squared_error\n",
    "from sklearn.metrics import r2_score\n",
    "regressor = RandomForestRegressor(n_estimators=50, random_state = 0)\n",
    "regressor.fit(X_train,y_train)"
   ]
  },
  {
   "cell_type": "markdown",
   "id": "eb96c339",
   "metadata": {},
   "source": [
    "### Prediction "
   ]
  },
  {
   "cell_type": "code",
   "execution_count": 7,
   "id": "b5264ee9",
   "metadata": {},
   "outputs": [
    {
     "name": "stdout",
     "output_type": "stream",
     "text": [
      "[1.129]\n"
     ]
    }
   ],
   "source": [
    "prediction = regressor.predict([[500]])\n",
    "print(prediction)"
   ]
  },
  {
   "cell_type": "code",
   "execution_count": 8,
   "id": "7652decf",
   "metadata": {},
   "outputs": [
    {
     "name": "stdout",
     "output_type": "stream",
     "text": [
      "[1.2504     0.228      0.4848     0.154      1.29962    1.5832\n",
      " 1.052      0.5468     0.563      0.1152     1.213      0.3276\n",
      " 1.1092     1.1458     0.41184    1.6672     0.94164    8.3548\n",
      " 1.3014     0.98       1.3494     1.5994     1.1732     0.8312\n",
      " 0.8801     0.99948    0.7082     0.85908667 0.5424     1.1718\n",
      " 1.1824     1.5994     0.4424     0.4842     1.1388     1.7914\n",
      " 0.893      1.4952     0.3916     6.3556     0.7736     0.7496\n",
      " 0.60054    0.4848     1.00652    1.6672     0.971      1.06328\n",
      " 0.4786     1.554      1.052      6.3556     2.0988     0.268\n",
      " 0.4826     0.3304     0.7108     1.1632     1.0452     0.52960971\n",
      " 1.524168   0.6704     1.3494     0.49132    0.558      1.02648\n",
      " 0.3304     1.21345    0.9972     0.2951     1.2153     0.36666\n",
      " 0.3606     1.15244    1.0028     0.9556     0.364      0.54842\n",
      " 1.047      1.4228     1.5436     0.7748     0.7766     1.08325333\n",
      " 2.4294     0.1808     0.48152    0.6704     0.893      0.5356\n",
      " 0.9436     5.4944     2.5098     0.63321333 1.0774     0.6824\n",
      " 0.59664    0.596      1.22425    1.123      1.4716     1.1606\n",
      " 1.4984     1.1452     0.8706     1.30464    0.5064     1.3504\n",
      " 0.47808    1.1118     1.00172    1.5436     0.59742    0.154\n",
      " 0.48952    0.557      7.9334     1.3504     1.1458     1.15044\n",
      " 0.21308    1.0943     0.7549     1.161      2.0118     1.6672\n",
      " 0.5396     0.826      0.4786     0.318      0.893      0.60984\n",
      " 0.58486    2.2614     0.7674     1.543      1.4564     0.729\n",
      " 0.154      1.6672     0.3718     0.4384     0.3544     0.41074\n",
      " 0.5432     0.2996     1.081      0.60984    1.065      1.1122\n",
      " 1.3275     0.9678     1.111      0.922      1.0268     0.8484\n",
      " 6.8422     1.1354     0.92144    1.1118     0.922      1.033\n",
      " 1.4952     0.94444    0.3026     0.48478    0.811      1.4976\n",
      " 1.7696     0.54842    0.6448     1.3376     0.8801     0.7524\n",
      " 0.4186     1.8894     0.9274     0.9972     1.058      0.54\n",
      " 6.3556     2.6694     2.0118     0.8638     0.6623     1.1486\n",
      " 1.1824     0.88032    1.0498     0.932      0.22712    0.181\n",
      " 1.1938     0.9052     0.526      1.722      0.5468     0.9562\n",
      " 1.6193     0.9042     0.5438     0.6778     0.5252     5.6584\n",
      " 0.492      0.5064     1.744      1.0368     0.61       1.0014\n",
      " 0.671      0.988      0.9042     1.7724     1.3416     0.364\n",
      " 0.1386     1.0286     0.7476     1.32932    1.495      8.2892\n",
      " 0.7748     1.3428     0.7268     0.9344     0.4968     0.4898\n",
      " 0.628      1.1852     0.57648    0.9176     0.7108     1.1556\n",
      " 1.85804    0.55776    0.563      1.217      1.5922     0.144\n",
      " 1.0286     0.9078     0.5974     0.7766     0.608      0.53186\n",
      " 0.6816     1.395      0.8802     0.6728     0.8432     0.6128\n",
      " 0.473      0.8312     1.3016     0.6623     0.4936     0.74476\n",
      " 1.0774     0.8801     1.1192     0.3304     1.3624     0.563\n",
      " 0.416      1.144     ]\n"
     ]
    }
   ],
   "source": [
    "pred = regressor.predict(X_val)\n",
    "print(pred)"
   ]
  },
  {
   "cell_type": "code",
   "execution_count": 9,
   "id": "c4b06ebb",
   "metadata": {},
   "outputs": [
    {
     "name": "stdout",
     "output_type": "stream",
     "text": [
      "MSE 1.4751694452212838\n",
      "MAE 0.6394070612244899\n",
      "r2_score -0.402836276522357\n"
     ]
    }
   ],
   "source": [
    "# mse , mae and r2_score values\n",
    "mae_value = mean_absolute_error(y_val, pred)\n",
    "mse_value = mean_squared_error(y_val, pred)\n",
    "r2_score_value = r2_score(y_val, pred)\n",
    "# Total error with mse , mae and r2_score\n",
    "print(f\"MSE {mse_value}\")\n",
    "print(f\"MAE {mae_value}\")\n",
    "print(f\"r2_score {r2_score_value}\")"
   ]
  },
  {
   "cell_type": "markdown",
   "id": "4c3ac75c",
   "metadata": {},
   "source": [
    "### Visulization"
   ]
  },
  {
   "cell_type": "code",
   "execution_count": 10,
   "id": "735b5040",
   "metadata": {},
   "outputs": [
    {
     "data": {
      "image/png": "[encoded data removed]",
      "text/plain": [
       "<Figure size 432x288 with 1 Axes>"
      ]
     },
     "metadata": {
      "needs_background": "light"
     },
     "output_type": "display_data"
    }
   ],
   "source": [
    "plt.plot(pred,color = 'Blue')\n",
    "plt.plot(y_val, color = 'red')\n",
    "plt.title(\"Random Forest Regression Model For EC\")\n",
    "plt.legend(['Predicted EC values', 'Actual EC Values'], loc='upper left')\n",
    "plt.xlabel('Number of samples')\n",
    "plt.ylabel('EC values')\n",
    "plt.savefig(\"RFRmodelForECestimationUsingpHIndexes.jpg\")"
   ]
  },
  {
   "cell_type": "code",
   "execution_count": null,
   "id": "1c5ebbbe",
   "metadata": {},
   "outputs": [],
   "source": []
  },
  {
   "cell_type": "code",
   "execution_count": 11,
   "id": "4f4c7b6b",
   "metadata": {},
   "outputs": [
    {
     "name": "stdout",
     "output_type": "stream",
     "text": [
      "[1.2504     0.228      0.4848     0.154      1.29962    1.5832\n",
      " 1.052      0.5468     0.563      0.1152     1.213      0.3276\n",
      " 1.1092     1.1458     0.41184    1.6672     0.94164    8.3548\n",
      " 1.3014     0.98       1.3494     1.5994     1.1732     0.8312\n",
      " 0.8801     0.99948    0.7082     0.85908667 0.5424     1.1718\n",
      " 1.1824     1.5994     0.4424     0.4842     1.1388     1.7914\n",
      " 0.893      1.4952     0.3916     6.3556     0.7736     0.7496\n",
      " 0.60054    0.4848     1.00652    1.6672     0.971      1.06328\n",
      " 0.4786     1.554      1.052      6.3556     2.0988     0.268\n",
      " 0.4826     0.3304     0.7108     1.1632     1.0452     0.52960971\n",
      " 1.524168   0.6704     1.3494     0.49132    0.558      1.02648\n",
      " 0.3304     1.21345    0.9972     0.2951     1.2153     0.36666\n",
      " 0.3606     1.15244    1.0028     0.9556     0.364      0.54842\n",
      " 1.047      1.4228     1.5436     0.7748     0.7766     1.08325333\n",
      " 2.4294     0.1808     0.48152    0.6704     0.893      0.5356\n",
      " 0.9436     5.4944     2.5098     0.63321333 1.0774     0.6824\n",
      " 0.59664    0.596      1.22425    1.123      1.4716     1.1606\n",
      " 1.4984     1.1452     0.8706     1.30464    0.5064     1.3504\n",
      " 0.47808    1.1118     1.00172    1.5436     0.59742    0.154\n",
      " 0.48952    0.557      7.9334     1.3504     1.1458     1.15044\n",
      " 0.21308    1.0943     0.7549     1.161      2.0118     1.6672\n",
      " 0.5396     0.826      0.4786     0.318      0.893      0.60984\n",
      " 0.58486    2.2614     0.7674     1.543      1.4564     0.729\n",
      " 0.154      1.6672     0.3718     0.4384     0.3544     0.41074\n",
      " 0.5432     0.2996     1.081      0.60984    1.065      1.1122\n",
      " 1.3275     0.9678     1.111      0.922      1.0268     0.8484\n",
      " 6.8422     1.1354     0.92144    1.1118     0.922      1.033\n",
      " 1.4952     0.94444    0.3026     0.48478    0.811      1.4976\n",
      " 1.7696     0.54842    0.6448     1.3376     0.8801     0.7524\n",
      " 0.4186     1.8894     0.9274     0.9972     1.058      0.54\n",
      " 6.3556     2.6694     2.0118     0.8638     0.6623     1.1486\n",
      " 1.1824     0.88032    1.0498     0.932      0.22712    0.181\n",
      " 1.1938     0.9052     0.526      1.722      0.5468     0.9562\n",
      " 1.6193     0.9042     0.5438     0.6778     0.5252     5.6584\n",
      " 0.492      0.5064     1.744      1.0368     0.61       1.0014\n",
      " 0.671      0.988      0.9042     1.7724     1.3416     0.364\n",
      " 0.1386     1.0286     0.7476     1.32932    1.495      8.2892\n",
      " 0.7748     1.3428     0.7268     0.9344     0.4968     0.4898\n",
      " 0.628      1.1852     0.57648    0.9176     0.7108     1.1556\n",
      " 1.85804    0.55776    0.563      1.217      1.5922     0.144\n",
      " 1.0286     0.9078     0.5974     0.7766     0.608      0.53186\n",
      " 0.6816     1.395      0.8802     0.6728     0.8432     0.6128\n",
      " 0.473      0.8312     1.3016     0.6623     0.4936     0.74476\n",
      " 1.0774     0.8801     1.1192     0.3304     1.3624     0.563\n",
      " 0.416      1.144     ]\n"
     ]
    }
   ],
   "source": [
    "print(pred)"
   ]
  },
  {
   "cell_type": "code",
   "execution_count": 12,
   "id": "47c19473",
   "metadata": {},
   "outputs": [
    {
     "name": "stdout",
     "output_type": "stream",
     "text": [
      "[[1.25 ]\n",
      " [1.52 ]\n",
      " [0.81 ]\n",
      " [0.351]\n",
      " [1.88 ]\n",
      " [0.96 ]\n",
      " [1.01 ]\n",
      " [0.88 ]\n",
      " [0.14 ]\n",
      " [2.4  ]\n",
      " [1.6  ]\n",
      " [0.515]\n",
      " [1.22 ]\n",
      " [0.81 ]\n",
      " [1.38 ]\n",
      " [1.92 ]\n",
      " [1.77 ]\n",
      " [0.93 ]\n",
      " [0.98 ]\n",
      " [0.26 ]\n",
      " [1.31 ]\n",
      " [0.36 ]\n",
      " [0.96 ]\n",
      " [1.12 ]\n",
      " [0.58 ]\n",
      " [0.31 ]\n",
      " [1.83 ]\n",
      " [1.09 ]\n",
      " [0.15 ]\n",
      " [1.05 ]\n",
      " [1.1  ]\n",
      " [0.36 ]\n",
      " [0.11 ]\n",
      " [0.94 ]\n",
      " [1.12 ]\n",
      " [0.56 ]\n",
      " [1.03 ]\n",
      " [0.75 ]\n",
      " [0.24 ]\n",
      " [9.3  ]\n",
      " [0.54 ]\n",
      " [0.77 ]\n",
      " [1.09 ]\n",
      " [0.81 ]\n",
      " [1.09 ]\n",
      " [1.92 ]\n",
      " [1.01 ]\n",
      " [0.88 ]\n",
      " [0.96 ]\n",
      " [1.7  ]\n",
      " [0.9  ]\n",
      " [1.12 ]\n",
      " [0.18 ]\n",
      " [0.85 ]\n",
      " [1.01 ]\n",
      " [0.615]\n",
      " [1.02 ]\n",
      " [0.67 ]\n",
      " [0.78 ]\n",
      " [0.54 ]\n",
      " [1.15 ]\n",
      " [0.19 ]\n",
      " [1.13 ]\n",
      " [1.76 ]\n",
      " [1.2  ]\n",
      " [0.316]\n",
      " [0.41 ]\n",
      " [1.22 ]\n",
      " [0.93 ]\n",
      " [0.88 ]\n",
      " [1.64 ]\n",
      " [1.09 ]\n",
      " [0.19 ]\n",
      " [1.19 ]\n",
      " [0.44 ]\n",
      " [1.1  ]\n",
      " [1.47 ]\n",
      " [0.95 ]\n",
      " [1.   ]\n",
      " [2.1  ]\n",
      " [1.08 ]\n",
      " [0.92 ]\n",
      " [0.96 ]\n",
      " [0.91 ]\n",
      " [3.39 ]\n",
      " [1.95 ]\n",
      " [0.85 ]\n",
      " [0.19 ]\n",
      " [1.01 ]\n",
      " [0.14 ]\n",
      " [0.91 ]\n",
      " [7.42 ]\n",
      " [0.89 ]\n",
      " [0.44 ]\n",
      " [2.1  ]\n",
      " [1.1  ]\n",
      " [0.55 ]\n",
      " [0.31 ]\n",
      " [1.21 ]\n",
      " [1.26 ]\n",
      " [0.54 ]\n",
      " [0.85 ]\n",
      " [0.85 ]\n",
      " [0.42 ]\n",
      " [1.53 ]\n",
      " [1.   ]\n",
      " [1.08 ]\n",
      " [0.63 ]\n",
      " [0.79 ]\n",
      " [1.5  ]\n",
      " [1.02 ]\n",
      " [0.96 ]\n",
      " [1.15 ]\n",
      " [2.34 ]\n",
      " [1.36 ]\n",
      " [1.65 ]\n",
      " [1.53 ]\n",
      " [1.35 ]\n",
      " [0.26 ]\n",
      " [0.88 ]\n",
      " [0.16 ]\n",
      " [1.19 ]\n",
      " [1.09 ]\n",
      " [0.71 ]\n",
      " [0.26 ]\n",
      " [2.2  ]\n",
      " [0.26 ]\n",
      " [0.93 ]\n",
      " [0.75 ]\n",
      " [0.23 ]\n",
      " [0.71 ]\n",
      " [0.25 ]\n",
      " [1.5  ]\n",
      " [0.16 ]\n",
      " [1.53 ]\n",
      " [1.76 ]\n",
      " [0.63 ]\n",
      " [0.42 ]\n",
      " [1.62 ]\n",
      " [0.88 ]\n",
      " [0.25 ]\n",
      " [0.32 ]\n",
      " [1.95 ]\n",
      " [0.6  ]\n",
      " [0.77 ]\n",
      " [1.13 ]\n",
      " [2.   ]\n",
      " [0.25 ]\n",
      " [1.75 ]\n",
      " [1.19 ]\n",
      " [1.36 ]\n",
      " [0.285]\n",
      " [1.02 ]\n",
      " [0.82 ]\n",
      " [1.09 ]\n",
      " [1.34 ]\n",
      " [1.09 ]\n",
      " [0.91 ]\n",
      " [0.63 ]\n",
      " [0.98 ]\n",
      " [0.82 ]\n",
      " [0.88 ]\n",
      " [0.71 ]\n",
      " [0.94 ]\n",
      " [0.65 ]\n",
      " [0.86 ]\n",
      " [1.21 ]\n",
      " [0.89 ]\n",
      " [2.38 ]\n",
      " [1.6  ]\n",
      " [1.02 ]\n",
      " [2.34 ]\n",
      " [0.51 ]\n",
      " [0.85 ]\n",
      " [1.1  ]\n",
      " [2.38 ]\n",
      " [1.1  ]\n",
      " [0.96 ]\n",
      " [1.64 ]\n",
      " [0.2  ]\n",
      " [1.12 ]\n",
      " [3.39 ]\n",
      " [0.26 ]\n",
      " [0.89 ]\n",
      " [0.17 ]\n",
      " [0.16 ]\n",
      " [0.4  ]\n",
      " [0.18 ]\n",
      " [0.94 ]\n",
      " [1.1  ]\n",
      " [1.09 ]\n",
      " [0.2  ]\n",
      " [1.03 ]\n",
      " [0.98 ]\n",
      " [1.05 ]\n",
      " [1.98 ]\n",
      " [0.324]\n",
      " [1.36 ]\n",
      " [0.9  ]\n",
      " [1.1  ]\n",
      " [0.31 ]\n",
      " [0.25 ]\n",
      " [0.21 ]\n",
      " [7.42 ]\n",
      " [1.93 ]\n",
      " [0.09 ]\n",
      " [0.8  ]\n",
      " [0.98 ]\n",
      " [1.57 ]\n",
      " [0.83 ]\n",
      " [0.32 ]\n",
      " [1.01 ]\n",
      " [0.84 ]\n",
      " [1.72 ]\n",
      " [7.3  ]\n",
      " [0.93 ]\n",
      " [0.11 ]\n",
      " [0.55 ]\n",
      " [1.88 ]\n",
      " [0.324]\n",
      " [0.88 ]\n",
      " [1.11 ]\n",
      " [1.08 ]\n",
      " [1.11 ]\n",
      " [1.7  ]\n",
      " [0.94 ]\n",
      " [0.22 ]\n",
      " [0.32 ]\n",
      " [0.351]\n",
      " [1.   ]\n",
      " [0.396]\n",
      " [1.2  ]\n",
      " [1.09 ]\n",
      " [0.82 ]\n",
      " [2.2  ]\n",
      " [0.125]\n",
      " [0.29 ]\n",
      " [0.62 ]\n",
      " [1.98 ]\n",
      " [0.12 ]\n",
      " [0.56 ]\n",
      " [0.21 ]\n",
      " [0.78 ]\n",
      " [1.62 ]\n",
      " [1.05 ]\n",
      " [1.11 ]\n",
      " [0.94 ]\n",
      " [1.36 ]\n",
      " [0.85 ]\n",
      " [1.31 ]\n",
      " [2.8  ]\n",
      " [0.345]\n",
      " [0.19 ]\n",
      " [1.12 ]\n",
      " [1.36 ]\n",
      " [0.17 ]\n",
      " [0.82 ]\n",
      " [2.4  ]\n",
      " [1.14 ]\n",
      " [0.58 ]\n",
      " [1.3  ]\n",
      " [1.13 ]\n",
      " [1.45 ]\n",
      " [0.14 ]\n",
      " [1.74 ]\n",
      " [1.26 ]]\n"
     ]
    }
   ],
   "source": [
    "print(y_val)"
   ]
  },
  {
   "cell_type": "code",
   "execution_count": null,
   "id": "dae53a08",
   "metadata": {},
   "outputs": [],
   "source": []
  },
  {
   "cell_type": "code",
   "execution_count": null,
   "id": "a8f0bfd1",
   "metadata": {},
   "outputs": [],
   "source": []
  },
  {
   "cell_type": "code",
   "execution_count": null,
   "id": "2abab865",
   "metadata": {},
   "outputs": [],
   "source": []
  },
  {
   "cell_type": "code",
   "execution_count": null,
   "id": "b293a827",
   "metadata": {},
   "outputs": [],
   "source": []
  },
  {
   "cell_type": "code",
   "execution_count": null,
   "id": "b80ac50d",
   "metadata": {},
   "outputs": [],
   "source": []
  },
  {
   "cell_type": "code",
   "execution_count": null,
   "id": "b6b38bd1",
   "metadata": {},
   "outputs": [],
   "source": []
  },
  {
   "cell_type": "code",
   "execution_count": null,
   "id": "ee69cfaf",
   "metadata": {},
   "outputs": [],
   "source": []
  },
  {
   "cell_type": "code",
   "execution_count": null,
   "id": "1293de34",
   "metadata": {},
   "outputs": [],
   "source": []
  }
 ],
 "metadata": {
  "kernelspec": {
   "display_name": "Python 3 (ipykernel)",
   "language": "python",
   "name": "python3"
  },
  "language_info": {
   "codemirror_mode": {
    "name": "ipython",
    "version": 3
   },
   "file_extension": ".py",
   "mimetype": "text/x-python",
   "name": "python",
   "nbconvert_exporter": "python",
   "pygments_lexer": "ipython3",
   "version": "3.8.12"
  }
 },
 "nbformat": 4,
 "nbformat_minor": 5
}
