{
 "cells": [
  {
   "cell_type": "markdown",
   "id": "2f2bd941",
   "metadata": {},
   "source": [
    "### Libraries for dataset manipulation and visulization"
   ]
  },
  {
   "cell_type": "code",
   "execution_count": 1,
   "id": "bec3ab18",
   "metadata": {},
   "outputs": [],
   "source": [
    "import numpy as np\n",
    "import pandas as pd\n",
    "import matplotlib.pyplot as plt"
   ]
  },
  {
   "cell_type": "markdown",
   "id": "6a25f32e",
   "metadata": {},
   "source": [
    "### Dataset Loading"
   ]
  },
  {
   "cell_type": "code",
   "execution_count": 2,
   "id": "5e00c17d",
   "metadata": {},
   "outputs": [],
   "source": [
    "dataset = pd.read_csv('C:\\\\Users\\\\Mahmood Yousaf\\\\Desktop\\\\FYP\\\\Final-Year-Project-Soil-Analysis-using-machine-learning\\\\Extracted Features\\\\P_Index_with_P_value.csv')"
   ]
  },
  {
   "cell_type": "markdown",
   "id": "44d666b2",
   "metadata": {},
   "source": [
    "### Preprocessing on dataset"
   ]
  },
  {
   "cell_type": "code",
   "execution_count": 3,
   "id": "bef79ea3",
   "metadata": {},
   "outputs": [
    {
     "name": "stdout",
     "output_type": "stream",
     "text": [
      "[0.00703939 0.0073076  0.00680586 ... 0.00868003 0.0176074  0.01053636]\n",
      "[5.4 5.4 4.8 ... 5.  5.5 5.5]\n"
     ]
    }
   ],
   "source": [
    "X = np.array(dataset['P_Index'])\n",
    "Y = np.array(dataset['P_Value'])\n",
    "print(X)\n",
    "print(Y)"
   ]
  },
  {
   "cell_type": "code",
   "execution_count": 4,
   "id": "dd2bed66",
   "metadata": {},
   "outputs": [
    {
     "name": "stdout",
     "output_type": "stream",
     "text": [
      "[[0.00703939]\n",
      " [0.0073076 ]\n",
      " [0.00680586]\n",
      " ...\n",
      " [0.00868003]\n",
      " [0.0176074 ]\n",
      " [0.01053636]] [[5.4]\n",
      " [5.4]\n",
      " [4.8]\n",
      " ...\n",
      " [5. ]\n",
      " [5.5]\n",
      " [5.5]]\n"
     ]
    }
   ],
   "source": [
    "X = X.reshape(len(X),1)\n",
    "Y = Y.reshape(len(Y),1)\n",
    "print(X,Y)"
   ]
  },
  {
   "cell_type": "markdown",
   "id": "c3db3d89",
   "metadata": {},
   "source": [
    "### DTR model training"
   ]
  },
  {
   "cell_type": "code",
   "execution_count": 5,
   "id": "70f6693c",
   "metadata": {},
   "outputs": [],
   "source": [
    "from sklearn.model_selection import train_test_split\n",
    "X_train, X_val, y_train, y_val = train_test_split(X, Y)"
   ]
  },
  {
   "cell_type": "code",
   "execution_count": 6,
   "id": "86107818",
   "metadata": {},
   "outputs": [
    {
     "name": "stderr",
     "output_type": "stream",
     "text": [
      "C:\\Users\\MAHMOO~1\\AppData\\Local\\Temp/ipykernel_3900/3116153416.py:6: DataConversionWarning: A column-vector y was passed when a 1d array was expected. Please change the shape of y to (n_samples,), for example using ravel().\n",
      "  regressor.fit(X_train,y_train)\n"
     ]
    },
    {
     "data": {
      "text/plain": [
       "RandomForestRegressor(random_state=0)"
      ]
     },
     "execution_count": 6,
     "metadata": {},
     "output_type": "execute_result"
    }
   ],
   "source": [
    "from sklearn.ensemble import RandomForestRegressor\n",
    "from sklearn.metrics import mean_absolute_error\n",
    "from sklearn.metrics import mean_squared_error\n",
    "from sklearn.metrics import r2_score\n",
    "regressor = RandomForestRegressor(n_estimators=100, random_state = 0)\n",
    "regressor.fit(X_train,y_train)"
   ]
  },
  {
   "cell_type": "markdown",
   "id": "eb96c339",
   "metadata": {},
   "source": [
    "### Prediction "
   ]
  },
  {
   "cell_type": "code",
   "execution_count": 7,
   "id": "b5264ee9",
   "metadata": {},
   "outputs": [
    {
     "name": "stdout",
     "output_type": "stream",
     "text": [
      "[5.22]\n"
     ]
    }
   ],
   "source": [
    "prediction = regressor.predict([[500]])\n",
    "print(prediction)"
   ]
  },
  {
   "cell_type": "code",
   "execution_count": 8,
   "id": "7652decf",
   "metadata": {},
   "outputs": [
    {
     "name": "stdout",
     "output_type": "stream",
     "text": [
      "[4.812      4.632      5.575      6.251      4.841      4.853\n",
      " 6.673      6.564      4.207      6.475      4.864      4.791\n",
      " 4.662      6.324      4.44       5.231      4.852      4.843\n",
      " 5.382      3.963      6.882      4.398      5.549      5.846\n",
      " 6.134      6.012      6.588      4.77363333 5.807      4.744\n",
      " 4.595      6.479      5.556      7.631      5.543      5.263\n",
      " 5.343      4.817      5.599      5.491      3.704      4.606\n",
      " 5.759      5.925      6.39       5.871      5.38       5.13366667\n",
      " 5.17       7.49       5.963      5.045      4.89       4.416\n",
      " 4.866      5.932      4.074      6.181      7.908      5.521\n",
      " 4.99       5.186      4.812      6.012      5.54       6.39\n",
      " 4.086      4.621      4.565      6.27833333 5.169      5.618\n",
      " 4.987      5.334      3.766      6.00416667 6.78       4.258\n",
      " 5.319      4.495      4.897      5.275      5.511      4.773\n",
      " 5.268      5.095      4.418      6.133      4.662      4.856\n",
      " 6.543      4.906      4.767      4.785      3.963      5.541\n",
      " 6.953      4.565      5.05       4.801      4.374      6.826\n",
      " 4.897      4.218      4.67964286 5.155      4.859      6.354\n",
      " 5.965      5.15365    4.948      5.595      6.404      4.784\n",
      " 5.615      4.589      5.592      5.523      4.815      6.39\n",
      " 4.359      4.968      4.942      7.188      5.356      5.072\n",
      " 4.15091667 4.188      7.707      3.964      5.78471667 4.62\n",
      " 5.02483333 4.156      5.347      5.281      5.871      5.281\n",
      " 7.707      5.187      7.359      5.481      6.127      5.815\n",
      " 5.979      5.22       5.224      3.964      4.748      7.368\n",
      " 5.305      7.194      5.47       4.978      5.243      4.425\n",
      " 6.124      4.962      5.164      4.48       5.6707     5.61166667\n",
      " 5.356      5.032      5.514      3.333      5.042      5.225\n",
      " 6.354      4.949      6.564      6.404      4.594      5.212\n",
      " 5.345      5.037      5.077      3.764      4.784      4.26\n",
      " 7.422      5.68175    4.096      6.055      4.173      4.60846667\n",
      " 4.843      4.306      4.16       6.788      5.098      7.794\n",
      " 6.564      4.394      6.898      3.312      5.907      5.419\n",
      " 2.517      5.722      5.834      4.756      7.203      4.693\n",
      " 6.231      6.889      2.359      5.994      5.541      4.664\n",
      " 5.491      4.163      5.719      5.315      4.812      6.055\n",
      " 4.763      4.088      4.877      5.278      4.186      4.744\n",
      " 4.74       7.713      5.04933333 4.079      4.62       4.764\n",
      " 4.186      4.699      5.722      6.013      5.684      5.338\n",
      " 6.767      7.096      3.7023     4.158      4.616      4.306\n",
      " 5.54       5.669      5.301      4.318      5.094      4.056\n",
      " 5.763      5.846      4.889      7.08       5.091      5.584\n",
      " 6.87       4.318      5.65       4.42       5.679      6.041\n",
      " 4.90288333 4.173      4.405      5.168      4.079      4.78533333\n",
      " 4.812      4.107     ]\n"
     ]
    }
   ],
   "source": [
    "pred = regressor.predict(X_val)\n",
    "print(pred)"
   ]
  },
  {
   "cell_type": "code",
   "execution_count": 9,
   "id": "71cb0a9f",
   "metadata": {},
   "outputs": [
    {
     "name": "stdout",
     "output_type": "stream",
     "text": [
      "MSE 1.8266503204423667\n",
      "MAE 1.0129491496598635\n",
      "r2_score -0.5569348382775758\n"
     ]
    }
   ],
   "source": [
    "# mse , mae and r2_score values\n",
    "mae_value = mean_absolute_error(y_val, pred)\n",
    "mse_value = mean_squared_error(y_val, pred)\n",
    "r2_score_value = r2_score(y_val, pred)\n",
    "# Total error with mse , mae and r2_score\n",
    "print(f\"MSE {mse_value}\")\n",
    "print(f\"MAE {mae_value}\")\n",
    "print(f\"r2_score {r2_score_value}\")"
   ]
  },
  {
   "cell_type": "markdown",
   "id": "4c3ac75c",
   "metadata": {},
   "source": [
    "### Visulization"
   ]
  },
  {
   "cell_type": "code",
   "execution_count": 10,
   "id": "735b5040",
   "metadata": {},
   "outputs": [
    {
     "data": {
      "image/png": "[encoded data removed]",
      "text/plain": [
       "<Figure size 432x288 with 1 Axes>"
      ]
     },
     "metadata": {
      "needs_background": "light"
     },
     "output_type": "display_data"
    }
   ],
   "source": [
    "plt.plot(pred,color = 'Blue')\n",
    "plt.plot(y_val, color = 'red')\n",
    "plt.title(\"Random Forest Regression Model For P\")\n",
    "plt.legend(['Predicted P values', 'Actual P Values'], loc='upper left')\n",
    "plt.xlabel('PH indexes')\n",
    "plt.ylabel('P values')\n",
    "plt.savefig(\"RFRmodelForPestimationUsingpHIndexes.jpg\")"
   ]
  },
  {
   "cell_type": "code",
   "execution_count": 11,
   "id": "1c5ebbbe",
   "metadata": {},
   "outputs": [
    {
     "data": {
      "text/plain": [
       "-0.5569348382775758"
      ]
     },
     "execution_count": 11,
     "metadata": {},
     "output_type": "execute_result"
    }
   ],
   "source": [
    "from sklearn.metrics import r2_score\n",
    "r2_score(y_val,pred)"
   ]
  },
  {
   "cell_type": "code",
   "execution_count": 12,
   "id": "4f4c7b6b",
   "metadata": {},
   "outputs": [
    {
     "name": "stdout",
     "output_type": "stream",
     "text": [
      "[4.812      4.632      5.575      6.251      4.841      4.853\n",
      " 6.673      6.564      4.207      6.475      4.864      4.791\n",
      " 4.662      6.324      4.44       5.231      4.852      4.843\n",
      " 5.382      3.963      6.882      4.398      5.549      5.846\n",
      " 6.134      6.012      6.588      4.77363333 5.807      4.744\n",
      " 4.595      6.479      5.556      7.631      5.543      5.263\n",
      " 5.343      4.817      5.599      5.491      3.704      4.606\n",
      " 5.759      5.925      6.39       5.871      5.38       5.13366667\n",
      " 5.17       7.49       5.963      5.045      4.89       4.416\n",
      " 4.866      5.932      4.074      6.181      7.908      5.521\n",
      " 4.99       5.186      4.812      6.012      5.54       6.39\n",
      " 4.086      4.621      4.565      6.27833333 5.169      5.618\n",
      " 4.987      5.334      3.766      6.00416667 6.78       4.258\n",
      " 5.319      4.495      4.897      5.275      5.511      4.773\n",
      " 5.268      5.095      4.418      6.133      4.662      4.856\n",
      " 6.543      4.906      4.767      4.785      3.963      5.541\n",
      " 6.953      4.565      5.05       4.801      4.374      6.826\n",
      " 4.897      4.218      4.67964286 5.155      4.859      6.354\n",
      " 5.965      5.15365    4.948      5.595      6.404      4.784\n",
      " 5.615      4.589      5.592      5.523      4.815      6.39\n",
      " 4.359      4.968      4.942      7.188      5.356      5.072\n",
      " 4.15091667 4.188      7.707      3.964      5.78471667 4.62\n",
      " 5.02483333 4.156      5.347      5.281      5.871      5.281\n",
      " 7.707      5.187      7.359      5.481      6.127      5.815\n",
      " 5.979      5.22       5.224      3.964      4.748      7.368\n",
      " 5.305      7.194      5.47       4.978      5.243      4.425\n",
      " 6.124      4.962      5.164      4.48       5.6707     5.61166667\n",
      " 5.356      5.032      5.514      3.333      5.042      5.225\n",
      " 6.354      4.949      6.564      6.404      4.594      5.212\n",
      " 5.345      5.037      5.077      3.764      4.784      4.26\n",
      " 7.422      5.68175    4.096      6.055      4.173      4.60846667\n",
      " 4.843      4.306      4.16       6.788      5.098      7.794\n",
      " 6.564      4.394      6.898      3.312      5.907      5.419\n",
      " 2.517      5.722      5.834      4.756      7.203      4.693\n",
      " 6.231      6.889      2.359      5.994      5.541      4.664\n",
      " 5.491      4.163      5.719      5.315      4.812      6.055\n",
      " 4.763      4.088      4.877      5.278      4.186      4.744\n",
      " 4.74       7.713      5.04933333 4.079      4.62       4.764\n",
      " 4.186      4.699      5.722      6.013      5.684      5.338\n",
      " 6.767      7.096      3.7023     4.158      4.616      4.306\n",
      " 5.54       5.669      5.301      4.318      5.094      4.056\n",
      " 5.763      5.846      4.889      7.08       5.091      5.584\n",
      " 6.87       4.318      5.65       4.42       5.679      6.041\n",
      " 4.90288333 4.173      4.405      5.168      4.079      4.78533333\n",
      " 4.812      4.107     ]\n"
     ]
    }
   ],
   "source": [
    "print(pred)"
   ]
  },
  {
   "cell_type": "code",
   "execution_count": 13,
   "id": "47c19473",
   "metadata": {},
   "outputs": [
    {
     "name": "stdout",
     "output_type": "stream",
     "text": [
      "[[7.5]\n",
      " [4. ]\n",
      " [5.3]\n",
      " [4.3]\n",
      " [5.6]\n",
      " [5.2]\n",
      " [3.8]\n",
      " [3.8]\n",
      " [4.8]\n",
      " [4. ]\n",
      " [6.5]\n",
      " [9. ]\n",
      " [5.3]\n",
      " [6. ]\n",
      " [4.3]\n",
      " [5.5]\n",
      " [5.5]\n",
      " [4.5]\n",
      " [4.8]\n",
      " [6. ]\n",
      " [5.2]\n",
      " [5.1]\n",
      " [3.7]\n",
      " [5.2]\n",
      " [5.6]\n",
      " [5.3]\n",
      " [4. ]\n",
      " [6. ]\n",
      " [6.2]\n",
      " [6.3]\n",
      " [6. ]\n",
      " [7.2]\n",
      " [5.5]\n",
      " [7.4]\n",
      " [5.3]\n",
      " [5.8]\n",
      " [5.2]\n",
      " [4. ]\n",
      " [5.5]\n",
      " [4.5]\n",
      " [5.2]\n",
      " [5.5]\n",
      " [6.1]\n",
      " [5.3]\n",
      " [3.6]\n",
      " [3.9]\n",
      " [5.5]\n",
      " [4.6]\n",
      " [5.7]\n",
      " [5.4]\n",
      " [4.8]\n",
      " [4.5]\n",
      " [5.5]\n",
      " [3.7]\n",
      " [5.1]\n",
      " [6.8]\n",
      " [4. ]\n",
      " [4.2]\n",
      " [8.4]\n",
      " [5.2]\n",
      " [4.9]\n",
      " [5.2]\n",
      " [5. ]\n",
      " [5.3]\n",
      " [5. ]\n",
      " [5.5]\n",
      " [5.5]\n",
      " [5.5]\n",
      " [9. ]\n",
      " [4.1]\n",
      " [5.3]\n",
      " [5.5]\n",
      " [5.4]\n",
      " [4. ]\n",
      " [4.7]\n",
      " [5.7]\n",
      " [5.5]\n",
      " [6.8]\n",
      " [4.2]\n",
      " [7.5]\n",
      " [4.8]\n",
      " [5.1]\n",
      " [3.6]\n",
      " [7.4]\n",
      " [4.5]\n",
      " [5.1]\n",
      " [4.7]\n",
      " [6.8]\n",
      " [4. ]\n",
      " [4.4]\n",
      " [7.5]\n",
      " [4.5]\n",
      " [6.5]\n",
      " [6. ]\n",
      " [6. ]\n",
      " [5.5]\n",
      " [4.6]\n",
      " [5. ]\n",
      " [4.2]\n",
      " [4.8]\n",
      " [3.9]\n",
      " [5.5]\n",
      " [4.8]\n",
      " [6.2]\n",
      " [5.5]\n",
      " [6.3]\n",
      " [4. ]\n",
      " [3.7]\n",
      " [6. ]\n",
      " [4.8]\n",
      " [4.8]\n",
      " [4.3]\n",
      " [4.6]\n",
      " [4.6]\n",
      " [5.5]\n",
      " [5.2]\n",
      " [4. ]\n",
      " [5.5]\n",
      " [6.6]\n",
      " [5.5]\n",
      " [4.2]\n",
      " [5. ]\n",
      " [4.4]\n",
      " [4.8]\n",
      " [5.2]\n",
      " [4.3]\n",
      " [6. ]\n",
      " [7.4]\n",
      " [5.3]\n",
      " [7.2]\n",
      " [6.5]\n",
      " [4. ]\n",
      " [3.6]\n",
      " [5.2]\n",
      " [5. ]\n",
      " [3.2]\n",
      " [4.8]\n",
      " [4.1]\n",
      " [5.3]\n",
      " [5.2]\n",
      " [8.4]\n",
      " [6. ]\n",
      " [6.6]\n",
      " [5. ]\n",
      " [4.8]\n",
      " [4. ]\n",
      " [5.3]\n",
      " [6.2]\n",
      " [5.5]\n",
      " [4.6]\n",
      " [4.5]\n",
      " [8. ]\n",
      " [4.6]\n",
      " [5.1]\n",
      " [4.2]\n",
      " [6.1]\n",
      " [6.5]\n",
      " [5.2]\n",
      " [6.9]\n",
      " [5.5]\n",
      " [6. ]\n",
      " [5.3]\n",
      " [4.3]\n",
      " [4.5]\n",
      " [6. ]\n",
      " [5.8]\n",
      " [5.4]\n",
      " [6.8]\n",
      " [7.5]\n",
      " [4.4]\n",
      " [6.8]\n",
      " [4.6]\n",
      " [4.7]\n",
      " [5.2]\n",
      " [4. ]\n",
      " [4.5]\n",
      " [5.1]\n",
      " [4.1]\n",
      " [5.1]\n",
      " [4.6]\n",
      " [5.2]\n",
      " [5.2]\n",
      " [4.5]\n",
      " [6.8]\n",
      " [4.6]\n",
      " [5.2]\n",
      " [7.2]\n",
      " [4. ]\n",
      " [6. ]\n",
      " [5.6]\n",
      " [5.1]\n",
      " [5.2]\n",
      " [5. ]\n",
      " [5.2]\n",
      " [8. ]\n",
      " [5.4]\n",
      " [4.8]\n",
      " [4.5]\n",
      " [4. ]\n",
      " [5.5]\n",
      " [4.6]\n",
      " [4.6]\n",
      " [4.8]\n",
      " [4.8]\n",
      " [6.8]\n",
      " [3.5]\n",
      " [6. ]\n",
      " [5.6]\n",
      " [5.3]\n",
      " [3.6]\n",
      " [4.8]\n",
      " [5.1]\n",
      " [5.5]\n",
      " [7.4]\n",
      " [4.5]\n",
      " [5.5]\n",
      " [5. ]\n",
      " [5.5]\n",
      " [7.4]\n",
      " [6.4]\n",
      " [3.7]\n",
      " [3.6]\n",
      " [6.5]\n",
      " [5. ]\n",
      " [4.5]\n",
      " [3.2]\n",
      " [7.8]\n",
      " [4.8]\n",
      " [5. ]\n",
      " [5. ]\n",
      " [5.2]\n",
      " [6.1]\n",
      " [3.2]\n",
      " [5.8]\n",
      " [5.6]\n",
      " [5.4]\n",
      " [4.5]\n",
      " [5.2]\n",
      " [4. ]\n",
      " [4.2]\n",
      " [5. ]\n",
      " [5.2]\n",
      " [4.8]\n",
      " [4. ]\n",
      " [5. ]\n",
      " [4.2]\n",
      " [6. ]\n",
      " [4. ]\n",
      " [4.8]\n",
      " [7.2]\n",
      " [5.4]\n",
      " [6.2]\n",
      " [4.9]\n",
      " [4. ]\n",
      " [5.5]\n",
      " [5.6]\n",
      " [4.2]\n",
      " [5.4]\n",
      " [5.2]\n",
      " [5.6]\n",
      " [4.3]\n",
      " [7.2]\n",
      " [5.2]\n",
      " [4.1]\n",
      " [7.5]\n",
      " [8.2]]\n"
     ]
    }
   ],
   "source": [
    "print(y_val)"
   ]
  },
  {
   "cell_type": "code",
   "execution_count": null,
   "id": "dae53a08",
   "metadata": {},
   "outputs": [],
   "source": []
  },
  {
   "cell_type": "code",
   "execution_count": null,
   "id": "a8f0bfd1",
   "metadata": {},
   "outputs": [],
   "source": []
  },
  {
   "cell_type": "code",
   "execution_count": null,
   "id": "2abab865",
   "metadata": {},
   "outputs": [],
   "source": []
  },
  {
   "cell_type": "code",
   "execution_count": null,
   "id": "b293a827",
   "metadata": {},
   "outputs": [],
   "source": []
  },
  {
   "cell_type": "code",
   "execution_count": null,
   "id": "b80ac50d",
   "metadata": {},
   "outputs": [],
   "source": []
  },
  {
   "cell_type": "code",
   "execution_count": null,
   "id": "b6b38bd1",
   "metadata": {},
   "outputs": [],
   "source": []
  },
  {
   "cell_type": "code",
   "execution_count": null,
   "id": "0925f8ad",
   "metadata": {},
   "outputs": [],
   "source": []
  },
  {
   "cell_type": "code",
   "execution_count": null,
   "id": "9108bfe0",
   "metadata": {},
   "outputs": [],
   "source": []
  },
  {
   "cell_type": "code",
   "execution_count": null,
   "id": "b5aaac91",
   "metadata": {},
   "outputs": [],
   "source": []
  }
 ],
 "metadata": {
  "kernelspec": {
   "display_name": "Python 3 (ipykernel)",
   "language": "python",
   "name": "python3"
  },
  "language_info": {
   "codemirror_mode": {
    "name": "ipython",
    "version": 3
   },
   "file_extension": ".py",
   "mimetype": "text/x-python",
   "name": "python",
   "nbconvert_exporter": "python",
   "pygments_lexer": "ipython3",
   "version": "3.8.12"
  }
 },
 "nbformat": 4,
 "nbformat_minor": 5
}
