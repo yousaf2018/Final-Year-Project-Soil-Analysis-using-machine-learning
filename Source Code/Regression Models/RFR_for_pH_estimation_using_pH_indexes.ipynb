{
 "cells": [
  {
   "cell_type": "markdown",
   "id": "2f2bd941",
   "metadata": {},
   "source": [
    "### Libraries for dataset manipulation and visulization"
   ]
  },
  {
   "cell_type": "code",
   "execution_count": 1,
   "id": "bec3ab18",
   "metadata": {},
   "outputs": [],
   "source": [
    "import numpy as np\n",
    "import pandas as pd\n",
    "import matplotlib.pyplot as plt"
   ]
  },
  {
   "cell_type": "markdown",
   "id": "6a25f32e",
   "metadata": {},
   "source": [
    "### Dataset Loading"
   ]
  },
  {
   "cell_type": "code",
   "execution_count": 2,
   "id": "5e00c17d",
   "metadata": {},
   "outputs": [],
   "source": [
    "dataset = pd.read_csv('C:\\\\Users\\\\Mahmood Yousaf\\\\Desktop\\\\FYP\\\\Final-Year-Project-Soil-Analysis-using-machine-learning\\\\Extracted Features\\\\Ph_Index_with_Ph_value.csv')"
   ]
  },
  {
   "cell_type": "markdown",
   "id": "44d666b2",
   "metadata": {},
   "source": [
    "### Preprocessing on dataset"
   ]
  },
  {
   "cell_type": "code",
   "execution_count": 3,
   "id": "bef79ea3",
   "metadata": {},
   "outputs": [
    {
     "name": "stdout",
     "output_type": "stream",
     "text": [
      "[0.00703939 0.0073076  0.00680586 ... 0.00868003 0.0176074  0.01053636]\n",
      "[7.9 7.9 7.9 ... 7.7 7.7 7.7]\n"
     ]
    }
   ],
   "source": [
    "X = np.array(dataset['PH_Index'])\n",
    "Y = np.array(dataset['PH_Value'])\n",
    "print(X)\n",
    "print(Y)"
   ]
  },
  {
   "cell_type": "code",
   "execution_count": 4,
   "id": "dd2bed66",
   "metadata": {},
   "outputs": [
    {
     "name": "stdout",
     "output_type": "stream",
     "text": [
      "[[0.00703939]\n",
      " [0.0073076 ]\n",
      " [0.00680586]\n",
      " ...\n",
      " [0.00868003]\n",
      " [0.0176074 ]\n",
      " [0.01053636]] [[7.9]\n",
      " [7.9]\n",
      " [7.9]\n",
      " ...\n",
      " [7.7]\n",
      " [7.7]\n",
      " [7.7]]\n"
     ]
    }
   ],
   "source": [
    "X = X.reshape(len(X),1)\n",
    "Y = Y.reshape(len(Y),1)\n",
    "print(X,Y)"
   ]
  },
  {
   "cell_type": "markdown",
   "id": "c3db3d89",
   "metadata": {},
   "source": [
    "### DTR model training"
   ]
  },
  {
   "cell_type": "code",
   "execution_count": 5,
   "id": "70f6693c",
   "metadata": {},
   "outputs": [],
   "source": [
    "from sklearn.model_selection import train_test_split\n",
    "X_train, X_val, y_train, y_val = train_test_split(X, Y)"
   ]
  },
  {
   "cell_type": "code",
   "execution_count": 6,
   "id": "86107818",
   "metadata": {},
   "outputs": [
    {
     "name": "stderr",
     "output_type": "stream",
     "text": [
      "C:\\Users\\MAHMOO~1\\AppData\\Local\\Temp/ipykernel_11168/3116153416.py:6: DataConversionWarning: A column-vector y was passed when a 1d array was expected. Please change the shape of y to (n_samples,), for example using ravel().\n",
      "  regressor.fit(X_train,y_train)\n"
     ]
    },
    {
     "data": {
      "text/plain": [
       "RandomForestRegressor(random_state=0)"
      ]
     },
     "execution_count": 6,
     "metadata": {},
     "output_type": "execute_result"
    }
   ],
   "source": [
    "from sklearn.ensemble import RandomForestRegressor\n",
    "from sklearn.metrics import mean_absolute_error\n",
    "from sklearn.metrics import mean_squared_error\n",
    "from sklearn.metrics import r2_score\n",
    "regressor = RandomForestRegressor(n_estimators=100, random_state = 0)\n",
    "regressor.fit(X_train,y_train)"
   ]
  },
  {
   "cell_type": "markdown",
   "id": "eb96c339",
   "metadata": {},
   "source": [
    "### Prediction "
   ]
  },
  {
   "cell_type": "code",
   "execution_count": 7,
   "id": "b5264ee9",
   "metadata": {},
   "outputs": [
    {
     "name": "stdout",
     "output_type": "stream",
     "text": [
      "[7.857]\n"
     ]
    }
   ],
   "source": [
    "prediction = regressor.predict([[500]])\n",
    "print(prediction)"
   ]
  },
  {
   "cell_type": "code",
   "execution_count": 8,
   "id": "7652decf",
   "metadata": {},
   "outputs": [
    {
     "name": "stdout",
     "output_type": "stream",
     "text": [
      "[7.792      7.903      7.551      7.976      7.582      7.69183333\n",
      " 7.871      7.62       7.6653     7.955      7.909      7.897\n",
      " 7.701      7.776      7.793      7.5186     7.652      7.816\n",
      " 7.754      7.931      7.64       7.719      7.99       7.544\n",
      " 7.732      7.836      7.74       7.816      7.694      7.96\n",
      " 7.959      7.78       7.958      8.02       7.611      7.743\n",
      " 7.755      7.669      7.848      7.608      8.106      7.783\n",
      " 7.971      7.908      7.745      7.942      7.826      7.72633333\n",
      " 7.722      7.744      7.686      7.704      7.659      7.596\n",
      " 8.037      7.789      7.79       7.684      7.776      7.839\n",
      " 7.844      7.907      7.892      8.111      7.776      8.014\n",
      " 7.742      7.935      7.659      7.701      8.072      7.919\n",
      " 7.826      7.831      7.63183333 7.857      7.855      7.704\n",
      " 7.899      7.97252857 7.924      8.01       7.813      7.492\n",
      " 7.982      7.983      7.718      7.868      7.749      7.82\n",
      " 7.832      7.722      7.992      7.879      7.921      7.946\n",
      " 7.958      7.681      8.018      7.736      7.902      7.769\n",
      " 7.652      8.019      7.92808571 7.773      8.091      7.834\n",
      " 7.863      7.742      7.822      7.83       7.907      7.924\n",
      " 7.898      7.627      7.97785714 7.742      7.857      7.85\n",
      " 7.703      7.818      7.615      7.495      7.629      7.772\n",
      " 7.70846667 7.896      7.773      7.75       7.568      7.755\n",
      " 7.959      7.945      7.825      7.824      7.83       7.832\n",
      " 7.755      7.732      7.755      7.749      7.667      7.823\n",
      " 7.62       7.867      7.722      7.742      7.707      7.919\n",
      " 7.87       7.749      7.738      7.936      7.70183333 7.899\n",
      " 7.724      7.862      7.875      7.659      7.88       7.756\n",
      " 8.         7.678      7.729      7.808      7.652      8.02\n",
      " 7.704      7.91       7.982      7.812      7.792      7.558\n",
      " 7.703      7.80783333 7.756      8.008      7.793      7.848\n",
      " 7.764      7.898      7.819      7.846      7.709      7.927\n",
      " 8.025      7.701      7.851      7.861      7.891      7.867\n",
      " 8.069      7.907      7.745      7.773      7.813      7.843\n",
      " 7.786      7.849      7.701      7.742      8.081      8.081\n",
      " 7.568      7.922      7.917      7.631      7.982      7.776\n",
      " 7.639      7.755      7.907      7.704      7.843      7.902\n",
      " 7.697      7.67725    7.621      7.931      7.752      7.774\n",
      " 7.586      7.997      7.793      7.643      7.764      7.659\n",
      " 7.495      7.652      7.816      8.017      7.6633     7.732\n",
      " 8.01       7.728      7.743      7.886      7.813      7.672\n",
      " 7.752      7.823      7.78293333 7.86       7.79       7.767\n",
      " 8.113      7.743      7.627      7.721925   7.811      7.852\n",
      " 7.644      7.901      7.718      7.85       7.765      7.797\n",
      " 7.774      7.802      7.756      7.767      7.81       7.7734\n",
      " 7.912      7.611     ]\n"
     ]
    }
   ],
   "source": [
    "pred = regressor.predict(X_val)\n",
    "print(pred)"
   ]
  },
  {
   "cell_type": "code",
   "execution_count": 9,
   "id": "90c58c2d",
   "metadata": {},
   "outputs": [
    {
     "name": "stdout",
     "output_type": "stream",
     "text": [
      "MSE 0.0412792943992045\n",
      "MAE 0.15069270050125308\n",
      "r2_score -0.20598457215485344\n"
     ]
    }
   ],
   "source": [
    "# mse , mae and r2_score values\n",
    "mae_value = mean_absolute_error(y_val, pred)\n",
    "mse_value = mean_squared_error(y_val, pred)\n",
    "r2_score_value = r2_score(y_val, pred)\n",
    "# Total error with mse , mae and r2_score\n",
    "print(f\"MSE {mse_value}\")\n",
    "print(f\"MAE {mae_value}\")\n",
    "print(f\"r2_score {r2_score_value}\")"
   ]
  },
  {
   "cell_type": "markdown",
   "id": "4c3ac75c",
   "metadata": {},
   "source": [
    "### Visulization"
   ]
  },
  {
   "cell_type": "code",
   "execution_count": 10,
   "id": "735b5040",
   "metadata": {},
   "outputs": [
    {
     "data": {
      "image/png": "[encoded data removed]",
      "text/plain": [
       "<Figure size 432x288 with 1 Axes>"
      ]
     },
     "metadata": {
      "needs_background": "light"
     },
     "output_type": "display_data"
    }
   ],
   "source": [
    "plt.plot(pred,color = 'Blue')\n",
    "plt.plot(y_val, color = 'red')\n",
    "plt.title(\"Random Forest Regression Model For pH\")\n",
    "plt.legend(['Predicted pH values', 'Actual pH Values'], loc='upper left')\n",
    "plt.xlabel('Number of samples')\n",
    "plt.ylabel('pH values')\n",
    "plt.savefig(\"RFRmodelForpHestimationUsingpHIndexes.jpg\")"
   ]
  },
  {
   "cell_type": "code",
   "execution_count": 11,
   "id": "1c5ebbbe",
   "metadata": {},
   "outputs": [
    {
     "data": {
      "text/plain": [
       "-0.20598457215485344"
      ]
     },
     "execution_count": 11,
     "metadata": {},
     "output_type": "execute_result"
    }
   ],
   "source": [
    "from sklearn.metrics import r2_score\n",
    "r2_score(y_val,pred)"
   ]
  },
  {
   "cell_type": "code",
   "execution_count": 12,
   "id": "4f4c7b6b",
   "metadata": {},
   "outputs": [
    {
     "name": "stdout",
     "output_type": "stream",
     "text": [
      "[7.792      7.903      7.551      7.976      7.582      7.69183333\n",
      " 7.871      7.62       7.6653     7.955      7.909      7.897\n",
      " 7.701      7.776      7.793      7.5186     7.652      7.816\n",
      " 7.754      7.931      7.64       7.719      7.99       7.544\n",
      " 7.732      7.836      7.74       7.816      7.694      7.96\n",
      " 7.959      7.78       7.958      8.02       7.611      7.743\n",
      " 7.755      7.669      7.848      7.608      8.106      7.783\n",
      " 7.971      7.908      7.745      7.942      7.826      7.72633333\n",
      " 7.722      7.744      7.686      7.704      7.659      7.596\n",
      " 8.037      7.789      7.79       7.684      7.776      7.839\n",
      " 7.844      7.907      7.892      8.111      7.776      8.014\n",
      " 7.742      7.935      7.659      7.701      8.072      7.919\n",
      " 7.826      7.831      7.63183333 7.857      7.855      7.704\n",
      " 7.899      7.97252857 7.924      8.01       7.813      7.492\n",
      " 7.982      7.983      7.718      7.868      7.749      7.82\n",
      " 7.832      7.722      7.992      7.879      7.921      7.946\n",
      " 7.958      7.681      8.018      7.736      7.902      7.769\n",
      " 7.652      8.019      7.92808571 7.773      8.091      7.834\n",
      " 7.863      7.742      7.822      7.83       7.907      7.924\n",
      " 7.898      7.627      7.97785714 7.742      7.857      7.85\n",
      " 7.703      7.818      7.615      7.495      7.629      7.772\n",
      " 7.70846667 7.896      7.773      7.75       7.568      7.755\n",
      " 7.959      7.945      7.825      7.824      7.83       7.832\n",
      " 7.755      7.732      7.755      7.749      7.667      7.823\n",
      " 7.62       7.867      7.722      7.742      7.707      7.919\n",
      " 7.87       7.749      7.738      7.936      7.70183333 7.899\n",
      " 7.724      7.862      7.875      7.659      7.88       7.756\n",
      " 8.         7.678      7.729      7.808      7.652      8.02\n",
      " 7.704      7.91       7.982      7.812      7.792      7.558\n",
      " 7.703      7.80783333 7.756      8.008      7.793      7.848\n",
      " 7.764      7.898      7.819      7.846      7.709      7.927\n",
      " 8.025      7.701      7.851      7.861      7.891      7.867\n",
      " 8.069      7.907      7.745      7.773      7.813      7.843\n",
      " 7.786      7.849      7.701      7.742      8.081      8.081\n",
      " 7.568      7.922      7.917      7.631      7.982      7.776\n",
      " 7.639      7.755      7.907      7.704      7.843      7.902\n",
      " 7.697      7.67725    7.621      7.931      7.752      7.774\n",
      " 7.586      7.997      7.793      7.643      7.764      7.659\n",
      " 7.495      7.652      7.816      8.017      7.6633     7.732\n",
      " 8.01       7.728      7.743      7.886      7.813      7.672\n",
      " 7.752      7.823      7.78293333 7.86       7.79       7.767\n",
      " 8.113      7.743      7.627      7.721925   7.811      7.852\n",
      " 7.644      7.901      7.718      7.85       7.765      7.797\n",
      " 7.774      7.802      7.756      7.767      7.81       7.7734\n",
      " 7.912      7.611     ]\n"
     ]
    }
   ],
   "source": [
    "print(pred)"
   ]
  },
  {
   "cell_type": "code",
   "execution_count": 13,
   "id": "47c19473",
   "metadata": {},
   "outputs": [
    {
     "name": "stdout",
     "output_type": "stream",
     "text": [
      "[[7.9 ]\n",
      " [8.  ]\n",
      " [7.7 ]\n",
      " [7.7 ]\n",
      " [7.7 ]\n",
      " [7.7 ]\n",
      " [7.9 ]\n",
      " [8.  ]\n",
      " [7.6 ]\n",
      " [8.2 ]\n",
      " [8.01]\n",
      " [8.2 ]\n",
      " [8.2 ]\n",
      " [8.  ]\n",
      " [7.7 ]\n",
      " [7.7 ]\n",
      " [8.  ]\n",
      " [7.7 ]\n",
      " [7.7 ]\n",
      " [7.9 ]\n",
      " [7.8 ]\n",
      " [7.8 ]\n",
      " [7.9 ]\n",
      " [7.8 ]\n",
      " [7.7 ]\n",
      " [7.9 ]\n",
      " [7.7 ]\n",
      " [8.2 ]\n",
      " [7.7 ]\n",
      " [7.9 ]\n",
      " [8.  ]\n",
      " [7.7 ]\n",
      " [7.7 ]\n",
      " [7.8 ]\n",
      " [8.2 ]\n",
      " [7.8 ]\n",
      " [7.7 ]\n",
      " [8.1 ]\n",
      " [7.8 ]\n",
      " [8.  ]\n",
      " [7.9 ]\n",
      " [7.7 ]\n",
      " [8.1 ]\n",
      " [7.8 ]\n",
      " [8.1 ]\n",
      " [7.9 ]\n",
      " [7.7 ]\n",
      " [7.9 ]\n",
      " [7.8 ]\n",
      " [7.8 ]\n",
      " [8.1 ]\n",
      " [7.8 ]\n",
      " [7.6 ]\n",
      " [7.6 ]\n",
      " [8.1 ]\n",
      " [7.8 ]\n",
      " [7.8 ]\n",
      " [7.6 ]\n",
      " [8.  ]\n",
      " [7.7 ]\n",
      " [7.9 ]\n",
      " [8.  ]\n",
      " [8.1 ]\n",
      " [8.  ]\n",
      " [8.2 ]\n",
      " [7.3 ]\n",
      " [8.  ]\n",
      " [7.7 ]\n",
      " [7.6 ]\n",
      " [7.3 ]\n",
      " [8.2 ]\n",
      " [7.6 ]\n",
      " [7.7 ]\n",
      " [7.9 ]\n",
      " [8.  ]\n",
      " [7.9 ]\n",
      " [7.9 ]\n",
      " [7.7 ]\n",
      " [7.8 ]\n",
      " [7.7 ]\n",
      " [8.  ]\n",
      " [7.9 ]\n",
      " [7.6 ]\n",
      " [7.9 ]\n",
      " [7.8 ]\n",
      " [8.  ]\n",
      " [8.  ]\n",
      " [7.9 ]\n",
      " [7.9 ]\n",
      " [7.8 ]\n",
      " [7.8 ]\n",
      " [7.8 ]\n",
      " [7.7 ]\n",
      " [8.  ]\n",
      " [8.  ]\n",
      " [8.  ]\n",
      " [8.  ]\n",
      " [8.1 ]\n",
      " [8.1 ]\n",
      " [7.8 ]\n",
      " [8.  ]\n",
      " [7.9 ]\n",
      " [7.9 ]\n",
      " [8.2 ]\n",
      " [8.  ]\n",
      " [7.8 ]\n",
      " [8.2 ]\n",
      " [7.8 ]\n",
      " [7.9 ]\n",
      " [8.  ]\n",
      " [7.7 ]\n",
      " [7.9 ]\n",
      " [7.7 ]\n",
      " [8.  ]\n",
      " [7.9 ]\n",
      " [7.6 ]\n",
      " [7.4 ]\n",
      " [7.6 ]\n",
      " [7.7 ]\n",
      " [7.8 ]\n",
      " [8.  ]\n",
      " [7.8 ]\n",
      " [7.8 ]\n",
      " [7.7 ]\n",
      " [7.5 ]\n",
      " [8.  ]\n",
      " [7.8 ]\n",
      " [7.5 ]\n",
      " [7.7 ]\n",
      " [7.5 ]\n",
      " [7.9 ]\n",
      " [7.7 ]\n",
      " [8.  ]\n",
      " [8.  ]\n",
      " [7.9 ]\n",
      " [7.4 ]\n",
      " [7.9 ]\n",
      " [7.9 ]\n",
      " [7.7 ]\n",
      " [7.8 ]\n",
      " [8.1 ]\n",
      " [7.9 ]\n",
      " [7.6 ]\n",
      " [8.  ]\n",
      " [7.6 ]\n",
      " [7.9 ]\n",
      " [7.8 ]\n",
      " [7.7 ]\n",
      " [7.7 ]\n",
      " [7.7 ]\n",
      " [7.9 ]\n",
      " [7.9 ]\n",
      " [7.9 ]\n",
      " [7.9 ]\n",
      " [7.7 ]\n",
      " [7.8 ]\n",
      " [7.7 ]\n",
      " [8.1 ]\n",
      " [7.7 ]\n",
      " [7.8 ]\n",
      " [8.2 ]\n",
      " [7.7 ]\n",
      " [8.2 ]\n",
      " [7.5 ]\n",
      " [7.6 ]\n",
      " [7.9 ]\n",
      " [7.6 ]\n",
      " [7.7 ]\n",
      " [7.7 ]\n",
      " [7.9 ]\n",
      " [7.7 ]\n",
      " [7.9 ]\n",
      " [8.  ]\n",
      " [8.  ]\n",
      " [8.  ]\n",
      " [7.4 ]\n",
      " [7.6 ]\n",
      " [7.6 ]\n",
      " [7.7 ]\n",
      " [7.9 ]\n",
      " [7.7 ]\n",
      " [7.8 ]\n",
      " [7.8 ]\n",
      " [7.8 ]\n",
      " [7.9 ]\n",
      " [7.7 ]\n",
      " [8.2 ]\n",
      " [7.6 ]\n",
      " [7.8 ]\n",
      " [7.7 ]\n",
      " [7.9 ]\n",
      " [8.  ]\n",
      " [7.9 ]\n",
      " [7.6 ]\n",
      " [8.1 ]\n",
      " [7.7 ]\n",
      " [7.8 ]\n",
      " [7.8 ]\n",
      " [7.8 ]\n",
      " [8.  ]\n",
      " [7.5 ]\n",
      " [8.  ]\n",
      " [7.7 ]\n",
      " [7.3 ]\n",
      " [7.9 ]\n",
      " [7.9 ]\n",
      " [7.9 ]\n",
      " [7.7 ]\n",
      " [8.  ]\n",
      " [7.6 ]\n",
      " [7.8 ]\n",
      " [7.7 ]\n",
      " [8.  ]\n",
      " [7.7 ]\n",
      " [8.  ]\n",
      " [7.4 ]\n",
      " [7.5 ]\n",
      " [7.7 ]\n",
      " [7.6 ]\n",
      " [7.9 ]\n",
      " [8.  ]\n",
      " [7.8 ]\n",
      " [7.6 ]\n",
      " [7.7 ]\n",
      " [7.9 ]\n",
      " [7.6 ]\n",
      " [7.9 ]\n",
      " [7.5 ]\n",
      " [7.5 ]\n",
      " [7.9 ]\n",
      " [7.9 ]\n",
      " [7.8 ]\n",
      " [7.7 ]\n",
      " [7.8 ]\n",
      " [7.9 ]\n",
      " [8.1 ]\n",
      " [7.8 ]\n",
      " [7.9 ]\n",
      " [7.6 ]\n",
      " [7.8 ]\n",
      " [7.9 ]\n",
      " [7.8 ]\n",
      " [7.7 ]\n",
      " [7.8 ]\n",
      " [7.8 ]\n",
      " [7.7 ]\n",
      " [8.  ]\n",
      " [7.8 ]\n",
      " [7.8 ]\n",
      " [8.  ]\n",
      " [7.9 ]\n",
      " [7.6 ]\n",
      " [7.7 ]\n",
      " [7.5 ]\n",
      " [7.7 ]\n",
      " [7.9 ]\n",
      " [8.  ]\n",
      " [7.5 ]\n",
      " [7.7 ]\n",
      " [8.1 ]\n",
      " [7.8 ]\n",
      " [7.8 ]\n",
      " [7.9 ]\n",
      " [8.  ]\n",
      " [8.  ]\n",
      " [8.2 ]]\n"
     ]
    }
   ],
   "source": [
    "print(y_val)"
   ]
  },
  {
   "cell_type": "code",
   "execution_count": null,
   "id": "dae53a08",
   "metadata": {},
   "outputs": [],
   "source": []
  },
  {
   "cell_type": "code",
   "execution_count": null,
   "id": "a8f0bfd1",
   "metadata": {},
   "outputs": [],
   "source": []
  },
  {
   "cell_type": "code",
   "execution_count": null,
   "id": "2abab865",
   "metadata": {},
   "outputs": [],
   "source": []
  },
  {
   "cell_type": "code",
   "execution_count": null,
   "id": "b293a827",
   "metadata": {},
   "outputs": [],
   "source": []
  },
  {
   "cell_type": "code",
   "execution_count": null,
   "id": "b80ac50d",
   "metadata": {},
   "outputs": [],
   "source": []
  },
  {
   "cell_type": "code",
   "execution_count": null,
   "id": "b6b38bd1",
   "metadata": {},
   "outputs": [],
   "source": []
  },
  {
   "cell_type": "code",
   "execution_count": null,
   "id": "ac412cb7",
   "metadata": {},
   "outputs": [],
   "source": []
  },
  {
   "cell_type": "code",
   "execution_count": null,
   "id": "6b763c34",
   "metadata": {},
   "outputs": [],
   "source": []
  },
  {
   "cell_type": "code",
   "execution_count": null,
   "id": "4a4483f9",
   "metadata": {},
   "outputs": [],
   "source": []
  },
  {
   "cell_type": "code",
   "execution_count": null,
   "id": "1243547d",
   "metadata": {},
   "outputs": [],
   "source": []
  },
  {
   "cell_type": "code",
   "execution_count": null,
   "id": "06378c60",
   "metadata": {},
   "outputs": [],
   "source": []
  }
 ],
 "metadata": {
  "kernelspec": {
   "display_name": "Python 3 (ipykernel)",
   "language": "python",
   "name": "python3"
  },
  "language_info": {
   "codemirror_mode": {
    "name": "ipython",
    "version": 3
   },
   "file_extension": ".py",
   "mimetype": "text/x-python",
   "name": "python",
   "nbconvert_exporter": "python",
   "pygments_lexer": "ipython3",
   "version": "3.8.12"
  }
 },
 "nbformat": 4,
 "nbformat_minor": 5
}
