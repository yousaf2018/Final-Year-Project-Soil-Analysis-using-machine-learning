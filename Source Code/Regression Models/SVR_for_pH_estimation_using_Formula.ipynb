{
 "cells": [
  {
   "cell_type": "markdown",
   "id": "2f2bd941",
   "metadata": {},
   "source": [
    "### Libraries for dataset manipulation and visulization"
   ]
  },
  {
   "cell_type": "code",
   "execution_count": 20,
   "id": "bec3ab18",
   "metadata": {},
   "outputs": [],
   "source": [
    "import numpy as np\n",
    "import pandas as pd\n",
    "import matplotlib.pyplot as plt"
   ]
  },
  {
   "cell_type": "markdown",
   "id": "6a25f32e",
   "metadata": {},
   "source": [
    "### Dataset Loading"
   ]
  },
  {
   "cell_type": "code",
   "execution_count": 21,
   "id": "5e00c17d",
   "metadata": {},
   "outputs": [],
   "source": [
    "dataset = pd.read_csv('C:\\\\Users\\\\Mahmood Yousaf\\\\Desktop\\\\FYP\\\\Final-Year-Project-Soil-Analysis-using-machine-learning\\\\Extracted Features\\\\Formula_Index_with_pH_value.csv')"
   ]
  },
  {
   "cell_type": "markdown",
   "id": "44d666b2",
   "metadata": {},
   "source": [
    "### Preprocessing on dataset"
   ]
  },
  {
   "cell_type": "code",
   "execution_count": 22,
   "id": "bef79ea3",
   "metadata": {},
   "outputs": [
    {
     "name": "stdout",
     "output_type": "stream",
     "text": [
      "[525.  505.  542.  ... 397.  262.5 365. ]\n",
      "[7.9 7.9 7.9 ... 7.7 7.7 7.7]\n"
     ]
    }
   ],
   "source": [
    "X = np.array(dataset['Formula_Index'])\n",
    "Y = np.array(dataset['pH_Value'])\n",
    "print(X)\n",
    "print(Y)"
   ]
  },
  {
   "cell_type": "code",
   "execution_count": 23,
   "id": "dd2bed66",
   "metadata": {},
   "outputs": [
    {
     "name": "stdout",
     "output_type": "stream",
     "text": [
      "[[525. ]\n",
      " [505. ]\n",
      " [542. ]\n",
      " ...\n",
      " [397. ]\n",
      " [262.5]\n",
      " [365. ]] [[7.9]\n",
      " [7.9]\n",
      " [7.9]\n",
      " ...\n",
      " [7.7]\n",
      " [7.7]\n",
      " [7.7]]\n"
     ]
    }
   ],
   "source": [
    "X = X.reshape(len(X),1)\n",
    "Y = Y.reshape(len(Y),1)\n",
    "print(X,Y)"
   ]
  },
  {
   "cell_type": "markdown",
   "id": "d59a3685",
   "metadata": {},
   "source": [
    "### Standardization of input and output label"
   ]
  },
  {
   "cell_type": "code",
   "execution_count": 24,
   "id": "d4bcb7a5",
   "metadata": {},
   "outputs": [
    {
     "name": "stdout",
     "output_type": "stream",
     "text": [
      "[[ 0.77892455]\n",
      " [ 0.52980169]\n",
      " [ 0.99067899]\n",
      " ...\n",
      " [-0.81546179]\n",
      " [-2.49081307]\n",
      " [-1.21405838]]\n",
      "[[ 0.443215  ]\n",
      " [ 0.443215  ]\n",
      " [ 0.443215  ]\n",
      " ...\n",
      " [-0.65886671]\n",
      " [-0.65886671]\n",
      " [-0.65886671]]\n"
     ]
    }
   ],
   "source": [
    "from sklearn.preprocessing import StandardScaler\n",
    "sc_X = StandardScaler()\n",
    "sc_Y = StandardScaler()\n",
    "X = sc_X.fit_transform(X)\n",
    "Y = sc_Y.fit_transform(Y)\n",
    "print(X)\n",
    "print(Y)"
   ]
  },
  {
   "cell_type": "markdown",
   "id": "c3db3d89",
   "metadata": {},
   "source": [
    "### SVR model training"
   ]
  },
  {
   "cell_type": "code",
   "execution_count": 25,
   "id": "70f6693c",
   "metadata": {},
   "outputs": [
    {
     "name": "stderr",
     "output_type": "stream",
     "text": [
      "C:\\Users\\Mahmood Yousaf\\.conda\\envs\\gpuEnv\\lib\\site-packages\\sklearn\\utils\\validation.py:985: DataConversionWarning: A column-vector y was passed when a 1d array was expected. Please change the shape of y to (n_samples, ), for example using ravel().\n",
      "  y = column_or_1d(y, warn=True)\n"
     ]
    },
    {
     "data": {
      "text/plain": [
       "SVR()"
      ]
     },
     "execution_count": 25,
     "metadata": {},
     "output_type": "execute_result"
    }
   ],
   "source": [
    "from sklearn.svm import SVR\n",
    "regressor = SVR(kernel = 'rbf')\n",
    "regressor.fit(X,Y)"
   ]
  },
  {
   "cell_type": "markdown",
   "id": "eb96c339",
   "metadata": {},
   "source": [
    "### Prediction "
   ]
  },
  {
   "cell_type": "code",
   "execution_count": 26,
   "id": "b5264ee9",
   "metadata": {},
   "outputs": [],
   "source": [
    "prediction = regressor.predict(X)"
   ]
  },
  {
   "cell_type": "code",
   "execution_count": 27,
   "id": "7652decf",
   "metadata": {},
   "outputs": [
    {
     "name": "stdout",
     "output_type": "stream",
     "text": [
      "[[7.81803768]\n",
      " [7.8179975 ]\n",
      " [7.81543777]\n",
      " ...\n",
      " [7.81787856]\n",
      " [7.87575904]\n",
      " [7.81809294]]\n"
     ]
    }
   ],
   "source": [
    "prediction = prediction.reshape(len(prediction),1)\n",
    "print(sc_Y.inverse_transform(prediction))"
   ]
  },
  {
   "cell_type": "markdown",
   "id": "4c3ac75c",
   "metadata": {},
   "source": [
    "### Visulization"
   ]
  },
  {
   "cell_type": "code",
   "execution_count": 28,
   "id": "735b5040",
   "metadata": {},
   "outputs": [
    {
     "data": {
      "image/png": "[encoded data removed]",
      "text/plain": [
       "<Figure size 432x288 with 1 Axes>"
      ]
     },
     "metadata": {
      "needs_background": "light"
     },
     "output_type": "display_data"
    }
   ],
   "source": [
    "plt.scatter(sc_X.inverse_transform(X), sc_Y.inverse_transform(Y), color = 'red')\n",
    "plt.plot(sc_X.inverse_transform(X),sc_Y.inverse_transform(prediction))\n",
    "plt.title(\"Actual pH vs Predicted pH\")\n",
    "plt.xlabel('Formula indexes')\n",
    "plt.ylabel('pH values')\n",
    "plt.savefig(\"SVRmodelForpHestimationUsingFormula.jpg\")"
   ]
  },
  {
   "cell_type": "code",
   "execution_count": null,
   "id": "1c5ebbbe",
   "metadata": {},
   "outputs": [],
   "source": []
  }
 ],
 "metadata": {
  "kernelspec": {
   "display_name": "Python 3 (ipykernel)",
   "language": "python",
   "name": "python3"
  },
  "language_info": {
   "codemirror_mode": {
    "name": "ipython",
    "version": 3
   },
   "file_extension": ".py",
   "mimetype": "text/x-python",
   "name": "python",
   "nbconvert_exporter": "python",
   "pygments_lexer": "ipython3",
   "version": "3.8.12"
  }
 },
 "nbformat": 4,
 "nbformat_minor": 5
}
